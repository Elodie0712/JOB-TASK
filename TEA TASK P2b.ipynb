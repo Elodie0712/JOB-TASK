{
 "cells": [
  {
   "cell_type": "code",
   "execution_count": 14,
   "metadata": {},
   "outputs": [],
   "source": [
    "#import dependencies \n",
    "\n",
    "import pandas as pd\n",
    "from pathlib import Path\n",
    "import pandas as pd\n",
    "import numpy as np\n",
    "\n"
   ]
  },
  {
   "cell_type": "code",
   "execution_count": 3,
   "metadata": {},
   "outputs": [],
   "source": [
    "#staarRLA 18-19\n",
    "\n",
    "staar_rla1819= Path(\"Data Team Performance Task_Raw Dataset (1).xlsx - 2018-19 STAAR GRADE 3 ELA.csv\")\n",
    "staar_rla1819_df=pd.read_csv(staar_rla1819)\n",
    "\n",
    "staar_rla1819_df\n",
    "\n",
    "#add the year Column\n",
    "\n",
    "# Numbers of rows in the DataFrame\n",
    "num_rows = len(staar_rla1819_df)\n",
    "\n",
    "# Create a new DataFrame with a 'year' column containing '2018' for each row\n",
    "year_column_df = pd.DataFrame({'School Year': ['2018-2019'] * num_rows})\n",
    "\n",
    "# Concatenate the new DataFrame with the original DataFrame\n",
    "staar_rla1819_df = pd.concat([year_column_df, staar_rla1819_df], axis=1)\n"
   ]
  },
  {
   "cell_type": "markdown",
   "metadata": {},
   "source": [
    "CDA03ARE1S18R-Campus 2018 Domain 1A: Approaches Grade Level STD, Grade 3, All Students, STAAR Reading/ELA Rate\n",
    "CDA03ARE1318R-Campus 2018 Domain 1A: Masters Grade Level STD, Grade 3, All Students, STAAR Reading/ELA Rate\n",
    "CDA03ARE1218R-\tCampus 2018 Domain 1A: Meets Grade Level STD, Grade 3, All Students, STAAR Reading/ELA Rate\n",
    "\n",
    "CDA03ARE1S19R-Campus 2019 Domain 1A: Approaches Grade Level STD, Grade 3, All Students, STAAR Reading/ELA Rate\n",
    "CDA03ARE1319R-Campus 2019 Domain 1A: Masters Grade Level STD, Grade 3, All Students, STAAR Reading/ELA Rate\n",
    "CDA03ARE1219R-Campus 2019 Domain 1A: Meets Grade Level STD, Grade 3, All Students, STAAR Reading/ELA Rate"
   ]
  },
  {
   "cell_type": "code",
   "execution_count": 4,
   "metadata": {},
   "outputs": [
    {
     "name": "stdout",
     "output_type": "stream",
     "text": [
      "<class 'pandas.core.frame.DataFrame'>\n",
      "RangeIndex: 8838 entries, 0 to 8837\n",
      "Data columns (total 8 columns):\n",
      " #   Column         Non-Null Count  Dtype \n",
      "---  ------         --------------  ----- \n",
      " 0   School Year    8838 non-null   object\n",
      " 1   CAMPUS         8838 non-null   object\n",
      " 2   CDA03ARE1S18R  8838 non-null   object\n",
      " 3   CDA03ARE1318R  8838 non-null   object\n",
      " 4   CDA03ARE1218R  8838 non-null   object\n",
      " 5   CDA03ARE1S19R  8838 non-null   object\n",
      " 6   CDA03ARE1319R  8838 non-null   object\n",
      " 7   CDA03ARE1219R  8838 non-null   object\n",
      "dtypes: object(8)\n",
      "memory usage: 552.5+ KB\n"
     ]
    }
   ],
   "source": [
    "# Selecting specific columns for all students DataFrame\n",
    "All_Students_df = staar_rla1819_df[[\"School Year\",\"CAMPUS\", \"CDA03ARE1S18R\", \"CDA03ARE1318R\", \"CDA03ARE1218R\", \"CDA03ARE1S19R\", \"CDA03ARE1319R\", \"CDA03ARE1219R\"]]\n",
    "\n",
    "\n",
    "\n",
    "All_Students_df.info()"
   ]
  },
  {
   "cell_type": "markdown",
   "metadata": {},
   "source": [
    "ALL STUDENTS"
   ]
  },
  {
   "cell_type": "markdown",
   "metadata": {},
   "source": [
    "2018"
   ]
  },
  {
   "cell_type": "code",
   "execution_count": 5,
   "metadata": {},
   "outputs": [
    {
     "name": "stderr",
     "output_type": "stream",
     "text": [
      "C:\\Users\\HP\\AppData\\Local\\Temp\\ipykernel_24604\\1308441732.py:4: SettingWithCopyWarning: \n",
      "A value is trying to be set on a copy of a slice from a DataFrame.\n",
      "Try using .loc[row_indexer,col_indexer] = value instead\n",
      "\n",
      "See the caveats in the documentation: https://pandas.pydata.org/pandas-docs/stable/user_guide/indexing.html#returning-a-view-versus-a-copy\n",
      "  All_Students_df['CDA03ARE1S18R'] = All_Students_df['CDA03ARE1S18R'].replace('.', np.nan)\n",
      "C:\\Users\\HP\\AppData\\Local\\Temp\\ipykernel_24604\\1308441732.py:5: SettingWithCopyWarning: \n",
      "A value is trying to be set on a copy of a slice from a DataFrame.\n",
      "Try using .loc[row_indexer,col_indexer] = value instead\n",
      "\n",
      "See the caveats in the documentation: https://pandas.pydata.org/pandas-docs/stable/user_guide/indexing.html#returning-a-view-versus-a-copy\n",
      "  All_Students_df['CDA03ARE1S18R'] = All_Students_df['CDA03ARE1S18R'].replace('-1', np.nan)\n",
      "C:\\Users\\HP\\AppData\\Local\\Temp\\ipykernel_24604\\1308441732.py:8: SettingWithCopyWarning: \n",
      "A value is trying to be set on a copy of a slice from a DataFrame.\n",
      "Try using .loc[row_indexer,col_indexer] = value instead\n",
      "\n",
      "See the caveats in the documentation: https://pandas.pydata.org/pandas-docs/stable/user_guide/indexing.html#returning-a-view-versus-a-copy\n",
      "  All_Students_df['CDA03ARE1S18R'] = All_Students_df['CDA03ARE1S18R'].astype(float).astype('Int64')\n",
      "C:\\Users\\HP\\AppData\\Local\\Temp\\ipykernel_24604\\1308441732.py:16: SettingWithCopyWarning: \n",
      "A value is trying to be set on a copy of a slice from a DataFrame.\n",
      "Try using .loc[row_indexer,col_indexer] = value instead\n",
      "\n",
      "See the caveats in the documentation: https://pandas.pydata.org/pandas-docs/stable/user_guide/indexing.html#returning-a-view-versus-a-copy\n",
      "  All_Students_df['CDA03ARE1318R'] = All_Students_df['CDA03ARE1318R'].replace('.', np.nan)\n",
      "C:\\Users\\HP\\AppData\\Local\\Temp\\ipykernel_24604\\1308441732.py:17: SettingWithCopyWarning: \n",
      "A value is trying to be set on a copy of a slice from a DataFrame.\n",
      "Try using .loc[row_indexer,col_indexer] = value instead\n",
      "\n",
      "See the caveats in the documentation: https://pandas.pydata.org/pandas-docs/stable/user_guide/indexing.html#returning-a-view-versus-a-copy\n",
      "  All_Students_df['CDA03ARE1318R'] = All_Students_df['CDA03ARE1318R'].replace('-1', np.nan)\n",
      "C:\\Users\\HP\\AppData\\Local\\Temp\\ipykernel_24604\\1308441732.py:20: SettingWithCopyWarning: \n",
      "A value is trying to be set on a copy of a slice from a DataFrame.\n",
      "Try using .loc[row_indexer,col_indexer] = value instead\n",
      "\n",
      "See the caveats in the documentation: https://pandas.pydata.org/pandas-docs/stable/user_guide/indexing.html#returning-a-view-versus-a-copy\n",
      "  All_Students_df['CDA03ARE1318R'] = All_Students_df['CDA03ARE1318R'].astype(float).astype('Int64')\n",
      "C:\\Users\\HP\\AppData\\Local\\Temp\\ipykernel_24604\\1308441732.py:28: SettingWithCopyWarning: \n",
      "A value is trying to be set on a copy of a slice from a DataFrame.\n",
      "Try using .loc[row_indexer,col_indexer] = value instead\n",
      "\n",
      "See the caveats in the documentation: https://pandas.pydata.org/pandas-docs/stable/user_guide/indexing.html#returning-a-view-versus-a-copy\n",
      "  All_Students_df['CDA03ARE1218R'] = All_Students_df['CDA03ARE1218R'].replace('.', np.nan)\n",
      "C:\\Users\\HP\\AppData\\Local\\Temp\\ipykernel_24604\\1308441732.py:29: SettingWithCopyWarning: \n",
      "A value is trying to be set on a copy of a slice from a DataFrame.\n",
      "Try using .loc[row_indexer,col_indexer] = value instead\n",
      "\n",
      "See the caveats in the documentation: https://pandas.pydata.org/pandas-docs/stable/user_guide/indexing.html#returning-a-view-versus-a-copy\n",
      "  All_Students_df['CDA03ARE1218R'] = All_Students_df['CDA03ARE1218R'].replace('-1', np.nan)\n",
      "C:\\Users\\HP\\AppData\\Local\\Temp\\ipykernel_24604\\1308441732.py:32: SettingWithCopyWarning: \n",
      "A value is trying to be set on a copy of a slice from a DataFrame.\n",
      "Try using .loc[row_indexer,col_indexer] = value instead\n",
      "\n",
      "See the caveats in the documentation: https://pandas.pydata.org/pandas-docs/stable/user_guide/indexing.html#returning-a-view-versus-a-copy\n",
      "  All_Students_df['CDA03ARE1218R'] = All_Students_df['CDA03ARE1218R'].astype(float).astype('Int64')\n"
     ]
    }
   ],
   "source": [
    "#2018: Approaches Grade Level STD, Grade 3, All Students\n",
    "\n",
    "# Replace '.' and '-1' with NaN in the column\n",
    "All_Students_df['CDA03ARE1S18R'] = All_Students_df['CDA03ARE1S18R'].replace('.', np.nan)\n",
    "All_Students_df['CDA03ARE1S18R'] = All_Students_df['CDA03ARE1S18R'].replace('-1', np.nan)\n",
    "\n",
    "# Convert the column to integer\n",
    "All_Students_df['CDA03ARE1S18R'] = All_Students_df['CDA03ARE1S18R'].astype(float).astype('Int64')\n",
    "\n",
    "# Now you can calculate the average\n",
    "average_value_app18 = All_Students_df['CDA03ARE1S18R'].mean()\n",
    "\n",
    "#2019: Masters Grade Level STD, Grade 3, All Students\"\n",
    "\n",
    "# Replace '.' and '-1' with NaN in the column\n",
    "All_Students_df['CDA03ARE1318R'] = All_Students_df['CDA03ARE1318R'].replace('.', np.nan)\n",
    "All_Students_df['CDA03ARE1318R'] = All_Students_df['CDA03ARE1318R'].replace('-1', np.nan)\n",
    "\n",
    "# Convert the column to integer\n",
    "All_Students_df['CDA03ARE1318R'] = All_Students_df['CDA03ARE1318R'].astype(float).astype('Int64')\n",
    "\n",
    "# Now you can calculate the average\n",
    "average_value_ma18 = All_Students_df['CDA03ARE1318R'].mean()\n",
    "\n",
    "#Meets Grade Level STD, Grade 3, All Students\"\n",
    "\n",
    "# Replace '.' and '-1' with NaN in the column\n",
    "All_Students_df['CDA03ARE1218R'] = All_Students_df['CDA03ARE1218R'].replace('.', np.nan)\n",
    "All_Students_df['CDA03ARE1218R'] = All_Students_df['CDA03ARE1218R'].replace('-1', np.nan)\n",
    "\n",
    "# Convert the column to integer\n",
    "All_Students_df['CDA03ARE1218R'] = All_Students_df['CDA03ARE1218R'].astype(float).astype('Int64')\n",
    "\n",
    "# Now you can calculate the average\n",
    "average_value_me18 = All_Students_df['CDA03ARE1218R'].mean()"
   ]
  },
  {
   "cell_type": "markdown",
   "metadata": {},
   "source": [
    "2019"
   ]
  },
  {
   "cell_type": "code",
   "execution_count": 6,
   "metadata": {},
   "outputs": [
    {
     "name": "stderr",
     "output_type": "stream",
     "text": [
      "C:\\Users\\HP\\AppData\\Local\\Temp\\ipykernel_24604\\3079566578.py:4: SettingWithCopyWarning: \n",
      "A value is trying to be set on a copy of a slice from a DataFrame.\n",
      "Try using .loc[row_indexer,col_indexer] = value instead\n",
      "\n",
      "See the caveats in the documentation: https://pandas.pydata.org/pandas-docs/stable/user_guide/indexing.html#returning-a-view-versus-a-copy\n",
      "  All_Students_df['CDA03ARE1S19R'] = All_Students_df['CDA03ARE1S19R'].replace('.', np.nan)\n",
      "C:\\Users\\HP\\AppData\\Local\\Temp\\ipykernel_24604\\3079566578.py:5: SettingWithCopyWarning: \n",
      "A value is trying to be set on a copy of a slice from a DataFrame.\n",
      "Try using .loc[row_indexer,col_indexer] = value instead\n",
      "\n",
      "See the caveats in the documentation: https://pandas.pydata.org/pandas-docs/stable/user_guide/indexing.html#returning-a-view-versus-a-copy\n",
      "  All_Students_df['CDA03ARE1S19R'] = All_Students_df['CDA03ARE1S19R'].replace('-1', np.nan)\n",
      "C:\\Users\\HP\\AppData\\Local\\Temp\\ipykernel_24604\\3079566578.py:8: SettingWithCopyWarning: \n",
      "A value is trying to be set on a copy of a slice from a DataFrame.\n",
      "Try using .loc[row_indexer,col_indexer] = value instead\n",
      "\n",
      "See the caveats in the documentation: https://pandas.pydata.org/pandas-docs/stable/user_guide/indexing.html#returning-a-view-versus-a-copy\n",
      "  All_Students_df['CDA03ARE1S19R'] = All_Students_df['CDA03ARE1S19R'].astype(float).astype('Int64')\n"
     ]
    }
   ],
   "source": [
    "\n",
    "\n",
    "#2019: Approaches Grade Level STD, Grade 3, All Students\n",
    "\n",
    "# Replace '.' and '-1' with NaN in the column\n",
    "All_Students_df['CDA03ARE1S19R'] = All_Students_df['CDA03ARE1S19R'].replace('.', np.nan)\n",
    "All_Students_df['CDA03ARE1S19R'] = All_Students_df['CDA03ARE1S19R'].replace('-1', np.nan)\n",
    "\n",
    "# Convert the column to integer\n",
    "All_Students_df['CDA03ARE1S19R'] = All_Students_df['CDA03ARE1S19R'].astype(float).astype('Int64')\n",
    "\n",
    "# Now you can calculate the average\n",
    "average_value_app = All_Students_df['CDA03ARE1S19R'].mean()\n"
   ]
  },
  {
   "cell_type": "code",
   "execution_count": 7,
   "metadata": {},
   "outputs": [
    {
     "name": "stderr",
     "output_type": "stream",
     "text": [
      "C:\\Users\\HP\\AppData\\Local\\Temp\\ipykernel_24604\\3376386861.py:4: SettingWithCopyWarning: \n",
      "A value is trying to be set on a copy of a slice from a DataFrame.\n",
      "Try using .loc[row_indexer,col_indexer] = value instead\n",
      "\n",
      "See the caveats in the documentation: https://pandas.pydata.org/pandas-docs/stable/user_guide/indexing.html#returning-a-view-versus-a-copy\n",
      "  All_Students_df['CDA03ARE1319R'] = All_Students_df['CDA03ARE1319R'].replace('.', np.nan)\n",
      "C:\\Users\\HP\\AppData\\Local\\Temp\\ipykernel_24604\\3376386861.py:5: SettingWithCopyWarning: \n",
      "A value is trying to be set on a copy of a slice from a DataFrame.\n",
      "Try using .loc[row_indexer,col_indexer] = value instead\n",
      "\n",
      "See the caveats in the documentation: https://pandas.pydata.org/pandas-docs/stable/user_guide/indexing.html#returning-a-view-versus-a-copy\n",
      "  All_Students_df['CDA03ARE1319R'] = All_Students_df['CDA03ARE1319R'].replace('-1', np.nan)\n",
      "C:\\Users\\HP\\AppData\\Local\\Temp\\ipykernel_24604\\3376386861.py:8: SettingWithCopyWarning: \n",
      "A value is trying to be set on a copy of a slice from a DataFrame.\n",
      "Try using .loc[row_indexer,col_indexer] = value instead\n",
      "\n",
      "See the caveats in the documentation: https://pandas.pydata.org/pandas-docs/stable/user_guide/indexing.html#returning-a-view-versus-a-copy\n",
      "  All_Students_df['CDA03ARE1319R'] = All_Students_df['CDA03ARE1319R'].astype(float).astype('Int64')\n"
     ]
    }
   ],
   "source": [
    "#2019: Masters Grade Level STD, Grade 3, All Students\"\n",
    "\n",
    "# Replace '.' and '-1' with NaN in the column\n",
    "All_Students_df['CDA03ARE1319R'] = All_Students_df['CDA03ARE1319R'].replace('.', np.nan)\n",
    "All_Students_df['CDA03ARE1319R'] = All_Students_df['CDA03ARE1319R'].replace('-1', np.nan)\n",
    "\n",
    "# Convert the column to integer\n",
    "All_Students_df['CDA03ARE1319R'] = All_Students_df['CDA03ARE1319R'].astype(float).astype('Int64')\n",
    "\n",
    "# Now you can calculate the average\n",
    "average_value_ma = All_Students_df['CDA03ARE1319R'].mean()"
   ]
  },
  {
   "cell_type": "code",
   "execution_count": 8,
   "metadata": {},
   "outputs": [
    {
     "name": "stderr",
     "output_type": "stream",
     "text": [
      "C:\\Users\\HP\\AppData\\Local\\Temp\\ipykernel_24604\\2935996626.py:4: SettingWithCopyWarning: \n",
      "A value is trying to be set on a copy of a slice from a DataFrame.\n",
      "Try using .loc[row_indexer,col_indexer] = value instead\n",
      "\n",
      "See the caveats in the documentation: https://pandas.pydata.org/pandas-docs/stable/user_guide/indexing.html#returning-a-view-versus-a-copy\n",
      "  All_Students_df['CDA03ARE1219R'] = All_Students_df['CDA03ARE1219R'].replace('.', np.nan)\n",
      "C:\\Users\\HP\\AppData\\Local\\Temp\\ipykernel_24604\\2935996626.py:5: SettingWithCopyWarning: \n",
      "A value is trying to be set on a copy of a slice from a DataFrame.\n",
      "Try using .loc[row_indexer,col_indexer] = value instead\n",
      "\n",
      "See the caveats in the documentation: https://pandas.pydata.org/pandas-docs/stable/user_guide/indexing.html#returning-a-view-versus-a-copy\n",
      "  All_Students_df['CDA03ARE1219R'] = All_Students_df['CDA03ARE1219R'].replace('-1', np.nan)\n",
      "C:\\Users\\HP\\AppData\\Local\\Temp\\ipykernel_24604\\2935996626.py:8: SettingWithCopyWarning: \n",
      "A value is trying to be set on a copy of a slice from a DataFrame.\n",
      "Try using .loc[row_indexer,col_indexer] = value instead\n",
      "\n",
      "See the caveats in the documentation: https://pandas.pydata.org/pandas-docs/stable/user_guide/indexing.html#returning-a-view-versus-a-copy\n",
      "  All_Students_df['CDA03ARE1219R'] = All_Students_df['CDA03ARE1219R'].astype(float).astype('Int64')\n"
     ]
    }
   ],
   "source": [
    "#Meets Grade Level STD, Grade 3, All Students\"\n",
    "\n",
    "# Replace '.' and '-1' with NaN in the column\n",
    "All_Students_df['CDA03ARE1219R'] = All_Students_df['CDA03ARE1219R'].replace('.', np.nan)\n",
    "All_Students_df['CDA03ARE1219R'] = All_Students_df['CDA03ARE1219R'].replace('-1', np.nan)\n",
    "\n",
    "# Convert the column to integer\n",
    "All_Students_df['CDA03ARE1219R'] = All_Students_df['CDA03ARE1219R'].astype(float).astype('Int64')\n",
    "\n",
    "# Now you can calculate the average\n",
    "average_value_me = All_Students_df['CDA03ARE1219R'].mean()"
   ]
  },
  {
   "cell_type": "markdown",
   "metadata": {},
   "source": [
    "VISUALIZATION"
   ]
  },
  {
   "cell_type": "code",
   "execution_count": 9,
   "metadata": {},
   "outputs": [
    {
     "data": {
      "image/png": "[encoded data removed]",
      "text/plain": [
       "<Figure size 640x480 with 1 Axes>"
      ]
     },
     "metadata": {},
     "output_type": "display_data"
    }
   ],
   "source": [
    "\n",
    "import matplotlib.pyplot as plt\n",
    "\n",
    "# Define the parameters and their average values for each year\n",
    "parameters = ['Approaches', 'Meets', 'Masters']\n",
    "average_values_2018 = [average_value_app18, average_value_me18, average_value_ma18]\n",
    "average_values_2019 = [average_value_app, average_value_me, average_value_ma]\n",
    "\n",
    "# Calculate the percentage values\n",
    "total_values_2018 = sum(average_values_2018)\n",
    "total_values_2019 = sum(average_values_2019)\n",
    "percentage_values_2018 = [value / total_values_2018 * 100 for value in average_values_2018]\n",
    "percentage_values_2019 = [value / total_values_2019 * 100 for value in average_values_2019]\n",
    "\n",
    "# Create line chart\n",
    "plt.plot(parameters, percentage_values_2018, marker='o', label='2018')\n",
    "plt.plot(parameters, percentage_values_2019, marker='o', label='2019')\n",
    "\n",
    "# Annotate each point with its value in percentages\n",
    "for i in range(len(parameters)):\n",
    "    plt.annotate(f'{percentage_values_2018[i]:.2f}%', (parameters[i], percentage_values_2018[i]), textcoords=\"offset points\", xytext=(0,10), ha='center')\n",
    "    plt.annotate(f'{percentage_values_2019[i]:.2f}%', (parameters[i], percentage_values_2019[i]), textcoords=\"offset points\", xytext=(0,10), ha='center')\n",
    "\n",
    "# Add labels, title, and legend\n",
    "plt.xlabel('Campus Rating', fontweight='bold')\n",
    "plt.ylabel('Percentage (%)', fontweight='bold')\n",
    "plt.title('Domain 1A: All Students- STAAR Reading/ELA Rate', fontweight='bold')\n",
    "plt.legend()\n",
    "\n",
    "# Show plot\n",
    "plt.grid(True)\n",
    "plt.xticks(rotation=45)\n",
    "plt.tight_layout()\n",
    "plt.show()\n"
   ]
  },
  {
   "cell_type": "code",
   "execution_count": 10,
   "metadata": {},
   "outputs": [
    {
     "data": {
      "image/png": "[encoded data removed]",
      "text/plain": [
       "<Figure size 640x480 with 1 Axes>"
      ]
     },
     "metadata": {},
     "output_type": "display_data"
    }
   ],
   "source": [
    "import matplotlib.pyplot as plt\n",
    "\n",
    "# Define the parameters and their average values for each year\n",
    "parameters = ['Approaches', 'Meets', 'Masters']\n",
    "average_values_2018 = [average_value_app18, average_value_me18, average_value_ma18]\n",
    "average_values_2019 = [average_value_app, average_value_me, average_value_ma]\n",
    "\n",
    "# Calculate the percentage values\n",
    "total_values_2018 = sum(average_values_2018)\n",
    "total_values_2019 = sum(average_values_2019)\n",
    "percentage_values_2018 = [value / total_values_2018 * 100 for value in average_values_2018]\n",
    "percentage_values_2019 = [value / total_values_2019 * 100 for value in average_values_2019]\n",
    "\n",
    "# Create line chart\n",
    "plt.plot(parameters, percentage_values_2018, marker='o', label='2018')\n",
    "plt.plot(parameters, percentage_values_2019, marker='o', label='2019')\n",
    "\n",
    "# Add labels, title, and legend\n",
    "plt.xlabel('Campus Rating', fontweight='bold')\n",
    "plt.ylabel('Percentage (%)', fontweight='bold')\n",
    "plt.title('Domain 1A: All Students- STAAR Reading/ELA Rate', fontweight='bold')\n",
    "plt.legend()\n",
    "\n",
    "# Show plot\n",
    "plt.grid(True)\n",
    "plt.xticks(rotation=45)\n",
    "plt.tight_layout()\n",
    "plt.show()\n"
   ]
  },
  {
   "cell_type": "code",
   "execution_count": 41,
   "metadata": {},
   "outputs": [
    {
     "data": {
      "application/vnd.plotly.v1+json": {
       "config": {
        "plotlyServerURL": "https://plotly.com"
       },
       "data": [
        {
         "hoverinfo": "text",
         "mode": "lines+markers",
         "name": "2018",
         "text": [
          "53.85%",
          "29.60%",
          "16.55%"
         ],
         "type": "scatter",
         "x": [
          "Approaches",
          "Meets",
          "Masters"
         ],
         "y": [
          53.85018976047452,
          29.602791112674993,
          16.54701912685048
         ]
        },
        {
         "hoverinfo": "text",
         "mode": "lines+markers",
         "name": "2019",
         "text": [
          "51.95%",
          "29.98%",
          "18.07%"
         ],
         "type": "scatter",
         "x": [
          "Approaches",
          "Meets",
          "Masters"
         ],
         "y": [
          51.94831733134336,
          29.984091352870745,
          18.06759131578589
         ]
        }
       ],
       "layout": {
        "height": 400,
        "template": {
         "data": {
          "bar": [
           {
            "error_x": {
             "color": "#2a3f5f"
            },
            "error_y": {
             "color": "#2a3f5f"
            },
            "marker": {
             "line": {
              "color": "#E5ECF6",
              "width": 0.5
             },
             "pattern": {
              "fillmode": "overlay",
              "size": 10,
              "solidity": 0.2
             }
            },
            "type": "bar"
           }
          ],
          "barpolar": [
           {
            "marker": {
             "line": {
              "color": "#E5ECF6",
              "width": 0.5
             },
             "pattern": {
              "fillmode": "overlay",
              "size": 10,
              "solidity": 0.2
             }
            },
            "type": "barpolar"
           }
          ],
          "carpet": [
           {
            "aaxis": {
             "endlinecolor": "#2a3f5f",
             "gridcolor": "white",
             "linecolor": "white",
             "minorgridcolor": "white",
             "startlinecolor": "#2a3f5f"
            },
            "baxis": {
             "endlinecolor": "#2a3f5f",
             "gridcolor": "white",
             "linecolor": "white",
             "minorgridcolor": "white",
             "startlinecolor": "#2a3f5f"
            },
            "type": "carpet"
           }
          ],
          "choropleth": [
           {
            "colorbar": {
             "outlinewidth": 0,
             "ticks": ""
            },
            "type": "choropleth"
           }
          ],
          "contour": [
           {
            "colorbar": {
             "outlinewidth": 0,
             "ticks": ""
            },
            "colorscale": [
             [
              0,
              "#0d0887"
             ],
             [
              0.1111111111111111,
              "#46039f"
             ],
             [
              0.2222222222222222,
              "#7201a8"
             ],
             [
              0.3333333333333333,
              "#9c179e"
             ],
             [
              0.4444444444444444,
              "#bd3786"
             ],
             [
              0.5555555555555556,
              "#d8576b"
             ],
             [
              0.6666666666666666,
              "#ed7953"
             ],
             [
              0.7777777777777778,
              "#fb9f3a"
             ],
             [
              0.8888888888888888,
              "#fdca26"
             ],
             [
              1,
              "#f0f921"
             ]
            ],
            "type": "contour"
           }
          ],
          "contourcarpet": [
           {
            "colorbar": {
             "outlinewidth": 0,
             "ticks": ""
            },
            "type": "contourcarpet"
           }
          ],
          "heatmap": [
           {
            "colorbar": {
             "outlinewidth": 0,
             "ticks": ""
            },
            "colorscale": [
             [
              0,
              "#0d0887"
             ],
             [
              0.1111111111111111,
              "#46039f"
             ],
             [
              0.2222222222222222,
              "#7201a8"
             ],
             [
              0.3333333333333333,
              "#9c179e"
             ],
             [
              0.4444444444444444,
              "#bd3786"
             ],
             [
              0.5555555555555556,
              "#d8576b"
             ],
             [
              0.6666666666666666,
              "#ed7953"
             ],
             [
              0.7777777777777778,
              "#fb9f3a"
             ],
             [
              0.8888888888888888,
              "#fdca26"
             ],
             [
              1,
              "#f0f921"
             ]
            ],
            "type": "heatmap"
           }
          ],
          "heatmapgl": [
           {
            "colorbar": {
             "outlinewidth": 0,
             "ticks": ""
            },
            "colorscale": [
             [
              0,
              "#0d0887"
             ],
             [
              0.1111111111111111,
              "#46039f"
             ],
             [
              0.2222222222222222,
              "#7201a8"
             ],
             [
              0.3333333333333333,
              "#9c179e"
             ],
             [
              0.4444444444444444,
              "#bd3786"
             ],
             [
              0.5555555555555556,
              "#d8576b"
             ],
             [
              0.6666666666666666,
              "#ed7953"
             ],
             [
              0.7777777777777778,
              "#fb9f3a"
             ],
             [
              0.8888888888888888,
              "#fdca26"
             ],
             [
              1,
              "#f0f921"
             ]
            ],
            "type": "heatmapgl"
           }
          ],
          "histogram": [
           {
            "marker": {
             "pattern": {
              "fillmode": "overlay",
              "size": 10,
              "solidity": 0.2
             }
            },
            "type": "histogram"
           }
          ],
          "histogram2d": [
           {
            "colorbar": {
             "outlinewidth": 0,
             "ticks": ""
            },
            "colorscale": [
             [
              0,
              "#0d0887"
             ],
             [
              0.1111111111111111,
              "#46039f"
             ],
             [
              0.2222222222222222,
              "#7201a8"
             ],
             [
              0.3333333333333333,
              "#9c179e"
             ],
             [
              0.4444444444444444,
              "#bd3786"
             ],
             [
              0.5555555555555556,
              "#d8576b"
             ],
             [
              0.6666666666666666,
              "#ed7953"
             ],
             [
              0.7777777777777778,
              "#fb9f3a"
             ],
             [
              0.8888888888888888,
              "#fdca26"
             ],
             [
              1,
              "#f0f921"
             ]
            ],
            "type": "histogram2d"
           }
          ],
          "histogram2dcontour": [
           {
            "colorbar": {
             "outlinewidth": 0,
             "ticks": ""
            },
            "colorscale": [
             [
              0,
              "#0d0887"
             ],
             [
              0.1111111111111111,
              "#46039f"
             ],
             [
              0.2222222222222222,
              "#7201a8"
             ],
             [
              0.3333333333333333,
              "#9c179e"
             ],
             [
              0.4444444444444444,
              "#bd3786"
             ],
             [
              0.5555555555555556,
              "#d8576b"
             ],
             [
              0.6666666666666666,
              "#ed7953"
             ],
             [
              0.7777777777777778,
              "#fb9f3a"
             ],
             [
              0.8888888888888888,
              "#fdca26"
             ],
             [
              1,
              "#f0f921"
             ]
            ],
            "type": "histogram2dcontour"
           }
          ],
          "mesh3d": [
           {
            "colorbar": {
             "outlinewidth": 0,
             "ticks": ""
            },
            "type": "mesh3d"
           }
          ],
          "parcoords": [
           {
            "line": {
             "colorbar": {
              "outlinewidth": 0,
              "ticks": ""
             }
            },
            "type": "parcoords"
           }
          ],
          "pie": [
           {
            "automargin": true,
            "type": "pie"
           }
          ],
          "scatter": [
           {
            "fillpattern": {
             "fillmode": "overlay",
             "size": 10,
             "solidity": 0.2
            },
            "type": "scatter"
           }
          ],
          "scatter3d": [
           {
            "line": {
             "colorbar": {
              "outlinewidth": 0,
              "ticks": ""
             }
            },
            "marker": {
             "colorbar": {
              "outlinewidth": 0,
              "ticks": ""
             }
            },
            "type": "scatter3d"
           }
          ],
          "scattercarpet": [
           {
            "marker": {
             "colorbar": {
              "outlinewidth": 0,
              "ticks": ""
             }
            },
            "type": "scattercarpet"
           }
          ],
          "scattergeo": [
           {
            "marker": {
             "colorbar": {
              "outlinewidth": 0,
              "ticks": ""
             }
            },
            "type": "scattergeo"
           }
          ],
          "scattergl": [
           {
            "marker": {
             "colorbar": {
              "outlinewidth": 0,
              "ticks": ""
             }
            },
            "type": "scattergl"
           }
          ],
          "scattermapbox": [
           {
            "marker": {
             "colorbar": {
              "outlinewidth": 0,
              "ticks": ""
             }
            },
            "type": "scattermapbox"
           }
          ],
          "scatterpolar": [
           {
            "marker": {
             "colorbar": {
              "outlinewidth": 0,
              "ticks": ""
             }
            },
            "type": "scatterpolar"
           }
          ],
          "scatterpolargl": [
           {
            "marker": {
             "colorbar": {
              "outlinewidth": 0,
              "ticks": ""
             }
            },
            "type": "scatterpolargl"
           }
          ],
          "scatterternary": [
           {
            "marker": {
             "colorbar": {
              "outlinewidth": 0,
              "ticks": ""
             }
            },
            "type": "scatterternary"
           }
          ],
          "surface": [
           {
            "colorbar": {
             "outlinewidth": 0,
             "ticks": ""
            },
            "colorscale": [
             [
              0,
              "#0d0887"
             ],
             [
              0.1111111111111111,
              "#46039f"
             ],
             [
              0.2222222222222222,
              "#7201a8"
             ],
             [
              0.3333333333333333,
              "#9c179e"
             ],
             [
              0.4444444444444444,
              "#bd3786"
             ],
             [
              0.5555555555555556,
              "#d8576b"
             ],
             [
              0.6666666666666666,
              "#ed7953"
             ],
             [
              0.7777777777777778,
              "#fb9f3a"
             ],
             [
              0.8888888888888888,
              "#fdca26"
             ],
             [
              1,
              "#f0f921"
             ]
            ],
            "type": "surface"
           }
          ],
          "table": [
           {
            "cells": {
             "fill": {
              "color": "#EBF0F8"
             },
             "line": {
              "color": "white"
             }
            },
            "header": {
             "fill": {
              "color": "#C8D4E3"
             },
             "line": {
              "color": "white"
             }
            },
            "type": "table"
           }
          ]
         },
         "layout": {
          "annotationdefaults": {
           "arrowcolor": "#2a3f5f",
           "arrowhead": 0,
           "arrowwidth": 1
          },
          "autotypenumbers": "strict",
          "coloraxis": {
           "colorbar": {
            "outlinewidth": 0,
            "ticks": ""
           }
          },
          "colorscale": {
           "diverging": [
            [
             0,
             "#8e0152"
            ],
            [
             0.1,
             "#c51b7d"
            ],
            [
             0.2,
             "#de77ae"
            ],
            [
             0.3,
             "#f1b6da"
            ],
            [
             0.4,
             "#fde0ef"
            ],
            [
             0.5,
             "#f7f7f7"
            ],
            [
             0.6,
             "#e6f5d0"
            ],
            [
             0.7,
             "#b8e186"
            ],
            [
             0.8,
             "#7fbc41"
            ],
            [
             0.9,
             "#4d9221"
            ],
            [
             1,
             "#276419"
            ]
           ],
           "sequential": [
            [
             0,
             "#0d0887"
            ],
            [
             0.1111111111111111,
             "#46039f"
            ],
            [
             0.2222222222222222,
             "#7201a8"
            ],
            [
             0.3333333333333333,
             "#9c179e"
            ],
            [
             0.4444444444444444,
             "#bd3786"
            ],
            [
             0.5555555555555556,
             "#d8576b"
            ],
            [
             0.6666666666666666,
             "#ed7953"
            ],
            [
             0.7777777777777778,
             "#fb9f3a"
            ],
            [
             0.8888888888888888,
             "#fdca26"
            ],
            [
             1,
             "#f0f921"
            ]
           ],
           "sequentialminus": [
            [
             0,
             "#0d0887"
            ],
            [
             0.1111111111111111,
             "#46039f"
            ],
            [
             0.2222222222222222,
             "#7201a8"
            ],
            [
             0.3333333333333333,
             "#9c179e"
            ],
            [
             0.4444444444444444,
             "#bd3786"
            ],
            [
             0.5555555555555556,
             "#d8576b"
            ],
            [
             0.6666666666666666,
             "#ed7953"
            ],
            [
             0.7777777777777778,
             "#fb9f3a"
            ],
            [
             0.8888888888888888,
             "#fdca26"
            ],
            [
             1,
             "#f0f921"
            ]
           ]
          },
          "colorway": [
           "#636efa",
           "#EF553B",
           "#00cc96",
           "#ab63fa",
           "#FFA15A",
           "#19d3f3",
           "#FF6692",
           "#B6E880",
           "#FF97FF",
           "#FECB52"
          ],
          "font": {
           "color": "#2a3f5f"
          },
          "geo": {
           "bgcolor": "white",
           "lakecolor": "white",
           "landcolor": "#E5ECF6",
           "showlakes": true,
           "showland": true,
           "subunitcolor": "white"
          },
          "hoverlabel": {
           "align": "left"
          },
          "hovermode": "closest",
          "mapbox": {
           "style": "light"
          },
          "paper_bgcolor": "white",
          "plot_bgcolor": "#E5ECF6",
          "polar": {
           "angularaxis": {
            "gridcolor": "white",
            "linecolor": "white",
            "ticks": ""
           },
           "bgcolor": "#E5ECF6",
           "radialaxis": {
            "gridcolor": "white",
            "linecolor": "white",
            "ticks": ""
           }
          },
          "scene": {
           "xaxis": {
            "backgroundcolor": "#E5ECF6",
            "gridcolor": "white",
            "gridwidth": 2,
            "linecolor": "white",
            "showbackground": true,
            "ticks": "",
            "zerolinecolor": "white"
           },
           "yaxis": {
            "backgroundcolor": "#E5ECF6",
            "gridcolor": "white",
            "gridwidth": 2,
            "linecolor": "white",
            "showbackground": true,
            "ticks": "",
            "zerolinecolor": "white"
           },
           "zaxis": {
            "backgroundcolor": "#E5ECF6",
            "gridcolor": "white",
            "gridwidth": 2,
            "linecolor": "white",
            "showbackground": true,
            "ticks": "",
            "zerolinecolor": "white"
           }
          },
          "shapedefaults": {
           "line": {
            "color": "#2a3f5f"
           }
          },
          "ternary": {
           "aaxis": {
            "gridcolor": "white",
            "linecolor": "white",
            "ticks": ""
           },
           "baxis": {
            "gridcolor": "white",
            "linecolor": "white",
            "ticks": ""
           },
           "bgcolor": "#E5ECF6",
           "caxis": {
            "gridcolor": "white",
            "linecolor": "white",
            "ticks": ""
           }
          },
          "title": {
           "x": 0.05
          },
          "xaxis": {
           "automargin": true,
           "gridcolor": "white",
           "linecolor": "white",
           "ticks": "",
           "title": {
            "standoff": 15
           },
           "zerolinecolor": "white",
           "zerolinewidth": 2
          },
          "yaxis": {
           "automargin": true,
           "gridcolor": "white",
           "linecolor": "white",
           "ticks": "",
           "title": {
            "standoff": 15
           },
           "zerolinecolor": "white",
           "zerolinewidth": 2
          }
         }
        },
        "title": {
         "text": "Domain 1A: All Students- STAAR Reading/ELA Rate"
        },
        "width": 600,
        "xaxis": {
         "title": {
          "text": "Campus Rating"
         }
        },
        "yaxis": {
         "title": {
          "text": "Percentage (%)"
         }
        }
       }
      }
     },
     "metadata": {},
     "output_type": "display_data"
    }
   ],
   "source": [
    "\n",
    "import plotly.graph_objs as go\n",
    "\n",
    "# Define the parameters and their average values for each year\n",
    "parameters = ['Approaches', 'Meets', 'Masters']\n",
    "average_values_2018 = [average_value_app18, average_value_me18, average_value_ma18]\n",
    "average_values_2019 = [average_value_app, average_value_me, average_value_ma]\n",
    "\n",
    "# Calculate the percentage values\n",
    "total_values_2018 = sum(average_values_2018)\n",
    "total_values_2019 = sum(average_values_2019)\n",
    "percentage_values_2018 = [value / total_values_2018 * 100 for value in average_values_2018]\n",
    "percentage_values_2019 = [value / total_values_2019 * 100 for value in average_values_2019]\n",
    "\n",
    "# Create trace for 2018\n",
    "trace_2018 = go.Scatter(x=parameters, y=percentage_values_2018, mode='lines+markers', name='2018',\n",
    "                        text=[f'{value:.2f}%' for value in percentage_values_2018], hoverinfo='text')\n",
    "\n",
    "# Create trace for 2019\n",
    "trace_2019 = go.Scatter(x=parameters, y=percentage_values_2019, mode='lines+markers', name='2019',\n",
    "                        text=[f'{value:.2f}%' for value in percentage_values_2019], hoverinfo='text')\n",
    "\n",
    "# Define layout\n",
    "layout = go.Layout(title='Domain 1A: All Students- STAAR Reading/ELA Rate', xaxis=dict(title='Campus Rating'),\n",
    "                   yaxis=dict(title='Percentage (%)'), height=400, width=600)  # Adjust height and width as needed\n",
    "\n",
    "# Create figure\n",
    "fig1 = go.Figure(data=[trace_2018, trace_2019], layout=layout)\n",
    "\n",
    "# Show plot\n",
    "fig1.show()\n"
   ]
  },
  {
   "cell_type": "code",
   "execution_count": 43,
   "metadata": {},
   "outputs": [
    {
     "data": {
      "application/vnd.plotly.v1+json": {
       "config": {
        "plotlyServerURL": "https://plotly.com"
       },
       "data": [
        {
         "hoverinfo": "text",
         "mode": "lines+markers",
         "name": "2018",
         "text": [
          "53.85%",
          "29.60%",
          "16.55%"
         ],
         "type": "scatter",
         "x": [
          "Approaches",
          "Meets",
          "Masters"
         ],
         "y": [
          53.85018976047452,
          29.602791112674993,
          16.54701912685048
         ]
        },
        {
         "hoverinfo": "text",
         "mode": "lines+markers",
         "name": "2019",
         "text": [
          "51.95%",
          "29.98%",
          "18.07%"
         ],
         "type": "scatter",
         "x": [
          "Approaches",
          "Meets",
          "Masters"
         ],
         "y": [
          51.94831733134336,
          29.984091352870745,
          18.06759131578589
         ]
        }
       ],
       "layout": {
        "height": 400,
        "template": {
         "data": {
          "bar": [
           {
            "error_x": {
             "color": "#2a3f5f"
            },
            "error_y": {
             "color": "#2a3f5f"
            },
            "marker": {
             "line": {
              "color": "#E5ECF6",
              "width": 0.5
             },
             "pattern": {
              "fillmode": "overlay",
              "size": 10,
              "solidity": 0.2
             }
            },
            "type": "bar"
           }
          ],
          "barpolar": [
           {
            "marker": {
             "line": {
              "color": "#E5ECF6",
              "width": 0.5
             },
             "pattern": {
              "fillmode": "overlay",
              "size": 10,
              "solidity": 0.2
             }
            },
            "type": "barpolar"
           }
          ],
          "carpet": [
           {
            "aaxis": {
             "endlinecolor": "#2a3f5f",
             "gridcolor": "white",
             "linecolor": "white",
             "minorgridcolor": "white",
             "startlinecolor": "#2a3f5f"
            },
            "baxis": {
             "endlinecolor": "#2a3f5f",
             "gridcolor": "white",
             "linecolor": "white",
             "minorgridcolor": "white",
             "startlinecolor": "#2a3f5f"
            },
            "type": "carpet"
           }
          ],
          "choropleth": [
           {
            "colorbar": {
             "outlinewidth": 0,
             "ticks": ""
            },
            "type": "choropleth"
           }
          ],
          "contour": [
           {
            "colorbar": {
             "outlinewidth": 0,
             "ticks": ""
            },
            "colorscale": [
             [
              0,
              "#0d0887"
             ],
             [
              0.1111111111111111,
              "#46039f"
             ],
             [
              0.2222222222222222,
              "#7201a8"
             ],
             [
              0.3333333333333333,
              "#9c179e"
             ],
             [
              0.4444444444444444,
              "#bd3786"
             ],
             [
              0.5555555555555556,
              "#d8576b"
             ],
             [
              0.6666666666666666,
              "#ed7953"
             ],
             [
              0.7777777777777778,
              "#fb9f3a"
             ],
             [
              0.8888888888888888,
              "#fdca26"
             ],
             [
              1,
              "#f0f921"
             ]
            ],
            "type": "contour"
           }
          ],
          "contourcarpet": [
           {
            "colorbar": {
             "outlinewidth": 0,
             "ticks": ""
            },
            "type": "contourcarpet"
           }
          ],
          "heatmap": [
           {
            "colorbar": {
             "outlinewidth": 0,
             "ticks": ""
            },
            "colorscale": [
             [
              0,
              "#0d0887"
             ],
             [
              0.1111111111111111,
              "#46039f"
             ],
             [
              0.2222222222222222,
              "#7201a8"
             ],
             [
              0.3333333333333333,
              "#9c179e"
             ],
             [
              0.4444444444444444,
              "#bd3786"
             ],
             [
              0.5555555555555556,
              "#d8576b"
             ],
             [
              0.6666666666666666,
              "#ed7953"
             ],
             [
              0.7777777777777778,
              "#fb9f3a"
             ],
             [
              0.8888888888888888,
              "#fdca26"
             ],
             [
              1,
              "#f0f921"
             ]
            ],
            "type": "heatmap"
           }
          ],
          "heatmapgl": [
           {
            "colorbar": {
             "outlinewidth": 0,
             "ticks": ""
            },
            "colorscale": [
             [
              0,
              "#0d0887"
             ],
             [
              0.1111111111111111,
              "#46039f"
             ],
             [
              0.2222222222222222,
              "#7201a8"
             ],
             [
              0.3333333333333333,
              "#9c179e"
             ],
             [
              0.4444444444444444,
              "#bd3786"
             ],
             [
              0.5555555555555556,
              "#d8576b"
             ],
             [
              0.6666666666666666,
              "#ed7953"
             ],
             [
              0.7777777777777778,
              "#fb9f3a"
             ],
             [
              0.8888888888888888,
              "#fdca26"
             ],
             [
              1,
              "#f0f921"
             ]
            ],
            "type": "heatmapgl"
           }
          ],
          "histogram": [
           {
            "marker": {
             "pattern": {
              "fillmode": "overlay",
              "size": 10,
              "solidity": 0.2
             }
            },
            "type": "histogram"
           }
          ],
          "histogram2d": [
           {
            "colorbar": {
             "outlinewidth": 0,
             "ticks": ""
            },
            "colorscale": [
             [
              0,
              "#0d0887"
             ],
             [
              0.1111111111111111,
              "#46039f"
             ],
             [
              0.2222222222222222,
              "#7201a8"
             ],
             [
              0.3333333333333333,
              "#9c179e"
             ],
             [
              0.4444444444444444,
              "#bd3786"
             ],
             [
              0.5555555555555556,
              "#d8576b"
             ],
             [
              0.6666666666666666,
              "#ed7953"
             ],
             [
              0.7777777777777778,
              "#fb9f3a"
             ],
             [
              0.8888888888888888,
              "#fdca26"
             ],
             [
              1,
              "#f0f921"
             ]
            ],
            "type": "histogram2d"
           }
          ],
          "histogram2dcontour": [
           {
            "colorbar": {
             "outlinewidth": 0,
             "ticks": ""
            },
            "colorscale": [
             [
              0,
              "#0d0887"
             ],
             [
              0.1111111111111111,
              "#46039f"
             ],
             [
              0.2222222222222222,
              "#7201a8"
             ],
             [
              0.3333333333333333,
              "#9c179e"
             ],
             [
              0.4444444444444444,
              "#bd3786"
             ],
             [
              0.5555555555555556,
              "#d8576b"
             ],
             [
              0.6666666666666666,
              "#ed7953"
             ],
             [
              0.7777777777777778,
              "#fb9f3a"
             ],
             [
              0.8888888888888888,
              "#fdca26"
             ],
             [
              1,
              "#f0f921"
             ]
            ],
            "type": "histogram2dcontour"
           }
          ],
          "mesh3d": [
           {
            "colorbar": {
             "outlinewidth": 0,
             "ticks": ""
            },
            "type": "mesh3d"
           }
          ],
          "parcoords": [
           {
            "line": {
             "colorbar": {
              "outlinewidth": 0,
              "ticks": ""
             }
            },
            "type": "parcoords"
           }
          ],
          "pie": [
           {
            "automargin": true,
            "type": "pie"
           }
          ],
          "scatter": [
           {
            "fillpattern": {
             "fillmode": "overlay",
             "size": 10,
             "solidity": 0.2
            },
            "type": "scatter"
           }
          ],
          "scatter3d": [
           {
            "line": {
             "colorbar": {
              "outlinewidth": 0,
              "ticks": ""
             }
            },
            "marker": {
             "colorbar": {
              "outlinewidth": 0,
              "ticks": ""
             }
            },
            "type": "scatter3d"
           }
          ],
          "scattercarpet": [
           {
            "marker": {
             "colorbar": {
              "outlinewidth": 0,
              "ticks": ""
             }
            },
            "type": "scattercarpet"
           }
          ],
          "scattergeo": [
           {
            "marker": {
             "colorbar": {
              "outlinewidth": 0,
              "ticks": ""
             }
            },
            "type": "scattergeo"
           }
          ],
          "scattergl": [
           {
            "marker": {
             "colorbar": {
              "outlinewidth": 0,
              "ticks": ""
             }
            },
            "type": "scattergl"
           }
          ],
          "scattermapbox": [
           {
            "marker": {
             "colorbar": {
              "outlinewidth": 0,
              "ticks": ""
             }
            },
            "type": "scattermapbox"
           }
          ],
          "scatterpolar": [
           {
            "marker": {
             "colorbar": {
              "outlinewidth": 0,
              "ticks": ""
             }
            },
            "type": "scatterpolar"
           }
          ],
          "scatterpolargl": [
           {
            "marker": {
             "colorbar": {
              "outlinewidth": 0,
              "ticks": ""
             }
            },
            "type": "scatterpolargl"
           }
          ],
          "scatterternary": [
           {
            "marker": {
             "colorbar": {
              "outlinewidth": 0,
              "ticks": ""
             }
            },
            "type": "scatterternary"
           }
          ],
          "surface": [
           {
            "colorbar": {
             "outlinewidth": 0,
             "ticks": ""
            },
            "colorscale": [
             [
              0,
              "#0d0887"
             ],
             [
              0.1111111111111111,
              "#46039f"
             ],
             [
              0.2222222222222222,
              "#7201a8"
             ],
             [
              0.3333333333333333,
              "#9c179e"
             ],
             [
              0.4444444444444444,
              "#bd3786"
             ],
             [
              0.5555555555555556,
              "#d8576b"
             ],
             [
              0.6666666666666666,
              "#ed7953"
             ],
             [
              0.7777777777777778,
              "#fb9f3a"
             ],
             [
              0.8888888888888888,
              "#fdca26"
             ],
             [
              1,
              "#f0f921"
             ]
            ],
            "type": "surface"
           }
          ],
          "table": [
           {
            "cells": {
             "fill": {
              "color": "#EBF0F8"
             },
             "line": {
              "color": "white"
             }
            },
            "header": {
             "fill": {
              "color": "#C8D4E3"
             },
             "line": {
              "color": "white"
             }
            },
            "type": "table"
           }
          ]
         },
         "layout": {
          "annotationdefaults": {
           "arrowcolor": "#2a3f5f",
           "arrowhead": 0,
           "arrowwidth": 1
          },
          "autotypenumbers": "strict",
          "coloraxis": {
           "colorbar": {
            "outlinewidth": 0,
            "ticks": ""
           }
          },
          "colorscale": {
           "diverging": [
            [
             0,
             "#8e0152"
            ],
            [
             0.1,
             "#c51b7d"
            ],
            [
             0.2,
             "#de77ae"
            ],
            [
             0.3,
             "#f1b6da"
            ],
            [
             0.4,
             "#fde0ef"
            ],
            [
             0.5,
             "#f7f7f7"
            ],
            [
             0.6,
             "#e6f5d0"
            ],
            [
             0.7,
             "#b8e186"
            ],
            [
             0.8,
             "#7fbc41"
            ],
            [
             0.9,
             "#4d9221"
            ],
            [
             1,
             "#276419"
            ]
           ],
           "sequential": [
            [
             0,
             "#0d0887"
            ],
            [
             0.1111111111111111,
             "#46039f"
            ],
            [
             0.2222222222222222,
             "#7201a8"
            ],
            [
             0.3333333333333333,
             "#9c179e"
            ],
            [
             0.4444444444444444,
             "#bd3786"
            ],
            [
             0.5555555555555556,
             "#d8576b"
            ],
            [
             0.6666666666666666,
             "#ed7953"
            ],
            [
             0.7777777777777778,
             "#fb9f3a"
            ],
            [
             0.8888888888888888,
             "#fdca26"
            ],
            [
             1,
             "#f0f921"
            ]
           ],
           "sequentialminus": [
            [
             0,
             "#0d0887"
            ],
            [
             0.1111111111111111,
             "#46039f"
            ],
            [
             0.2222222222222222,
             "#7201a8"
            ],
            [
             0.3333333333333333,
             "#9c179e"
            ],
            [
             0.4444444444444444,
             "#bd3786"
            ],
            [
             0.5555555555555556,
             "#d8576b"
            ],
            [
             0.6666666666666666,
             "#ed7953"
            ],
            [
             0.7777777777777778,
             "#fb9f3a"
            ],
            [
             0.8888888888888888,
             "#fdca26"
            ],
            [
             1,
             "#f0f921"
            ]
           ]
          },
          "colorway": [
           "#636efa",
           "#EF553B",
           "#00cc96",
           "#ab63fa",
           "#FFA15A",
           "#19d3f3",
           "#FF6692",
           "#B6E880",
           "#FF97FF",
           "#FECB52"
          ],
          "font": {
           "color": "#2a3f5f"
          },
          "geo": {
           "bgcolor": "white",
           "lakecolor": "white",
           "landcolor": "#E5ECF6",
           "showlakes": true,
           "showland": true,
           "subunitcolor": "white"
          },
          "hoverlabel": {
           "align": "left"
          },
          "hovermode": "closest",
          "mapbox": {
           "style": "light"
          },
          "paper_bgcolor": "white",
          "plot_bgcolor": "#E5ECF6",
          "polar": {
           "angularaxis": {
            "gridcolor": "white",
            "linecolor": "white",
            "ticks": ""
           },
           "bgcolor": "#E5ECF6",
           "radialaxis": {
            "gridcolor": "white",
            "linecolor": "white",
            "ticks": ""
           }
          },
          "scene": {
           "xaxis": {
            "backgroundcolor": "#E5ECF6",
            "gridcolor": "white",
            "gridwidth": 2,
            "linecolor": "white",
            "showbackground": true,
            "ticks": "",
            "zerolinecolor": "white"
           },
           "yaxis": {
            "backgroundcolor": "#E5ECF6",
            "gridcolor": "white",
            "gridwidth": 2,
            "linecolor": "white",
            "showbackground": true,
            "ticks": "",
            "zerolinecolor": "white"
           },
           "zaxis": {
            "backgroundcolor": "#E5ECF6",
            "gridcolor": "white",
            "gridwidth": 2,
            "linecolor": "white",
            "showbackground": true,
            "ticks": "",
            "zerolinecolor": "white"
           }
          },
          "shapedefaults": {
           "line": {
            "color": "#2a3f5f"
           }
          },
          "ternary": {
           "aaxis": {
            "gridcolor": "white",
            "linecolor": "white",
            "ticks": ""
           },
           "baxis": {
            "gridcolor": "white",
            "linecolor": "white",
            "ticks": ""
           },
           "bgcolor": "#E5ECF6",
           "caxis": {
            "gridcolor": "white",
            "linecolor": "white",
            "ticks": ""
           }
          },
          "title": {
           "x": 0.05
          },
          "xaxis": {
           "automargin": true,
           "gridcolor": "white",
           "linecolor": "white",
           "ticks": "",
           "title": {
            "standoff": 15
           },
           "zerolinecolor": "white",
           "zerolinewidth": 2
          },
          "yaxis": {
           "automargin": true,
           "gridcolor": "white",
           "linecolor": "white",
           "ticks": "",
           "title": {
            "standoff": 15
           },
           "zerolinecolor": "white",
           "zerolinewidth": 2
          }
         }
        },
        "title": {
         "text": "Domain 1A: All Students- STAAR Reading/ELA Rate"
        },
        "width": 600,
        "xaxis": {
         "title": {
          "text": "Campus Rating"
         }
        },
        "yaxis": {
         "title": {
          "text": "Percentage (%)"
         }
        }
       }
      }
     },
     "metadata": {},
     "output_type": "display_data"
    },
    {
     "data": {
      "text/plain": [
       "'https://plotly.com/~Elodie0712/3/'"
      ]
     },
     "execution_count": 43,
     "metadata": {},
     "output_type": "execute_result"
    }
   ],
   "source": [
    "import chart_studio.plotly as py\n",
    "import chart_studio.tools as tls\n",
    "import plotly.graph_objects as go\n",
    "\n",
    "# Define the parameters and their average values for each year\n",
    "parameters = ['Approaches', 'Meets', 'Masters']\n",
    "average_values_2018 = [average_value_app18, average_value_me18, average_value_ma18]\n",
    "average_values_2019 = [average_value_app, average_value_me, average_value_ma]\n",
    "\n",
    "# Calculate the percentage values\n",
    "total_values_2018 = sum(average_values_2018)\n",
    "total_values_2019 = sum(average_values_2019)\n",
    "percentage_values_2018 = [value / total_values_2018 * 100 for value in average_values_2018]\n",
    "percentage_values_2019 = [value / total_values_2019 * 100 for value in average_values_2019]\n",
    "\n",
    "# Create trace for 2018\n",
    "trace_2018 = go.Scatter(x=parameters, y=percentage_values_2018, mode='lines+markers', name='2018',\n",
    "                        text=[f'{value:.2f}%' for value in percentage_values_2018], hoverinfo='text')\n",
    "\n",
    "# Create trace for 2019\n",
    "trace_2019 = go.Scatter(x=parameters, y=percentage_values_2019, mode='lines+markers', name='2019',\n",
    "                        text=[f'{value:.2f}%' for value in percentage_values_2019], hoverinfo='text')\n",
    "\n",
    "# Define layout\n",
    "layout = go.Layout(title='Domain 1A: All Students- STAAR Reading/ELA Rate', xaxis=dict(title='Campus Rating'),\n",
    "                   yaxis=dict(title='Percentage (%)'), height=400, width=600)  # Adjust height and width as needed\n",
    "\n",
    "# Create figure\n",
    "fig1 = go.Figure(data=[trace_2018, trace_2019], layout=layout)\n",
    "\n",
    "# Show plot\n",
    "fig1.show()\n",
    "\n",
    "# Set up your Chart Studio credentials\n",
    "username = \"Elodie0712\"\n",
    "api_key = \"4JtjjzywCOnMbZCAFYYg\"\n",
    "tls.set_credentials_file(username=username, api_key=api_key)\n",
    "\n",
    "# Upload the plot to Plotly Chart Studio\n",
    "py.plot(fig1, filename=\"Domain_1A\", auto_open=True, fileopt='overwrite')\n"
   ]
  },
  {
   "cell_type": "code",
   "execution_count": 13,
   "metadata": {},
   "outputs": [
    {
     "ename": "TypeError",
     "evalue": "'module' object is not callable",
     "output_type": "error",
     "traceback": [
      "\u001b[1;31m---------------------------------------------------------------------------\u001b[0m",
      "\u001b[1;31mTypeError\u001b[0m                                 Traceback (most recent call last)",
      "Cell \u001b[1;32mIn[13], line 2\u001b[0m\n\u001b[0;32m      1\u001b[0m \u001b[38;5;28;01mimport\u001b[39;00m \u001b[38;5;21;01mchart_studio\u001b[39;00m\u001b[38;5;21;01m.\u001b[39;00m\u001b[38;5;21;01mplotly\u001b[39;00m \u001b[38;5;28;01mas\u001b[39;00m \u001b[38;5;21;01mpy\u001b[39;00m\n\u001b[1;32m----> 2\u001b[0m py\u001b[38;5;241m.\u001b[39mplotly(fig1, filename\u001b[38;5;241m=\u001b[39m\u001b[38;5;124m\"\u001b[39m\u001b[38;5;124mDomain 1A: All Students- STAAR Reading/ELA Rate\u001b[39m\u001b[38;5;124m\"\u001b[39m, auto_open\u001b[38;5;241m=\u001b[39m\u001b[38;5;28;01mTrue\u001b[39;00m)\n",
      "\u001b[1;31mTypeError\u001b[0m: 'module' object is not callable"
     ]
    }
   ],
   "source": [
    "import chart_studio.plotly as py\n",
    "py.plotly(fig1, filename=\"Domain 1A: All Students- STAAR Reading/ELA Rate\", auto_open=True)"
   ]
  },
  {
   "cell_type": "code",
   "execution_count": null,
   "metadata": {},
   "outputs": [
    {
     "data": {
      "application/vnd.plotly.v1+json": {
       "config": {
        "plotlyServerURL": "https://plot.ly"
       },
       "data": [
        {
         "hoverinfo": "text",
         "mode": "lines+markers",
         "name": "2018",
         "text": [
          "53.85%",
          "29.60%",
          "16.55%"
         ],
         "type": "scatter",
         "x": [
          "Approaches",
          "Meets",
          "Masters"
         ],
         "y": [
          53.85018976047452,
          29.602791112674993,
          16.54701912685048
         ]
        },
        {
         "hoverinfo": "text",
         "mode": "lines+markers",
         "name": "2019",
         "text": [
          "51.95%",
          "29.98%",
          "18.07%"
         ],
         "type": "scatter",
         "x": [
          "Approaches",
          "Meets",
          "Masters"
         ],
         "y": [
          51.94831733134336,
          29.984091352870745,
          18.06759131578589
         ]
        }
       ],
       "layout": {
        "template": {
         "data": {
          "bar": [
           {
            "error_x": {
             "color": "#2a3f5f"
            },
            "error_y": {
             "color": "#2a3f5f"
            },
            "marker": {
             "line": {
              "color": "#E5ECF6",
              "width": 0.5
             },
             "pattern": {
              "fillmode": "overlay",
              "size": 10,
              "solidity": 0.2
             }
            },
            "type": "bar"
           }
          ],
          "barpolar": [
           {
            "marker": {
             "line": {
              "color": "#E5ECF6",
              "width": 0.5
             },
             "pattern": {
              "fillmode": "overlay",
              "size": 10,
              "solidity": 0.2
             }
            },
            "type": "barpolar"
           }
          ],
          "carpet": [
           {
            "aaxis": {
             "endlinecolor": "#2a3f5f",
             "gridcolor": "white",
             "linecolor": "white",
             "minorgridcolor": "white",
             "startlinecolor": "#2a3f5f"
            },
            "baxis": {
             "endlinecolor": "#2a3f5f",
             "gridcolor": "white",
             "linecolor": "white",
             "minorgridcolor": "white",
             "startlinecolor": "#2a3f5f"
            },
            "type": "carpet"
           }
          ],
          "choropleth": [
           {
            "colorbar": {
             "outlinewidth": 0,
             "ticks": ""
            },
            "type": "choropleth"
           }
          ],
          "contour": [
           {
            "colorbar": {
             "outlinewidth": 0,
             "ticks": ""
            },
            "colorscale": [
             [
              0,
              "#0d0887"
             ],
             [
              0.1111111111111111,
              "#46039f"
             ],
             [
              0.2222222222222222,
              "#7201a8"
             ],
             [
              0.3333333333333333,
              "#9c179e"
             ],
             [
              0.4444444444444444,
              "#bd3786"
             ],
             [
              0.5555555555555556,
              "#d8576b"
             ],
             [
              0.6666666666666666,
              "#ed7953"
             ],
             [
              0.7777777777777778,
              "#fb9f3a"
             ],
             [
              0.8888888888888888,
              "#fdca26"
             ],
             [
              1,
              "#f0f921"
             ]
            ],
            "type": "contour"
           }
          ],
          "contourcarpet": [
           {
            "colorbar": {
             "outlinewidth": 0,
             "ticks": ""
            },
            "type": "contourcarpet"
           }
          ],
          "heatmap": [
           {
            "colorbar": {
             "outlinewidth": 0,
             "ticks": ""
            },
            "colorscale": [
             [
              0,
              "#0d0887"
             ],
             [
              0.1111111111111111,
              "#46039f"
             ],
             [
              0.2222222222222222,
              "#7201a8"
             ],
             [
              0.3333333333333333,
              "#9c179e"
             ],
             [
              0.4444444444444444,
              "#bd3786"
             ],
             [
              0.5555555555555556,
              "#d8576b"
             ],
             [
              0.6666666666666666,
              "#ed7953"
             ],
             [
              0.7777777777777778,
              "#fb9f3a"
             ],
             [
              0.8888888888888888,
              "#fdca26"
             ],
             [
              1,
              "#f0f921"
             ]
            ],
            "type": "heatmap"
           }
          ],
          "heatmapgl": [
           {
            "colorbar": {
             "outlinewidth": 0,
             "ticks": ""
            },
            "colorscale": [
             [
              0,
              "#0d0887"
             ],
             [
              0.1111111111111111,
              "#46039f"
             ],
             [
              0.2222222222222222,
              "#7201a8"
             ],
             [
              0.3333333333333333,
              "#9c179e"
             ],
             [
              0.4444444444444444,
              "#bd3786"
             ],
             [
              0.5555555555555556,
              "#d8576b"
             ],
             [
              0.6666666666666666,
              "#ed7953"
             ],
             [
              0.7777777777777778,
              "#fb9f3a"
             ],
             [
              0.8888888888888888,
              "#fdca26"
             ],
             [
              1,
              "#f0f921"
             ]
            ],
            "type": "heatmapgl"
           }
          ],
          "histogram": [
           {
            "marker": {
             "pattern": {
              "fillmode": "overlay",
              "size": 10,
              "solidity": 0.2
             }
            },
            "type": "histogram"
           }
          ],
          "histogram2d": [
           {
            "colorbar": {
             "outlinewidth": 0,
             "ticks": ""
            },
            "colorscale": [
             [
              0,
              "#0d0887"
             ],
             [
              0.1111111111111111,
              "#46039f"
             ],
             [
              0.2222222222222222,
              "#7201a8"
             ],
             [
              0.3333333333333333,
              "#9c179e"
             ],
             [
              0.4444444444444444,
              "#bd3786"
             ],
             [
              0.5555555555555556,
              "#d8576b"
             ],
             [
              0.6666666666666666,
              "#ed7953"
             ],
             [
              0.7777777777777778,
              "#fb9f3a"
             ],
             [
              0.8888888888888888,
              "#fdca26"
             ],
             [
              1,
              "#f0f921"
             ]
            ],
            "type": "histogram2d"
           }
          ],
          "histogram2dcontour": [
           {
            "colorbar": {
             "outlinewidth": 0,
             "ticks": ""
            },
            "colorscale": [
             [
              0,
              "#0d0887"
             ],
             [
              0.1111111111111111,
              "#46039f"
             ],
             [
              0.2222222222222222,
              "#7201a8"
             ],
             [
              0.3333333333333333,
              "#9c179e"
             ],
             [
              0.4444444444444444,
              "#bd3786"
             ],
             [
              0.5555555555555556,
              "#d8576b"
             ],
             [
              0.6666666666666666,
              "#ed7953"
             ],
             [
              0.7777777777777778,
              "#fb9f3a"
             ],
             [
              0.8888888888888888,
              "#fdca26"
             ],
             [
              1,
              "#f0f921"
             ]
            ],
            "type": "histogram2dcontour"
           }
          ],
          "mesh3d": [
           {
            "colorbar": {
             "outlinewidth": 0,
             "ticks": ""
            },
            "type": "mesh3d"
           }
          ],
          "parcoords": [
           {
            "line": {
             "colorbar": {
              "outlinewidth": 0,
              "ticks": ""
             }
            },
            "type": "parcoords"
           }
          ],
          "pie": [
           {
            "automargin": true,
            "type": "pie"
           }
          ],
          "scatter": [
           {
            "fillpattern": {
             "fillmode": "overlay",
             "size": 10,
             "solidity": 0.2
            },
            "type": "scatter"
           }
          ],
          "scatter3d": [
           {
            "line": {
             "colorbar": {
              "outlinewidth": 0,
              "ticks": ""
             }
            },
            "marker": {
             "colorbar": {
              "outlinewidth": 0,
              "ticks": ""
             }
            },
            "type": "scatter3d"
           }
          ],
          "scattercarpet": [
           {
            "marker": {
             "colorbar": {
              "outlinewidth": 0,
              "ticks": ""
             }
            },
            "type": "scattercarpet"
           }
          ],
          "scattergeo": [
           {
            "marker": {
             "colorbar": {
              "outlinewidth": 0,
              "ticks": ""
             }
            },
            "type": "scattergeo"
           }
          ],
          "scattergl": [
           {
            "marker": {
             "colorbar": {
              "outlinewidth": 0,
              "ticks": ""
             }
            },
            "type": "scattergl"
           }
          ],
          "scattermapbox": [
           {
            "marker": {
             "colorbar": {
              "outlinewidth": 0,
              "ticks": ""
             }
            },
            "type": "scattermapbox"
           }
          ],
          "scatterpolar": [
           {
            "marker": {
             "colorbar": {
              "outlinewidth": 0,
              "ticks": ""
             }
            },
            "type": "scatterpolar"
           }
          ],
          "scatterpolargl": [
           {
            "marker": {
             "colorbar": {
              "outlinewidth": 0,
              "ticks": ""
             }
            },
            "type": "scatterpolargl"
           }
          ],
          "scatterternary": [
           {
            "marker": {
             "colorbar": {
              "outlinewidth": 0,
              "ticks": ""
             }
            },
            "type": "scatterternary"
           }
          ],
          "surface": [
           {
            "colorbar": {
             "outlinewidth": 0,
             "ticks": ""
            },
            "colorscale": [
             [
              0,
              "#0d0887"
             ],
             [
              0.1111111111111111,
              "#46039f"
             ],
             [
              0.2222222222222222,
              "#7201a8"
             ],
             [
              0.3333333333333333,
              "#9c179e"
             ],
             [
              0.4444444444444444,
              "#bd3786"
             ],
             [
              0.5555555555555556,
              "#d8576b"
             ],
             [
              0.6666666666666666,
              "#ed7953"
             ],
             [
              0.7777777777777778,
              "#fb9f3a"
             ],
             [
              0.8888888888888888,
              "#fdca26"
             ],
             [
              1,
              "#f0f921"
             ]
            ],
            "type": "surface"
           }
          ],
          "table": [
           {
            "cells": {
             "fill": {
              "color": "#EBF0F8"
             },
             "line": {
              "color": "white"
             }
            },
            "header": {
             "fill": {
              "color": "#C8D4E3"
             },
             "line": {
              "color": "white"
             }
            },
            "type": "table"
           }
          ]
         },
         "layout": {
          "annotationdefaults": {
           "arrowcolor": "#2a3f5f",
           "arrowhead": 0,
           "arrowwidth": 1
          },
          "autotypenumbers": "strict",
          "coloraxis": {
           "colorbar": {
            "outlinewidth": 0,
            "ticks": ""
           }
          },
          "colorscale": {
           "diverging": [
            [
             0,
             "#8e0152"
            ],
            [
             0.1,
             "#c51b7d"
            ],
            [
             0.2,
             "#de77ae"
            ],
            [
             0.3,
             "#f1b6da"
            ],
            [
             0.4,
             "#fde0ef"
            ],
            [
             0.5,
             "#f7f7f7"
            ],
            [
             0.6,
             "#e6f5d0"
            ],
            [
             0.7,
             "#b8e186"
            ],
            [
             0.8,
             "#7fbc41"
            ],
            [
             0.9,
             "#4d9221"
            ],
            [
             1,
             "#276419"
            ]
           ],
           "sequential": [
            [
             0,
             "#0d0887"
            ],
            [
             0.1111111111111111,
             "#46039f"
            ],
            [
             0.2222222222222222,
             "#7201a8"
            ],
            [
             0.3333333333333333,
             "#9c179e"
            ],
            [
             0.4444444444444444,
             "#bd3786"
            ],
            [
             0.5555555555555556,
             "#d8576b"
            ],
            [
             0.6666666666666666,
             "#ed7953"
            ],
            [
             0.7777777777777778,
             "#fb9f3a"
            ],
            [
             0.8888888888888888,
             "#fdca26"
            ],
            [
             1,
             "#f0f921"
            ]
           ],
           "sequentialminus": [
            [
             0,
             "#0d0887"
            ],
            [
             0.1111111111111111,
             "#46039f"
            ],
            [
             0.2222222222222222,
             "#7201a8"
            ],
            [
             0.3333333333333333,
             "#9c179e"
            ],
            [
             0.4444444444444444,
             "#bd3786"
            ],
            [
             0.5555555555555556,
             "#d8576b"
            ],
            [
             0.6666666666666666,
             "#ed7953"
            ],
            [
             0.7777777777777778,
             "#fb9f3a"
            ],
            [
             0.8888888888888888,
             "#fdca26"
            ],
            [
             1,
             "#f0f921"
            ]
           ]
          },
          "colorway": [
           "#636efa",
           "#EF553B",
           "#00cc96",
           "#ab63fa",
           "#FFA15A",
           "#19d3f3",
           "#FF6692",
           "#B6E880",
           "#FF97FF",
           "#FECB52"
          ],
          "font": {
           "color": "#2a3f5f"
          },
          "geo": {
           "bgcolor": "white",
           "lakecolor": "white",
           "landcolor": "#E5ECF6",
           "showlakes": true,
           "showland": true,
           "subunitcolor": "white"
          },
          "hoverlabel": {
           "align": "left"
          },
          "hovermode": "closest",
          "mapbox": {
           "style": "light"
          },
          "paper_bgcolor": "white",
          "plot_bgcolor": "#E5ECF6",
          "polar": {
           "angularaxis": {
            "gridcolor": "white",
            "linecolor": "white",
            "ticks": ""
           },
           "bgcolor": "#E5ECF6",
           "radialaxis": {
            "gridcolor": "white",
            "linecolor": "white",
            "ticks": ""
           }
          },
          "scene": {
           "xaxis": {
            "backgroundcolor": "#E5ECF6",
            "gridcolor": "white",
            "gridwidth": 2,
            "linecolor": "white",
            "showbackground": true,
            "ticks": "",
            "zerolinecolor": "white"
           },
           "yaxis": {
            "backgroundcolor": "#E5ECF6",
            "gridcolor": "white",
            "gridwidth": 2,
            "linecolor": "white",
            "showbackground": true,
            "ticks": "",
            "zerolinecolor": "white"
           },
           "zaxis": {
            "backgroundcolor": "#E5ECF6",
            "gridcolor": "white",
            "gridwidth": 2,
            "linecolor": "white",
            "showbackground": true,
            "ticks": "",
            "zerolinecolor": "white"
           }
          },
          "shapedefaults": {
           "line": {
            "color": "#2a3f5f"
           }
          },
          "ternary": {
           "aaxis": {
            "gridcolor": "white",
            "linecolor": "white",
            "ticks": ""
           },
           "baxis": {
            "gridcolor": "white",
            "linecolor": "white",
            "ticks": ""
           },
           "bgcolor": "#E5ECF6",
           "caxis": {
            "gridcolor": "white",
            "linecolor": "white",
            "ticks": ""
           }
          },
          "title": {
           "x": 0.05
          },
          "xaxis": {
           "automargin": true,
           "gridcolor": "white",
           "linecolor": "white",
           "ticks": "",
           "title": {
            "standoff": 15
           },
           "zerolinecolor": "white",
           "zerolinewidth": 2
          },
          "yaxis": {
           "automargin": true,
           "gridcolor": "white",
           "linecolor": "white",
           "ticks": "",
           "title": {
            "standoff": 15
           },
           "zerolinecolor": "white",
           "zerolinewidth": 2
          }
         }
        },
        "title": {
         "text": "Domain 1A: All Students- STAAR Reading/ELA Rate"
        },
        "xaxis": {
         "title": {
          "text": "Campus Rating"
         }
        },
        "yaxis": {
         "title": {
          "text": "Percentage (%)"
         }
        }
       }
      }
     },
     "metadata": {},
     "output_type": "display_data"
    }
   ],
   "source": [
    "import plotly.graph_objs as go\n",
    "\n",
    "# Define the parameters and their average values for each year\n",
    "parameters = ['Approaches', 'Meets', 'Masters']\n",
    "average_values_2018 = [average_value_app18, average_value_me18, average_value_ma18]\n",
    "average_values_2019 = [average_value_app, average_value_me, average_value_ma]\n",
    "\n",
    "# Calculate the percentage values\n",
    "total_values_2018 = sum(average_values_2018)\n",
    "total_values_2019 = sum(average_values_2019)\n",
    "percentage_values_2018 = [value / total_values_2018 * 100 for value in average_values_2018]\n",
    "percentage_values_2019 = [value / total_values_2019 * 100 for value in average_values_2019]\n",
    "\n",
    "# Create trace for 2018\n",
    "trace_2018 = go.Scatter(x=parameters, y=percentage_values_2018, mode='lines+markers', name='2018',\n",
    "                        text=[f'{value:.2f}%' for value in percentage_values_2018], hoverinfo='text')\n",
    "\n",
    "# Create trace for 2019\n",
    "trace_2019 = go.Scatter(x=parameters, y=percentage_values_2019, mode='lines+markers', name='2019',\n",
    "                        text=[f'{value:.2f}%' for value in percentage_values_2019], hoverinfo='text')\n",
    "\n",
    "# Define layout\n",
    "layout = go.Layout(title='Domain 1A: All Students- STAAR Reading/ELA Rate', xaxis=dict(title='Campus Rating'),\n",
    "                   yaxis=dict(title='Percentage (%)'))\n",
    "\n",
    "# Create figure\n",
    "fig = go.Figure(data=[trace_2018, trace_2019], layout=layout)\n",
    "\n",
    "# Show plot\n",
    "fig.show()\n"
   ]
  },
  {
   "cell_type": "markdown",
   "metadata": {},
   "source": [
    "GENDER (Male VS. Female)"
   ]
  },
  {
   "cell_type": "code",
   "execution_count": null,
   "metadata": {},
   "outputs": [],
   "source": [
    "#Selecting specific columns for all students DataFrame\n",
    "Gender_df18 = staar_rla1819_df[[\"School Year\",\"CAMPUS\",\"CDF03ARE1318R\", \"CDM03ARE1318R\", \"CDF03ARE1S18R\",\"CDM03ARE1S18R\",\"CDF03ARE1218R\",\"CDF03ARE1S19R\", \"CDF03ARE1219R\", \"CDF03ARE1319R\", \"CDM03ARE1S19R\", \"CDM03ARE1219R\", \"CDM03ARE1218R\", \"CDM03ARE1319R\"]]\n"
   ]
  },
  {
   "cell_type": "markdown",
   "metadata": {},
   "source": [
    "CDF03ARE1218R-Campus 2018 Domain 1A: Meets Grade Level STD, Grade 3, Female, STAAR Reading/ELA Rate\n",
    "CDF03ARE1S18R-Campus 2018 Domain 1A: Approaches Grade Level STD, Grade 3, Female, STAAR Reading/ELA Rate\n",
    "CDF03ARE1318R-Campus 2018 Domain 1A: Masters Grade Level STD, Grade 3, Female, STAAR Reading/ELA Rate\n",
    "\n",
    "CDM03ARE1S18R-Campus 2018 Domain 1A: Approaches Grade Level STD, Grade 3, Male, STAAR Reading/ELA Rate\n",
    "CDM03ARE1218R-Campus 2018 Domain 1A: Meets Grade Level STD, Grade 3, Male, STAAR Reading/ELA Rate\n",
    "CDM03ARE1318R-Campus 2018 Domain 1A: Masters Grade Level STD, Grade 3, Male, STAAR Reading/ELA Rate"
   ]
  },
  {
   "cell_type": "code",
   "execution_count": null,
   "metadata": {},
   "outputs": [
    {
     "name": "stderr",
     "output_type": "stream",
     "text": [
      "C:\\Users\\HP\\AppData\\Local\\Temp\\ipykernel_12688\\3262682417.py:5: SettingWithCopyWarning:\n",
      "\n",
      "\n",
      "A value is trying to be set on a copy of a slice from a DataFrame.\n",
      "Try using .loc[row_indexer,col_indexer] = value instead\n",
      "\n",
      "See the caveats in the documentation: https://pandas.pydata.org/pandas-docs/stable/user_guide/indexing.html#returning-a-view-versus-a-copy\n",
      "\n",
      "C:\\Users\\HP\\AppData\\Local\\Temp\\ipykernel_12688\\3262682417.py:6: SettingWithCopyWarning:\n",
      "\n",
      "\n",
      "A value is trying to be set on a copy of a slice from a DataFrame.\n",
      "Try using .loc[row_indexer,col_indexer] = value instead\n",
      "\n",
      "See the caveats in the documentation: https://pandas.pydata.org/pandas-docs/stable/user_guide/indexing.html#returning-a-view-versus-a-copy\n",
      "\n",
      "C:\\Users\\HP\\AppData\\Local\\Temp\\ipykernel_12688\\3262682417.py:9: SettingWithCopyWarning:\n",
      "\n",
      "\n",
      "A value is trying to be set on a copy of a slice from a DataFrame.\n",
      "Try using .loc[row_indexer,col_indexer] = value instead\n",
      "\n",
      "See the caveats in the documentation: https://pandas.pydata.org/pandas-docs/stable/user_guide/indexing.html#returning-a-view-versus-a-copy\n",
      "\n",
      "C:\\Users\\HP\\AppData\\Local\\Temp\\ipykernel_12688\\3262682417.py:16: SettingWithCopyWarning:\n",
      "\n",
      "\n",
      "A value is trying to be set on a copy of a slice from a DataFrame.\n",
      "Try using .loc[row_indexer,col_indexer] = value instead\n",
      "\n",
      "See the caveats in the documentation: https://pandas.pydata.org/pandas-docs/stable/user_guide/indexing.html#returning-a-view-versus-a-copy\n",
      "\n",
      "C:\\Users\\HP\\AppData\\Local\\Temp\\ipykernel_12688\\3262682417.py:17: SettingWithCopyWarning:\n",
      "\n",
      "\n",
      "A value is trying to be set on a copy of a slice from a DataFrame.\n",
      "Try using .loc[row_indexer,col_indexer] = value instead\n",
      "\n",
      "See the caveats in the documentation: https://pandas.pydata.org/pandas-docs/stable/user_guide/indexing.html#returning-a-view-versus-a-copy\n",
      "\n",
      "C:\\Users\\HP\\AppData\\Local\\Temp\\ipykernel_12688\\3262682417.py:20: SettingWithCopyWarning:\n",
      "\n",
      "\n",
      "A value is trying to be set on a copy of a slice from a DataFrame.\n",
      "Try using .loc[row_indexer,col_indexer] = value instead\n",
      "\n",
      "See the caveats in the documentation: https://pandas.pydata.org/pandas-docs/stable/user_guide/indexing.html#returning-a-view-versus-a-copy\n",
      "\n",
      "C:\\Users\\HP\\AppData\\Local\\Temp\\ipykernel_12688\\3262682417.py:30: SettingWithCopyWarning:\n",
      "\n",
      "\n",
      "A value is trying to be set on a copy of a slice from a DataFrame.\n",
      "Try using .loc[row_indexer,col_indexer] = value instead\n",
      "\n",
      "See the caveats in the documentation: https://pandas.pydata.org/pandas-docs/stable/user_guide/indexing.html#returning-a-view-versus-a-copy\n",
      "\n",
      "C:\\Users\\HP\\AppData\\Local\\Temp\\ipykernel_12688\\3262682417.py:31: SettingWithCopyWarning:\n",
      "\n",
      "\n",
      "A value is trying to be set on a copy of a slice from a DataFrame.\n",
      "Try using .loc[row_indexer,col_indexer] = value instead\n",
      "\n",
      "See the caveats in the documentation: https://pandas.pydata.org/pandas-docs/stable/user_guide/indexing.html#returning-a-view-versus-a-copy\n",
      "\n",
      "C:\\Users\\HP\\AppData\\Local\\Temp\\ipykernel_12688\\3262682417.py:34: SettingWithCopyWarning:\n",
      "\n",
      "\n",
      "A value is trying to be set on a copy of a slice from a DataFrame.\n",
      "Try using .loc[row_indexer,col_indexer] = value instead\n",
      "\n",
      "See the caveats in the documentation: https://pandas.pydata.org/pandas-docs/stable/user_guide/indexing.html#returning-a-view-versus-a-copy\n",
      "\n",
      "C:\\Users\\HP\\AppData\\Local\\Temp\\ipykernel_12688\\3262682417.py:41: SettingWithCopyWarning:\n",
      "\n",
      "\n",
      "A value is trying to be set on a copy of a slice from a DataFrame.\n",
      "Try using .loc[row_indexer,col_indexer] = value instead\n",
      "\n",
      "See the caveats in the documentation: https://pandas.pydata.org/pandas-docs/stable/user_guide/indexing.html#returning-a-view-versus-a-copy\n",
      "\n",
      "C:\\Users\\HP\\AppData\\Local\\Temp\\ipykernel_12688\\3262682417.py:42: SettingWithCopyWarning:\n",
      "\n",
      "\n",
      "A value is trying to be set on a copy of a slice from a DataFrame.\n",
      "Try using .loc[row_indexer,col_indexer] = value instead\n",
      "\n",
      "See the caveats in the documentation: https://pandas.pydata.org/pandas-docs/stable/user_guide/indexing.html#returning-a-view-versus-a-copy\n",
      "\n",
      "C:\\Users\\HP\\AppData\\Local\\Temp\\ipykernel_12688\\3262682417.py:45: SettingWithCopyWarning:\n",
      "\n",
      "\n",
      "A value is trying to be set on a copy of a slice from a DataFrame.\n",
      "Try using .loc[row_indexer,col_indexer] = value instead\n",
      "\n",
      "See the caveats in the documentation: https://pandas.pydata.org/pandas-docs/stable/user_guide/indexing.html#returning-a-view-versus-a-copy\n",
      "\n",
      "C:\\Users\\HP\\AppData\\Local\\Temp\\ipykernel_12688\\3262682417.py:55: SettingWithCopyWarning:\n",
      "\n",
      "\n",
      "A value is trying to be set on a copy of a slice from a DataFrame.\n",
      "Try using .loc[row_indexer,col_indexer] = value instead\n",
      "\n",
      "See the caveats in the documentation: https://pandas.pydata.org/pandas-docs/stable/user_guide/indexing.html#returning-a-view-versus-a-copy\n",
      "\n",
      "C:\\Users\\HP\\AppData\\Local\\Temp\\ipykernel_12688\\3262682417.py:56: SettingWithCopyWarning:\n",
      "\n",
      "\n",
      "A value is trying to be set on a copy of a slice from a DataFrame.\n",
      "Try using .loc[row_indexer,col_indexer] = value instead\n",
      "\n",
      "See the caveats in the documentation: https://pandas.pydata.org/pandas-docs/stable/user_guide/indexing.html#returning-a-view-versus-a-copy\n",
      "\n",
      "C:\\Users\\HP\\AppData\\Local\\Temp\\ipykernel_12688\\3262682417.py:59: SettingWithCopyWarning:\n",
      "\n",
      "\n",
      "A value is trying to be set on a copy of a slice from a DataFrame.\n",
      "Try using .loc[row_indexer,col_indexer] = value instead\n",
      "\n",
      "See the caveats in the documentation: https://pandas.pydata.org/pandas-docs/stable/user_guide/indexing.html#returning-a-view-versus-a-copy\n",
      "\n",
      "C:\\Users\\HP\\AppData\\Local\\Temp\\ipykernel_12688\\3262682417.py:66: SettingWithCopyWarning:\n",
      "\n",
      "\n",
      "A value is trying to be set on a copy of a slice from a DataFrame.\n",
      "Try using .loc[row_indexer,col_indexer] = value instead\n",
      "\n",
      "See the caveats in the documentation: https://pandas.pydata.org/pandas-docs/stable/user_guide/indexing.html#returning-a-view-versus-a-copy\n",
      "\n",
      "C:\\Users\\HP\\AppData\\Local\\Temp\\ipykernel_12688\\3262682417.py:67: SettingWithCopyWarning:\n",
      "\n",
      "\n",
      "A value is trying to be set on a copy of a slice from a DataFrame.\n",
      "Try using .loc[row_indexer,col_indexer] = value instead\n",
      "\n",
      "See the caveats in the documentation: https://pandas.pydata.org/pandas-docs/stable/user_guide/indexing.html#returning-a-view-versus-a-copy\n",
      "\n",
      "C:\\Users\\HP\\AppData\\Local\\Temp\\ipykernel_12688\\3262682417.py:70: SettingWithCopyWarning:\n",
      "\n",
      "\n",
      "A value is trying to be set on a copy of a slice from a DataFrame.\n",
      "Try using .loc[row_indexer,col_indexer] = value instead\n",
      "\n",
      "See the caveats in the documentation: https://pandas.pydata.org/pandas-docs/stable/user_guide/indexing.html#returning-a-view-versus-a-copy\n",
      "\n"
     ]
    }
   ],
   "source": [
    "#2018: Approaches Grade Level STD, Grade 3, Female and Male\n",
    "\n",
    "#female\n",
    "# Replace '.' and '-1' with NaN in the column\n",
    "Gender_df18['CDF03ARE1S18R'] = Gender_df18['CDF03ARE1S18R'].replace('.', np.nan)\n",
    "Gender_df18['CDF03ARE1S18R'] = Gender_df18['CDF03ARE1S18R'].replace('-1', np.nan)\n",
    "\n",
    "# Convert the column to integer\n",
    "Gender_df18['CDF03ARE1S18R'] = Gender_df18['CDF03ARE1S18R'].astype(float).astype('Int64')\n",
    "\n",
    "# Now you can calculate the average\n",
    "gender_average_value_appf18 = Gender_df18['CDF03ARE1S18R'].mean()\n",
    "\n",
    "#male\n",
    "# Replace '.' and '-1' with NaN in the column\n",
    "Gender_df18['CDM03ARE1S18R'] = Gender_df18['CDM03ARE1S18R'].replace('.', np.nan)\n",
    "Gender_df18['CDM03ARE1S18R'] = Gender_df18['CDM03ARE1S18R'].replace('-1', np.nan)\n",
    "\n",
    "# Convert the column to integer\n",
    "Gender_df18['CDM03ARE1S18R'] = Gender_df18['CDM03ARE1S18R'].astype(float).astype('Int64')\n",
    "\n",
    "# Now you can calculate the average\n",
    "gender_average_value_appm18 = Gender_df18['CDM03ARE1S18R'].mean()\n",
    "\n",
    "\n",
    "#2018: Meets Grade Level STD, Grade 3, Female and Male\n",
    "\n",
    "#female\n",
    "# Replace '.' and '-1' with NaN in the column\n",
    "Gender_df18['CDF03ARE1218R'] = Gender_df18['CDF03ARE1218R'].replace('.', np.nan)\n",
    "Gender_df18['CDF03ARE1218R'] = Gender_df18['CDF03ARE1218R'].replace('-1', np.nan)\n",
    "\n",
    "# Convert the column to integer\n",
    "Gender_df18['CDF03ARE1218R'] = Gender_df18['CDF03ARE1218R'].astype(float).astype('Int64')\n",
    "\n",
    "# Now you can calculate the average\n",
    "gender_average_value_mef18 = Gender_df18['CDF03ARE1218R'].mean()\n",
    "\n",
    "#male\n",
    "# Replace '.' and '-1' with NaN in the column\n",
    "Gender_df18['CDM03ARE1218R'] = Gender_df18['CDM03ARE1218R'].replace('.', np.nan)\n",
    "Gender_df18['CDM03ARE1218R'] = Gender_df18['CDM03ARE1218R'].replace('-1', np.nan)\n",
    "\n",
    "# Convert the column to integer\n",
    "Gender_df18['CDM03ARE1218R'] = Gender_df18['CDM03ARE1218R'].astype(float).astype('Int64')\n",
    "\n",
    "# Now you can calculate the average\n",
    "gender_average_value_mem18 = Gender_df18['CDM03ARE1218R'].mean()\n",
    "\n",
    "\n",
    "#2018: Masters Grade Level STD, Grade 3, Female and Male\n",
    "\n",
    "#female\n",
    "# Replace '.' and '-1' with NaN in the column\n",
    "Gender_df18['CDF03ARE1318R'] = Gender_df18['CDF03ARE1318R'].replace('.', np.nan)\n",
    "Gender_df18['CDF03ARE1318R'] = Gender_df18['CDF03ARE1318R'].replace('-1', np.nan)\n",
    "\n",
    "# Convert the column to integer\n",
    "Gender_df18['CDF03ARE1318R'] = Gender_df18['CDF03ARE1318R'].astype(float).astype('Int64')\n",
    "\n",
    "# Now you can calculate the average\n",
    "gender_average_value_maf18 = Gender_df18['CDF03ARE1318R'].mean()\n",
    "\n",
    "#male\n",
    "# Replace '.' and '-1' with NaN in the column\n",
    "Gender_df18['CDM03ARE1318R'] = Gender_df18['CDM03ARE1318R'].replace('.', np.nan)\n",
    "Gender_df18['CDM03ARE1318R'] = Gender_df18['CDM03ARE1318R'].replace('-1', np.nan)\n",
    "\n",
    "# Convert the column to integer\n",
    "Gender_df18['CDM03ARE1318R'] = Gender_df18['CDM03ARE1318R'].astype(float).astype('Int64')\n",
    "\n",
    "# Now you can calculate the average\n",
    "gender_average_value_mam18 = Gender_df18['CDM03ARE1318R'].mean()\n"
   ]
  },
  {
   "cell_type": "markdown",
   "metadata": {},
   "source": [
    "PIE CHARTS"
   ]
  },
  {
   "cell_type": "code",
   "execution_count": null,
   "metadata": {},
   "outputs": [
    {
     "data": {
      "image/png": "[encoded data removed]",
      "text/plain": [
       "<Figure size 200x200 with 1 Axes>"
      ]
     },
     "metadata": {},
     "output_type": "display_data"
    }
   ],
   "source": [
    "#2018: Approaches Grade Level STD, Grade 3, Female and Male\n",
    "# Define labels and sizes for the pie chart\n",
    "labels = ['Female', 'Male']\n",
    "sizes = [gender_average_value_appf18, gender_average_value_appm18]\n",
    "\n",
    "# Define colors\n",
    "colors = ['pink', 'lightblue']\n",
    "\n",
    "# Create pie chart\n",
    "plt.figure(figsize=(2, 2))\n",
    "plt.pie(sizes, colors=colors, autopct='%1.1f%%', startangle=90)\n",
    "plt.title('Male vs Female: Approaches Grade Level STD (2018)')\n",
    "plt.axis('equal') \n",
    "# Show plot\n",
    "plt.show()"
   ]
  },
  {
   "cell_type": "code",
   "execution_count": null,
   "metadata": {},
   "outputs": [
    {
     "data": {
      "image/png": "[encoded data removed]",
      "text/plain": [
       "<Figure size 200x200 with 1 Axes>"
      ]
     },
     "metadata": {},
     "output_type": "display_data"
    }
   ],
   "source": [
    "#2018: Meets Grade Level STD, Grade 3, Female and Male\n",
    "# Define labels and sizes for the pie chart\n",
    "labels = ['Female', 'Male']\n",
    "sizes = [gender_average_value_mef18, gender_average_value_mem18]\n",
    "\n",
    "# Define colors\n",
    "colors = ['pink', 'lightblue']\n",
    "\n",
    "# Create pie chart\n",
    "plt.figure(figsize=(2, 2))\n",
    "plt.pie(sizes, colors=colors, autopct='%1.1f%%', startangle=90)\n",
    "plt.title('Male vs Female: Meets Grade Level STD (2018)')\n",
    "plt.axis('equal') \n",
    "# Show plot\n",
    "plt.show()"
   ]
  },
  {
   "cell_type": "code",
   "execution_count": null,
   "metadata": {},
   "outputs": [
    {
     "data": {
      "image/png": "[encoded data removed]",
      "text/plain": [
       "<Figure size 200x200 with 1 Axes>"
      ]
     },
     "metadata": {},
     "output_type": "display_data"
    }
   ],
   "source": [
    "#2019: Masters Grade Level STD, Grade 3, Female and Male\n",
    "# Define labels and sizes for the pie chart\n",
    "labels = ['Female', 'Male']\n",
    "sizes = [gender_average_value_maf18, gender_average_value_mam18]\n",
    "\n",
    "# Define colors\n",
    "colors = ['pink', 'lightblue']\n",
    "\n",
    "# Create pie chart\n",
    "plt.figure(figsize=(2, 2))\n",
    "plt.pie(sizes, colors=colors, autopct='%1.1f%%', startangle=90)\n",
    "plt.title('Male vs Female: Meets Grade Level STD (2018)')\n",
    "plt.axis('equal') \n",
    "# Show plot\n",
    "plt.show()"
   ]
  },
  {
   "cell_type": "markdown",
   "metadata": {},
   "source": [
    "2019"
   ]
  },
  {
   "cell_type": "code",
   "execution_count": null,
   "metadata": {},
   "outputs": [],
   "source": [
    "#Selecting specific columns for all students DataFrame\n",
    "Gender_df = staar_rla1819_df[[\"School Year\",\"CAMPUS\", \"CDF03ARE1S19R\", \"CDF03ARE1219R\", \"CDF03ARE1319R\", \"CDM03ARE1S19R\", \"CDM03ARE1219R\", \"CDM03ARE1319R\"]]\n"
   ]
  },
  {
   "cell_type": "code",
   "execution_count": null,
   "metadata": {},
   "outputs": [
    {
     "name": "stderr",
     "output_type": "stream",
     "text": [
      "C:\\Users\\HP\\AppData\\Local\\Temp\\ipykernel_12688\\2042937102.py:5: SettingWithCopyWarning:\n",
      "\n",
      "\n",
      "A value is trying to be set on a copy of a slice from a DataFrame.\n",
      "Try using .loc[row_indexer,col_indexer] = value instead\n",
      "\n",
      "See the caveats in the documentation: https://pandas.pydata.org/pandas-docs/stable/user_guide/indexing.html#returning-a-view-versus-a-copy\n",
      "\n",
      "C:\\Users\\HP\\AppData\\Local\\Temp\\ipykernel_12688\\2042937102.py:6: SettingWithCopyWarning:\n",
      "\n",
      "\n",
      "A value is trying to be set on a copy of a slice from a DataFrame.\n",
      "Try using .loc[row_indexer,col_indexer] = value instead\n",
      "\n",
      "See the caveats in the documentation: https://pandas.pydata.org/pandas-docs/stable/user_guide/indexing.html#returning-a-view-versus-a-copy\n",
      "\n",
      "C:\\Users\\HP\\AppData\\Local\\Temp\\ipykernel_12688\\2042937102.py:9: SettingWithCopyWarning:\n",
      "\n",
      "\n",
      "A value is trying to be set on a copy of a slice from a DataFrame.\n",
      "Try using .loc[row_indexer,col_indexer] = value instead\n",
      "\n",
      "See the caveats in the documentation: https://pandas.pydata.org/pandas-docs/stable/user_guide/indexing.html#returning-a-view-versus-a-copy\n",
      "\n",
      "C:\\Users\\HP\\AppData\\Local\\Temp\\ipykernel_12688\\2042937102.py:16: SettingWithCopyWarning:\n",
      "\n",
      "\n",
      "A value is trying to be set on a copy of a slice from a DataFrame.\n",
      "Try using .loc[row_indexer,col_indexer] = value instead\n",
      "\n",
      "See the caveats in the documentation: https://pandas.pydata.org/pandas-docs/stable/user_guide/indexing.html#returning-a-view-versus-a-copy\n",
      "\n",
      "C:\\Users\\HP\\AppData\\Local\\Temp\\ipykernel_12688\\2042937102.py:17: SettingWithCopyWarning:\n",
      "\n",
      "\n",
      "A value is trying to be set on a copy of a slice from a DataFrame.\n",
      "Try using .loc[row_indexer,col_indexer] = value instead\n",
      "\n",
      "See the caveats in the documentation: https://pandas.pydata.org/pandas-docs/stable/user_guide/indexing.html#returning-a-view-versus-a-copy\n",
      "\n",
      "C:\\Users\\HP\\AppData\\Local\\Temp\\ipykernel_12688\\2042937102.py:20: SettingWithCopyWarning:\n",
      "\n",
      "\n",
      "A value is trying to be set on a copy of a slice from a DataFrame.\n",
      "Try using .loc[row_indexer,col_indexer] = value instead\n",
      "\n",
      "See the caveats in the documentation: https://pandas.pydata.org/pandas-docs/stable/user_guide/indexing.html#returning-a-view-versus-a-copy\n",
      "\n",
      "C:\\Users\\HP\\AppData\\Local\\Temp\\ipykernel_12688\\2042937102.py:30: SettingWithCopyWarning:\n",
      "\n",
      "\n",
      "A value is trying to be set on a copy of a slice from a DataFrame.\n",
      "Try using .loc[row_indexer,col_indexer] = value instead\n",
      "\n",
      "See the caveats in the documentation: https://pandas.pydata.org/pandas-docs/stable/user_guide/indexing.html#returning-a-view-versus-a-copy\n",
      "\n",
      "C:\\Users\\HP\\AppData\\Local\\Temp\\ipykernel_12688\\2042937102.py:31: SettingWithCopyWarning:\n",
      "\n",
      "\n",
      "A value is trying to be set on a copy of a slice from a DataFrame.\n",
      "Try using .loc[row_indexer,col_indexer] = value instead\n",
      "\n",
      "See the caveats in the documentation: https://pandas.pydata.org/pandas-docs/stable/user_guide/indexing.html#returning-a-view-versus-a-copy\n",
      "\n",
      "C:\\Users\\HP\\AppData\\Local\\Temp\\ipykernel_12688\\2042937102.py:34: SettingWithCopyWarning:\n",
      "\n",
      "\n",
      "A value is trying to be set on a copy of a slice from a DataFrame.\n",
      "Try using .loc[row_indexer,col_indexer] = value instead\n",
      "\n",
      "See the caveats in the documentation: https://pandas.pydata.org/pandas-docs/stable/user_guide/indexing.html#returning-a-view-versus-a-copy\n",
      "\n",
      "C:\\Users\\HP\\AppData\\Local\\Temp\\ipykernel_12688\\2042937102.py:41: SettingWithCopyWarning:\n",
      "\n",
      "\n",
      "A value is trying to be set on a copy of a slice from a DataFrame.\n",
      "Try using .loc[row_indexer,col_indexer] = value instead\n",
      "\n",
      "See the caveats in the documentation: https://pandas.pydata.org/pandas-docs/stable/user_guide/indexing.html#returning-a-view-versus-a-copy\n",
      "\n",
      "C:\\Users\\HP\\AppData\\Local\\Temp\\ipykernel_12688\\2042937102.py:42: SettingWithCopyWarning:\n",
      "\n",
      "\n",
      "A value is trying to be set on a copy of a slice from a DataFrame.\n",
      "Try using .loc[row_indexer,col_indexer] = value instead\n",
      "\n",
      "See the caveats in the documentation: https://pandas.pydata.org/pandas-docs/stable/user_guide/indexing.html#returning-a-view-versus-a-copy\n",
      "\n",
      "C:\\Users\\HP\\AppData\\Local\\Temp\\ipykernel_12688\\2042937102.py:45: SettingWithCopyWarning:\n",
      "\n",
      "\n",
      "A value is trying to be set on a copy of a slice from a DataFrame.\n",
      "Try using .loc[row_indexer,col_indexer] = value instead\n",
      "\n",
      "See the caveats in the documentation: https://pandas.pydata.org/pandas-docs/stable/user_guide/indexing.html#returning-a-view-versus-a-copy\n",
      "\n",
      "C:\\Users\\HP\\AppData\\Local\\Temp\\ipykernel_12688\\2042937102.py:56: SettingWithCopyWarning:\n",
      "\n",
      "\n",
      "A value is trying to be set on a copy of a slice from a DataFrame.\n",
      "Try using .loc[row_indexer,col_indexer] = value instead\n",
      "\n",
      "See the caveats in the documentation: https://pandas.pydata.org/pandas-docs/stable/user_guide/indexing.html#returning-a-view-versus-a-copy\n",
      "\n",
      "C:\\Users\\HP\\AppData\\Local\\Temp\\ipykernel_12688\\2042937102.py:57: SettingWithCopyWarning:\n",
      "\n",
      "\n",
      "A value is trying to be set on a copy of a slice from a DataFrame.\n",
      "Try using .loc[row_indexer,col_indexer] = value instead\n",
      "\n",
      "See the caveats in the documentation: https://pandas.pydata.org/pandas-docs/stable/user_guide/indexing.html#returning-a-view-versus-a-copy\n",
      "\n",
      "C:\\Users\\HP\\AppData\\Local\\Temp\\ipykernel_12688\\2042937102.py:60: SettingWithCopyWarning:\n",
      "\n",
      "\n",
      "A value is trying to be set on a copy of a slice from a DataFrame.\n",
      "Try using .loc[row_indexer,col_indexer] = value instead\n",
      "\n",
      "See the caveats in the documentation: https://pandas.pydata.org/pandas-docs/stable/user_guide/indexing.html#returning-a-view-versus-a-copy\n",
      "\n",
      "C:\\Users\\HP\\AppData\\Local\\Temp\\ipykernel_12688\\2042937102.py:67: SettingWithCopyWarning:\n",
      "\n",
      "\n",
      "A value is trying to be set on a copy of a slice from a DataFrame.\n",
      "Try using .loc[row_indexer,col_indexer] = value instead\n",
      "\n",
      "See the caveats in the documentation: https://pandas.pydata.org/pandas-docs/stable/user_guide/indexing.html#returning-a-view-versus-a-copy\n",
      "\n",
      "C:\\Users\\HP\\AppData\\Local\\Temp\\ipykernel_12688\\2042937102.py:68: SettingWithCopyWarning:\n",
      "\n",
      "\n",
      "A value is trying to be set on a copy of a slice from a DataFrame.\n",
      "Try using .loc[row_indexer,col_indexer] = value instead\n",
      "\n",
      "See the caveats in the documentation: https://pandas.pydata.org/pandas-docs/stable/user_guide/indexing.html#returning-a-view-versus-a-copy\n",
      "\n",
      "C:\\Users\\HP\\AppData\\Local\\Temp\\ipykernel_12688\\2042937102.py:71: SettingWithCopyWarning:\n",
      "\n",
      "\n",
      "A value is trying to be set on a copy of a slice from a DataFrame.\n",
      "Try using .loc[row_indexer,col_indexer] = value instead\n",
      "\n",
      "See the caveats in the documentation: https://pandas.pydata.org/pandas-docs/stable/user_guide/indexing.html#returning-a-view-versus-a-copy\n",
      "\n"
     ]
    }
   ],
   "source": [
    "#2019: Approaches Grade Level STD, Grade 3, Female and Male\n",
    "\n",
    "#female\n",
    "# Replace '.' and '-1' with NaN in the column\n",
    "Gender_df['CDF03ARE1S19R'] = Gender_df['CDF03ARE1S19R'].replace('.', np.nan)\n",
    "Gender_df['CDF03ARE1S19R'] = Gender_df['CDF03ARE1S19R'].replace('-1', np.nan)\n",
    "\n",
    "# Convert the column to integer\n",
    "Gender_df['CDF03ARE1S19R'] = Gender_df['CDF03ARE1S19R'].astype(float).astype('Int64')\n",
    "\n",
    "# Now you can calculate the average\n",
    "gender_average_value_appf = Gender_df['CDF03ARE1S19R'].mean()\n",
    "\n",
    "#male\n",
    "# Replace '.' and '-1' with NaN in the column\n",
    "Gender_df['CDM03ARE1S19R'] = Gender_df['CDM03ARE1S19R'].replace('.', np.nan)\n",
    "Gender_df['CDM03ARE1S19R'] = Gender_df['CDM03ARE1S19R'].replace('-1', np.nan)\n",
    "\n",
    "# Convert the column to integer\n",
    "Gender_df['CDM03ARE1S19R'] = Gender_df['CDM03ARE1S19R'].astype(float).astype('Int64')\n",
    "\n",
    "# Now you can calculate the average\n",
    "gender_average_value_appm = Gender_df['CDM03ARE1S19R'].mean()\n",
    "\n",
    "\n",
    "#2019: Meet Grade Level STD, Grade 3, Female and Male\n",
    "\n",
    "#female\n",
    "# Replace '.' and '-1' with NaN in the column\n",
    "Gender_df['CDF03ARE1219R'] = Gender_df['CDF03ARE1219R'].replace('.', np.nan)\n",
    "Gender_df['CDF03ARE1219R'] = Gender_df['CDF03ARE1219R'].replace('-1', np.nan)\n",
    "\n",
    "# Convert the column to integer\n",
    "Gender_df['CDF03ARE1219R'] = Gender_df['CDF03ARE1219R'].astype(float).astype('Int64')\n",
    "\n",
    "# Now you can calculate the average\n",
    "gender_average_value_mef = Gender_df['CDF03ARE1219R'].mean()\n",
    "\n",
    "#male\n",
    "# Replace '.' and '-1' with NaN in the column\n",
    "Gender_df['CDM03ARE1219R'] = Gender_df['CDM03ARE1219R'].replace('.', np.nan)\n",
    "Gender_df['CDM03ARE1219R'] = Gender_df['CDM03ARE1219R'].replace('-1', np.nan)\n",
    "\n",
    "# Convert the column to integer\n",
    "Gender_df['CDM03ARE1219R'] = Gender_df['CDM03ARE1219R'].astype(float).astype('Int64')\n",
    "\n",
    "# Now you can calculate the average\n",
    "gender_average_value_mem = Gender_df['CDM03ARE1219R'].mean()\n",
    "\n",
    "\n",
    "#2019: Master Grade Level STD, Grade 3, Female and Male\n",
    "\n",
    "\n",
    "#female\n",
    "# Replace '.' and '-1' with NaN in the column\n",
    "Gender_df['CDF03ARE1319R'] = Gender_df['CDF03ARE1319R'].replace('.', np.nan)\n",
    "Gender_df['CDF03ARE1319R'] = Gender_df['CDF03ARE1319R'].replace('-1', np.nan)\n",
    "\n",
    "# Convert the column to integer\n",
    "Gender_df['CDF03ARE1319R'] = Gender_df['CDF03ARE1319R'].astype(float).astype('Int64')\n",
    "\n",
    "# Now you can calculate the average\n",
    "gender_average_value_maf = Gender_df['CDF03ARE1319R'].mean()\n",
    "\n",
    "#male\n",
    "# Replace '.' and '-1' with NaN in the column\n",
    "Gender_df['CDM03ARE1319R'] = Gender_df['CDM03ARE1319R'].replace('.', np.nan)\n",
    "Gender_df['CDM03ARE1319R'] = Gender_df['CDM03ARE1319R'].replace('-1', np.nan)\n",
    "\n",
    "# Convert the column to integer\n",
    "Gender_df['CDM03ARE1319R'] = Gender_df['CDM03ARE1319R'].astype(float).astype('Int64')\n",
    "\n",
    "# Now you can calculate the average\n",
    "gender_average_value_mam = Gender_df['CDM03ARE1319R'].mean()"
   ]
  },
  {
   "cell_type": "markdown",
   "metadata": {},
   "source": [
    "PI CHARTS"
   ]
  },
  {
   "cell_type": "code",
   "execution_count": null,
   "metadata": {},
   "outputs": [
    {
     "data": {
      "image/png": "[encoded data removed]",
      "text/plain": [
       "<Figure size 200x200 with 1 Axes>"
      ]
     },
     "metadata": {},
     "output_type": "display_data"
    }
   ],
   "source": [
    "\n",
    "#2019: Approaches Grade Level STD, Grade 3, Female and Male\n",
    "# Define labels and sizes for the pie chart\n",
    "labels = ['Female', 'Male']\n",
    "sizes = [gender_average_value_appf, gender_average_value_appm]\n",
    "\n",
    "# Define colors\n",
    "colors = ['pink', 'lightblue']\n",
    "\n",
    "# Create pie chart\n",
    "plt.figure(figsize=(2, 2))\n",
    "plt.pie(sizes, colors=colors, autopct='%1.1f%%', startangle=90)\n",
    "plt.title('Male vs Female: Approaches Grade Level STD (2019)')\n",
    "plt.axis('equal') \n",
    "# Show plot\n",
    "plt.show()\n",
    "\n",
    "\n"
   ]
  },
  {
   "cell_type": "code",
   "execution_count": null,
   "metadata": {},
   "outputs": [
    {
     "data": {
      "image/png": "[encoded data removed]",
      "text/plain": [
       "<Figure size 200x200 with 1 Axes>"
      ]
     },
     "metadata": {},
     "output_type": "display_data"
    }
   ],
   "source": [
    "#2019: Meets Grade Level STD, Grade 3, Female and Male\n",
    "# Define labels and sizes for the pie chart\n",
    "labels = ['Female', 'Male']\n",
    "sizes = [gender_average_value_mef, gender_average_value_mem]\n",
    "\n",
    "# Define colors\n",
    "colors = ['pink', 'lightblue']\n",
    "\n",
    "# Create pie chart\n",
    "plt.figure(figsize=(2, 2))\n",
    "plt.pie(sizes, colors=colors, autopct='%1.1f%%', startangle=90)\n",
    "plt.title('Male vs Female: Meets Grade Level STD (2019)')\n",
    "plt.axis('equal') \n",
    "# Show plot\n",
    "plt.show()"
   ]
  },
  {
   "cell_type": "code",
   "execution_count": null,
   "metadata": {},
   "outputs": [
    {
     "data": {
      "image/png": "[encoded data removed]",
      "text/plain": [
       "<Figure size 200x200 with 1 Axes>"
      ]
     },
     "metadata": {},
     "output_type": "display_data"
    }
   ],
   "source": [
    "#2019: Masters Grade Level STD, Grade 3, Female and Male\n",
    "# Define labels and sizes for the pie chart\n",
    "labels = ['Female', 'Male']\n",
    "sizes = [gender_average_value_maf, gender_average_value_mam]\n",
    "\n",
    "# Define colors\n",
    "colors = ['pink', 'lightblue']\n",
    "\n",
    "# Create pie chart\n",
    "plt.figure(figsize=(2, 2))\n",
    "plt.pie(sizes, colors=colors, autopct='%1.1f%%', startangle=90)\n",
    "plt.title('Male vs Female: Meets Grade Level STD (2019)')\n",
    "plt.axis('equal') \n",
    "# Show plot\n",
    "plt.show()"
   ]
  },
  {
   "cell_type": "code",
   "execution_count": null,
   "metadata": {},
   "outputs": [
    {
     "data": {
      "image/png": "[encoded data removed]",
      "text/plain": [
       "<Figure size 200x200 with 1 Axes>"
      ]
     },
     "metadata": {},
     "output_type": "display_data"
    }
   ],
   "source": [
    "#2019: Approaches Grade Level STD, Grade 3, Female and Male\n",
    "\n",
    "\n",
    "# Define labels and sizes for the pie chart\n",
    "labels = ['Female', 'Male']\n",
    "sizes = [gender_average_value_appf, gender_average_value_appm]\n",
    "\n",
    "# Define colors\n",
    "colors = ['pink', 'lightblue']\n",
    "\n",
    "# Create pie chart\n",
    "plt.figure(figsize=(2, 2))\n",
    "plt.pie(sizes, labels=labels, colors=colors, autopct='%1.1f%%', startangle=90)\n",
    "plt.title('Comparison of Male vs Female for 2019: Approaches Grade Level STD, Grade 3')\n",
    "plt.axis('equal')  # Equal aspect ratio ensures that pie is drawn as a circle.\n",
    "\n",
    "# Show plot\n",
    "plt.show()"
   ]
  },
  {
   "cell_type": "markdown",
   "metadata": {},
   "source": [
    "BY ETHNICITY"
   ]
  },
  {
   "cell_type": "code",
   "execution_count": null,
   "metadata": {},
   "outputs": [
    {
     "data": {
      "text/plain": [
       "2019"
      ]
     },
     "execution_count": 22,
     "metadata": {},
     "output_type": "execute_result"
    }
   ],
   "source": [
    "2019"
   ]
  },
  {
   "cell_type": "markdown",
   "metadata": {},
   "source": [
    "CDB03ARE1S19R-2019 Domain 1A: Approaches Grade Level STD, Grade 3, African American, STAAR Reading/ELA Rate\n",
    "CDI03ARE1S19R-2019 Domain 1A: Approaches Grade Level STD, Grade 3, American Indian, STAAR Reading/ELA Rate\n",
    "CD303ARE1S19R-2019 Domain 1A: Approaches Grade Level STD, Grade 3, Asian, STAAR Reading/ELA Rate\n",
    "CDH03ARE1S19R-2019 Domain 1A: Approaches Grade Level STD, Grade 3, Hispanic, STAAR Reading/ELA Rate\n",
    "CD403ARE1S19R-2019 Domain 1A: Approaches Grade Level STD, Grade 3, Pacific Islander, STAAR Reading/ELA Rate\n",
    "CD203ARE1S19R-2019 Domain 1A: Approaches Grade Level STD, Grade 3, Two or More Races, STAAR Reading/ELA Rate\n",
    "CDW03ARE1S19R-2019 Domain 1A: Approaches Grade Level STD, Grade 3, White, STAAR Reading/ELA Rate"
   ]
  },
  {
   "cell_type": "markdown",
   "metadata": {},
   "source": [
    "CDB03ARE1219R-ampus 2019 Domain 1A: Meets Grade Level STD, Grade 3, African American, STAAR Reading/ELA Rate\n",
    "CDI03ARE1219R-Campus 2019 Domain 1A: Meets Grade Level STD, Grade 3, American Indian, STAAR Reading/ELA Rate\n",
    "CD303ARE1219R-Campus 2019 Domain 1A: Meets Grade Level STD, Grade 3, Asian, STAAR Reading/ELA Rate\n",
    "CDH03ARE1219R-Campus 2019 Domain 1A: Meets Grade Level STD, Grade 3, Hispanic, STAAR Reading/ELA Rate\n",
    "CD403ARE1219R-Campus 2019 Domain 1A: Meets Grade Level STD, Grade 3, Pacific Islander, STAAR Reading/ELA Rate\n",
    "CD203ARE1219R-Campus 2019 Domain 1A: Meets Grade Level STD, Grade 3, Two or More Races, STAAR Reading/ELA Rate\n",
    "CDW03ARE1219R-Campus 2019 Domain 1A: Meets Grade Level STD, Grade 3, White, STAAR Reading/ELA Rate"
   ]
  },
  {
   "cell_type": "code",
   "execution_count": null,
   "metadata": {},
   "outputs": [],
   "source": [
    "# Selecting specific columns for all students DataFrame\n",
    "ethicity_df = staar_rla1819_df[[\n",
    "    \"School Year\", \"CAMPUS\",\n",
    "    \"CD303ARE1219R\", \"CDH03ARE1219R\", \"CD403ARE1219R\", \"CD203ARE1219R\", \"CDW03ARE1219R\", \"CDI03ARE1219R\", \"CDB03ARE1219R\",\n",
    "    \"CD203ARE1S19R\", \"CDB03ARE1S19R\", \"CDI03ARE1S19R\", \"CD303ARE1S19R\", \"CDH03ARE1S19R\", \"CD403ARE1S19R\",\n",
    "    \"CDW03ARE1S19R\"\n",
    "]]\n"
   ]
  },
  {
   "cell_type": "code",
   "execution_count": null,
   "metadata": {},
   "outputs": [
    {
     "name": "stderr",
     "output_type": "stream",
     "text": [
      "C:\\Users\\HP\\AppData\\Local\\Temp\\ipykernel_12688\\2724047967.py:5: SettingWithCopyWarning:\n",
      "\n",
      "\n",
      "A value is trying to be set on a copy of a slice from a DataFrame.\n",
      "Try using .loc[row_indexer,col_indexer] = value instead\n",
      "\n",
      "See the caveats in the documentation: https://pandas.pydata.org/pandas-docs/stable/user_guide/indexing.html#returning-a-view-versus-a-copy\n",
      "\n",
      "C:\\Users\\HP\\AppData\\Local\\Temp\\ipykernel_12688\\2724047967.py:6: SettingWithCopyWarning:\n",
      "\n",
      "\n",
      "A value is trying to be set on a copy of a slice from a DataFrame.\n",
      "Try using .loc[row_indexer,col_indexer] = value instead\n",
      "\n",
      "See the caveats in the documentation: https://pandas.pydata.org/pandas-docs/stable/user_guide/indexing.html#returning-a-view-versus-a-copy\n",
      "\n",
      "C:\\Users\\HP\\AppData\\Local\\Temp\\ipykernel_12688\\2724047967.py:9: SettingWithCopyWarning:\n",
      "\n",
      "\n",
      "A value is trying to be set on a copy of a slice from a DataFrame.\n",
      "Try using .loc[row_indexer,col_indexer] = value instead\n",
      "\n",
      "See the caveats in the documentation: https://pandas.pydata.org/pandas-docs/stable/user_guide/indexing.html#returning-a-view-versus-a-copy\n",
      "\n",
      "C:\\Users\\HP\\AppData\\Local\\Temp\\ipykernel_12688\\2724047967.py:17: SettingWithCopyWarning:\n",
      "\n",
      "\n",
      "A value is trying to be set on a copy of a slice from a DataFrame.\n",
      "Try using .loc[row_indexer,col_indexer] = value instead\n",
      "\n",
      "See the caveats in the documentation: https://pandas.pydata.org/pandas-docs/stable/user_guide/indexing.html#returning-a-view-versus-a-copy\n",
      "\n",
      "C:\\Users\\HP\\AppData\\Local\\Temp\\ipykernel_12688\\2724047967.py:18: SettingWithCopyWarning:\n",
      "\n",
      "\n",
      "A value is trying to be set on a copy of a slice from a DataFrame.\n",
      "Try using .loc[row_indexer,col_indexer] = value instead\n",
      "\n",
      "See the caveats in the documentation: https://pandas.pydata.org/pandas-docs/stable/user_guide/indexing.html#returning-a-view-versus-a-copy\n",
      "\n",
      "C:\\Users\\HP\\AppData\\Local\\Temp\\ipykernel_12688\\2724047967.py:21: SettingWithCopyWarning:\n",
      "\n",
      "\n",
      "A value is trying to be set on a copy of a slice from a DataFrame.\n",
      "Try using .loc[row_indexer,col_indexer] = value instead\n",
      "\n",
      "See the caveats in the documentation: https://pandas.pydata.org/pandas-docs/stable/user_guide/indexing.html#returning-a-view-versus-a-copy\n",
      "\n",
      "C:\\Users\\HP\\AppData\\Local\\Temp\\ipykernel_12688\\2724047967.py:29: SettingWithCopyWarning:\n",
      "\n",
      "\n",
      "A value is trying to be set on a copy of a slice from a DataFrame.\n",
      "Try using .loc[row_indexer,col_indexer] = value instead\n",
      "\n",
      "See the caveats in the documentation: https://pandas.pydata.org/pandas-docs/stable/user_guide/indexing.html#returning-a-view-versus-a-copy\n",
      "\n",
      "C:\\Users\\HP\\AppData\\Local\\Temp\\ipykernel_12688\\2724047967.py:30: SettingWithCopyWarning:\n",
      "\n",
      "\n",
      "A value is trying to be set on a copy of a slice from a DataFrame.\n",
      "Try using .loc[row_indexer,col_indexer] = value instead\n",
      "\n",
      "See the caveats in the documentation: https://pandas.pydata.org/pandas-docs/stable/user_guide/indexing.html#returning-a-view-versus-a-copy\n",
      "\n",
      "C:\\Users\\HP\\AppData\\Local\\Temp\\ipykernel_12688\\2724047967.py:33: SettingWithCopyWarning:\n",
      "\n",
      "\n",
      "A value is trying to be set on a copy of a slice from a DataFrame.\n",
      "Try using .loc[row_indexer,col_indexer] = value instead\n",
      "\n",
      "See the caveats in the documentation: https://pandas.pydata.org/pandas-docs/stable/user_guide/indexing.html#returning-a-view-versus-a-copy\n",
      "\n",
      "C:\\Users\\HP\\AppData\\Local\\Temp\\ipykernel_12688\\2724047967.py:40: SettingWithCopyWarning:\n",
      "\n",
      "\n",
      "A value is trying to be set on a copy of a slice from a DataFrame.\n",
      "Try using .loc[row_indexer,col_indexer] = value instead\n",
      "\n",
      "See the caveats in the documentation: https://pandas.pydata.org/pandas-docs/stable/user_guide/indexing.html#returning-a-view-versus-a-copy\n",
      "\n",
      "C:\\Users\\HP\\AppData\\Local\\Temp\\ipykernel_12688\\2724047967.py:41: SettingWithCopyWarning:\n",
      "\n",
      "\n",
      "A value is trying to be set on a copy of a slice from a DataFrame.\n",
      "Try using .loc[row_indexer,col_indexer] = value instead\n",
      "\n",
      "See the caveats in the documentation: https://pandas.pydata.org/pandas-docs/stable/user_guide/indexing.html#returning-a-view-versus-a-copy\n",
      "\n",
      "C:\\Users\\HP\\AppData\\Local\\Temp\\ipykernel_12688\\2724047967.py:44: SettingWithCopyWarning:\n",
      "\n",
      "\n",
      "A value is trying to be set on a copy of a slice from a DataFrame.\n",
      "Try using .loc[row_indexer,col_indexer] = value instead\n",
      "\n",
      "See the caveats in the documentation: https://pandas.pydata.org/pandas-docs/stable/user_guide/indexing.html#returning-a-view-versus-a-copy\n",
      "\n",
      "C:\\Users\\HP\\AppData\\Local\\Temp\\ipykernel_12688\\2724047967.py:52: SettingWithCopyWarning:\n",
      "\n",
      "\n",
      "A value is trying to be set on a copy of a slice from a DataFrame.\n",
      "Try using .loc[row_indexer,col_indexer] = value instead\n",
      "\n",
      "See the caveats in the documentation: https://pandas.pydata.org/pandas-docs/stable/user_guide/indexing.html#returning-a-view-versus-a-copy\n",
      "\n",
      "C:\\Users\\HP\\AppData\\Local\\Temp\\ipykernel_12688\\2724047967.py:53: SettingWithCopyWarning:\n",
      "\n",
      "\n",
      "A value is trying to be set on a copy of a slice from a DataFrame.\n",
      "Try using .loc[row_indexer,col_indexer] = value instead\n",
      "\n",
      "See the caveats in the documentation: https://pandas.pydata.org/pandas-docs/stable/user_guide/indexing.html#returning-a-view-versus-a-copy\n",
      "\n",
      "C:\\Users\\HP\\AppData\\Local\\Temp\\ipykernel_12688\\2724047967.py:56: SettingWithCopyWarning:\n",
      "\n",
      "\n",
      "A value is trying to be set on a copy of a slice from a DataFrame.\n",
      "Try using .loc[row_indexer,col_indexer] = value instead\n",
      "\n",
      "See the caveats in the documentation: https://pandas.pydata.org/pandas-docs/stable/user_guide/indexing.html#returning-a-view-versus-a-copy\n",
      "\n",
      "C:\\Users\\HP\\AppData\\Local\\Temp\\ipykernel_12688\\2724047967.py:63: SettingWithCopyWarning:\n",
      "\n",
      "\n",
      "A value is trying to be set on a copy of a slice from a DataFrame.\n",
      "Try using .loc[row_indexer,col_indexer] = value instead\n",
      "\n",
      "See the caveats in the documentation: https://pandas.pydata.org/pandas-docs/stable/user_guide/indexing.html#returning-a-view-versus-a-copy\n",
      "\n",
      "C:\\Users\\HP\\AppData\\Local\\Temp\\ipykernel_12688\\2724047967.py:64: SettingWithCopyWarning:\n",
      "\n",
      "\n",
      "A value is trying to be set on a copy of a slice from a DataFrame.\n",
      "Try using .loc[row_indexer,col_indexer] = value instead\n",
      "\n",
      "See the caveats in the documentation: https://pandas.pydata.org/pandas-docs/stable/user_guide/indexing.html#returning-a-view-versus-a-copy\n",
      "\n",
      "C:\\Users\\HP\\AppData\\Local\\Temp\\ipykernel_12688\\2724047967.py:67: SettingWithCopyWarning:\n",
      "\n",
      "\n",
      "A value is trying to be set on a copy of a slice from a DataFrame.\n",
      "Try using .loc[row_indexer,col_indexer] = value instead\n",
      "\n",
      "See the caveats in the documentation: https://pandas.pydata.org/pandas-docs/stable/user_guide/indexing.html#returning-a-view-versus-a-copy\n",
      "\n",
      "C:\\Users\\HP\\AppData\\Local\\Temp\\ipykernel_12688\\2724047967.py:75: SettingWithCopyWarning:\n",
      "\n",
      "\n",
      "A value is trying to be set on a copy of a slice from a DataFrame.\n",
      "Try using .loc[row_indexer,col_indexer] = value instead\n",
      "\n",
      "See the caveats in the documentation: https://pandas.pydata.org/pandas-docs/stable/user_guide/indexing.html#returning-a-view-versus-a-copy\n",
      "\n",
      "C:\\Users\\HP\\AppData\\Local\\Temp\\ipykernel_12688\\2724047967.py:76: SettingWithCopyWarning:\n",
      "\n",
      "\n",
      "A value is trying to be set on a copy of a slice from a DataFrame.\n",
      "Try using .loc[row_indexer,col_indexer] = value instead\n",
      "\n",
      "See the caveats in the documentation: https://pandas.pydata.org/pandas-docs/stable/user_guide/indexing.html#returning-a-view-versus-a-copy\n",
      "\n",
      "C:\\Users\\HP\\AppData\\Local\\Temp\\ipykernel_12688\\2724047967.py:79: SettingWithCopyWarning:\n",
      "\n",
      "\n",
      "A value is trying to be set on a copy of a slice from a DataFrame.\n",
      "Try using .loc[row_indexer,col_indexer] = value instead\n",
      "\n",
      "See the caveats in the documentation: https://pandas.pydata.org/pandas-docs/stable/user_guide/indexing.html#returning-a-view-versus-a-copy\n",
      "\n"
     ]
    }
   ],
   "source": [
    "#2019: Approaches Grade Level STD, Grade 3, By ethicity\n",
    "\n",
    "#African American\n",
    "# Replace '.' and '-1' with NaN in the column\n",
    "ethicity_df['CDB03ARE1S19R'] = ethicity_df['CDB03ARE1S19R'].replace('.', np.nan)\n",
    "ethicity_df['CDB03ARE1S19R'] = ethicity_df['CDB03ARE1S19R'].replace('-1', np.nan)\n",
    "\n",
    "# Convert the column to integer\n",
    "ethicity_df['CDB03ARE1S19R'] = ethicity_df['CDB03ARE1S19R'].astype(float).astype('Int64')\n",
    "\n",
    "# Now you can calculate the average\n",
    "average_value_appaa = ethicity_df['CDB03ARE1S19R'].mean()\n",
    "\n",
    "\n",
    "#American Indian\n",
    "# Replace '.' and '-1' with NaN in the column\n",
    "ethicity_df['CDI03ARE1S19R'] = ethicity_df['CDI03ARE1S19R'].replace('.', np.nan)\n",
    "ethicity_df['CDI03ARE1S19R'] = ethicity_df['CDI03ARE1S19R'].replace('-1', np.nan)\n",
    "\n",
    "# Convert the column to integer\n",
    "ethicity_df['CDI03ARE1S19R'] = ethicity_df['CDI03ARE1S19R'].astype(float).astype('Int64')\n",
    "\n",
    "# Now you can calculate the average\n",
    "average_value_appai = ethicity_df['CDI03ARE1S19R'].mean()\n",
    "\n",
    "\n",
    "#Asian\n",
    "# Replace '.' and '-1' with NaN in the column\n",
    "ethicity_df['CD303ARE1S19R'] = ethicity_df['CD303ARE1S19R'].replace('.', np.nan)\n",
    "ethicity_df['CD303ARE1S19R'] = ethicity_df['CD303ARE1S19R'].replace('-1', np.nan)\n",
    "\n",
    "# Convert the column to integer\n",
    "ethicity_df['CD303ARE1S19R'] = ethicity_df['CD303ARE1S19R'].astype(float).astype('Int64')\n",
    "\n",
    "# Now you can calculate the average\n",
    "average_value_appa = ethicity_df['CD303ARE1S19R'].mean()\n",
    "\n",
    "#Hispanics\n",
    "# Replace '.' and '-1' with NaN in the column\n",
    "ethicity_df['CDH03ARE1S19R'] = ethicity_df['CDH03ARE1S19R'].replace('.', np.nan)\n",
    "ethicity_df['CDH03ARE1S19R'] = ethicity_df['CDH03ARE1S19R'].replace('-1', np.nan)\n",
    "\n",
    "# Convert the column to integer\n",
    "ethicity_df['CDH03ARE1S19R'] = ethicity_df['CDH03ARE1S19R'].astype(float).astype('Int64')\n",
    "\n",
    "# Now you can calculate the average\n",
    "average_value_apph = ethicity_df['CDH03ARE1S19R'].mean()\n",
    "\n",
    "\n",
    "#Pacific Islander\n",
    "# Replace '.' and '-1' with NaN in the column\n",
    "ethicity_df['CD403ARE1S19R'] = ethicity_df['CD403ARE1S19R'].replace('.', np.nan)\n",
    "ethicity_df['CD403ARE1S19R'] = ethicity_df['CD403ARE1S19R'].replace('-1', np.nan)\n",
    "\n",
    "# Convert the column to integer\n",
    "ethicity_df['CD403ARE1S19R'] = ethicity_df['CD403ARE1S19R'].astype(float).astype('Int64')\n",
    "\n",
    "# Now you can calculate the average\n",
    "average_value_apppi = ethicity_df['CD403ARE1S19R'].mean()\n",
    "\n",
    "#Two or More\n",
    "# Replace '.' and '-1' with NaN in the column\n",
    "ethicity_df['CD203ARE1S19R'] = ethicity_df['CD203ARE1S19R'].replace('.', np.nan)\n",
    "ethicity_df['CD203ARE1S19R'] = ethicity_df['CD203ARE1S19R'].replace('-1', np.nan)\n",
    "\n",
    "# Convert the column to integer\n",
    "ethicity_df['CD203ARE1S19R'] = ethicity_df['CD203ARE1S19R'].astype(float).astype('Int64')\n",
    "\n",
    "# Now you can calculate the average\n",
    "average_value_app2 = ethicity_df['CD203ARE1S19R'].mean()\n",
    "\n",
    "\n",
    "#White\n",
    "# Replace '.' and '-1' with NaN in the column\n",
    "ethicity_df['CDW03ARE1S19R'] = ethicity_df['CDW03ARE1S19R'].replace('.', np.nan)\n",
    "ethicity_df['CDW03ARE1S19R'] = ethicity_df['CDW03ARE1S19R'].replace('-1', np.nan)\n",
    "\n",
    "# Convert the column to integer\n",
    "ethicity_df['CDW03ARE1S19R'] = ethicity_df['CDW03ARE1S19R'].astype(float).astype('Int64')\n",
    "\n",
    "# Now you can calculate the average\n",
    "average_value_appw = ethicity_df['CDW03ARE1S19R'].mean()\n",
    "\n",
    "\n",
    "\n"
   ]
  },
  {
   "cell_type": "markdown",
   "metadata": {},
   "source": [
    "CDB03ARE1219R-ampus 2019 Domain 1A: Meets Grade Level STD, Grade 3, African American, STAAR Reading/ELA Rate\n",
    "CDI03ARE1219R-Campus 2019 Domain 1A: Meets Grade Level STD, Grade 3, American Indian, STAAR Reading/ELA Rate\n",
    "CD303ARE1219R-Campus 2019 Domain 1A: Meets Grade Level STD, Grade 3, Asian, STAAR Reading/ELA Rate\n",
    "CDH03ARE1219R-Campus 2019 Domain 1A: Meets Grade Level STD, Grade 3, Hispanic, STAAR Reading/ELA Rate\n",
    "CD403ARE1219R-Campus 2019 Domain 1A: Meets Grade Level STD, Grade 3, Pacific Islander, STAAR Reading/ELA Rate\n",
    "CD203ARE1219R-Campus 2019 Domain 1A: Meets Grade Level STD, Grade 3, Two or More Races, STAAR Reading/ELA Rate\n",
    "CDW03ARE1219R-Campus 2019 Domain 1A: Meets Grade Level STD, Grade 3, White, STAAR Reading/ELA Rate"
   ]
  },
  {
   "cell_type": "code",
   "execution_count": null,
   "metadata": {},
   "outputs": [
    {
     "name": "stderr",
     "output_type": "stream",
     "text": [
      "C:\\Users\\HP\\AppData\\Local\\Temp\\ipykernel_12688\\2784917175.py:5: SettingWithCopyWarning:\n",
      "\n",
      "\n",
      "A value is trying to be set on a copy of a slice from a DataFrame.\n",
      "Try using .loc[row_indexer,col_indexer] = value instead\n",
      "\n",
      "See the caveats in the documentation: https://pandas.pydata.org/pandas-docs/stable/user_guide/indexing.html#returning-a-view-versus-a-copy\n",
      "\n",
      "C:\\Users\\HP\\AppData\\Local\\Temp\\ipykernel_12688\\2784917175.py:6: SettingWithCopyWarning:\n",
      "\n",
      "\n",
      "A value is trying to be set on a copy of a slice from a DataFrame.\n",
      "Try using .loc[row_indexer,col_indexer] = value instead\n",
      "\n",
      "See the caveats in the documentation: https://pandas.pydata.org/pandas-docs/stable/user_guide/indexing.html#returning-a-view-versus-a-copy\n",
      "\n",
      "C:\\Users\\HP\\AppData\\Local\\Temp\\ipykernel_12688\\2784917175.py:9: SettingWithCopyWarning:\n",
      "\n",
      "\n",
      "A value is trying to be set on a copy of a slice from a DataFrame.\n",
      "Try using .loc[row_indexer,col_indexer] = value instead\n",
      "\n",
      "See the caveats in the documentation: https://pandas.pydata.org/pandas-docs/stable/user_guide/indexing.html#returning-a-view-versus-a-copy\n",
      "\n",
      "C:\\Users\\HP\\AppData\\Local\\Temp\\ipykernel_12688\\2784917175.py:17: SettingWithCopyWarning:\n",
      "\n",
      "\n",
      "A value is trying to be set on a copy of a slice from a DataFrame.\n",
      "Try using .loc[row_indexer,col_indexer] = value instead\n",
      "\n",
      "See the caveats in the documentation: https://pandas.pydata.org/pandas-docs/stable/user_guide/indexing.html#returning-a-view-versus-a-copy\n",
      "\n",
      "C:\\Users\\HP\\AppData\\Local\\Temp\\ipykernel_12688\\2784917175.py:18: SettingWithCopyWarning:\n",
      "\n",
      "\n",
      "A value is trying to be set on a copy of a slice from a DataFrame.\n",
      "Try using .loc[row_indexer,col_indexer] = value instead\n",
      "\n",
      "See the caveats in the documentation: https://pandas.pydata.org/pandas-docs/stable/user_guide/indexing.html#returning-a-view-versus-a-copy\n",
      "\n",
      "C:\\Users\\HP\\AppData\\Local\\Temp\\ipykernel_12688\\2784917175.py:21: SettingWithCopyWarning:\n",
      "\n",
      "\n",
      "A value is trying to be set on a copy of a slice from a DataFrame.\n",
      "Try using .loc[row_indexer,col_indexer] = value instead\n",
      "\n",
      "See the caveats in the documentation: https://pandas.pydata.org/pandas-docs/stable/user_guide/indexing.html#returning-a-view-versus-a-copy\n",
      "\n",
      "C:\\Users\\HP\\AppData\\Local\\Temp\\ipykernel_12688\\2784917175.py:29: SettingWithCopyWarning:\n",
      "\n",
      "\n",
      "A value is trying to be set on a copy of a slice from a DataFrame.\n",
      "Try using .loc[row_indexer,col_indexer] = value instead\n",
      "\n",
      "See the caveats in the documentation: https://pandas.pydata.org/pandas-docs/stable/user_guide/indexing.html#returning-a-view-versus-a-copy\n",
      "\n",
      "C:\\Users\\HP\\AppData\\Local\\Temp\\ipykernel_12688\\2784917175.py:30: SettingWithCopyWarning:\n",
      "\n",
      "\n",
      "A value is trying to be set on a copy of a slice from a DataFrame.\n",
      "Try using .loc[row_indexer,col_indexer] = value instead\n",
      "\n",
      "See the caveats in the documentation: https://pandas.pydata.org/pandas-docs/stable/user_guide/indexing.html#returning-a-view-versus-a-copy\n",
      "\n",
      "C:\\Users\\HP\\AppData\\Local\\Temp\\ipykernel_12688\\2784917175.py:33: SettingWithCopyWarning:\n",
      "\n",
      "\n",
      "A value is trying to be set on a copy of a slice from a DataFrame.\n",
      "Try using .loc[row_indexer,col_indexer] = value instead\n",
      "\n",
      "See the caveats in the documentation: https://pandas.pydata.org/pandas-docs/stable/user_guide/indexing.html#returning-a-view-versus-a-copy\n",
      "\n",
      "C:\\Users\\HP\\AppData\\Local\\Temp\\ipykernel_12688\\2784917175.py:40: SettingWithCopyWarning:\n",
      "\n",
      "\n",
      "A value is trying to be set on a copy of a slice from a DataFrame.\n",
      "Try using .loc[row_indexer,col_indexer] = value instead\n",
      "\n",
      "See the caveats in the documentation: https://pandas.pydata.org/pandas-docs/stable/user_guide/indexing.html#returning-a-view-versus-a-copy\n",
      "\n",
      "C:\\Users\\HP\\AppData\\Local\\Temp\\ipykernel_12688\\2784917175.py:41: SettingWithCopyWarning:\n",
      "\n",
      "\n",
      "A value is trying to be set on a copy of a slice from a DataFrame.\n",
      "Try using .loc[row_indexer,col_indexer] = value instead\n",
      "\n",
      "See the caveats in the documentation: https://pandas.pydata.org/pandas-docs/stable/user_guide/indexing.html#returning-a-view-versus-a-copy\n",
      "\n",
      "C:\\Users\\HP\\AppData\\Local\\Temp\\ipykernel_12688\\2784917175.py:44: SettingWithCopyWarning:\n",
      "\n",
      "\n",
      "A value is trying to be set on a copy of a slice from a DataFrame.\n",
      "Try using .loc[row_indexer,col_indexer] = value instead\n",
      "\n",
      "See the caveats in the documentation: https://pandas.pydata.org/pandas-docs/stable/user_guide/indexing.html#returning-a-view-versus-a-copy\n",
      "\n",
      "C:\\Users\\HP\\AppData\\Local\\Temp\\ipykernel_12688\\2784917175.py:52: SettingWithCopyWarning:\n",
      "\n",
      "\n",
      "A value is trying to be set on a copy of a slice from a DataFrame.\n",
      "Try using .loc[row_indexer,col_indexer] = value instead\n",
      "\n",
      "See the caveats in the documentation: https://pandas.pydata.org/pandas-docs/stable/user_guide/indexing.html#returning-a-view-versus-a-copy\n",
      "\n",
      "C:\\Users\\HP\\AppData\\Local\\Temp\\ipykernel_12688\\2784917175.py:53: SettingWithCopyWarning:\n",
      "\n",
      "\n",
      "A value is trying to be set on a copy of a slice from a DataFrame.\n",
      "Try using .loc[row_indexer,col_indexer] = value instead\n",
      "\n",
      "See the caveats in the documentation: https://pandas.pydata.org/pandas-docs/stable/user_guide/indexing.html#returning-a-view-versus-a-copy\n",
      "\n",
      "C:\\Users\\HP\\AppData\\Local\\Temp\\ipykernel_12688\\2784917175.py:56: SettingWithCopyWarning:\n",
      "\n",
      "\n",
      "A value is trying to be set on a copy of a slice from a DataFrame.\n",
      "Try using .loc[row_indexer,col_indexer] = value instead\n",
      "\n",
      "See the caveats in the documentation: https://pandas.pydata.org/pandas-docs/stable/user_guide/indexing.html#returning-a-view-versus-a-copy\n",
      "\n",
      "C:\\Users\\HP\\AppData\\Local\\Temp\\ipykernel_12688\\2784917175.py:63: SettingWithCopyWarning:\n",
      "\n",
      "\n",
      "A value is trying to be set on a copy of a slice from a DataFrame.\n",
      "Try using .loc[row_indexer,col_indexer] = value instead\n",
      "\n",
      "See the caveats in the documentation: https://pandas.pydata.org/pandas-docs/stable/user_guide/indexing.html#returning-a-view-versus-a-copy\n",
      "\n",
      "C:\\Users\\HP\\AppData\\Local\\Temp\\ipykernel_12688\\2784917175.py:64: SettingWithCopyWarning:\n",
      "\n",
      "\n",
      "A value is trying to be set on a copy of a slice from a DataFrame.\n",
      "Try using .loc[row_indexer,col_indexer] = value instead\n",
      "\n",
      "See the caveats in the documentation: https://pandas.pydata.org/pandas-docs/stable/user_guide/indexing.html#returning-a-view-versus-a-copy\n",
      "\n",
      "C:\\Users\\HP\\AppData\\Local\\Temp\\ipykernel_12688\\2784917175.py:67: SettingWithCopyWarning:\n",
      "\n",
      "\n",
      "A value is trying to be set on a copy of a slice from a DataFrame.\n",
      "Try using .loc[row_indexer,col_indexer] = value instead\n",
      "\n",
      "See the caveats in the documentation: https://pandas.pydata.org/pandas-docs/stable/user_guide/indexing.html#returning-a-view-versus-a-copy\n",
      "\n",
      "C:\\Users\\HP\\AppData\\Local\\Temp\\ipykernel_12688\\2784917175.py:75: SettingWithCopyWarning:\n",
      "\n",
      "\n",
      "A value is trying to be set on a copy of a slice from a DataFrame.\n",
      "Try using .loc[row_indexer,col_indexer] = value instead\n",
      "\n",
      "See the caveats in the documentation: https://pandas.pydata.org/pandas-docs/stable/user_guide/indexing.html#returning-a-view-versus-a-copy\n",
      "\n",
      "C:\\Users\\HP\\AppData\\Local\\Temp\\ipykernel_12688\\2784917175.py:76: SettingWithCopyWarning:\n",
      "\n",
      "\n",
      "A value is trying to be set on a copy of a slice from a DataFrame.\n",
      "Try using .loc[row_indexer,col_indexer] = value instead\n",
      "\n",
      "See the caveats in the documentation: https://pandas.pydata.org/pandas-docs/stable/user_guide/indexing.html#returning-a-view-versus-a-copy\n",
      "\n",
      "C:\\Users\\HP\\AppData\\Local\\Temp\\ipykernel_12688\\2784917175.py:79: SettingWithCopyWarning:\n",
      "\n",
      "\n",
      "A value is trying to be set on a copy of a slice from a DataFrame.\n",
      "Try using .loc[row_indexer,col_indexer] = value instead\n",
      "\n",
      "See the caveats in the documentation: https://pandas.pydata.org/pandas-docs/stable/user_guide/indexing.html#returning-a-view-versus-a-copy\n",
      "\n"
     ]
    }
   ],
   "source": [
    "#2019: Meets Grade Level STD, Grade 3, By ethicity\n",
    "\n",
    "#African American\n",
    "# Replace '.' and '-1' with NaN in the column\n",
    "ethicity_df['CDB03ARE1219R'] = ethicity_df['CDB03ARE1219R'].replace('.', np.nan)\n",
    "ethicity_df['CDB03ARE1219R'] = ethicity_df['CDB03ARE1219R'].replace('-1', np.nan)\n",
    "\n",
    "# Convert the column to integer\n",
    "ethicity_df['CDB03ARE1219R'] = ethicity_df['CDB03ARE1219R'].astype(float).astype('Int64')\n",
    "\n",
    "# Now you can calculate the average\n",
    "average_value_meaa = ethicity_df['CDB03ARE1219R'].mean()\n",
    "\n",
    "\n",
    "#American Indian\n",
    "# Replace '.' and '-1' with NaN in the column\n",
    "ethicity_df['CDI03ARE1219R'] = ethicity_df['CDI03ARE1219R'].replace('.', np.nan)\n",
    "ethicity_df['CDI03ARE1219R'] = ethicity_df['CDI03ARE1219R'].replace('-1', np.nan)\n",
    "\n",
    "# Convert the column to integer\n",
    "ethicity_df['CDI03ARE1219R'] = ethicity_df['CDI03ARE1219R'].astype(float).astype('Int64')\n",
    "\n",
    "# Now you can calculate the average\n",
    "average_value_meai = ethicity_df['CDI03ARE1219R'].mean()\n",
    "\n",
    "\n",
    "#Asian\n",
    "# Replace '.' and '-1' with NaN in the column\n",
    "ethicity_df['CD303ARE1219R'] = ethicity_df['CD303ARE1219R'].replace('.', np.nan)\n",
    "ethicity_df['CD303ARE1219R'] = ethicity_df['CD303ARE1219R'].replace('-1', np.nan)\n",
    "\n",
    "# Convert the column to integer\n",
    "ethicity_df['CD303ARE1219R'] = ethicity_df['CD303ARE1219R'].astype(float).astype('Int64')\n",
    "\n",
    "# Now you can calculate the average\n",
    "average_value_mea = ethicity_df['CD303ARE1219R'].mean()\n",
    "\n",
    "#Hispanics\n",
    "# Replace '.' and '-1' with NaN in the column\n",
    "ethicity_df['CDH03ARE1219R'] = ethicity_df['CDH03ARE1219R'].replace('.', np.nan)\n",
    "ethicity_df['CDH03ARE1219R'] = ethicity_df['CDH03ARE1219R'].replace('-1', np.nan)\n",
    "\n",
    "# Convert the column to integer\n",
    "ethicity_df['CDH03ARE1219R'] = ethicity_df['CDH03ARE1219R'].astype(float).astype('Int64')\n",
    "\n",
    "# Now you can calculate the average\n",
    "average_value_meh = ethicity_df['CDH03ARE1219R'].mean()\n",
    "\n",
    "\n",
    "#Pacific Islander\n",
    "# Replace '.' and '-1' with NaN in the column\n",
    "ethicity_df['CD403ARE1219R'] = ethicity_df['CD403ARE1219R'].replace('.', np.nan)\n",
    "ethicity_df['CD403ARE1219R'] = ethicity_df['CD403ARE1219R'].replace('-1', np.nan)\n",
    "\n",
    "# Convert the column to integer\n",
    "ethicity_df['CD403ARE1219R'] = ethicity_df['CD403ARE1219R'].astype(float).astype('Int64')\n",
    "\n",
    "# Now you can calculate the average\n",
    "average_value_mepi = ethicity_df['CD403ARE1219R'].mean()\n",
    "\n",
    "#Two or More\n",
    "# Replace '.' and '-1' with NaN in the column\n",
    "ethicity_df['CD203ARE1219R'] = ethicity_df['CD203ARE1219R'].replace('.', np.nan)\n",
    "ethicity_df['CD203ARE1219R'] = ethicity_df['CD203ARE1219R'].replace('-1', np.nan)\n",
    "\n",
    "# Convert the column to integer\n",
    "ethicity_df['CD203ARE1219R'] = ethicity_df['CD203ARE1219R'].astype(float).astype('Int64')\n",
    "\n",
    "# Now you can calculate the average\n",
    "average_value_me2 = ethicity_df['CD203ARE1219R'].mean()\n",
    "\n",
    "\n",
    "#White\n",
    "# Replace '.' and '-1' with NaN in the column\n",
    "ethicity_df['CDW03ARE1219R'] = ethicity_df['CDW03ARE1219R'].replace('.', np.nan)\n",
    "ethicity_df['CDW03ARE1219R'] = ethicity_df['CDW03ARE1219R'].replace('-1', np.nan)\n",
    "\n",
    "# Convert the column to integer\n",
    "ethicity_df['CDW03ARE1219R'] = ethicity_df['CDW03ARE1219R'].astype(float).astype('Int64')\n",
    "\n",
    "# Now you can calculate the average\n",
    "average_value_mew = ethicity_df['CDW03ARE1219R'].mean()\n",
    "\n",
    "\n",
    "\n"
   ]
  },
  {
   "cell_type": "markdown",
   "metadata": {},
   "source": [
    "CDB03ARE1319R-Campus 2019 Domain 1A: Masters Grade Level STD, Grade 3, African American, STAAR Reading/ELA Rate\n",
    "CDI03ARE1319R-Campus 2019 Domain 1A: Masters Grade Level STD, Grade 3, American Indian, STAAR Reading/ELA Rate\n",
    "CD303ARE1319R-Campus 2019 Domain 1A: Masters Grade Level STD, Grade 3, Asian, STAAR Reading/ELA Rate\n",
    "CDH03ARE1319R-Campus 2019 Domain 1A: Masters Grade Level STD, Grade 3, Hispanic, STAAR Reading/ELA Rate\n",
    "CD403ARE1319R-Campus 2019 Domain 1A: Masters Grade Level STD, Grade 3, Pacific Islander, STAAR Reading/ELA Rate\n",
    "CD203ARE1319R-Campus 2019 Domain 1A: Masters Grade Level STD, Grade 3, Two or More Races, STAAR Reading/ELA Rate\n",
    "CDW03ARE1319R-Campus 2019 Domain 1A: Masters Grade Level STD, Grade 3, White, STAAR Reading/ELA Rate"
   ]
  },
  {
   "cell_type": "code",
   "execution_count": null,
   "metadata": {},
   "outputs": [],
   "source": [
    "\n",
    "\n",
    "#Selecting specific columns for all students DataFrame\n",
    "ethicity_df = staar_rla1819_df[[\"School Year\",\"CAMPUS\",\"CDB03ARE1319R\",\"CDI03ARE1319R\",\"CD303ARE1319R\",\"CDH03ARE1319R\",\"CD403ARE1319R\",\"CD203ARE1319R\",\"CDW03ARE1319R\",\"CD303ARE1219R\",\"CDH03ARE1219R\",\"CD403ARE1219R\",\"CD203ARE1219R\",\"CDW03ARE1219R\",\"CDI03ARE1219R\",\"CDW03ARE1S19R\",\"CDB03ARE1219R\", \"CD203ARE1S19R\", \"CDB03ARE1S19R\",\"CDI03ARE1S19R\",\"CD303ARE1S19R\", \"CDH03ARE1S19R\",\"CD403ARE1S19R\",   \"CDB03ARE1S19R\", \"CDI03ARE1S19R\", \"CD303ARE1S19R\", \"CDH03ARE1S19R\", \"CD403ARE1S19R\", \"CD203ARE1S19R\", \"CDW03ARE1S19R\"]]\n",
    "\n"
   ]
  },
  {
   "cell_type": "code",
   "execution_count": null,
   "metadata": {},
   "outputs": [
    {
     "name": "stderr",
     "output_type": "stream",
     "text": [
      "C:\\Users\\HP\\AppData\\Local\\Temp\\ipykernel_12688\\3457871242.py:5: SettingWithCopyWarning:\n",
      "\n",
      "\n",
      "A value is trying to be set on a copy of a slice from a DataFrame.\n",
      "Try using .loc[row_indexer,col_indexer] = value instead\n",
      "\n",
      "See the caveats in the documentation: https://pandas.pydata.org/pandas-docs/stable/user_guide/indexing.html#returning-a-view-versus-a-copy\n",
      "\n",
      "C:\\Users\\HP\\AppData\\Local\\Temp\\ipykernel_12688\\3457871242.py:6: SettingWithCopyWarning:\n",
      "\n",
      "\n",
      "A value is trying to be set on a copy of a slice from a DataFrame.\n",
      "Try using .loc[row_indexer,col_indexer] = value instead\n",
      "\n",
      "See the caveats in the documentation: https://pandas.pydata.org/pandas-docs/stable/user_guide/indexing.html#returning-a-view-versus-a-copy\n",
      "\n",
      "C:\\Users\\HP\\AppData\\Local\\Temp\\ipykernel_12688\\3457871242.py:9: SettingWithCopyWarning:\n",
      "\n",
      "\n",
      "A value is trying to be set on a copy of a slice from a DataFrame.\n",
      "Try using .loc[row_indexer,col_indexer] = value instead\n",
      "\n",
      "See the caveats in the documentation: https://pandas.pydata.org/pandas-docs/stable/user_guide/indexing.html#returning-a-view-versus-a-copy\n",
      "\n",
      "C:\\Users\\HP\\AppData\\Local\\Temp\\ipykernel_12688\\3457871242.py:17: SettingWithCopyWarning:\n",
      "\n",
      "\n",
      "A value is trying to be set on a copy of a slice from a DataFrame.\n",
      "Try using .loc[row_indexer,col_indexer] = value instead\n",
      "\n",
      "See the caveats in the documentation: https://pandas.pydata.org/pandas-docs/stable/user_guide/indexing.html#returning-a-view-versus-a-copy\n",
      "\n",
      "C:\\Users\\HP\\AppData\\Local\\Temp\\ipykernel_12688\\3457871242.py:18: SettingWithCopyWarning:\n",
      "\n",
      "\n",
      "A value is trying to be set on a copy of a slice from a DataFrame.\n",
      "Try using .loc[row_indexer,col_indexer] = value instead\n",
      "\n",
      "See the caveats in the documentation: https://pandas.pydata.org/pandas-docs/stable/user_guide/indexing.html#returning-a-view-versus-a-copy\n",
      "\n",
      "C:\\Users\\HP\\AppData\\Local\\Temp\\ipykernel_12688\\3457871242.py:21: SettingWithCopyWarning:\n",
      "\n",
      "\n",
      "A value is trying to be set on a copy of a slice from a DataFrame.\n",
      "Try using .loc[row_indexer,col_indexer] = value instead\n",
      "\n",
      "See the caveats in the documentation: https://pandas.pydata.org/pandas-docs/stable/user_guide/indexing.html#returning-a-view-versus-a-copy\n",
      "\n",
      "C:\\Users\\HP\\AppData\\Local\\Temp\\ipykernel_12688\\3457871242.py:29: SettingWithCopyWarning:\n",
      "\n",
      "\n",
      "A value is trying to be set on a copy of a slice from a DataFrame.\n",
      "Try using .loc[row_indexer,col_indexer] = value instead\n",
      "\n",
      "See the caveats in the documentation: https://pandas.pydata.org/pandas-docs/stable/user_guide/indexing.html#returning-a-view-versus-a-copy\n",
      "\n",
      "C:\\Users\\HP\\AppData\\Local\\Temp\\ipykernel_12688\\3457871242.py:30: SettingWithCopyWarning:\n",
      "\n",
      "\n",
      "A value is trying to be set on a copy of a slice from a DataFrame.\n",
      "Try using .loc[row_indexer,col_indexer] = value instead\n",
      "\n",
      "See the caveats in the documentation: https://pandas.pydata.org/pandas-docs/stable/user_guide/indexing.html#returning-a-view-versus-a-copy\n",
      "\n",
      "C:\\Users\\HP\\AppData\\Local\\Temp\\ipykernel_12688\\3457871242.py:33: SettingWithCopyWarning:\n",
      "\n",
      "\n",
      "A value is trying to be set on a copy of a slice from a DataFrame.\n",
      "Try using .loc[row_indexer,col_indexer] = value instead\n",
      "\n",
      "See the caveats in the documentation: https://pandas.pydata.org/pandas-docs/stable/user_guide/indexing.html#returning-a-view-versus-a-copy\n",
      "\n",
      "C:\\Users\\HP\\AppData\\Local\\Temp\\ipykernel_12688\\3457871242.py:40: SettingWithCopyWarning:\n",
      "\n",
      "\n",
      "A value is trying to be set on a copy of a slice from a DataFrame.\n",
      "Try using .loc[row_indexer,col_indexer] = value instead\n",
      "\n",
      "See the caveats in the documentation: https://pandas.pydata.org/pandas-docs/stable/user_guide/indexing.html#returning-a-view-versus-a-copy\n",
      "\n",
      "C:\\Users\\HP\\AppData\\Local\\Temp\\ipykernel_12688\\3457871242.py:41: SettingWithCopyWarning:\n",
      "\n",
      "\n",
      "A value is trying to be set on a copy of a slice from a DataFrame.\n",
      "Try using .loc[row_indexer,col_indexer] = value instead\n",
      "\n",
      "See the caveats in the documentation: https://pandas.pydata.org/pandas-docs/stable/user_guide/indexing.html#returning-a-view-versus-a-copy\n",
      "\n",
      "C:\\Users\\HP\\AppData\\Local\\Temp\\ipykernel_12688\\3457871242.py:44: SettingWithCopyWarning:\n",
      "\n",
      "\n",
      "A value is trying to be set on a copy of a slice from a DataFrame.\n",
      "Try using .loc[row_indexer,col_indexer] = value instead\n",
      "\n",
      "See the caveats in the documentation: https://pandas.pydata.org/pandas-docs/stable/user_guide/indexing.html#returning-a-view-versus-a-copy\n",
      "\n",
      "C:\\Users\\HP\\AppData\\Local\\Temp\\ipykernel_12688\\3457871242.py:52: SettingWithCopyWarning:\n",
      "\n",
      "\n",
      "A value is trying to be set on a copy of a slice from a DataFrame.\n",
      "Try using .loc[row_indexer,col_indexer] = value instead\n",
      "\n",
      "See the caveats in the documentation: https://pandas.pydata.org/pandas-docs/stable/user_guide/indexing.html#returning-a-view-versus-a-copy\n",
      "\n",
      "C:\\Users\\HP\\AppData\\Local\\Temp\\ipykernel_12688\\3457871242.py:53: SettingWithCopyWarning:\n",
      "\n",
      "\n",
      "A value is trying to be set on a copy of a slice from a DataFrame.\n",
      "Try using .loc[row_indexer,col_indexer] = value instead\n",
      "\n",
      "See the caveats in the documentation: https://pandas.pydata.org/pandas-docs/stable/user_guide/indexing.html#returning-a-view-versus-a-copy\n",
      "\n",
      "C:\\Users\\HP\\AppData\\Local\\Temp\\ipykernel_12688\\3457871242.py:56: SettingWithCopyWarning:\n",
      "\n",
      "\n",
      "A value is trying to be set on a copy of a slice from a DataFrame.\n",
      "Try using .loc[row_indexer,col_indexer] = value instead\n",
      "\n",
      "See the caveats in the documentation: https://pandas.pydata.org/pandas-docs/stable/user_guide/indexing.html#returning-a-view-versus-a-copy\n",
      "\n",
      "C:\\Users\\HP\\AppData\\Local\\Temp\\ipykernel_12688\\3457871242.py:63: SettingWithCopyWarning:\n",
      "\n",
      "\n",
      "A value is trying to be set on a copy of a slice from a DataFrame.\n",
      "Try using .loc[row_indexer,col_indexer] = value instead\n",
      "\n",
      "See the caveats in the documentation: https://pandas.pydata.org/pandas-docs/stable/user_guide/indexing.html#returning-a-view-versus-a-copy\n",
      "\n",
      "C:\\Users\\HP\\AppData\\Local\\Temp\\ipykernel_12688\\3457871242.py:64: SettingWithCopyWarning:\n",
      "\n",
      "\n",
      "A value is trying to be set on a copy of a slice from a DataFrame.\n",
      "Try using .loc[row_indexer,col_indexer] = value instead\n",
      "\n",
      "See the caveats in the documentation: https://pandas.pydata.org/pandas-docs/stable/user_guide/indexing.html#returning-a-view-versus-a-copy\n",
      "\n",
      "C:\\Users\\HP\\AppData\\Local\\Temp\\ipykernel_12688\\3457871242.py:67: SettingWithCopyWarning:\n",
      "\n",
      "\n",
      "A value is trying to be set on a copy of a slice from a DataFrame.\n",
      "Try using .loc[row_indexer,col_indexer] = value instead\n",
      "\n",
      "See the caveats in the documentation: https://pandas.pydata.org/pandas-docs/stable/user_guide/indexing.html#returning-a-view-versus-a-copy\n",
      "\n",
      "C:\\Users\\HP\\AppData\\Local\\Temp\\ipykernel_12688\\3457871242.py:75: SettingWithCopyWarning:\n",
      "\n",
      "\n",
      "A value is trying to be set on a copy of a slice from a DataFrame.\n",
      "Try using .loc[row_indexer,col_indexer] = value instead\n",
      "\n",
      "See the caveats in the documentation: https://pandas.pydata.org/pandas-docs/stable/user_guide/indexing.html#returning-a-view-versus-a-copy\n",
      "\n",
      "C:\\Users\\HP\\AppData\\Local\\Temp\\ipykernel_12688\\3457871242.py:76: SettingWithCopyWarning:\n",
      "\n",
      "\n",
      "A value is trying to be set on a copy of a slice from a DataFrame.\n",
      "Try using .loc[row_indexer,col_indexer] = value instead\n",
      "\n",
      "See the caveats in the documentation: https://pandas.pydata.org/pandas-docs/stable/user_guide/indexing.html#returning-a-view-versus-a-copy\n",
      "\n",
      "C:\\Users\\HP\\AppData\\Local\\Temp\\ipykernel_12688\\3457871242.py:79: SettingWithCopyWarning:\n",
      "\n",
      "\n",
      "A value is trying to be set on a copy of a slice from a DataFrame.\n",
      "Try using .loc[row_indexer,col_indexer] = value instead\n",
      "\n",
      "See the caveats in the documentation: https://pandas.pydata.org/pandas-docs/stable/user_guide/indexing.html#returning-a-view-versus-a-copy\n",
      "\n"
     ]
    }
   ],
   "source": [
    "#2019: Masters Grade Level STD, Grade 3, By ethicity\n",
    "\n",
    "#African American\n",
    "# Replace '.' and '-1' with NaN in the column\n",
    "ethicity_df['CDB03ARE1319R'] = ethicity_df['CDB03ARE1319R'].replace('.', np.nan)\n",
    "ethicity_df['CDB03ARE1319R'] = ethicity_df['CDB03ARE1319R'].replace('-1', np.nan)\n",
    "\n",
    "# Convert the column to integer\n",
    "ethicity_df['CDB03ARE1319R'] = ethicity_df['CDB03ARE1319R'].astype(float).astype('Int64')\n",
    "\n",
    "# Now you can calculate the average\n",
    "average_value_maaa = ethicity_df['CDB03ARE1319R'].mean()\n",
    "\n",
    "\n",
    "#American Indian\n",
    "# Replace '.' and '-1' with NaN in the column\n",
    "ethicity_df['CDI03ARE1319R'] = ethicity_df['CDI03ARE1319R'].replace('.', np.nan)\n",
    "ethicity_df['CDI03ARE1319R'] = ethicity_df['CDI03ARE1319R'].replace('-1', np.nan)\n",
    "\n",
    "# Convert the column to integer\n",
    "ethicity_df['CDI03ARE1319R'] = ethicity_df['CDI03ARE1319R'].astype(float).astype('Int64')\n",
    "\n",
    "# Now you can calculate the average\n",
    "average_value_maai = ethicity_df['CDI03ARE1319R'].mean()\n",
    "\n",
    "\n",
    "#Asian\n",
    "# Replace '.' and '-1' with NaN in the column\n",
    "ethicity_df['CD303ARE1319R'] = ethicity_df['CD303ARE1319R'].replace('.', np.nan)\n",
    "ethicity_df['CD303ARE1319R'] = ethicity_df['CD303ARE1319R'].replace('-1', np.nan)\n",
    "\n",
    "# Convert the column to integer\n",
    "ethicity_df['CD303ARE1319R'] = ethicity_df['CD303ARE1319R'].astype(float).astype('Int64')\n",
    "\n",
    "# Now you can calculate the average\n",
    "average_value_maa = ethicity_df['CD303ARE1319R'].mean()\n",
    "\n",
    "#Hispanics\n",
    "# Replace '.' and '-1' with NaN in the column\n",
    "ethicity_df['CDH03ARE1319R'] = ethicity_df['CDH03ARE1319R'].replace('.', np.nan)\n",
    "ethicity_df['CDH03ARE1319R'] = ethicity_df['CDH03ARE1319R'].replace('-1', np.nan)\n",
    "\n",
    "# Convert the column to integer\n",
    "ethicity_df['CDH03ARE1319R'] = ethicity_df['CDH03ARE1319R'].astype(float).astype('Int64')\n",
    "\n",
    "# Now you can calculate the average\n",
    "average_value_mah = ethicity_df['CDH03ARE1319R'].mean()\n",
    "\n",
    "\n",
    "#Pacific Islander\n",
    "# Replace '.' and '-1' with NaN in the column\n",
    "ethicity_df['CD403ARE1319R'] = ethicity_df['CD403ARE1319R'].replace('.', np.nan)\n",
    "ethicity_df['CD403ARE1319R'] = ethicity_df['CD403ARE1319R'].replace('-1', np.nan)\n",
    "\n",
    "# Convert the column to integer\n",
    "ethicity_df['CD403ARE1319R'] = ethicity_df['CD403ARE1319R'].astype(float).astype('Int64')\n",
    "\n",
    "# Now you can calculate the average\n",
    "average_value_mapi = ethicity_df['CD403ARE1319R'].mean()\n",
    "\n",
    "#Two or More\n",
    "# Replace '.' and '-1' with NaN in the column\n",
    "ethicity_df['CD203ARE1319R'] = ethicity_df['CD203ARE1319R'].replace('.', np.nan)\n",
    "ethicity_df['CD203ARE1319R'] = ethicity_df['CD203ARE1319R'].replace('-1', np.nan)\n",
    "\n",
    "# Convert the column to integer\n",
    "ethicity_df['CD203ARE1319R'] = ethicity_df['CD203ARE1319R'].astype(float).astype('Int64')\n",
    "\n",
    "# Now you can calculate the average\n",
    "average_value_ma2 = ethicity_df['CD203ARE1319R'].mean()\n",
    "\n",
    "\n",
    "#White\n",
    "# Replace '.' and '-1' with NaN in the column\n",
    "ethicity_df['CDW03ARE1319R'] = ethicity_df['CDW03ARE1319R'].replace('.', np.nan)\n",
    "ethicity_df['CDW03ARE1319R'] = ethicity_df['CDW03ARE1319R'].replace('-1', np.nan)\n",
    "\n",
    "# Convert the column to integer\n",
    "ethicity_df['CDW03ARE1319R'] = ethicity_df['CDW03ARE1319R'].astype(float).astype('Int64')\n",
    "\n",
    "# Now you can calculate the average\n",
    "average_value_maw = ethicity_df['CDW03ARE1319R'].mean()\n",
    "\n",
    "\n",
    "\n"
   ]
  },
  {
   "cell_type": "markdown",
   "metadata": {},
   "source": [
    "CLUSTER-Graph"
   ]
  },
  {
   "cell_type": "code",
   "execution_count": null,
   "metadata": {},
   "outputs": [
    {
     "ename": "SyntaxError",
     "evalue": "invalid syntax. Perhaps you forgot a comma? (1974842536.py, line 31)",
     "output_type": "error",
     "traceback": [
      "\u001b[1;36m  Cell \u001b[1;32mIn[28], line 31\u001b[1;36m\u001b[0m\n\u001b[1;33m    plt.title('Approaches Grade Level STD for Grade 3 by Ethnicity ('2019')', fontweight='bold')\u001b[0m\n\u001b[1;37m              ^\u001b[0m\n\u001b[1;31mSyntaxError\u001b[0m\u001b[1;31m:\u001b[0m invalid syntax. Perhaps you forgot a comma?\n"
     ]
    }
   ],
   "source": [
    "\n",
    "import pandas as pd\n",
    "import matplotlib.pyplot as plt\n",
    "import numpy as np\n",
    "\n",
    "# Sample data for demonstration\n",
    "ethicity_df = pd.DataFrame({\n",
    "    'Ethnicity': ['African American', 'American Indian', 'Asian', 'Hispanic', 'Pacific Islander', 'Two or More', 'White'],\n",
    "    'Average_Approaches_Grade_Level_STD': [average_value_appaa, average_value_appai, average_value_appa, average_value_apph, average_value_apppi, average_value_app2, average_value_appw],\n",
    "    'Average_Meets_Grade_Level_STD': [average_value_meaa, average_value_meai, average_value_mea, average_value_meh, average_value_mepi, average_value_me2, average_value_mew],\n",
    "    'Average_Masters_Grade_Level_STD': [average_value_maaa, average_value_maai, average_value_maa, average_value_mah, average_value_mapi, average_value_ma2, average_value_maw]\n",
    "})\n",
    "\n",
    "# Plotting the clustered bar graph\n",
    "plt.figure(figsize=(12, 8))\n",
    "\n",
    "# Position of bars on x-axis\n",
    "bar_width = 0.25\n",
    "r1 = np.arange(len(ethicity_df))\n",
    "r2 = [x + bar_width for x in r1]\n",
    "r3 = [x + bar_width for x in r2]\n",
    "\n",
    "# Plotting bars\n",
    "plt.bar(r1, ethicity_df['Average_Approaches_Grade_Level_STD'], color='skyblue', width=bar_width, edgecolor='grey', label='Approaches')\n",
    "plt.bar(r2, ethicity_df['Average_Meets_Grade_Level_STD'], color='salmon', width=bar_width, edgecolor='grey', label='Meets')\n",
    "plt.bar(r3, ethicity_df['Average_Masters_Grade_Level_STD'], color='lightgreen', width=bar_width, edgecolor='grey', label='Masters')\n",
    "\n",
    "# Adding labels\n",
    "plt.xlabel('Ethnicity', fontweight='bold')\n",
    "plt.ylabel('Average Grade Level STD', fontweight='bold')\n",
    "plt.xticks([r + bar_width for r in range(len(ethicity_df))], ethicity_df['Ethnicity'], rotation=45)\n",
    "plt.title('Approaches Grade Level STD for Grade 3 by Ethnicity ('2019')', fontweight='bold')\n",
    "plt.legend()\n",
    "\n",
    "# Show plot\n",
    "plt.tight_layout()\n",
    "plt.show()\n"
   ]
  },
  {
   "cell_type": "code",
   "execution_count": null,
   "metadata": {},
   "outputs": [
    {
     "data": {
      "application/vnd.plotly.v1+json": {
       "config": {
        "plotlyServerURL": "https://plot.ly"
       },
       "data": [
        {
         "marker": {
          "color": "salmon"
         },
         "name": "Approaches",
         "type": "bar",
         "x": [
          "African American",
          "American Indian",
          "Asian",
          "Hispanic",
          "Pacific Islander",
          "Two or More",
          "White"
         ],
         "y": [
          67.38502673796792,
          63.76923076923077,
          89.66039952996475,
          73.97636492554952,
          75.66666666666667,
          83.33907284768212,
          82.72025190586676
         ]
        },
        {
         "marker": {
          "color": "lightgreen"
         },
         "name": "Meets",
         "type": "bar",
         "x": [
          "African American",
          "American Indian",
          "Asian",
          "Hispanic",
          "Pacific Islander",
          "Two or More",
          "White"
         ],
         "y": [
          34.07040998217469,
          33.23076923076923,
          68.32549941245594,
          40.21555187898842,
          47.916666666666664,
          54.59602649006622,
          53.43254888962546
         ]
        },
        {
         "marker": {
          "color": "skyblue"
         },
         "name": "Masters",
         "type": "bar",
         "x": [
          "African American",
          "American Indian",
          "Asian",
          "Hispanic",
          "Pacific Islander",
          "Two or More",
          "White"
         ],
         "y": [
          18.78030303030303,
          14.307692307692308,
          50.2972972972973,
          22.968329000236352,
          30.083333333333332,
          37.61456953642384,
          34.83824991713623
         ]
        }
       ],
       "layout": {
        "barmode": "group",
        "template": {
         "data": {
          "bar": [
           {
            "error_x": {
             "color": "#2a3f5f"
            },
            "error_y": {
             "color": "#2a3f5f"
            },
            "marker": {
             "line": {
              "color": "#E5ECF6",
              "width": 0.5
             },
             "pattern": {
              "fillmode": "overlay",
              "size": 10,
              "solidity": 0.2
             }
            },
            "type": "bar"
           }
          ],
          "barpolar": [
           {
            "marker": {
             "line": {
              "color": "#E5ECF6",
              "width": 0.5
             },
             "pattern": {
              "fillmode": "overlay",
              "size": 10,
              "solidity": 0.2
             }
            },
            "type": "barpolar"
           }
          ],
          "carpet": [
           {
            "aaxis": {
             "endlinecolor": "#2a3f5f",
             "gridcolor": "white",
             "linecolor": "white",
             "minorgridcolor": "white",
             "startlinecolor": "#2a3f5f"
            },
            "baxis": {
             "endlinecolor": "#2a3f5f",
             "gridcolor": "white",
             "linecolor": "white",
             "minorgridcolor": "white",
             "startlinecolor": "#2a3f5f"
            },
            "type": "carpet"
           }
          ],
          "choropleth": [
           {
            "colorbar": {
             "outlinewidth": 0,
             "ticks": ""
            },
            "type": "choropleth"
           }
          ],
          "contour": [
           {
            "colorbar": {
             "outlinewidth": 0,
             "ticks": ""
            },
            "colorscale": [
             [
              0,
              "#0d0887"
             ],
             [
              0.1111111111111111,
              "#46039f"
             ],
             [
              0.2222222222222222,
              "#7201a8"
             ],
             [
              0.3333333333333333,
              "#9c179e"
             ],
             [
              0.4444444444444444,
              "#bd3786"
             ],
             [
              0.5555555555555556,
              "#d8576b"
             ],
             [
              0.6666666666666666,
              "#ed7953"
             ],
             [
              0.7777777777777778,
              "#fb9f3a"
             ],
             [
              0.8888888888888888,
              "#fdca26"
             ],
             [
              1,
              "#f0f921"
             ]
            ],
            "type": "contour"
           }
          ],
          "contourcarpet": [
           {
            "colorbar": {
             "outlinewidth": 0,
             "ticks": ""
            },
            "type": "contourcarpet"
           }
          ],
          "heatmap": [
           {
            "colorbar": {
             "outlinewidth": 0,
             "ticks": ""
            },
            "colorscale": [
             [
              0,
              "#0d0887"
             ],
             [
              0.1111111111111111,
              "#46039f"
             ],
             [
              0.2222222222222222,
              "#7201a8"
             ],
             [
              0.3333333333333333,
              "#9c179e"
             ],
             [
              0.4444444444444444,
              "#bd3786"
             ],
             [
              0.5555555555555556,
              "#d8576b"
             ],
             [
              0.6666666666666666,
              "#ed7953"
             ],
             [
              0.7777777777777778,
              "#fb9f3a"
             ],
             [
              0.8888888888888888,
              "#fdca26"
             ],
             [
              1,
              "#f0f921"
             ]
            ],
            "type": "heatmap"
           }
          ],
          "heatmapgl": [
           {
            "colorbar": {
             "outlinewidth": 0,
             "ticks": ""
            },
            "colorscale": [
             [
              0,
              "#0d0887"
             ],
             [
              0.1111111111111111,
              "#46039f"
             ],
             [
              0.2222222222222222,
              "#7201a8"
             ],
             [
              0.3333333333333333,
              "#9c179e"
             ],
             [
              0.4444444444444444,
              "#bd3786"
             ],
             [
              0.5555555555555556,
              "#d8576b"
             ],
             [
              0.6666666666666666,
              "#ed7953"
             ],
             [
              0.7777777777777778,
              "#fb9f3a"
             ],
             [
              0.8888888888888888,
              "#fdca26"
             ],
             [
              1,
              "#f0f921"
             ]
            ],
            "type": "heatmapgl"
           }
          ],
          "histogram": [
           {
            "marker": {
             "pattern": {
              "fillmode": "overlay",
              "size": 10,
              "solidity": 0.2
             }
            },
            "type": "histogram"
           }
          ],
          "histogram2d": [
           {
            "colorbar": {
             "outlinewidth": 0,
             "ticks": ""
            },
            "colorscale": [
             [
              0,
              "#0d0887"
             ],
             [
              0.1111111111111111,
              "#46039f"
             ],
             [
              0.2222222222222222,
              "#7201a8"
             ],
             [
              0.3333333333333333,
              "#9c179e"
             ],
             [
              0.4444444444444444,
              "#bd3786"
             ],
             [
              0.5555555555555556,
              "#d8576b"
             ],
             [
              0.6666666666666666,
              "#ed7953"
             ],
             [
              0.7777777777777778,
              "#fb9f3a"
             ],
             [
              0.8888888888888888,
              "#fdca26"
             ],
             [
              1,
              "#f0f921"
             ]
            ],
            "type": "histogram2d"
           }
          ],
          "histogram2dcontour": [
           {
            "colorbar": {
             "outlinewidth": 0,
             "ticks": ""
            },
            "colorscale": [
             [
              0,
              "#0d0887"
             ],
             [
              0.1111111111111111,
              "#46039f"
             ],
             [
              0.2222222222222222,
              "#7201a8"
             ],
             [
              0.3333333333333333,
              "#9c179e"
             ],
             [
              0.4444444444444444,
              "#bd3786"
             ],
             [
              0.5555555555555556,
              "#d8576b"
             ],
             [
              0.6666666666666666,
              "#ed7953"
             ],
             [
              0.7777777777777778,
              "#fb9f3a"
             ],
             [
              0.8888888888888888,
              "#fdca26"
             ],
             [
              1,
              "#f0f921"
             ]
            ],
            "type": "histogram2dcontour"
           }
          ],
          "mesh3d": [
           {
            "colorbar": {
             "outlinewidth": 0,
             "ticks": ""
            },
            "type": "mesh3d"
           }
          ],
          "parcoords": [
           {
            "line": {
             "colorbar": {
              "outlinewidth": 0,
              "ticks": ""
             }
            },
            "type": "parcoords"
           }
          ],
          "pie": [
           {
            "automargin": true,
            "type": "pie"
           }
          ],
          "scatter": [
           {
            "fillpattern": {
             "fillmode": "overlay",
             "size": 10,
             "solidity": 0.2
            },
            "type": "scatter"
           }
          ],
          "scatter3d": [
           {
            "line": {
             "colorbar": {
              "outlinewidth": 0,
              "ticks": ""
             }
            },
            "marker": {
             "colorbar": {
              "outlinewidth": 0,
              "ticks": ""
             }
            },
            "type": "scatter3d"
           }
          ],
          "scattercarpet": [
           {
            "marker": {
             "colorbar": {
              "outlinewidth": 0,
              "ticks": ""
             }
            },
            "type": "scattercarpet"
           }
          ],
          "scattergeo": [
           {
            "marker": {
             "colorbar": {
              "outlinewidth": 0,
              "ticks": ""
             }
            },
            "type": "scattergeo"
           }
          ],
          "scattergl": [
           {
            "marker": {
             "colorbar": {
              "outlinewidth": 0,
              "ticks": ""
             }
            },
            "type": "scattergl"
           }
          ],
          "scattermapbox": [
           {
            "marker": {
             "colorbar": {
              "outlinewidth": 0,
              "ticks": ""
             }
            },
            "type": "scattermapbox"
           }
          ],
          "scatterpolar": [
           {
            "marker": {
             "colorbar": {
              "outlinewidth": 0,
              "ticks": ""
             }
            },
            "type": "scatterpolar"
           }
          ],
          "scatterpolargl": [
           {
            "marker": {
             "colorbar": {
              "outlinewidth": 0,
              "ticks": ""
             }
            },
            "type": "scatterpolargl"
           }
          ],
          "scatterternary": [
           {
            "marker": {
             "colorbar": {
              "outlinewidth": 0,
              "ticks": ""
             }
            },
            "type": "scatterternary"
           }
          ],
          "surface": [
           {
            "colorbar": {
             "outlinewidth": 0,
             "ticks": ""
            },
            "colorscale": [
             [
              0,
              "#0d0887"
             ],
             [
              0.1111111111111111,
              "#46039f"
             ],
             [
              0.2222222222222222,
              "#7201a8"
             ],
             [
              0.3333333333333333,
              "#9c179e"
             ],
             [
              0.4444444444444444,
              "#bd3786"
             ],
             [
              0.5555555555555556,
              "#d8576b"
             ],
             [
              0.6666666666666666,
              "#ed7953"
             ],
             [
              0.7777777777777778,
              "#fb9f3a"
             ],
             [
              0.8888888888888888,
              "#fdca26"
             ],
             [
              1,
              "#f0f921"
             ]
            ],
            "type": "surface"
           }
          ],
          "table": [
           {
            "cells": {
             "fill": {
              "color": "#EBF0F8"
             },
             "line": {
              "color": "white"
             }
            },
            "header": {
             "fill": {
              "color": "#C8D4E3"
             },
             "line": {
              "color": "white"
             }
            },
            "type": "table"
           }
          ]
         },
         "layout": {
          "annotationdefaults": {
           "arrowcolor": "#2a3f5f",
           "arrowhead": 0,
           "arrowwidth": 1
          },
          "autotypenumbers": "strict",
          "coloraxis": {
           "colorbar": {
            "outlinewidth": 0,
            "ticks": ""
           }
          },
          "colorscale": {
           "diverging": [
            [
             0,
             "#8e0152"
            ],
            [
             0.1,
             "#c51b7d"
            ],
            [
             0.2,
             "#de77ae"
            ],
            [
             0.3,
             "#f1b6da"
            ],
            [
             0.4,
             "#fde0ef"
            ],
            [
             0.5,
             "#f7f7f7"
            ],
            [
             0.6,
             "#e6f5d0"
            ],
            [
             0.7,
             "#b8e186"
            ],
            [
             0.8,
             "#7fbc41"
            ],
            [
             0.9,
             "#4d9221"
            ],
            [
             1,
             "#276419"
            ]
           ],
           "sequential": [
            [
             0,
             "#0d0887"
            ],
            [
             0.1111111111111111,
             "#46039f"
            ],
            [
             0.2222222222222222,
             "#7201a8"
            ],
            [
             0.3333333333333333,
             "#9c179e"
            ],
            [
             0.4444444444444444,
             "#bd3786"
            ],
            [
             0.5555555555555556,
             "#d8576b"
            ],
            [
             0.6666666666666666,
             "#ed7953"
            ],
            [
             0.7777777777777778,
             "#fb9f3a"
            ],
            [
             0.8888888888888888,
             "#fdca26"
            ],
            [
             1,
             "#f0f921"
            ]
           ],
           "sequentialminus": [
            [
             0,
             "#0d0887"
            ],
            [
             0.1111111111111111,
             "#46039f"
            ],
            [
             0.2222222222222222,
             "#7201a8"
            ],
            [
             0.3333333333333333,
             "#9c179e"
            ],
            [
             0.4444444444444444,
             "#bd3786"
            ],
            [
             0.5555555555555556,
             "#d8576b"
            ],
            [
             0.6666666666666666,
             "#ed7953"
            ],
            [
             0.7777777777777778,
             "#fb9f3a"
            ],
            [
             0.8888888888888888,
             "#fdca26"
            ],
            [
             1,
             "#f0f921"
            ]
           ]
          },
          "colorway": [
           "#636efa",
           "#EF553B",
           "#00cc96",
           "#ab63fa",
           "#FFA15A",
           "#19d3f3",
           "#FF6692",
           "#B6E880",
           "#FF97FF",
           "#FECB52"
          ],
          "font": {
           "color": "#2a3f5f"
          },
          "geo": {
           "bgcolor": "white",
           "lakecolor": "white",
           "landcolor": "#E5ECF6",
           "showlakes": true,
           "showland": true,
           "subunitcolor": "white"
          },
          "hoverlabel": {
           "align": "left"
          },
          "hovermode": "closest",
          "mapbox": {
           "style": "light"
          },
          "paper_bgcolor": "white",
          "plot_bgcolor": "#E5ECF6",
          "polar": {
           "angularaxis": {
            "gridcolor": "white",
            "linecolor": "white",
            "ticks": ""
           },
           "bgcolor": "#E5ECF6",
           "radialaxis": {
            "gridcolor": "white",
            "linecolor": "white",
            "ticks": ""
           }
          },
          "scene": {
           "xaxis": {
            "backgroundcolor": "#E5ECF6",
            "gridcolor": "white",
            "gridwidth": 2,
            "linecolor": "white",
            "showbackground": true,
            "ticks": "",
            "zerolinecolor": "white"
           },
           "yaxis": {
            "backgroundcolor": "#E5ECF6",
            "gridcolor": "white",
            "gridwidth": 2,
            "linecolor": "white",
            "showbackground": true,
            "ticks": "",
            "zerolinecolor": "white"
           },
           "zaxis": {
            "backgroundcolor": "#E5ECF6",
            "gridcolor": "white",
            "gridwidth": 2,
            "linecolor": "white",
            "showbackground": true,
            "ticks": "",
            "zerolinecolor": "white"
           }
          },
          "shapedefaults": {
           "line": {
            "color": "#2a3f5f"
           }
          },
          "ternary": {
           "aaxis": {
            "gridcolor": "white",
            "linecolor": "white",
            "ticks": ""
           },
           "baxis": {
            "gridcolor": "white",
            "linecolor": "white",
            "ticks": ""
           },
           "bgcolor": "#E5ECF6",
           "caxis": {
            "gridcolor": "white",
            "linecolor": "white",
            "ticks": ""
           }
          },
          "title": {
           "x": 0.05
          },
          "xaxis": {
           "automargin": true,
           "gridcolor": "white",
           "linecolor": "white",
           "ticks": "",
           "title": {
            "standoff": 15
           },
           "zerolinecolor": "white",
           "zerolinewidth": 2
          },
          "yaxis": {
           "automargin": true,
           "gridcolor": "white",
           "linecolor": "white",
           "ticks": "",
           "title": {
            "standoff": 15
           },
           "zerolinecolor": "white",
           "zerolinewidth": 2
          }
         }
        },
        "title": {
         "text": "Performance Standards by Ethnicity (2019)"
        },
        "xaxis": {
         "tickangle": 45,
         "ticktext": [
          "African American",
          "American Indian",
          "Asian",
          "Hispanic",
          "Pacific Islander",
          "Two or More",
          "White"
         ],
         "tickvals": [
          0,
          1,
          2,
          3,
          4,
          5,
          6
         ],
         "title": {
          "text": "Ethnicity"
         }
        },
        "yaxis": {
         "title": {
          "text": "Average Grade Level STD"
         }
        }
       }
      }
     },
     "metadata": {},
     "output_type": "display_data"
    }
   ],
   "source": [
    "\n",
    "import pandas as pd\n",
    "import plotly.graph_objs as go\n",
    "import numpy as np\n",
    "\n",
    "# Sample data for demonstration\n",
    "ethicity_df = pd.DataFrame({\n",
    "    'Ethnicity': ['African American', 'American Indian', 'Asian', 'Hispanic', 'Pacific Islander', 'Two or More', 'White'],\n",
    "    'Average_Approaches_Grade_Level_STD': [average_value_appaa, average_value_appai, average_value_appa, average_value_apph, average_value_apppi, average_value_app2, average_value_appw],\n",
    "    'Average_Meets_Grade_Level_STD': [average_value_meaa, average_value_meai, average_value_mea, average_value_meh, average_value_mepi, average_value_me2, average_value_mew],\n",
    "    'Average_Masters_Grade_Level_STD': [average_value_maaa, average_value_maai, average_value_maa, average_value_mah, average_value_mapi, average_value_ma2, average_value_maw]\n",
    "})\n",
    "\n",
    "# Position of bars on x-axis\n",
    "bar_width = 0.25\n",
    "r1 = np.arange(len(ethicity_df))\n",
    "r2 = [x + bar_width for x in r1]\n",
    "r3 = [x + bar_width for x in r2]\n",
    "\n",
    "# Creating traces for each category\n",
    "trace1 = go.Bar(\n",
    "    x=ethicity_df['Ethnicity'],\n",
    "    y=ethicity_df['Average_Approaches_Grade_Level_STD'],\n",
    "    name='Approaches',\n",
    "    marker=dict(color='salmon')\n",
    ")\n",
    "trace2 = go.Bar(\n",
    "    x=ethicity_df['Ethnicity'],\n",
    "    y=ethicity_df['Average_Meets_Grade_Level_STD'],\n",
    "    name='Meets',\n",
    "    marker=dict(color='lightgreen')\n",
    ")\n",
    "trace3 = go.Bar(\n",
    "    x=ethicity_df['Ethnicity'],\n",
    "    y=ethicity_df['Average_Masters_Grade_Level_STD'],\n",
    "    name='Masters',\n",
    "    marker=dict(color='skyblue')\n",
    ")\n",
    "\n",
    "# Combining traces into a data list\n",
    "data = [trace1, trace2, trace3]\n",
    "\n",
    "# Setting layout\n",
    "layout = go.Layout(\n",
    "    title='Performance Standards by Ethnicity (2019)',\n",
    "    xaxis=dict(title='Ethnicity', tickvals=r1, ticktext=ethicity_df['Ethnicity'], tickangle=45),\n",
    "    yaxis=dict(title='Average Grade Level STD'),\n",
    "    barmode='group'\n",
    ")\n",
    "\n",
    "# Creating figure\n",
    "fig = go.Figure(data=data, layout=layout)\n",
    "\n",
    "# Displaying the interactive plot\n",
    "fig.show()\n"
   ]
  },
  {
   "cell_type": "markdown",
   "metadata": {},
   "source": [
    "2018"
   ]
  },
  {
   "cell_type": "markdown",
   "metadata": {},
   "source": [
    "CDB03ARE1S18R-Campus 2018 Domain 1A: Approaches Grade Level STD, Grade 3, African American, STAAR Reading/ELA Rate\n",
    "CDI03ARE1S18R-Campus 2018 Domain 1A: Approaches Grade Level STD, Grade 3, American Indian, STAAR Reading/ELA Rate\n",
    "CD303ARE1S18R-Campus 2018 Domain 1A: Approaches Grade Level STD, Grade 3, Asian, STAAR Reading/ELA Rate\n",
    "CDH03ARE1S18R-Campus 2018 Domain 1A: Approaches Grade Level STD, Grade 3, Hispanic, STAAR Reading/ELA Rate\n",
    "CD403ARE1S18R-Campus 2018 Domain 1A: Approaches Grade Level STD, Grade 3, Pacific Islander, STAAR Reading/ELA Rate\n",
    "CD203ARE1S18R-Campus 2018 Domain 1A: Approaches Grade Level STD, Grade 3, Two or More Races, STAAR Reading/ELA Rate\n",
    "CDW03ARE1S18R-Campus 2018 Domain 1A: Approaches Grade Level STD, Grade 3, White, STAAR Reading/ELA Rate"
   ]
  },
  {
   "cell_type": "code",
   "execution_count": null,
   "metadata": {},
   "outputs": [],
   "source": [
    "\n",
    "\n",
    "#Selecting specific columns for all students DataFrame\n",
    "ethicity_df18 = staar_rla1819_df[[\"School Year\",\"CAMPUS\",\"CDB03ARE1S18R\",\"CDI03ARE1S18R\",\"CD303ARE1S18R\",\"CDH03ARE1S18R\",\"CD403ARE1S18R\",\"CD203ARE1S18R\",\"CDW03ARE1S18R\",\"CDB03ARE1218R\",\"CDI03ARE1218R\",\"CD303ARE1218R\",\"CDH03ARE1218R\",\"CD203ARE1218R\",\"CD403ARE1218R\",\"CDW03ARE1218R\",\n",
    "                                  \"CDB03ARE1318R\",\"CDI03ARE1318R\",\"CD303ARE1318R\",\"CDH03ARE1318R\",\"CD403ARE1318R\",\"CD203ARE1318R\",\"CDW03ARE1318R\"]]\n",
    "\n"
   ]
  },
  {
   "cell_type": "code",
   "execution_count": null,
   "metadata": {},
   "outputs": [
    {
     "name": "stderr",
     "output_type": "stream",
     "text": [
      "C:\\Users\\HP\\AppData\\Local\\Temp\\ipykernel_13292\\116381493.py:5: SettingWithCopyWarning:\n",
      "\n",
      "\n",
      "A value is trying to be set on a copy of a slice from a DataFrame.\n",
      "Try using .loc[row_indexer,col_indexer] = value instead\n",
      "\n",
      "See the caveats in the documentation: https://pandas.pydata.org/pandas-docs/stable/user_guide/indexing.html#returning-a-view-versus-a-copy\n",
      "\n",
      "C:\\Users\\HP\\AppData\\Local\\Temp\\ipykernel_13292\\116381493.py:6: SettingWithCopyWarning:\n",
      "\n",
      "\n",
      "A value is trying to be set on a copy of a slice from a DataFrame.\n",
      "Try using .loc[row_indexer,col_indexer] = value instead\n",
      "\n",
      "See the caveats in the documentation: https://pandas.pydata.org/pandas-docs/stable/user_guide/indexing.html#returning-a-view-versus-a-copy\n",
      "\n",
      "C:\\Users\\HP\\AppData\\Local\\Temp\\ipykernel_13292\\116381493.py:9: SettingWithCopyWarning:\n",
      "\n",
      "\n",
      "A value is trying to be set on a copy of a slice from a DataFrame.\n",
      "Try using .loc[row_indexer,col_indexer] = value instead\n",
      "\n",
      "See the caveats in the documentation: https://pandas.pydata.org/pandas-docs/stable/user_guide/indexing.html#returning-a-view-versus-a-copy\n",
      "\n",
      "C:\\Users\\HP\\AppData\\Local\\Temp\\ipykernel_13292\\116381493.py:17: SettingWithCopyWarning:\n",
      "\n",
      "\n",
      "A value is trying to be set on a copy of a slice from a DataFrame.\n",
      "Try using .loc[row_indexer,col_indexer] = value instead\n",
      "\n",
      "See the caveats in the documentation: https://pandas.pydata.org/pandas-docs/stable/user_guide/indexing.html#returning-a-view-versus-a-copy\n",
      "\n",
      "C:\\Users\\HP\\AppData\\Local\\Temp\\ipykernel_13292\\116381493.py:18: SettingWithCopyWarning:\n",
      "\n",
      "\n",
      "A value is trying to be set on a copy of a slice from a DataFrame.\n",
      "Try using .loc[row_indexer,col_indexer] = value instead\n",
      "\n",
      "See the caveats in the documentation: https://pandas.pydata.org/pandas-docs/stable/user_guide/indexing.html#returning-a-view-versus-a-copy\n",
      "\n",
      "C:\\Users\\HP\\AppData\\Local\\Temp\\ipykernel_13292\\116381493.py:21: SettingWithCopyWarning:\n",
      "\n",
      "\n",
      "A value is trying to be set on a copy of a slice from a DataFrame.\n",
      "Try using .loc[row_indexer,col_indexer] = value instead\n",
      "\n",
      "See the caveats in the documentation: https://pandas.pydata.org/pandas-docs/stable/user_guide/indexing.html#returning-a-view-versus-a-copy\n",
      "\n",
      "C:\\Users\\HP\\AppData\\Local\\Temp\\ipykernel_13292\\116381493.py:29: SettingWithCopyWarning:\n",
      "\n",
      "\n",
      "A value is trying to be set on a copy of a slice from a DataFrame.\n",
      "Try using .loc[row_indexer,col_indexer] = value instead\n",
      "\n",
      "See the caveats in the documentation: https://pandas.pydata.org/pandas-docs/stable/user_guide/indexing.html#returning-a-view-versus-a-copy\n",
      "\n",
      "C:\\Users\\HP\\AppData\\Local\\Temp\\ipykernel_13292\\116381493.py:30: SettingWithCopyWarning:\n",
      "\n",
      "\n",
      "A value is trying to be set on a copy of a slice from a DataFrame.\n",
      "Try using .loc[row_indexer,col_indexer] = value instead\n",
      "\n",
      "See the caveats in the documentation: https://pandas.pydata.org/pandas-docs/stable/user_guide/indexing.html#returning-a-view-versus-a-copy\n",
      "\n",
      "C:\\Users\\HP\\AppData\\Local\\Temp\\ipykernel_13292\\116381493.py:33: SettingWithCopyWarning:\n",
      "\n",
      "\n",
      "A value is trying to be set on a copy of a slice from a DataFrame.\n",
      "Try using .loc[row_indexer,col_indexer] = value instead\n",
      "\n",
      "See the caveats in the documentation: https://pandas.pydata.org/pandas-docs/stable/user_guide/indexing.html#returning-a-view-versus-a-copy\n",
      "\n",
      "C:\\Users\\HP\\AppData\\Local\\Temp\\ipykernel_13292\\116381493.py:40: SettingWithCopyWarning:\n",
      "\n",
      "\n",
      "A value is trying to be set on a copy of a slice from a DataFrame.\n",
      "Try using .loc[row_indexer,col_indexer] = value instead\n",
      "\n",
      "See the caveats in the documentation: https://pandas.pydata.org/pandas-docs/stable/user_guide/indexing.html#returning-a-view-versus-a-copy\n",
      "\n",
      "C:\\Users\\HP\\AppData\\Local\\Temp\\ipykernel_13292\\116381493.py:41: SettingWithCopyWarning:\n",
      "\n",
      "\n",
      "A value is trying to be set on a copy of a slice from a DataFrame.\n",
      "Try using .loc[row_indexer,col_indexer] = value instead\n",
      "\n",
      "See the caveats in the documentation: https://pandas.pydata.org/pandas-docs/stable/user_guide/indexing.html#returning-a-view-versus-a-copy\n",
      "\n",
      "C:\\Users\\HP\\AppData\\Local\\Temp\\ipykernel_13292\\116381493.py:44: SettingWithCopyWarning:\n",
      "\n",
      "\n",
      "A value is trying to be set on a copy of a slice from a DataFrame.\n",
      "Try using .loc[row_indexer,col_indexer] = value instead\n",
      "\n",
      "See the caveats in the documentation: https://pandas.pydata.org/pandas-docs/stable/user_guide/indexing.html#returning-a-view-versus-a-copy\n",
      "\n",
      "C:\\Users\\HP\\AppData\\Local\\Temp\\ipykernel_13292\\116381493.py:52: SettingWithCopyWarning:\n",
      "\n",
      "\n",
      "A value is trying to be set on a copy of a slice from a DataFrame.\n",
      "Try using .loc[row_indexer,col_indexer] = value instead\n",
      "\n",
      "See the caveats in the documentation: https://pandas.pydata.org/pandas-docs/stable/user_guide/indexing.html#returning-a-view-versus-a-copy\n",
      "\n",
      "C:\\Users\\HP\\AppData\\Local\\Temp\\ipykernel_13292\\116381493.py:53: SettingWithCopyWarning:\n",
      "\n",
      "\n",
      "A value is trying to be set on a copy of a slice from a DataFrame.\n",
      "Try using .loc[row_indexer,col_indexer] = value instead\n",
      "\n",
      "See the caveats in the documentation: https://pandas.pydata.org/pandas-docs/stable/user_guide/indexing.html#returning-a-view-versus-a-copy\n",
      "\n",
      "C:\\Users\\HP\\AppData\\Local\\Temp\\ipykernel_13292\\116381493.py:56: SettingWithCopyWarning:\n",
      "\n",
      "\n",
      "A value is trying to be set on a copy of a slice from a DataFrame.\n",
      "Try using .loc[row_indexer,col_indexer] = value instead\n",
      "\n",
      "See the caveats in the documentation: https://pandas.pydata.org/pandas-docs/stable/user_guide/indexing.html#returning-a-view-versus-a-copy\n",
      "\n",
      "C:\\Users\\HP\\AppData\\Local\\Temp\\ipykernel_13292\\116381493.py:63: SettingWithCopyWarning:\n",
      "\n",
      "\n",
      "A value is trying to be set on a copy of a slice from a DataFrame.\n",
      "Try using .loc[row_indexer,col_indexer] = value instead\n",
      "\n",
      "See the caveats in the documentation: https://pandas.pydata.org/pandas-docs/stable/user_guide/indexing.html#returning-a-view-versus-a-copy\n",
      "\n",
      "C:\\Users\\HP\\AppData\\Local\\Temp\\ipykernel_13292\\116381493.py:64: SettingWithCopyWarning:\n",
      "\n",
      "\n",
      "A value is trying to be set on a copy of a slice from a DataFrame.\n",
      "Try using .loc[row_indexer,col_indexer] = value instead\n",
      "\n",
      "See the caveats in the documentation: https://pandas.pydata.org/pandas-docs/stable/user_guide/indexing.html#returning-a-view-versus-a-copy\n",
      "\n",
      "C:\\Users\\HP\\AppData\\Local\\Temp\\ipykernel_13292\\116381493.py:67: SettingWithCopyWarning:\n",
      "\n",
      "\n",
      "A value is trying to be set on a copy of a slice from a DataFrame.\n",
      "Try using .loc[row_indexer,col_indexer] = value instead\n",
      "\n",
      "See the caveats in the documentation: https://pandas.pydata.org/pandas-docs/stable/user_guide/indexing.html#returning-a-view-versus-a-copy\n",
      "\n",
      "C:\\Users\\HP\\AppData\\Local\\Temp\\ipykernel_13292\\116381493.py:75: SettingWithCopyWarning:\n",
      "\n",
      "\n",
      "A value is trying to be set on a copy of a slice from a DataFrame.\n",
      "Try using .loc[row_indexer,col_indexer] = value instead\n",
      "\n",
      "See the caveats in the documentation: https://pandas.pydata.org/pandas-docs/stable/user_guide/indexing.html#returning-a-view-versus-a-copy\n",
      "\n",
      "C:\\Users\\HP\\AppData\\Local\\Temp\\ipykernel_13292\\116381493.py:76: SettingWithCopyWarning:\n",
      "\n",
      "\n",
      "A value is trying to be set on a copy of a slice from a DataFrame.\n",
      "Try using .loc[row_indexer,col_indexer] = value instead\n",
      "\n",
      "See the caveats in the documentation: https://pandas.pydata.org/pandas-docs/stable/user_guide/indexing.html#returning-a-view-versus-a-copy\n",
      "\n",
      "C:\\Users\\HP\\AppData\\Local\\Temp\\ipykernel_13292\\116381493.py:79: SettingWithCopyWarning:\n",
      "\n",
      "\n",
      "A value is trying to be set on a copy of a slice from a DataFrame.\n",
      "Try using .loc[row_indexer,col_indexer] = value instead\n",
      "\n",
      "See the caveats in the documentation: https://pandas.pydata.org/pandas-docs/stable/user_guide/indexing.html#returning-a-view-versus-a-copy\n",
      "\n"
     ]
    }
   ],
   "source": [
    "#2018: Approaches Grade Level STD, Grade 3, By ethicity\n",
    "\n",
    "#African American\n",
    "# Replace '.' and '-1' with NaN in the column\n",
    "ethicity_df18['CDB03ARE1S18R'] = ethicity_df18['CDB03ARE1S18R'].replace('.', np.nan)\n",
    "ethicity_df18['CDB03ARE1S18R'] = ethicity_df18['CDB03ARE1S18R'].replace('-1', np.nan)\n",
    "\n",
    "# Convert the column to integer\n",
    "ethicity_df18['CDB03ARE1S18R'] = ethicity_df18['CDB03ARE1S18R'].astype(float).astype('Int64')\n",
    "\n",
    "# Now you can calculate the average\n",
    "average_value_appaa18 = ethicity_df18['CDB03ARE1S18R'].mean()\n",
    "\n",
    "\n",
    "#American Indian\n",
    "# Replace '.' and '-1' with NaN in the column\n",
    "ethicity_df18['CDI03ARE1S18R'] = ethicity_df18['CDI03ARE1S18R'].replace('.', np.nan)\n",
    "ethicity_df18['CDI03ARE1S18R'] = ethicity_df18['CDI03ARE1S18R'].replace('-1', np.nan)\n",
    "\n",
    "# Convert the column to integer\n",
    "ethicity_df18['CDI03ARE1S18R'] = ethicity_df18['CDI03ARE1S18R'].astype(float).astype('Int64')\n",
    "\n",
    "# Now you can calculate the average\n",
    "average_value_appai18 = ethicity_df18['CDI03ARE1S18R'].mean()\n",
    "\n",
    "\n",
    "#Asian\n",
    "# Replace '.' and '-1' with NaN in the column\n",
    "ethicity_df18['CD303ARE1S18R'] = ethicity_df18['CD303ARE1S18R'].replace('.', np.nan)\n",
    "ethicity_df18['CD303ARE1S18R'] = ethicity_df18['CD303ARE1S18R'].replace('-1', np.nan)\n",
    "\n",
    "# Convert the column to integer\n",
    "ethicity_df18['CD303ARE1S18R'] = ethicity_df18['CD303ARE1S18R'].astype(float).astype('Int64')\n",
    "\n",
    "# Now you can calculate the average\n",
    "average_value_appa18 = ethicity_df18['CD303ARE1S18R'].mean()\n",
    "\n",
    "#Hispanics\n",
    "# Replace '.' and '-1' with NaN in the column\n",
    "ethicity_df18['CDH03ARE1S18R'] = ethicity_df18['CDH03ARE1S18R'].replace('.', np.nan)\n",
    "ethicity_df18['CDH03ARE1S18R'] = ethicity_df18['CDH03ARE1S18R'].replace('-1', np.nan)\n",
    "\n",
    "# Convert the column to integer\n",
    "ethicity_df18['CDH03ARE1S18R'] = ethicity_df18['CDH03ARE1S18R'].astype(float).astype('Int64')\n",
    "\n",
    "# Now you can calculate the average\n",
    "average_value_apph18 = ethicity_df18['CDH03ARE1S18R'].mean()\n",
    "\n",
    "\n",
    "#Pacific Islander\n",
    "# Replace '.' and '-1' with NaN in the column\n",
    "ethicity_df18['CD403ARE1S18R'] = ethicity_df18['CD403ARE1S18R'].replace('.', np.nan)\n",
    "ethicity_df18['CD403ARE1S18R'] = ethicity_df18['CD403ARE1S18R'].replace('-1', np.nan)\n",
    "\n",
    "# Convert the column to integer\n",
    "ethicity_df18['CD403ARE1S18R'] = ethicity_df18['CD403ARE1S18R'].astype(float).astype('Int64')\n",
    "\n",
    "# Now you can calculate the average\n",
    "average_value_apppi18 = ethicity_df18['CD403ARE1S18R'].mean()\n",
    "\n",
    "#Two or More\n",
    "# Replace '.' and '-1' with NaN in the column\n",
    "ethicity_df18['CD203ARE1S18R'] = ethicity_df18['CD203ARE1S18R'].replace('.', np.nan)\n",
    "ethicity_df18['CD203ARE1S18R'] = ethicity_df18['CD203ARE1S18R'].replace('-1', np.nan)\n",
    "\n",
    "# Convert the column to integer\n",
    "ethicity_df18['CD203ARE1S18R'] = ethicity_df18['CD203ARE1S18R'].astype(float).astype('Int64')\n",
    "\n",
    "# Now you can calculate the average\n",
    "average_value_app218 = ethicity_df18['CD203ARE1S18R'].mean()\n",
    "\n",
    "\n",
    "#White\n",
    "# Replace '.' and '-1' with NaN in the column\n",
    "ethicity_df18['CDW03ARE1S18R'] = ethicity_df18['CDW03ARE1S18R'].replace('.', np.nan)\n",
    "ethicity_df18['CDW03ARE1S18R'] = ethicity_df18['CDW03ARE1S18R'].replace('-1', np.nan)\n",
    "\n",
    "# Convert the column to integer\n",
    "ethicity_df18['CDW03ARE1S18R'] = ethicity_df18['CDW03ARE1S18R'].astype(float).astype('Int64')\n",
    "\n",
    "# Now you can calculate the average\n",
    "average_value_appw18 = ethicity_df18['CDW03ARE1S18R'].mean()\n",
    "\n",
    "\n",
    "\n"
   ]
  },
  {
   "cell_type": "markdown",
   "metadata": {},
   "source": [
    "CDB03ARE1218R-Campus 2018 Domain 1A: Meets Grade Level STD, Grade 3, African American, STAAR Reading/ELA Rate\n",
    "CDI03ARE1218R-Campus 2018 Domain 1A: Meets Grade Level STD, Grade 3, American Indian, STAAR Reading/ELA Rate\n",
    "CD303ARE1218R-Campus 2018 Domain 1A: Meets Grade Level STD, Grade 3, Asian, STAAR Reading/ELA Rate\n",
    "CDH03ARE1218R-Campus 2018 Domain 1A: Meets Grade Level STD, Grade 3, Hispanic, STAAR Reading/ELA Rate\n",
    "CD403ARE1218R-Campus 2018 Domain 1A: Meets Grade Level STD, Grade 3, Pacific Islander, STAAR Reading/ELA Rate\n",
    "CD203ARE1218R-Campus 2018 Domain 1A: Meets Grade Level STD, Grade 3, Two or More Races, STAAR Reading/ELA Rate\n",
    "CDW03ARE1218R-Campus 2018 Domain 1A: Meets Grade Level STD, Grade 3, White, STAAR Reading/ELA Rate"
   ]
  },
  {
   "cell_type": "code",
   "execution_count": null,
   "metadata": {},
   "outputs": [
    {
     "name": "stderr",
     "output_type": "stream",
     "text": [
      "C:\\Users\\HP\\AppData\\Local\\Temp\\ipykernel_13292\\1425697598.py:5: SettingWithCopyWarning:\n",
      "\n",
      "\n",
      "A value is trying to be set on a copy of a slice from a DataFrame.\n",
      "Try using .loc[row_indexer,col_indexer] = value instead\n",
      "\n",
      "See the caveats in the documentation: https://pandas.pydata.org/pandas-docs/stable/user_guide/indexing.html#returning-a-view-versus-a-copy\n",
      "\n",
      "C:\\Users\\HP\\AppData\\Local\\Temp\\ipykernel_13292\\1425697598.py:6: SettingWithCopyWarning:\n",
      "\n",
      "\n",
      "A value is trying to be set on a copy of a slice from a DataFrame.\n",
      "Try using .loc[row_indexer,col_indexer] = value instead\n",
      "\n",
      "See the caveats in the documentation: https://pandas.pydata.org/pandas-docs/stable/user_guide/indexing.html#returning-a-view-versus-a-copy\n",
      "\n",
      "C:\\Users\\HP\\AppData\\Local\\Temp\\ipykernel_13292\\1425697598.py:9: SettingWithCopyWarning:\n",
      "\n",
      "\n",
      "A value is trying to be set on a copy of a slice from a DataFrame.\n",
      "Try using .loc[row_indexer,col_indexer] = value instead\n",
      "\n",
      "See the caveats in the documentation: https://pandas.pydata.org/pandas-docs/stable/user_guide/indexing.html#returning-a-view-versus-a-copy\n",
      "\n",
      "C:\\Users\\HP\\AppData\\Local\\Temp\\ipykernel_13292\\1425697598.py:17: SettingWithCopyWarning:\n",
      "\n",
      "\n",
      "A value is trying to be set on a copy of a slice from a DataFrame.\n",
      "Try using .loc[row_indexer,col_indexer] = value instead\n",
      "\n",
      "See the caveats in the documentation: https://pandas.pydata.org/pandas-docs/stable/user_guide/indexing.html#returning-a-view-versus-a-copy\n",
      "\n",
      "C:\\Users\\HP\\AppData\\Local\\Temp\\ipykernel_13292\\1425697598.py:18: SettingWithCopyWarning:\n",
      "\n",
      "\n",
      "A value is trying to be set on a copy of a slice from a DataFrame.\n",
      "Try using .loc[row_indexer,col_indexer] = value instead\n",
      "\n",
      "See the caveats in the documentation: https://pandas.pydata.org/pandas-docs/stable/user_guide/indexing.html#returning-a-view-versus-a-copy\n",
      "\n",
      "C:\\Users\\HP\\AppData\\Local\\Temp\\ipykernel_13292\\1425697598.py:21: SettingWithCopyWarning:\n",
      "\n",
      "\n",
      "A value is trying to be set on a copy of a slice from a DataFrame.\n",
      "Try using .loc[row_indexer,col_indexer] = value instead\n",
      "\n",
      "See the caveats in the documentation: https://pandas.pydata.org/pandas-docs/stable/user_guide/indexing.html#returning-a-view-versus-a-copy\n",
      "\n",
      "C:\\Users\\HP\\AppData\\Local\\Temp\\ipykernel_13292\\1425697598.py:29: SettingWithCopyWarning:\n",
      "\n",
      "\n",
      "A value is trying to be set on a copy of a slice from a DataFrame.\n",
      "Try using .loc[row_indexer,col_indexer] = value instead\n",
      "\n",
      "See the caveats in the documentation: https://pandas.pydata.org/pandas-docs/stable/user_guide/indexing.html#returning-a-view-versus-a-copy\n",
      "\n",
      "C:\\Users\\HP\\AppData\\Local\\Temp\\ipykernel_13292\\1425697598.py:30: SettingWithCopyWarning:\n",
      "\n",
      "\n",
      "A value is trying to be set on a copy of a slice from a DataFrame.\n",
      "Try using .loc[row_indexer,col_indexer] = value instead\n",
      "\n",
      "See the caveats in the documentation: https://pandas.pydata.org/pandas-docs/stable/user_guide/indexing.html#returning-a-view-versus-a-copy\n",
      "\n",
      "C:\\Users\\HP\\AppData\\Local\\Temp\\ipykernel_13292\\1425697598.py:33: SettingWithCopyWarning:\n",
      "\n",
      "\n",
      "A value is trying to be set on a copy of a slice from a DataFrame.\n",
      "Try using .loc[row_indexer,col_indexer] = value instead\n",
      "\n",
      "See the caveats in the documentation: https://pandas.pydata.org/pandas-docs/stable/user_guide/indexing.html#returning-a-view-versus-a-copy\n",
      "\n",
      "C:\\Users\\HP\\AppData\\Local\\Temp\\ipykernel_13292\\1425697598.py:40: SettingWithCopyWarning:\n",
      "\n",
      "\n",
      "A value is trying to be set on a copy of a slice from a DataFrame.\n",
      "Try using .loc[row_indexer,col_indexer] = value instead\n",
      "\n",
      "See the caveats in the documentation: https://pandas.pydata.org/pandas-docs/stable/user_guide/indexing.html#returning-a-view-versus-a-copy\n",
      "\n",
      "C:\\Users\\HP\\AppData\\Local\\Temp\\ipykernel_13292\\1425697598.py:41: SettingWithCopyWarning:\n",
      "\n",
      "\n",
      "A value is trying to be set on a copy of a slice from a DataFrame.\n",
      "Try using .loc[row_indexer,col_indexer] = value instead\n",
      "\n",
      "See the caveats in the documentation: https://pandas.pydata.org/pandas-docs/stable/user_guide/indexing.html#returning-a-view-versus-a-copy\n",
      "\n",
      "C:\\Users\\HP\\AppData\\Local\\Temp\\ipykernel_13292\\1425697598.py:44: SettingWithCopyWarning:\n",
      "\n",
      "\n",
      "A value is trying to be set on a copy of a slice from a DataFrame.\n",
      "Try using .loc[row_indexer,col_indexer] = value instead\n",
      "\n",
      "See the caveats in the documentation: https://pandas.pydata.org/pandas-docs/stable/user_guide/indexing.html#returning-a-view-versus-a-copy\n",
      "\n",
      "C:\\Users\\HP\\AppData\\Local\\Temp\\ipykernel_13292\\1425697598.py:52: SettingWithCopyWarning:\n",
      "\n",
      "\n",
      "A value is trying to be set on a copy of a slice from a DataFrame.\n",
      "Try using .loc[row_indexer,col_indexer] = value instead\n",
      "\n",
      "See the caveats in the documentation: https://pandas.pydata.org/pandas-docs/stable/user_guide/indexing.html#returning-a-view-versus-a-copy\n",
      "\n",
      "C:\\Users\\HP\\AppData\\Local\\Temp\\ipykernel_13292\\1425697598.py:53: SettingWithCopyWarning:\n",
      "\n",
      "\n",
      "A value is trying to be set on a copy of a slice from a DataFrame.\n",
      "Try using .loc[row_indexer,col_indexer] = value instead\n",
      "\n",
      "See the caveats in the documentation: https://pandas.pydata.org/pandas-docs/stable/user_guide/indexing.html#returning-a-view-versus-a-copy\n",
      "\n",
      "C:\\Users\\HP\\AppData\\Local\\Temp\\ipykernel_13292\\1425697598.py:56: SettingWithCopyWarning:\n",
      "\n",
      "\n",
      "A value is trying to be set on a copy of a slice from a DataFrame.\n",
      "Try using .loc[row_indexer,col_indexer] = value instead\n",
      "\n",
      "See the caveats in the documentation: https://pandas.pydata.org/pandas-docs/stable/user_guide/indexing.html#returning-a-view-versus-a-copy\n",
      "\n",
      "C:\\Users\\HP\\AppData\\Local\\Temp\\ipykernel_13292\\1425697598.py:63: SettingWithCopyWarning:\n",
      "\n",
      "\n",
      "A value is trying to be set on a copy of a slice from a DataFrame.\n",
      "Try using .loc[row_indexer,col_indexer] = value instead\n",
      "\n",
      "See the caveats in the documentation: https://pandas.pydata.org/pandas-docs/stable/user_guide/indexing.html#returning-a-view-versus-a-copy\n",
      "\n",
      "C:\\Users\\HP\\AppData\\Local\\Temp\\ipykernel_13292\\1425697598.py:64: SettingWithCopyWarning:\n",
      "\n",
      "\n",
      "A value is trying to be set on a copy of a slice from a DataFrame.\n",
      "Try using .loc[row_indexer,col_indexer] = value instead\n",
      "\n",
      "See the caveats in the documentation: https://pandas.pydata.org/pandas-docs/stable/user_guide/indexing.html#returning-a-view-versus-a-copy\n",
      "\n",
      "C:\\Users\\HP\\AppData\\Local\\Temp\\ipykernel_13292\\1425697598.py:67: SettingWithCopyWarning:\n",
      "\n",
      "\n",
      "A value is trying to be set on a copy of a slice from a DataFrame.\n",
      "Try using .loc[row_indexer,col_indexer] = value instead\n",
      "\n",
      "See the caveats in the documentation: https://pandas.pydata.org/pandas-docs/stable/user_guide/indexing.html#returning-a-view-versus-a-copy\n",
      "\n",
      "C:\\Users\\HP\\AppData\\Local\\Temp\\ipykernel_13292\\1425697598.py:75: SettingWithCopyWarning:\n",
      "\n",
      "\n",
      "A value is trying to be set on a copy of a slice from a DataFrame.\n",
      "Try using .loc[row_indexer,col_indexer] = value instead\n",
      "\n",
      "See the caveats in the documentation: https://pandas.pydata.org/pandas-docs/stable/user_guide/indexing.html#returning-a-view-versus-a-copy\n",
      "\n",
      "C:\\Users\\HP\\AppData\\Local\\Temp\\ipykernel_13292\\1425697598.py:76: SettingWithCopyWarning:\n",
      "\n",
      "\n",
      "A value is trying to be set on a copy of a slice from a DataFrame.\n",
      "Try using .loc[row_indexer,col_indexer] = value instead\n",
      "\n",
      "See the caveats in the documentation: https://pandas.pydata.org/pandas-docs/stable/user_guide/indexing.html#returning-a-view-versus-a-copy\n",
      "\n",
      "C:\\Users\\HP\\AppData\\Local\\Temp\\ipykernel_13292\\1425697598.py:79: SettingWithCopyWarning:\n",
      "\n",
      "\n",
      "A value is trying to be set on a copy of a slice from a DataFrame.\n",
      "Try using .loc[row_indexer,col_indexer] = value instead\n",
      "\n",
      "See the caveats in the documentation: https://pandas.pydata.org/pandas-docs/stable/user_guide/indexing.html#returning-a-view-versus-a-copy\n",
      "\n"
     ]
    }
   ],
   "source": [
    "#2018: Meets Grade Level STD, Grade 3, By ethicity\n",
    "\n",
    "#African American\n",
    "# Replace '.' and '-1' with NaN in the column\n",
    "ethicity_df18['CDB03ARE1218R'] = ethicity_df18['CDB03ARE1218R'].replace('.', np.nan)\n",
    "ethicity_df18['CDB03ARE1218R'] = ethicity_df18['CDB03ARE1218R'].replace('-1', np.nan)\n",
    "\n",
    "# Convert the column to integer\n",
    "ethicity_df18['CDB03ARE1218R'] = ethicity_df18['CDB03ARE1218R'].astype(float).astype('Int64')\n",
    "\n",
    "# Now you can calculate the average\n",
    "average_value_meaa18 = ethicity_df18['CDB03ARE1218R'].mean()\n",
    "\n",
    "\n",
    "#American Indian\n",
    "# Replace '.' and '-1' with NaN in the column\n",
    "ethicity_df18['CDI03ARE1218R'] = ethicity_df18['CDI03ARE1218R'].replace('.', np.nan)\n",
    "ethicity_df18['CDI03ARE1218R'] = ethicity_df18['CDI03ARE1218R'].replace('-1', np.nan)\n",
    "\n",
    "# Convert the column to integer\n",
    "ethicity_df18['CDI03ARE1218R'] = ethicity_df18['CDI03ARE1218R'].astype(float).astype('Int64')\n",
    "\n",
    "# Now you can calculate the average\n",
    "average_value_meai18 = ethicity_df18['CDI03ARE1218R'].mean()\n",
    "\n",
    "\n",
    "#Asian\n",
    "# Replace '.' and '-1' with NaN in the column\n",
    "ethicity_df18['CD303ARE1218R'] = ethicity_df18['CD303ARE1218R'].replace('.', np.nan)\n",
    "ethicity_df18['CD303ARE1218R'] = ethicity_df18['CD303ARE1218R'].replace('-1', np.nan)\n",
    "\n",
    "# Convert the column to integer\n",
    "ethicity_df18['CD303ARE1218R'] = ethicity_df18['CD303ARE1218R'].astype(float).astype('Int64')\n",
    "\n",
    "# Now you can calculate the average\n",
    "average_value_mea18 = ethicity_df18['CD303ARE1218R'].mean()\n",
    "\n",
    "#Hispanics\n",
    "# Replace '.' and '-1' with NaN in the column\n",
    "ethicity_df18['CDH03ARE1218R'] = ethicity_df18['CDH03ARE1218R'].replace('.', np.nan)\n",
    "ethicity_df18['CDH03ARE1218R'] = ethicity_df18['CDH03ARE1218R'].replace('-1', np.nan)\n",
    "\n",
    "# Convert the column to integer\n",
    "ethicity_df18['CDH03ARE1218R'] = ethicity_df18['CDH03ARE1218R'].astype(float).astype('Int64')\n",
    "\n",
    "# Now you can calculate the average\n",
    "average_value_meh18 = ethicity_df18['CDH03ARE1218R'].mean()\n",
    "\n",
    "\n",
    "#Pacific Islander\n",
    "# Replace '.' and '-1' with NaN in the column\n",
    "ethicity_df18['CD403ARE1218R'] = ethicity_df18['CD403ARE1218R'].replace('.', np.nan)\n",
    "ethicity_df18['CD403ARE1218R'] = ethicity_df18['CD403ARE1218R'].replace('-1', np.nan)\n",
    "\n",
    "# Convert the column to integer\n",
    "ethicity_df18['CD403ARE1218R'] = ethicity_df18['CD403ARE1218R'].astype(float).astype('Int64')\n",
    "\n",
    "# Now you can calculate the average\n",
    "average_value_mepi18 = ethicity_df18['CD403ARE1218R'].mean()\n",
    "\n",
    "#Two or More\n",
    "# Replace '.' and '-1' with NaN in the column\n",
    "ethicity_df18['CD203ARE1218R'] = ethicity_df18['CD203ARE1218R'].replace('.', np.nan)\n",
    "ethicity_df18['CD203ARE1218R'] = ethicity_df18['CD203ARE1218R'].replace('-1', np.nan)\n",
    "\n",
    "# Convert the column to integer\n",
    "ethicity_df18['CD203ARE1218R'] = ethicity_df18['CD203ARE1218R'].astype(float).astype('Int64')\n",
    "\n",
    "# Now you can calculate the average\n",
    "average_value_me218 = ethicity_df18['CD203ARE1218R'].mean()\n",
    "\n",
    "\n",
    "#White\n",
    "# Replace '.' and '-1' with NaN in the column\n",
    "ethicity_df18['CDW03ARE1218R'] = ethicity_df18['CDW03ARE1218R'].replace('.', np.nan)\n",
    "ethicity_df18['CDW03ARE1218R'] = ethicity_df18['CDW03ARE1218R'].replace('-1', np.nan)\n",
    "\n",
    "# Convert the column to integer\n",
    "ethicity_df18['CDW03ARE1218R'] = ethicity_df18['CDW03ARE1218R'].astype(float).astype('Int64')\n",
    "\n",
    "# Now you can calculate the average\n",
    "average_value_mew18 = ethicity_df18['CDW03ARE1218R'].mean()\n",
    "\n",
    "\n",
    "\n"
   ]
  },
  {
   "cell_type": "code",
   "execution_count": null,
   "metadata": {},
   "outputs": [],
   "source": []
  },
  {
   "cell_type": "markdown",
   "metadata": {},
   "source": [
    "CDB03ARE1318R-Campus 2018 Domain 1A: Masters Grade Level STD, Grade 3, African American, STAAR Reading/ELA Rate\n",
    "CDI03ARE1318R-Campus 2018 Domain 1A: Masters Grade Level STD, Grade 3, American Indian, STAAR Reading/ELA Rate\n",
    "CD303ARE1318R-Campus 2018 Domain 1A: Masters Grade Level STD, Grade 3, Asian, STAAR Reading/ELA Rate\n",
    "CDH03ARE1318R-Campus 2018 Domain 1A: Masters Grade Level STD, Grade 3, Hispanic, STAAR Reading/ELA Rate\n",
    "CD403ARE1318R-Campus 2018 Domain 1A: Masters Grade Level STD, Grade 3, Pacific Islander, STAAR Reading/ELA Rate\n",
    "CD203ARE1318R-Campus 2018 Domain 1A: Masters Grade Level STD, Grade 3, Two or More Races, STAAR Reading/ELA Rate\n",
    "CDW03ARE1318R-Campus 2018 Domain 1A: Masters Grade Level STD, Grade 3, White, STAAR Reading/ELA Rate"
   ]
  },
  {
   "cell_type": "code",
   "execution_count": null,
   "metadata": {},
   "outputs": [
    {
     "name": "stderr",
     "output_type": "stream",
     "text": [
      "C:\\Users\\HP\\AppData\\Local\\Temp\\ipykernel_13292\\2661761951.py:5: SettingWithCopyWarning:\n",
      "\n",
      "\n",
      "A value is trying to be set on a copy of a slice from a DataFrame.\n",
      "Try using .loc[row_indexer,col_indexer] = value instead\n",
      "\n",
      "See the caveats in the documentation: https://pandas.pydata.org/pandas-docs/stable/user_guide/indexing.html#returning-a-view-versus-a-copy\n",
      "\n",
      "C:\\Users\\HP\\AppData\\Local\\Temp\\ipykernel_13292\\2661761951.py:6: SettingWithCopyWarning:\n",
      "\n",
      "\n",
      "A value is trying to be set on a copy of a slice from a DataFrame.\n",
      "Try using .loc[row_indexer,col_indexer] = value instead\n",
      "\n",
      "See the caveats in the documentation: https://pandas.pydata.org/pandas-docs/stable/user_guide/indexing.html#returning-a-view-versus-a-copy\n",
      "\n",
      "C:\\Users\\HP\\AppData\\Local\\Temp\\ipykernel_13292\\2661761951.py:9: SettingWithCopyWarning:\n",
      "\n",
      "\n",
      "A value is trying to be set on a copy of a slice from a DataFrame.\n",
      "Try using .loc[row_indexer,col_indexer] = value instead\n",
      "\n",
      "See the caveats in the documentation: https://pandas.pydata.org/pandas-docs/stable/user_guide/indexing.html#returning-a-view-versus-a-copy\n",
      "\n",
      "C:\\Users\\HP\\AppData\\Local\\Temp\\ipykernel_13292\\2661761951.py:17: SettingWithCopyWarning:\n",
      "\n",
      "\n",
      "A value is trying to be set on a copy of a slice from a DataFrame.\n",
      "Try using .loc[row_indexer,col_indexer] = value instead\n",
      "\n",
      "See the caveats in the documentation: https://pandas.pydata.org/pandas-docs/stable/user_guide/indexing.html#returning-a-view-versus-a-copy\n",
      "\n",
      "C:\\Users\\HP\\AppData\\Local\\Temp\\ipykernel_13292\\2661761951.py:18: SettingWithCopyWarning:\n",
      "\n",
      "\n",
      "A value is trying to be set on a copy of a slice from a DataFrame.\n",
      "Try using .loc[row_indexer,col_indexer] = value instead\n",
      "\n",
      "See the caveats in the documentation: https://pandas.pydata.org/pandas-docs/stable/user_guide/indexing.html#returning-a-view-versus-a-copy\n",
      "\n",
      "C:\\Users\\HP\\AppData\\Local\\Temp\\ipykernel_13292\\2661761951.py:21: SettingWithCopyWarning:\n",
      "\n",
      "\n",
      "A value is trying to be set on a copy of a slice from a DataFrame.\n",
      "Try using .loc[row_indexer,col_indexer] = value instead\n",
      "\n",
      "See the caveats in the documentation: https://pandas.pydata.org/pandas-docs/stable/user_guide/indexing.html#returning-a-view-versus-a-copy\n",
      "\n",
      "C:\\Users\\HP\\AppData\\Local\\Temp\\ipykernel_13292\\2661761951.py:29: SettingWithCopyWarning:\n",
      "\n",
      "\n",
      "A value is trying to be set on a copy of a slice from a DataFrame.\n",
      "Try using .loc[row_indexer,col_indexer] = value instead\n",
      "\n",
      "See the caveats in the documentation: https://pandas.pydata.org/pandas-docs/stable/user_guide/indexing.html#returning-a-view-versus-a-copy\n",
      "\n",
      "C:\\Users\\HP\\AppData\\Local\\Temp\\ipykernel_13292\\2661761951.py:30: SettingWithCopyWarning:\n",
      "\n",
      "\n",
      "A value is trying to be set on a copy of a slice from a DataFrame.\n",
      "Try using .loc[row_indexer,col_indexer] = value instead\n",
      "\n",
      "See the caveats in the documentation: https://pandas.pydata.org/pandas-docs/stable/user_guide/indexing.html#returning-a-view-versus-a-copy\n",
      "\n",
      "C:\\Users\\HP\\AppData\\Local\\Temp\\ipykernel_13292\\2661761951.py:33: SettingWithCopyWarning:\n",
      "\n",
      "\n",
      "A value is trying to be set on a copy of a slice from a DataFrame.\n",
      "Try using .loc[row_indexer,col_indexer] = value instead\n",
      "\n",
      "See the caveats in the documentation: https://pandas.pydata.org/pandas-docs/stable/user_guide/indexing.html#returning-a-view-versus-a-copy\n",
      "\n",
      "C:\\Users\\HP\\AppData\\Local\\Temp\\ipykernel_13292\\2661761951.py:40: SettingWithCopyWarning:\n",
      "\n",
      "\n",
      "A value is trying to be set on a copy of a slice from a DataFrame.\n",
      "Try using .loc[row_indexer,col_indexer] = value instead\n",
      "\n",
      "See the caveats in the documentation: https://pandas.pydata.org/pandas-docs/stable/user_guide/indexing.html#returning-a-view-versus-a-copy\n",
      "\n",
      "C:\\Users\\HP\\AppData\\Local\\Temp\\ipykernel_13292\\2661761951.py:41: SettingWithCopyWarning:\n",
      "\n",
      "\n",
      "A value is trying to be set on a copy of a slice from a DataFrame.\n",
      "Try using .loc[row_indexer,col_indexer] = value instead\n",
      "\n",
      "See the caveats in the documentation: https://pandas.pydata.org/pandas-docs/stable/user_guide/indexing.html#returning-a-view-versus-a-copy\n",
      "\n",
      "C:\\Users\\HP\\AppData\\Local\\Temp\\ipykernel_13292\\2661761951.py:44: SettingWithCopyWarning:\n",
      "\n",
      "\n",
      "A value is trying to be set on a copy of a slice from a DataFrame.\n",
      "Try using .loc[row_indexer,col_indexer] = value instead\n",
      "\n",
      "See the caveats in the documentation: https://pandas.pydata.org/pandas-docs/stable/user_guide/indexing.html#returning-a-view-versus-a-copy\n",
      "\n",
      "C:\\Users\\HP\\AppData\\Local\\Temp\\ipykernel_13292\\2661761951.py:52: SettingWithCopyWarning:\n",
      "\n",
      "\n",
      "A value is trying to be set on a copy of a slice from a DataFrame.\n",
      "Try using .loc[row_indexer,col_indexer] = value instead\n",
      "\n",
      "See the caveats in the documentation: https://pandas.pydata.org/pandas-docs/stable/user_guide/indexing.html#returning-a-view-versus-a-copy\n",
      "\n",
      "C:\\Users\\HP\\AppData\\Local\\Temp\\ipykernel_13292\\2661761951.py:53: SettingWithCopyWarning:\n",
      "\n",
      "\n",
      "A value is trying to be set on a copy of a slice from a DataFrame.\n",
      "Try using .loc[row_indexer,col_indexer] = value instead\n",
      "\n",
      "See the caveats in the documentation: https://pandas.pydata.org/pandas-docs/stable/user_guide/indexing.html#returning-a-view-versus-a-copy\n",
      "\n",
      "C:\\Users\\HP\\AppData\\Local\\Temp\\ipykernel_13292\\2661761951.py:56: SettingWithCopyWarning:\n",
      "\n",
      "\n",
      "A value is trying to be set on a copy of a slice from a DataFrame.\n",
      "Try using .loc[row_indexer,col_indexer] = value instead\n",
      "\n",
      "See the caveats in the documentation: https://pandas.pydata.org/pandas-docs/stable/user_guide/indexing.html#returning-a-view-versus-a-copy\n",
      "\n",
      "C:\\Users\\HP\\AppData\\Local\\Temp\\ipykernel_13292\\2661761951.py:63: SettingWithCopyWarning:\n",
      "\n",
      "\n",
      "A value is trying to be set on a copy of a slice from a DataFrame.\n",
      "Try using .loc[row_indexer,col_indexer] = value instead\n",
      "\n",
      "See the caveats in the documentation: https://pandas.pydata.org/pandas-docs/stable/user_guide/indexing.html#returning-a-view-versus-a-copy\n",
      "\n",
      "C:\\Users\\HP\\AppData\\Local\\Temp\\ipykernel_13292\\2661761951.py:64: SettingWithCopyWarning:\n",
      "\n",
      "\n",
      "A value is trying to be set on a copy of a slice from a DataFrame.\n",
      "Try using .loc[row_indexer,col_indexer] = value instead\n",
      "\n",
      "See the caveats in the documentation: https://pandas.pydata.org/pandas-docs/stable/user_guide/indexing.html#returning-a-view-versus-a-copy\n",
      "\n",
      "C:\\Users\\HP\\AppData\\Local\\Temp\\ipykernel_13292\\2661761951.py:67: SettingWithCopyWarning:\n",
      "\n",
      "\n",
      "A value is trying to be set on a copy of a slice from a DataFrame.\n",
      "Try using .loc[row_indexer,col_indexer] = value instead\n",
      "\n",
      "See the caveats in the documentation: https://pandas.pydata.org/pandas-docs/stable/user_guide/indexing.html#returning-a-view-versus-a-copy\n",
      "\n",
      "C:\\Users\\HP\\AppData\\Local\\Temp\\ipykernel_13292\\2661761951.py:75: SettingWithCopyWarning:\n",
      "\n",
      "\n",
      "A value is trying to be set on a copy of a slice from a DataFrame.\n",
      "Try using .loc[row_indexer,col_indexer] = value instead\n",
      "\n",
      "See the caveats in the documentation: https://pandas.pydata.org/pandas-docs/stable/user_guide/indexing.html#returning-a-view-versus-a-copy\n",
      "\n",
      "C:\\Users\\HP\\AppData\\Local\\Temp\\ipykernel_13292\\2661761951.py:76: SettingWithCopyWarning:\n",
      "\n",
      "\n",
      "A value is trying to be set on a copy of a slice from a DataFrame.\n",
      "Try using .loc[row_indexer,col_indexer] = value instead\n",
      "\n",
      "See the caveats in the documentation: https://pandas.pydata.org/pandas-docs/stable/user_guide/indexing.html#returning-a-view-versus-a-copy\n",
      "\n",
      "C:\\Users\\HP\\AppData\\Local\\Temp\\ipykernel_13292\\2661761951.py:79: SettingWithCopyWarning:\n",
      "\n",
      "\n",
      "A value is trying to be set on a copy of a slice from a DataFrame.\n",
      "Try using .loc[row_indexer,col_indexer] = value instead\n",
      "\n",
      "See the caveats in the documentation: https://pandas.pydata.org/pandas-docs/stable/user_guide/indexing.html#returning-a-view-versus-a-copy\n",
      "\n"
     ]
    }
   ],
   "source": [
    "#2018: Masters Grade Level STD, Grade 3, By ethicity\n",
    "\n",
    "#African American\n",
    "# Replace '.' and '-1' with NaN in the column\n",
    "ethicity_df18['CDB03ARE1318R'] = ethicity_df18['CDB03ARE1318R'].replace('.', np.nan)\n",
    "ethicity_df18['CDB03ARE1318R'] = ethicity_df18['CDB03ARE1318R'].replace('-1', np.nan)\n",
    "\n",
    "# Convert the column to integer\n",
    "ethicity_df18['CDB03ARE1318R'] = ethicity_df18['CDB03ARE1318R'].astype(float).astype('Int64')\n",
    "\n",
    "# Now you can calculate the average\n",
    "average_value_maaa18 = ethicity_df18['CDB03ARE1318R'].mean()\n",
    "\n",
    "\n",
    "#American Indian\n",
    "# Replace '.' and '-1' with NaN in the column\n",
    "ethicity_df18['CDI03ARE1318R'] = ethicity_df18['CDI03ARE1318R'].replace('.', np.nan)\n",
    "ethicity_df18['CDI03ARE1318R'] = ethicity_df18['CDI03ARE1318R'].replace('-1', np.nan)\n",
    "\n",
    "# Convert the column to integer\n",
    "ethicity_df18['CDI03ARE1318R'] = ethicity_df18['CDI03ARE1318R'].astype(float).astype('Int64')\n",
    "\n",
    "# Now you can calculate the average\n",
    "average_value_maai18 = ethicity_df18['CDI03ARE1318R'].mean()\n",
    "\n",
    "\n",
    "#Asian\n",
    "# Replace '.' and '-1' with NaN in the column\n",
    "ethicity_df18['CD303ARE1318R'] = ethicity_df18['CD303ARE1318R'].replace('.', np.nan)\n",
    "ethicity_df18['CD303ARE1318R'] = ethicity_df18['CD303ARE1318R'].replace('-1', np.nan)\n",
    "\n",
    "# Convert the column to integer\n",
    "ethicity_df18['CD303ARE1318R'] = ethicity_df18['CD303ARE1318R'].astype(float).astype('Int64')\n",
    "\n",
    "# Now you can calculate the average\n",
    "average_value_maa18 = ethicity_df18['CD303ARE1318R'].mean()\n",
    "\n",
    "#Hispanics\n",
    "# Replace '.' and '-1' with NaN in the column\n",
    "ethicity_df18['CDH03ARE1318R'] = ethicity_df18['CDH03ARE1318R'].replace('.', np.nan)\n",
    "ethicity_df18['CDH03ARE1318R'] = ethicity_df18['CDH03ARE1318R'].replace('-1', np.nan)\n",
    "\n",
    "# Convert the column to integer\n",
    "ethicity_df18['CDH03ARE1318R'] = ethicity_df18['CDH03ARE1318R'].astype(float).astype('Int64')\n",
    "\n",
    "# Now you can calculate the average\n",
    "average_value_mah18 = ethicity_df18['CDH03ARE1318R'].mean()\n",
    "\n",
    "\n",
    "#Pacific Islander\n",
    "# Replace '.' and '-1' with NaN in the column\n",
    "ethicity_df18['CD403ARE1318R'] = ethicity_df18['CD403ARE1318R'].replace('.', np.nan)\n",
    "ethicity_df18['CD403ARE1318R'] = ethicity_df18['CD403ARE1318R'].replace('-1', np.nan)\n",
    "\n",
    "# Convert the column to integer\n",
    "ethicity_df18['CD403ARE1318R'] = ethicity_df18['CD403ARE1318R'].astype(float).astype('Int64')\n",
    "\n",
    "# Now you can calculate the average\n",
    "average_value_mapi18 = ethicity_df18['CD403ARE1318R'].mean()\n",
    "\n",
    "#Two or More\n",
    "# Replace '.' and '-1' with NaN in the column\n",
    "ethicity_df18['CD203ARE1318R'] = ethicity_df18['CD203ARE1318R'].replace('.', np.nan)\n",
    "ethicity_df18['CD203ARE1318R'] = ethicity_df18['CD203ARE1318R'].replace('-1', np.nan)\n",
    "\n",
    "# Convert the column to integer\n",
    "ethicity_df18['CD203ARE1318R'] = ethicity_df18['CD203ARE1318R'].astype(float).astype('Int64')\n",
    "\n",
    "# Now you can calculate the average\n",
    "average_value_ma218 = ethicity_df18['CD203ARE1318R'].mean()\n",
    "\n",
    "\n",
    "#White\n",
    "# Replace '.' and '-1' with NaN in the column\n",
    "ethicity_df18['CDW03ARE1318R'] = ethicity_df18['CDW03ARE1318R'].replace('.', np.nan)\n",
    "ethicity_df18['CDW03ARE1318R'] = ethicity_df18['CDW03ARE1318R'].replace('-1', np.nan)\n",
    "\n",
    "# Convert the column to integer\n",
    "ethicity_df18['CDW03ARE1318R'] = ethicity_df18['CDW03ARE1318R'].astype(float).astype('Int64')\n",
    "\n",
    "# Now you can calculate the average\n",
    "average_value_maw18 = ethicity_df18['CDW03ARE1318R'].mean()\n",
    "\n",
    "\n",
    "\n"
   ]
  },
  {
   "cell_type": "code",
   "execution_count": null,
   "metadata": {},
   "outputs": [
    {
     "data": {
      "application/vnd.plotly.v1+json": {
       "config": {
        "plotlyServerURL": "https://plot.ly"
       },
       "data": [
        {
         "name": "Approaches Grade Level STD",
         "type": "bar",
         "x": [
          "African American",
          "American Indian",
          "Asian",
          "Hispanic",
          "Pacific Islander",
          "Two or More",
          "White"
         ],
         "y": [
          68.12545955882354,
          72.24137931034483,
          90.70725707257073,
          75.28372539606337,
          68,
          86.84078212290503,
          84.83509933774835
         ]
        },
        {
         "name": "Meets Grade Level STD",
         "type": "bar",
         "x": [
          "African American",
          "American Indian",
          "Asian",
          "Hispanic",
          "Pacific Islander",
          "Two or More",
          "White"
         ],
         "y": [
          31.91360294117647,
          30.03448275862069,
          65.48954489544896,
          38.224915986557846,
          28.571428571428573,
          56.58798882681564,
          53.899668874172185
         ]
        },
        {
         "name": "Masters Grade Level STD",
         "type": "bar",
         "x": [
          "African American",
          "American Indian",
          "Asian",
          "Hispanic",
          "Pacific Islander",
          "Two or More",
          "White"
         ],
         "y": [
          16.172794117647058,
          15.862068965517242,
          45.162361623616235,
          19.87325972155545,
          14.714285714285714,
          35.452513966480446,
          33.18112582781457
         ]
        }
       ],
       "layout": {
        "template": {
         "data": {
          "bar": [
           {
            "error_x": {
             "color": "#2a3f5f"
            },
            "error_y": {
             "color": "#2a3f5f"
            },
            "marker": {
             "line": {
              "color": "#E5ECF6",
              "width": 0.5
             },
             "pattern": {
              "fillmode": "overlay",
              "size": 10,
              "solidity": 0.2
             }
            },
            "type": "bar"
           }
          ],
          "barpolar": [
           {
            "marker": {
             "line": {
              "color": "#E5ECF6",
              "width": 0.5
             },
             "pattern": {
              "fillmode": "overlay",
              "size": 10,
              "solidity": 0.2
             }
            },
            "type": "barpolar"
           }
          ],
          "carpet": [
           {
            "aaxis": {
             "endlinecolor": "#2a3f5f",
             "gridcolor": "white",
             "linecolor": "white",
             "minorgridcolor": "white",
             "startlinecolor": "#2a3f5f"
            },
            "baxis": {
             "endlinecolor": "#2a3f5f",
             "gridcolor": "white",
             "linecolor": "white",
             "minorgridcolor": "white",
             "startlinecolor": "#2a3f5f"
            },
            "type": "carpet"
           }
          ],
          "choropleth": [
           {
            "colorbar": {
             "outlinewidth": 0,
             "ticks": ""
            },
            "type": "choropleth"
           }
          ],
          "contour": [
           {
            "colorbar": {
             "outlinewidth": 0,
             "ticks": ""
            },
            "colorscale": [
             [
              0,
              "#0d0887"
             ],
             [
              0.1111111111111111,
              "#46039f"
             ],
             [
              0.2222222222222222,
              "#7201a8"
             ],
             [
              0.3333333333333333,
              "#9c179e"
             ],
             [
              0.4444444444444444,
              "#bd3786"
             ],
             [
              0.5555555555555556,
              "#d8576b"
             ],
             [
              0.6666666666666666,
              "#ed7953"
             ],
             [
              0.7777777777777778,
              "#fb9f3a"
             ],
             [
              0.8888888888888888,
              "#fdca26"
             ],
             [
              1,
              "#f0f921"
             ]
            ],
            "type": "contour"
           }
          ],
          "contourcarpet": [
           {
            "colorbar": {
             "outlinewidth": 0,
             "ticks": ""
            },
            "type": "contourcarpet"
           }
          ],
          "heatmap": [
           {
            "colorbar": {
             "outlinewidth": 0,
             "ticks": ""
            },
            "colorscale": [
             [
              0,
              "#0d0887"
             ],
             [
              0.1111111111111111,
              "#46039f"
             ],
             [
              0.2222222222222222,
              "#7201a8"
             ],
             [
              0.3333333333333333,
              "#9c179e"
             ],
             [
              0.4444444444444444,
              "#bd3786"
             ],
             [
              0.5555555555555556,
              "#d8576b"
             ],
             [
              0.6666666666666666,
              "#ed7953"
             ],
             [
              0.7777777777777778,
              "#fb9f3a"
             ],
             [
              0.8888888888888888,
              "#fdca26"
             ],
             [
              1,
              "#f0f921"
             ]
            ],
            "type": "heatmap"
           }
          ],
          "heatmapgl": [
           {
            "colorbar": {
             "outlinewidth": 0,
             "ticks": ""
            },
            "colorscale": [
             [
              0,
              "#0d0887"
             ],
             [
              0.1111111111111111,
              "#46039f"
             ],
             [
              0.2222222222222222,
              "#7201a8"
             ],
             [
              0.3333333333333333,
              "#9c179e"
             ],
             [
              0.4444444444444444,
              "#bd3786"
             ],
             [
              0.5555555555555556,
              "#d8576b"
             ],
             [
              0.6666666666666666,
              "#ed7953"
             ],
             [
              0.7777777777777778,
              "#fb9f3a"
             ],
             [
              0.8888888888888888,
              "#fdca26"
             ],
             [
              1,
              "#f0f921"
             ]
            ],
            "type": "heatmapgl"
           }
          ],
          "histogram": [
           {
            "marker": {
             "pattern": {
              "fillmode": "overlay",
              "size": 10,
              "solidity": 0.2
             }
            },
            "type": "histogram"
           }
          ],
          "histogram2d": [
           {
            "colorbar": {
             "outlinewidth": 0,
             "ticks": ""
            },
            "colorscale": [
             [
              0,
              "#0d0887"
             ],
             [
              0.1111111111111111,
              "#46039f"
             ],
             [
              0.2222222222222222,
              "#7201a8"
             ],
             [
              0.3333333333333333,
              "#9c179e"
             ],
             [
              0.4444444444444444,
              "#bd3786"
             ],
             [
              0.5555555555555556,
              "#d8576b"
             ],
             [
              0.6666666666666666,
              "#ed7953"
             ],
             [
              0.7777777777777778,
              "#fb9f3a"
             ],
             [
              0.8888888888888888,
              "#fdca26"
             ],
             [
              1,
              "#f0f921"
             ]
            ],
            "type": "histogram2d"
           }
          ],
          "histogram2dcontour": [
           {
            "colorbar": {
             "outlinewidth": 0,
             "ticks": ""
            },
            "colorscale": [
             [
              0,
              "#0d0887"
             ],
             [
              0.1111111111111111,
              "#46039f"
             ],
             [
              0.2222222222222222,
              "#7201a8"
             ],
             [
              0.3333333333333333,
              "#9c179e"
             ],
             [
              0.4444444444444444,
              "#bd3786"
             ],
             [
              0.5555555555555556,
              "#d8576b"
             ],
             [
              0.6666666666666666,
              "#ed7953"
             ],
             [
              0.7777777777777778,
              "#fb9f3a"
             ],
             [
              0.8888888888888888,
              "#fdca26"
             ],
             [
              1,
              "#f0f921"
             ]
            ],
            "type": "histogram2dcontour"
           }
          ],
          "mesh3d": [
           {
            "colorbar": {
             "outlinewidth": 0,
             "ticks": ""
            },
            "type": "mesh3d"
           }
          ],
          "parcoords": [
           {
            "line": {
             "colorbar": {
              "outlinewidth": 0,
              "ticks": ""
             }
            },
            "type": "parcoords"
           }
          ],
          "pie": [
           {
            "automargin": true,
            "type": "pie"
           }
          ],
          "scatter": [
           {
            "fillpattern": {
             "fillmode": "overlay",
             "size": 10,
             "solidity": 0.2
            },
            "type": "scatter"
           }
          ],
          "scatter3d": [
           {
            "line": {
             "colorbar": {
              "outlinewidth": 0,
              "ticks": ""
             }
            },
            "marker": {
             "colorbar": {
              "outlinewidth": 0,
              "ticks": ""
             }
            },
            "type": "scatter3d"
           }
          ],
          "scattercarpet": [
           {
            "marker": {
             "colorbar": {
              "outlinewidth": 0,
              "ticks": ""
             }
            },
            "type": "scattercarpet"
           }
          ],
          "scattergeo": [
           {
            "marker": {
             "colorbar": {
              "outlinewidth": 0,
              "ticks": ""
             }
            },
            "type": "scattergeo"
           }
          ],
          "scattergl": [
           {
            "marker": {
             "colorbar": {
              "outlinewidth": 0,
              "ticks": ""
             }
            },
            "type": "scattergl"
           }
          ],
          "scattermapbox": [
           {
            "marker": {
             "colorbar": {
              "outlinewidth": 0,
              "ticks": ""
             }
            },
            "type": "scattermapbox"
           }
          ],
          "scatterpolar": [
           {
            "marker": {
             "colorbar": {
              "outlinewidth": 0,
              "ticks": ""
             }
            },
            "type": "scatterpolar"
           }
          ],
          "scatterpolargl": [
           {
            "marker": {
             "colorbar": {
              "outlinewidth": 0,
              "ticks": ""
             }
            },
            "type": "scatterpolargl"
           }
          ],
          "scatterternary": [
           {
            "marker": {
             "colorbar": {
              "outlinewidth": 0,
              "ticks": ""
             }
            },
            "type": "scatterternary"
           }
          ],
          "surface": [
           {
            "colorbar": {
             "outlinewidth": 0,
             "ticks": ""
            },
            "colorscale": [
             [
              0,
              "#0d0887"
             ],
             [
              0.1111111111111111,
              "#46039f"
             ],
             [
              0.2222222222222222,
              "#7201a8"
             ],
             [
              0.3333333333333333,
              "#9c179e"
             ],
             [
              0.4444444444444444,
              "#bd3786"
             ],
             [
              0.5555555555555556,
              "#d8576b"
             ],
             [
              0.6666666666666666,
              "#ed7953"
             ],
             [
              0.7777777777777778,
              "#fb9f3a"
             ],
             [
              0.8888888888888888,
              "#fdca26"
             ],
             [
              1,
              "#f0f921"
             ]
            ],
            "type": "surface"
           }
          ],
          "table": [
           {
            "cells": {
             "fill": {
              "color": "#EBF0F8"
             },
             "line": {
              "color": "white"
             }
            },
            "header": {
             "fill": {
              "color": "#C8D4E3"
             },
             "line": {
              "color": "white"
             }
            },
            "type": "table"
           }
          ]
         },
         "layout": {
          "annotationdefaults": {
           "arrowcolor": "#2a3f5f",
           "arrowhead": 0,
           "arrowwidth": 1
          },
          "autotypenumbers": "strict",
          "coloraxis": {
           "colorbar": {
            "outlinewidth": 0,
            "ticks": ""
           }
          },
          "colorscale": {
           "diverging": [
            [
             0,
             "#8e0152"
            ],
            [
             0.1,
             "#c51b7d"
            ],
            [
             0.2,
             "#de77ae"
            ],
            [
             0.3,
             "#f1b6da"
            ],
            [
             0.4,
             "#fde0ef"
            ],
            [
             0.5,
             "#f7f7f7"
            ],
            [
             0.6,
             "#e6f5d0"
            ],
            [
             0.7,
             "#b8e186"
            ],
            [
             0.8,
             "#7fbc41"
            ],
            [
             0.9,
             "#4d9221"
            ],
            [
             1,
             "#276419"
            ]
           ],
           "sequential": [
            [
             0,
             "#0d0887"
            ],
            [
             0.1111111111111111,
             "#46039f"
            ],
            [
             0.2222222222222222,
             "#7201a8"
            ],
            [
             0.3333333333333333,
             "#9c179e"
            ],
            [
             0.4444444444444444,
             "#bd3786"
            ],
            [
             0.5555555555555556,
             "#d8576b"
            ],
            [
             0.6666666666666666,
             "#ed7953"
            ],
            [
             0.7777777777777778,
             "#fb9f3a"
            ],
            [
             0.8888888888888888,
             "#fdca26"
            ],
            [
             1,
             "#f0f921"
            ]
           ],
           "sequentialminus": [
            [
             0,
             "#0d0887"
            ],
            [
             0.1111111111111111,
             "#46039f"
            ],
            [
             0.2222222222222222,
             "#7201a8"
            ],
            [
             0.3333333333333333,
             "#9c179e"
            ],
            [
             0.4444444444444444,
             "#bd3786"
            ],
            [
             0.5555555555555556,
             "#d8576b"
            ],
            [
             0.6666666666666666,
             "#ed7953"
            ],
            [
             0.7777777777777778,
             "#fb9f3a"
            ],
            [
             0.8888888888888888,
             "#fdca26"
            ],
            [
             1,
             "#f0f921"
            ]
           ]
          },
          "colorway": [
           "#636efa",
           "#EF553B",
           "#00cc96",
           "#ab63fa",
           "#FFA15A",
           "#19d3f3",
           "#FF6692",
           "#B6E880",
           "#FF97FF",
           "#FECB52"
          ],
          "font": {
           "color": "#2a3f5f"
          },
          "geo": {
           "bgcolor": "white",
           "lakecolor": "white",
           "landcolor": "#E5ECF6",
           "showlakes": true,
           "showland": true,
           "subunitcolor": "white"
          },
          "hoverlabel": {
           "align": "left"
          },
          "hovermode": "closest",
          "mapbox": {
           "style": "light"
          },
          "paper_bgcolor": "white",
          "plot_bgcolor": "#E5ECF6",
          "polar": {
           "angularaxis": {
            "gridcolor": "white",
            "linecolor": "white",
            "ticks": ""
           },
           "bgcolor": "#E5ECF6",
           "radialaxis": {
            "gridcolor": "white",
            "linecolor": "white",
            "ticks": ""
           }
          },
          "scene": {
           "xaxis": {
            "backgroundcolor": "#E5ECF6",
            "gridcolor": "white",
            "gridwidth": 2,
            "linecolor": "white",
            "showbackground": true,
            "ticks": "",
            "zerolinecolor": "white"
           },
           "yaxis": {
            "backgroundcolor": "#E5ECF6",
            "gridcolor": "white",
            "gridwidth": 2,
            "linecolor": "white",
            "showbackground": true,
            "ticks": "",
            "zerolinecolor": "white"
           },
           "zaxis": {
            "backgroundcolor": "#E5ECF6",
            "gridcolor": "white",
            "gridwidth": 2,
            "linecolor": "white",
            "showbackground": true,
            "ticks": "",
            "zerolinecolor": "white"
           }
          },
          "shapedefaults": {
           "line": {
            "color": "#2a3f5f"
           }
          },
          "ternary": {
           "aaxis": {
            "gridcolor": "white",
            "linecolor": "white",
            "ticks": ""
           },
           "baxis": {
            "gridcolor": "white",
            "linecolor": "white",
            "ticks": ""
           },
           "bgcolor": "#E5ECF6",
           "caxis": {
            "gridcolor": "white",
            "linecolor": "white",
            "ticks": ""
           }
          },
          "title": {
           "x": 0.05
          },
          "xaxis": {
           "automargin": true,
           "gridcolor": "white",
           "linecolor": "white",
           "ticks": "",
           "title": {
            "standoff": 15
           },
           "zerolinecolor": "white",
           "zerolinewidth": 2
          },
          "yaxis": {
           "automargin": true,
           "gridcolor": "white",
           "linecolor": "white",
           "ticks": "",
           "title": {
            "standoff": 15
           },
           "zerolinecolor": "white",
           "zerolinewidth": 2
          }
         }
        },
        "title": {
         "text": "2018: Approaches, Meets, Masters Grade Level STD for Grade 3 by Ethnicity"
        },
        "xaxis": {
         "title": {
          "text": "Ethnicity"
         }
        },
        "yaxis": {
         "title": {
          "text": "Average Grade Level STD"
         }
        }
       }
      }
     },
     "metadata": {},
     "output_type": "display_data"
    }
   ],
   "source": [
    "import plotly.graph_objects as go\n",
    "\n",
    "# Define ethnicities\n",
    "ethnicities = ['African American', 'American Indian', 'Asian', 'Hispanic', 'Pacific Islander', 'Two or More', 'White']\n",
    "\n",
    "# Define average values for Approaches Grade Level STD for Grade 3 by ethnicity (replace with your calculated values)\n",
    "average_values_approaches = [average_value_appaa18, average_value_appai18, average_value_appa18, average_value_apph18, average_value_apppi18, average_value_app218, average_value_appw18]\n",
    "\n",
    "# Create trace for Approaches Grade Level STD\n",
    "trace_approaches = go.Bar(\n",
    "    x=ethnicities,\n",
    "    y=average_values_approaches,\n",
    "    name='Approaches Grade Level STD'\n",
    ")\n",
    "\n",
    "# Define average values for Meets Grade Level STD for Grade 3 by ethnicity (replace with your calculated values)\n",
    "average_values_meets = [average_value_meaa18, average_value_meai18, average_value_mea18, average_value_meh18, average_value_mepi18, average_value_me218, average_value_mew18]\n",
    "\n",
    "# Create trace for Meets Grade Level STD\n",
    "trace_meets = go.Bar(\n",
    "    x=ethnicities,\n",
    "    y=average_values_meets,\n",
    "    name='Meets Grade Level STD'\n",
    ")\n",
    "\n",
    "# Define average values for Masters Grade Level STD for Grade 3 by ethnicity (replace with your calculated values)\n",
    "average_values_masters = [average_value_maaa18, average_value_maai18, average_value_maa18, average_value_mah18, average_value_mapi18, average_value_ma218, average_value_maw18]\n",
    "\n",
    "# Create trace for Masters Grade Level STD\n",
    "trace_masters = go.Bar(\n",
    "    x=ethnicities,\n",
    "    y=average_values_masters,\n",
    "    name='Masters Grade Level STD'\n",
    ")\n",
    "\n",
    "# Create data list\n",
    "data = [trace_approaches, trace_meets, trace_masters]\n",
    "\n",
    "# Define layout\n",
    "layout = go.Layout(\n",
    "    title='2018: Approaches, Meets, Masters Grade Level STD for Grade 3 by Ethnicity',\n",
    "    xaxis=dict(title='Ethnicity'),\n",
    "    yaxis=dict(title='Average Grade Level STD')\n",
    ")\n",
    "\n",
    "# Create figure\n",
    "fig = go.Figure(data=data, layout=layout)\n",
    "\n",
    "# Show figure\n",
    "fig.show()\n"
   ]
  },
  {
   "cell_type": "markdown",
   "metadata": {},
   "source": [
    "2018 Vs 2019"
   ]
  },
  {
   "cell_type": "code",
   "execution_count": null,
   "metadata": {},
   "outputs": [
    {
     "data": {
      "application/vnd.plotly.v1+json": {
       "config": {
        "plotlyServerURL": "https://plot.ly"
       },
       "data": [
        {
         "mode": "lines+markers",
         "name": "2018 - Approaches Grade Level STD",
         "type": "scatter",
         "x": [
          "African American",
          "American Indian",
          "Asian",
          "Hispanic",
          "Pacific Islander",
          "Two or More",
          "White"
         ],
         "y": [
          68.12545955882354,
          72.24137931034483,
          90.70725707257073,
          75.28372539606337,
          68,
          86.84078212290503,
          84.83509933774835
         ]
        },
        {
         "mode": "lines+markers",
         "name": "2018 - Meets Grade Level STD",
         "type": "scatter",
         "x": [
          "African American",
          "American Indian",
          "Asian",
          "Hispanic",
          "Pacific Islander",
          "Two or More",
          "White"
         ],
         "y": [
          31.91360294117647,
          30.03448275862069,
          65.48954489544896,
          38.224915986557846,
          28.571428571428573,
          56.58798882681564,
          53.899668874172185
         ]
        },
        {
         "mode": "lines+markers",
         "name": "2018 - Masters Grade Level STD",
         "type": "scatter",
         "x": [
          "African American",
          "American Indian",
          "Asian",
          "Hispanic",
          "Pacific Islander",
          "Two or More",
          "White"
         ],
         "y": [
          16.172794117647058,
          15.862068965517242,
          45.162361623616235,
          19.87325972155545,
          14.714285714285714,
          35.452513966480446,
          33.18112582781457
         ]
        },
        {
         "mode": "lines+markers",
         "name": "2019 - Approaches",
         "type": "scatter",
         "x": [
          "African American",
          "American Indian",
          "Asian",
          "Hispanic",
          "Pacific Islander",
          "Two or More",
          "White"
         ],
         "y": [
          67.38502673796792,
          63.76923076923077,
          89.66039952996475,
          73.97636492554952,
          75.66666666666667,
          83.33907284768212,
          82.72025190586676
         ]
        },
        {
         "mode": "lines+markers",
         "name": "2019 - Meets",
         "type": "scatter",
         "x": [
          "African American",
          "American Indian",
          "Asian",
          "Hispanic",
          "Pacific Islander",
          "Two or More",
          "White"
         ],
         "y": [
          34.07040998217469,
          33.23076923076923,
          68.32549941245594,
          40.21555187898842,
          47.916666666666664,
          54.59602649006622,
          53.43254888962546
         ]
        },
        {
         "mode": "lines+markers",
         "name": "2019 - Masters",
         "type": "scatter",
         "x": [
          "African American",
          "American Indian",
          "Asian",
          "Hispanic",
          "Pacific Islander",
          "Two or More",
          "White"
         ],
         "y": [
          18.78030303030303,
          14.307692307692308,
          50.2972972972973,
          22.968329000236352,
          30.083333333333332,
          37.61456953642384,
          34.83824991713623
         ]
        }
       ],
       "layout": {
        "template": {
         "data": {
          "bar": [
           {
            "error_x": {
             "color": "#2a3f5f"
            },
            "error_y": {
             "color": "#2a3f5f"
            },
            "marker": {
             "line": {
              "color": "#E5ECF6",
              "width": 0.5
             },
             "pattern": {
              "fillmode": "overlay",
              "size": 10,
              "solidity": 0.2
             }
            },
            "type": "bar"
           }
          ],
          "barpolar": [
           {
            "marker": {
             "line": {
              "color": "#E5ECF6",
              "width": 0.5
             },
             "pattern": {
              "fillmode": "overlay",
              "size": 10,
              "solidity": 0.2
             }
            },
            "type": "barpolar"
           }
          ],
          "carpet": [
           {
            "aaxis": {
             "endlinecolor": "#2a3f5f",
             "gridcolor": "white",
             "linecolor": "white",
             "minorgridcolor": "white",
             "startlinecolor": "#2a3f5f"
            },
            "baxis": {
             "endlinecolor": "#2a3f5f",
             "gridcolor": "white",
             "linecolor": "white",
             "minorgridcolor": "white",
             "startlinecolor": "#2a3f5f"
            },
            "type": "carpet"
           }
          ],
          "choropleth": [
           {
            "colorbar": {
             "outlinewidth": 0,
             "ticks": ""
            },
            "type": "choropleth"
           }
          ],
          "contour": [
           {
            "colorbar": {
             "outlinewidth": 0,
             "ticks": ""
            },
            "colorscale": [
             [
              0,
              "#0d0887"
             ],
             [
              0.1111111111111111,
              "#46039f"
             ],
             [
              0.2222222222222222,
              "#7201a8"
             ],
             [
              0.3333333333333333,
              "#9c179e"
             ],
             [
              0.4444444444444444,
              "#bd3786"
             ],
             [
              0.5555555555555556,
              "#d8576b"
             ],
             [
              0.6666666666666666,
              "#ed7953"
             ],
             [
              0.7777777777777778,
              "#fb9f3a"
             ],
             [
              0.8888888888888888,
              "#fdca26"
             ],
             [
              1,
              "#f0f921"
             ]
            ],
            "type": "contour"
           }
          ],
          "contourcarpet": [
           {
            "colorbar": {
             "outlinewidth": 0,
             "ticks": ""
            },
            "type": "contourcarpet"
           }
          ],
          "heatmap": [
           {
            "colorbar": {
             "outlinewidth": 0,
             "ticks": ""
            },
            "colorscale": [
             [
              0,
              "#0d0887"
             ],
             [
              0.1111111111111111,
              "#46039f"
             ],
             [
              0.2222222222222222,
              "#7201a8"
             ],
             [
              0.3333333333333333,
              "#9c179e"
             ],
             [
              0.4444444444444444,
              "#bd3786"
             ],
             [
              0.5555555555555556,
              "#d8576b"
             ],
             [
              0.6666666666666666,
              "#ed7953"
             ],
             [
              0.7777777777777778,
              "#fb9f3a"
             ],
             [
              0.8888888888888888,
              "#fdca26"
             ],
             [
              1,
              "#f0f921"
             ]
            ],
            "type": "heatmap"
           }
          ],
          "heatmapgl": [
           {
            "colorbar": {
             "outlinewidth": 0,
             "ticks": ""
            },
            "colorscale": [
             [
              0,
              "#0d0887"
             ],
             [
              0.1111111111111111,
              "#46039f"
             ],
             [
              0.2222222222222222,
              "#7201a8"
             ],
             [
              0.3333333333333333,
              "#9c179e"
             ],
             [
              0.4444444444444444,
              "#bd3786"
             ],
             [
              0.5555555555555556,
              "#d8576b"
             ],
             [
              0.6666666666666666,
              "#ed7953"
             ],
             [
              0.7777777777777778,
              "#fb9f3a"
             ],
             [
              0.8888888888888888,
              "#fdca26"
             ],
             [
              1,
              "#f0f921"
             ]
            ],
            "type": "heatmapgl"
           }
          ],
          "histogram": [
           {
            "marker": {
             "pattern": {
              "fillmode": "overlay",
              "size": 10,
              "solidity": 0.2
             }
            },
            "type": "histogram"
           }
          ],
          "histogram2d": [
           {
            "colorbar": {
             "outlinewidth": 0,
             "ticks": ""
            },
            "colorscale": [
             [
              0,
              "#0d0887"
             ],
             [
              0.1111111111111111,
              "#46039f"
             ],
             [
              0.2222222222222222,
              "#7201a8"
             ],
             [
              0.3333333333333333,
              "#9c179e"
             ],
             [
              0.4444444444444444,
              "#bd3786"
             ],
             [
              0.5555555555555556,
              "#d8576b"
             ],
             [
              0.6666666666666666,
              "#ed7953"
             ],
             [
              0.7777777777777778,
              "#fb9f3a"
             ],
             [
              0.8888888888888888,
              "#fdca26"
             ],
             [
              1,
              "#f0f921"
             ]
            ],
            "type": "histogram2d"
           }
          ],
          "histogram2dcontour": [
           {
            "colorbar": {
             "outlinewidth": 0,
             "ticks": ""
            },
            "colorscale": [
             [
              0,
              "#0d0887"
             ],
             [
              0.1111111111111111,
              "#46039f"
             ],
             [
              0.2222222222222222,
              "#7201a8"
             ],
             [
              0.3333333333333333,
              "#9c179e"
             ],
             [
              0.4444444444444444,
              "#bd3786"
             ],
             [
              0.5555555555555556,
              "#d8576b"
             ],
             [
              0.6666666666666666,
              "#ed7953"
             ],
             [
              0.7777777777777778,
              "#fb9f3a"
             ],
             [
              0.8888888888888888,
              "#fdca26"
             ],
             [
              1,
              "#f0f921"
             ]
            ],
            "type": "histogram2dcontour"
           }
          ],
          "mesh3d": [
           {
            "colorbar": {
             "outlinewidth": 0,
             "ticks": ""
            },
            "type": "mesh3d"
           }
          ],
          "parcoords": [
           {
            "line": {
             "colorbar": {
              "outlinewidth": 0,
              "ticks": ""
             }
            },
            "type": "parcoords"
           }
          ],
          "pie": [
           {
            "automargin": true,
            "type": "pie"
           }
          ],
          "scatter": [
           {
            "fillpattern": {
             "fillmode": "overlay",
             "size": 10,
             "solidity": 0.2
            },
            "type": "scatter"
           }
          ],
          "scatter3d": [
           {
            "line": {
             "colorbar": {
              "outlinewidth": 0,
              "ticks": ""
             }
            },
            "marker": {
             "colorbar": {
              "outlinewidth": 0,
              "ticks": ""
             }
            },
            "type": "scatter3d"
           }
          ],
          "scattercarpet": [
           {
            "marker": {
             "colorbar": {
              "outlinewidth": 0,
              "ticks": ""
             }
            },
            "type": "scattercarpet"
           }
          ],
          "scattergeo": [
           {
            "marker": {
             "colorbar": {
              "outlinewidth": 0,
              "ticks": ""
             }
            },
            "type": "scattergeo"
           }
          ],
          "scattergl": [
           {
            "marker": {
             "colorbar": {
              "outlinewidth": 0,
              "ticks": ""
             }
            },
            "type": "scattergl"
           }
          ],
          "scattermapbox": [
           {
            "marker": {
             "colorbar": {
              "outlinewidth": 0,
              "ticks": ""
             }
            },
            "type": "scattermapbox"
           }
          ],
          "scatterpolar": [
           {
            "marker": {
             "colorbar": {
              "outlinewidth": 0,
              "ticks": ""
             }
            },
            "type": "scatterpolar"
           }
          ],
          "scatterpolargl": [
           {
            "marker": {
             "colorbar": {
              "outlinewidth": 0,
              "ticks": ""
             }
            },
            "type": "scatterpolargl"
           }
          ],
          "scatterternary": [
           {
            "marker": {
             "colorbar": {
              "outlinewidth": 0,
              "ticks": ""
             }
            },
            "type": "scatterternary"
           }
          ],
          "surface": [
           {
            "colorbar": {
             "outlinewidth": 0,
             "ticks": ""
            },
            "colorscale": [
             [
              0,
              "#0d0887"
             ],
             [
              0.1111111111111111,
              "#46039f"
             ],
             [
              0.2222222222222222,
              "#7201a8"
             ],
             [
              0.3333333333333333,
              "#9c179e"
             ],
             [
              0.4444444444444444,
              "#bd3786"
             ],
             [
              0.5555555555555556,
              "#d8576b"
             ],
             [
              0.6666666666666666,
              "#ed7953"
             ],
             [
              0.7777777777777778,
              "#fb9f3a"
             ],
             [
              0.8888888888888888,
              "#fdca26"
             ],
             [
              1,
              "#f0f921"
             ]
            ],
            "type": "surface"
           }
          ],
          "table": [
           {
            "cells": {
             "fill": {
              "color": "#EBF0F8"
             },
             "line": {
              "color": "white"
             }
            },
            "header": {
             "fill": {
              "color": "#C8D4E3"
             },
             "line": {
              "color": "white"
             }
            },
            "type": "table"
           }
          ]
         },
         "layout": {
          "annotationdefaults": {
           "arrowcolor": "#2a3f5f",
           "arrowhead": 0,
           "arrowwidth": 1
          },
          "autotypenumbers": "strict",
          "coloraxis": {
           "colorbar": {
            "outlinewidth": 0,
            "ticks": ""
           }
          },
          "colorscale": {
           "diverging": [
            [
             0,
             "#8e0152"
            ],
            [
             0.1,
             "#c51b7d"
            ],
            [
             0.2,
             "#de77ae"
            ],
            [
             0.3,
             "#f1b6da"
            ],
            [
             0.4,
             "#fde0ef"
            ],
            [
             0.5,
             "#f7f7f7"
            ],
            [
             0.6,
             "#e6f5d0"
            ],
            [
             0.7,
             "#b8e186"
            ],
            [
             0.8,
             "#7fbc41"
            ],
            [
             0.9,
             "#4d9221"
            ],
            [
             1,
             "#276419"
            ]
           ],
           "sequential": [
            [
             0,
             "#0d0887"
            ],
            [
             0.1111111111111111,
             "#46039f"
            ],
            [
             0.2222222222222222,
             "#7201a8"
            ],
            [
             0.3333333333333333,
             "#9c179e"
            ],
            [
             0.4444444444444444,
             "#bd3786"
            ],
            [
             0.5555555555555556,
             "#d8576b"
            ],
            [
             0.6666666666666666,
             "#ed7953"
            ],
            [
             0.7777777777777778,
             "#fb9f3a"
            ],
            [
             0.8888888888888888,
             "#fdca26"
            ],
            [
             1,
             "#f0f921"
            ]
           ],
           "sequentialminus": [
            [
             0,
             "#0d0887"
            ],
            [
             0.1111111111111111,
             "#46039f"
            ],
            [
             0.2222222222222222,
             "#7201a8"
            ],
            [
             0.3333333333333333,
             "#9c179e"
            ],
            [
             0.4444444444444444,
             "#bd3786"
            ],
            [
             0.5555555555555556,
             "#d8576b"
            ],
            [
             0.6666666666666666,
             "#ed7953"
            ],
            [
             0.7777777777777778,
             "#fb9f3a"
            ],
            [
             0.8888888888888888,
             "#fdca26"
            ],
            [
             1,
             "#f0f921"
            ]
           ]
          },
          "colorway": [
           "#636efa",
           "#EF553B",
           "#00cc96",
           "#ab63fa",
           "#FFA15A",
           "#19d3f3",
           "#FF6692",
           "#B6E880",
           "#FF97FF",
           "#FECB52"
          ],
          "font": {
           "color": "#2a3f5f"
          },
          "geo": {
           "bgcolor": "white",
           "lakecolor": "white",
           "landcolor": "#E5ECF6",
           "showlakes": true,
           "showland": true,
           "subunitcolor": "white"
          },
          "hoverlabel": {
           "align": "left"
          },
          "hovermode": "closest",
          "mapbox": {
           "style": "light"
          },
          "paper_bgcolor": "white",
          "plot_bgcolor": "#E5ECF6",
          "polar": {
           "angularaxis": {
            "gridcolor": "white",
            "linecolor": "white",
            "ticks": ""
           },
           "bgcolor": "#E5ECF6",
           "radialaxis": {
            "gridcolor": "white",
            "linecolor": "white",
            "ticks": ""
           }
          },
          "scene": {
           "xaxis": {
            "backgroundcolor": "#E5ECF6",
            "gridcolor": "white",
            "gridwidth": 2,
            "linecolor": "white",
            "showbackground": true,
            "ticks": "",
            "zerolinecolor": "white"
           },
           "yaxis": {
            "backgroundcolor": "#E5ECF6",
            "gridcolor": "white",
            "gridwidth": 2,
            "linecolor": "white",
            "showbackground": true,
            "ticks": "",
            "zerolinecolor": "white"
           },
           "zaxis": {
            "backgroundcolor": "#E5ECF6",
            "gridcolor": "white",
            "gridwidth": 2,
            "linecolor": "white",
            "showbackground": true,
            "ticks": "",
            "zerolinecolor": "white"
           }
          },
          "shapedefaults": {
           "line": {
            "color": "#2a3f5f"
           }
          },
          "ternary": {
           "aaxis": {
            "gridcolor": "white",
            "linecolor": "white",
            "ticks": ""
           },
           "baxis": {
            "gridcolor": "white",
            "linecolor": "white",
            "ticks": ""
           },
           "bgcolor": "#E5ECF6",
           "caxis": {
            "gridcolor": "white",
            "linecolor": "white",
            "ticks": ""
           }
          },
          "title": {
           "x": 0.05
          },
          "xaxis": {
           "automargin": true,
           "gridcolor": "white",
           "linecolor": "white",
           "ticks": "",
           "title": {
            "standoff": 15
           },
           "zerolinecolor": "white",
           "zerolinewidth": 2
          },
          "yaxis": {
           "automargin": true,
           "gridcolor": "white",
           "linecolor": "white",
           "ticks": "",
           "title": {
            "standoff": 15
           },
           "zerolinecolor": "white",
           "zerolinewidth": 2
          }
         }
        },
        "title": {
         "text": "Domain 1A: Combined Performance Standards by Ethnicity (2018 Vs. 2019)"
        },
        "xaxis": {
         "title": {
          "text": "Ethnicity"
         }
        },
        "yaxis": {
         "title": {
          "text": "Average Grade Level STD (%)"
         }
        }
       }
      }
     },
     "metadata": {},
     "output_type": "display_data"
    }
   ],
   "source": [
    "\n",
    "import plotly.graph_objects as go\n",
    "import pandas as pd\n",
    "import numpy as np\n",
    "\n",
    "# Define ethnicities\n",
    "ethnicities = ['African American', 'American Indian', 'Asian', 'Hispanic', 'Pacific Islander', 'Two or More', 'White']\n",
    "\n",
    "# Sample data for demonstration for 2018\n",
    "average_values_approaches_2018 = [average_value_appaa18, average_value_appai18, average_value_appa18, average_value_apph18, average_value_apppi18, average_value_app218, average_value_appw18]\n",
    "average_values_meets_2018 = [average_value_meaa18, average_value_meai18, average_value_mea18, average_value_meh18, average_value_mepi18, average_value_me218, average_value_mew18]\n",
    "average_values_masters_2018 = [average_value_maaa18, average_value_maai18, average_value_maa18, average_value_mah18, average_value_mapi18, average_value_ma218, average_value_maw18]\n",
    "\n",
    "# Create traces for 2018 data\n",
    "trace_approaches_2018 = go.Scatter(\n",
    "    x=ethnicities,\n",
    "    y=average_values_approaches_2018,\n",
    "    mode='lines+markers',\n",
    "    name='2018 - Approaches Grade Level STD'\n",
    ")\n",
    "trace_meets_2018 = go.Scatter(\n",
    "    x=ethnicities,\n",
    "    y=average_values_meets_2018,\n",
    "    mode='lines+markers',\n",
    "    name='2018 - Meets Grade Level STD'\n",
    ")\n",
    "trace_masters_2018 = go.Scatter(\n",
    "    x=ethnicities,\n",
    "    y=average_values_masters_2018,\n",
    "    mode='lines+markers',\n",
    "    name='2018 - Masters Grade Level STD'\n",
    ")\n",
    "\n",
    "# Create subplot for 2018 data\n",
    "fig_2018 = go.Figure(data=[trace_approaches_2018, trace_meets_2018, trace_masters_2018])\n",
    "fig_2018.update_layout(title='2018: Approaches, Meets, Masters Grade Level STD for Grade 3 by Ethnicity')\n",
    "\n",
    "# Sample data for demonstration for 2019\n",
    "ethnicity_df_2019 = pd.DataFrame({\n",
    "    'Ethnicity': ['African American', 'American Indian', 'Asian', 'Hispanic', 'Pacific Islander', 'Two or More', 'White'],\n",
    "    'Average_Approaches_Grade_Level_STD': [average_value_appaa, average_value_appai, average_value_appa, average_value_apph, average_value_apppi, average_value_app2, average_value_appw],\n",
    "    'Average_Meets_Grade_Level_STD': [average_value_meaa, average_value_meai, average_value_mea, average_value_meh, average_value_mepi, average_value_me2, average_value_mew],\n",
    "    'Average_Masters_Grade_Level_STD': [average_value_maaa, average_value_maai, average_value_maa, average_value_mah, average_value_mapi, average_value_ma2, average_value_maw]\n",
    "})\n",
    "\n",
    "# Create traces for 2019 data\n",
    "trace1_2019 = go.Scatter(\n",
    "    x=ethnicity_df_2019['Ethnicity'],\n",
    "    y=ethnicity_df_2019['Average_Approaches_Grade_Level_STD'],\n",
    "    mode='lines+markers',\n",
    "    name='2019 - Approaches'\n",
    ")\n",
    "trace2_2019 = go.Scatter(\n",
    "    x=ethnicity_df_2019['Ethnicity'],\n",
    "    y=ethnicity_df_2019['Average_Meets_Grade_Level_STD'],\n",
    "    mode='lines+markers',\n",
    "    name='2019 - Meets'\n",
    ")\n",
    "trace3_2019 = go.Scatter(\n",
    "    x=ethnicity_df_2019['Ethnicity'],\n",
    "    y=ethnicity_df_2019['Average_Masters_Grade_Level_STD'],\n",
    "    mode='lines+markers',\n",
    "    name='2019 - Masters'\n",
    ")\n",
    "\n",
    "# Create subplot for 2019 data\n",
    "fig_2019 = go.Figure(data=[trace1_2019, trace2_2019, trace3_2019])\n",
    "fig_2019.update_layout(title='Performance Standards by Ethnicity (2019)')\n",
    "\n",
    "# Combine both subplots\n",
    "combined_fig = go.Figure()\n",
    "\n",
    "# Add traces from 2018 subplot\n",
    "combined_fig.add_traces(fig_2018.data)\n",
    "\n",
    "# Add traces from 2019 subplot\n",
    "combined_fig.add_traces(fig_2019.data)\n",
    "\n",
    "# Update layout with the title for the combined graph\n",
    "combined_fig.update_layout(\n",
    "    title='Domain 1A: Combined Performance Standards by Ethnicity (2018 Vs. 2019)',\n",
    "    xaxis=dict(title='Ethnicity'),\n",
    "    yaxis=dict(title='Average Grade Level STD (%)')\n",
    ")\n",
    "\n",
    "# Displaying the combined plot\n",
    "combined_fig.show()\n"
   ]
  },
  {
   "cell_type": "markdown",
   "metadata": {},
   "source": [
    "2018 VS 2018 \n"
   ]
  },
  {
   "cell_type": "markdown",
   "metadata": {},
   "source": [
    "\n",
    "CDS03ARE1S18R-Campus 2018 Domain 1A: Approaches Grade Level STD, Grade 3, Special Ed, STAAR Reading/ELA Rate\n",
    "CDS03ARE1318R-Campus 2018 Domain 1A: Masters Grade Level STD, Grade 3, Special Ed, STAAR Reading/ELA Rate\n",
    "CDS03ARE1218R-Campus 2018 Domain 1A: Meets Grade Level STD, Grade 3, Special Ed, STAAR Reading/ELA Rate\n",
    "\n",
    "CDS03ARE1S19R-Campus 2019 Domain 1A: Approaches Grade Level STD, Grade 3, Special Ed, STAAR Reading/ELA Rate\n",
    "CDS03ARE1319R-Campus 2019 Domain 1A: Masters Grade Level STD, Grade 3, Special Ed, STAAR Reading/ELA Rate\n",
    "CDS03ARE1219R-Campus 2019 Domain 1A: Meets Grade Level STD, Grade 3, Special Ed, STAAR Reading/ELA Rat"
   ]
  },
  {
   "cell_type": "code",
   "execution_count": null,
   "metadata": {},
   "outputs": [],
   "source": [
    "SPED"
   ]
  },
  {
   "cell_type": "code",
   "execution_count": null,
   "metadata": {},
   "outputs": [],
   "source": [
    "\n",
    "\n",
    "#Selecting specific columns for all students DataFrame\n",
    "sped_df = staar_rla1819_df[[\"School Year\",\"CAMPUS\",\"CNS03ARE1S18R\",\"CNS03ARE1318R\",\"CNS03ARE1218R\",\"CNS03ARE1S19R\",\"CNS03ARE1319R\",\"CNS03ARE1219R\",\"CDS03ARE1S18R\",\"CDS03ARE1318R\",\"CDS03ARE1218R\",\"CDS03ARE1S19R\",\"CDS03ARE1319R\",\"CDS03ARE1219R\"]]\n",
    "\n"
   ]
  },
  {
   "cell_type": "code",
   "execution_count": null,
   "metadata": {},
   "outputs": [],
   "source": [
    "#2019: App Grade Level STD, Grade 3,SPED\n",
    "\n",
    "#SPED\n",
    "\n",
    "# Replace '.' and '-1' with NaN in the column\n",
    "sped_df['CDS03ARE1S19R'] = sped_df['CDS03ARE1S19R'].replace('-1', np.nan)\n",
    "sped_df['CDS03ARE1S19R'] = sped_df['CDS03ARE1S19R'].replace('.', np.nan)\n",
    "\n",
    "# Convert the column to integer\n",
    "sped_df['CDS03ARE1S19R'] = sped_df['CDS03ARE1S19R'].astype(float).astype('Int64')\n",
    "\n",
    "# Now you can calculate the average\n",
    "average_value_appsp = sped_df['CDS03ARE1S19R'].mean()\n",
    "\n",
    "#2019: Meets Grade Level STD, Grade 3,SPED\n",
    "\n",
    "#SPED\n",
    "\n",
    "# Replace '.' and '-1' with NaN in the column\n",
    "sped_df['CDS03ARE1219R'] = sped_df['CDS03ARE1219R'].replace('-1', np.nan)\n",
    "sped_df['CDS03ARE1219R'] = sped_df['CDS03ARE1219R'].replace('.', np.nan)\n",
    "# Convert the column to integer\n",
    "sped_df['CDS03ARE1219R'] = sped_df['CDS03ARE1219R'].astype(float).astype('Int64')\n",
    "\n",
    "# Now you can calculate the average\n",
    "average_value_mesp = sped_df['CDS03ARE1219R'].mean()\n",
    "\n",
    "#2019: Masters Grade Level STD, Grade 3,SPED\n",
    "\n",
    "#SPED\n",
    "\n",
    "# Replace '.' and '-1' with NaN in the column\n",
    "sped_df['CDS03ARE1319R'] = sped_df['CDS03ARE1319R'].replace('-1', np.nan)\n",
    "sped_df['CDS03ARE1319R'] = sped_df['CDS03ARE1319R'].replace('.', np.nan)\n",
    "\n",
    "# Convert the column to integer\n",
    "sped_df['CDS03ARE1319R'] = sped_df['CDS03ARE1319R'].astype(float).astype('Int64')\n",
    "\n",
    "# Now you can calculate the average\n",
    "average_value_masp = sped_df['CDS03ARE1319R'].mean()\n",
    "\n",
    "#___________________________________________________\n",
    "\n",
    "#2018: App Grade Level STD, Grade 3,SPED\n",
    "\n",
    "#SPED\n",
    "\n",
    "# Replace '.' and '-1' with NaN in the column\n",
    "sped_df['CDS03ARE1S18R'] = sped_df['CDS03ARE1S18R'].replace('-1', np.nan)\n",
    "sped_df['CDS03ARE1S18R'] = sped_df['CDS03ARE1S18R'].replace('.', np.nan)\n",
    "\n",
    "# Convert the column to integer\n",
    "sped_df['CDS03ARE1S18R'] = sped_df['CDS03ARE1S18R'].astype(float).astype('Int64')\n",
    "\n",
    "# Now you can calculate the average\n",
    "average_value_appsp18 = sped_df['CDS03ARE1S18R'].mean()\n",
    "\n",
    "#2018: Meets Grade Level STD, Grade 3,SPED\n",
    "\n",
    "#SPED\n",
    "\n",
    "# Replace '.' and '-1' with NaN in the column\n",
    "sped_df['CDS03ARE1218R'] = sped_df['CDS03ARE1218R'].replace('-1', np.nan)\n",
    "sped_df['CDS03ARE1218R'] = sped_df['CDS03ARE1218R'].replace('.', np.nan)\n",
    "# Convert the column to integer\n",
    "sped_df['CDS03ARE1218R'] = sped_df['CDS03ARE1218R'].astype(float).astype('Int64')\n",
    "\n",
    "# Now you can calculate the average\n",
    "average_value_mesp18 = sped_df['CDS03ARE1218R'].mean()\n",
    "\n",
    "#2018: Masters Grade Level STD, Grade 3,SPED\n",
    "\n",
    "#SPED\n",
    "\n",
    "# Replace '.' and '-1' with NaN in the column\n",
    "sped_df['CDS03ARE1318R'] = sped_df['CDS03ARE1318R'].replace('-1', np.nan)\n",
    "sped_df['CDS03ARE1318R'] = sped_df['CDS03ARE1318R'].replace('.', np.nan)\n",
    "\n",
    "# Convert the column to integer\n",
    "sped_df['CDS03ARE1318R'] = sped_df['CDS03ARE1318R'].astype(float).astype('Int64')\n",
    "\n",
    "# Now you can calculate the average\n",
    "average_value_masp18 = sped_df['CDS03ARE1318R'].mean()"
   ]
  },
  {
   "cell_type": "code",
   "execution_count": null,
   "metadata": {},
   "outputs": [
    {
     "data": {
      "application/vnd.plotly.v1+json": {
       "config": {
        "plotlyServerURL": "https://plot.ly"
       },
       "data": [
        {
         "marker": {
          "color": "blue",
          "size": 10
         },
         "mode": "markers",
         "name": "2018",
         "type": "scatter",
         "x": [
          "Approaching Grade Level",
          "Meets Grade Level",
          "Masters Grade Level"
         ],
         "y": [
          51.502066772655006,
          27.848966613672495,
          9.311605723370429
         ]
        },
        {
         "marker": {
          "color": "red",
          "size": 10
         },
         "mode": "markers",
         "name": "2019",
         "type": "scatter",
         "x": [
          "Approaching Grade Level",
          "Meets Grade Level",
          "Masters Grade Level"
         ],
         "y": [
          48.84307604994325,
          26.453178206583427,
          10.277241770715097
         ]
        }
       ],
       "layout": {
        "height": 600,
        "hovermode": "closest",
        "template": {
         "data": {
          "bar": [
           {
            "error_x": {
             "color": "#2a3f5f"
            },
            "error_y": {
             "color": "#2a3f5f"
            },
            "marker": {
             "line": {
              "color": "#E5ECF6",
              "width": 0.5
             },
             "pattern": {
              "fillmode": "overlay",
              "size": 10,
              "solidity": 0.2
             }
            },
            "type": "bar"
           }
          ],
          "barpolar": [
           {
            "marker": {
             "line": {
              "color": "#E5ECF6",
              "width": 0.5
             },
             "pattern": {
              "fillmode": "overlay",
              "size": 10,
              "solidity": 0.2
             }
            },
            "type": "barpolar"
           }
          ],
          "carpet": [
           {
            "aaxis": {
             "endlinecolor": "#2a3f5f",
             "gridcolor": "white",
             "linecolor": "white",
             "minorgridcolor": "white",
             "startlinecolor": "#2a3f5f"
            },
            "baxis": {
             "endlinecolor": "#2a3f5f",
             "gridcolor": "white",
             "linecolor": "white",
             "minorgridcolor": "white",
             "startlinecolor": "#2a3f5f"
            },
            "type": "carpet"
           }
          ],
          "choropleth": [
           {
            "colorbar": {
             "outlinewidth": 0,
             "ticks": ""
            },
            "type": "choropleth"
           }
          ],
          "contour": [
           {
            "colorbar": {
             "outlinewidth": 0,
             "ticks": ""
            },
            "colorscale": [
             [
              0,
              "#0d0887"
             ],
             [
              0.1111111111111111,
              "#46039f"
             ],
             [
              0.2222222222222222,
              "#7201a8"
             ],
             [
              0.3333333333333333,
              "#9c179e"
             ],
             [
              0.4444444444444444,
              "#bd3786"
             ],
             [
              0.5555555555555556,
              "#d8576b"
             ],
             [
              0.6666666666666666,
              "#ed7953"
             ],
             [
              0.7777777777777778,
              "#fb9f3a"
             ],
             [
              0.8888888888888888,
              "#fdca26"
             ],
             [
              1,
              "#f0f921"
             ]
            ],
            "type": "contour"
           }
          ],
          "contourcarpet": [
           {
            "colorbar": {
             "outlinewidth": 0,
             "ticks": ""
            },
            "type": "contourcarpet"
           }
          ],
          "heatmap": [
           {
            "colorbar": {
             "outlinewidth": 0,
             "ticks": ""
            },
            "colorscale": [
             [
              0,
              "#0d0887"
             ],
             [
              0.1111111111111111,
              "#46039f"
             ],
             [
              0.2222222222222222,
              "#7201a8"
             ],
             [
              0.3333333333333333,
              "#9c179e"
             ],
             [
              0.4444444444444444,
              "#bd3786"
             ],
             [
              0.5555555555555556,
              "#d8576b"
             ],
             [
              0.6666666666666666,
              "#ed7953"
             ],
             [
              0.7777777777777778,
              "#fb9f3a"
             ],
             [
              0.8888888888888888,
              "#fdca26"
             ],
             [
              1,
              "#f0f921"
             ]
            ],
            "type": "heatmap"
           }
          ],
          "heatmapgl": [
           {
            "colorbar": {
             "outlinewidth": 0,
             "ticks": ""
            },
            "colorscale": [
             [
              0,
              "#0d0887"
             ],
             [
              0.1111111111111111,
              "#46039f"
             ],
             [
              0.2222222222222222,
              "#7201a8"
             ],
             [
              0.3333333333333333,
              "#9c179e"
             ],
             [
              0.4444444444444444,
              "#bd3786"
             ],
             [
              0.5555555555555556,
              "#d8576b"
             ],
             [
              0.6666666666666666,
              "#ed7953"
             ],
             [
              0.7777777777777778,
              "#fb9f3a"
             ],
             [
              0.8888888888888888,
              "#fdca26"
             ],
             [
              1,
              "#f0f921"
             ]
            ],
            "type": "heatmapgl"
           }
          ],
          "histogram": [
           {
            "marker": {
             "pattern": {
              "fillmode": "overlay",
              "size": 10,
              "solidity": 0.2
             }
            },
            "type": "histogram"
           }
          ],
          "histogram2d": [
           {
            "colorbar": {
             "outlinewidth": 0,
             "ticks": ""
            },
            "colorscale": [
             [
              0,
              "#0d0887"
             ],
             [
              0.1111111111111111,
              "#46039f"
             ],
             [
              0.2222222222222222,
              "#7201a8"
             ],
             [
              0.3333333333333333,
              "#9c179e"
             ],
             [
              0.4444444444444444,
              "#bd3786"
             ],
             [
              0.5555555555555556,
              "#d8576b"
             ],
             [
              0.6666666666666666,
              "#ed7953"
             ],
             [
              0.7777777777777778,
              "#fb9f3a"
             ],
             [
              0.8888888888888888,
              "#fdca26"
             ],
             [
              1,
              "#f0f921"
             ]
            ],
            "type": "histogram2d"
           }
          ],
          "histogram2dcontour": [
           {
            "colorbar": {
             "outlinewidth": 0,
             "ticks": ""
            },
            "colorscale": [
             [
              0,
              "#0d0887"
             ],
             [
              0.1111111111111111,
              "#46039f"
             ],
             [
              0.2222222222222222,
              "#7201a8"
             ],
             [
              0.3333333333333333,
              "#9c179e"
             ],
             [
              0.4444444444444444,
              "#bd3786"
             ],
             [
              0.5555555555555556,
              "#d8576b"
             ],
             [
              0.6666666666666666,
              "#ed7953"
             ],
             [
              0.7777777777777778,
              "#fb9f3a"
             ],
             [
              0.8888888888888888,
              "#fdca26"
             ],
             [
              1,
              "#f0f921"
             ]
            ],
            "type": "histogram2dcontour"
           }
          ],
          "mesh3d": [
           {
            "colorbar": {
             "outlinewidth": 0,
             "ticks": ""
            },
            "type": "mesh3d"
           }
          ],
          "parcoords": [
           {
            "line": {
             "colorbar": {
              "outlinewidth": 0,
              "ticks": ""
             }
            },
            "type": "parcoords"
           }
          ],
          "pie": [
           {
            "automargin": true,
            "type": "pie"
           }
          ],
          "scatter": [
           {
            "fillpattern": {
             "fillmode": "overlay",
             "size": 10,
             "solidity": 0.2
            },
            "type": "scatter"
           }
          ],
          "scatter3d": [
           {
            "line": {
             "colorbar": {
              "outlinewidth": 0,
              "ticks": ""
             }
            },
            "marker": {
             "colorbar": {
              "outlinewidth": 0,
              "ticks": ""
             }
            },
            "type": "scatter3d"
           }
          ],
          "scattercarpet": [
           {
            "marker": {
             "colorbar": {
              "outlinewidth": 0,
              "ticks": ""
             }
            },
            "type": "scattercarpet"
           }
          ],
          "scattergeo": [
           {
            "marker": {
             "colorbar": {
              "outlinewidth": 0,
              "ticks": ""
             }
            },
            "type": "scattergeo"
           }
          ],
          "scattergl": [
           {
            "marker": {
             "colorbar": {
              "outlinewidth": 0,
              "ticks": ""
             }
            },
            "type": "scattergl"
           }
          ],
          "scattermapbox": [
           {
            "marker": {
             "colorbar": {
              "outlinewidth": 0,
              "ticks": ""
             }
            },
            "type": "scattermapbox"
           }
          ],
          "scatterpolar": [
           {
            "marker": {
             "colorbar": {
              "outlinewidth": 0,
              "ticks": ""
             }
            },
            "type": "scatterpolar"
           }
          ],
          "scatterpolargl": [
           {
            "marker": {
             "colorbar": {
              "outlinewidth": 0,
              "ticks": ""
             }
            },
            "type": "scatterpolargl"
           }
          ],
          "scatterternary": [
           {
            "marker": {
             "colorbar": {
              "outlinewidth": 0,
              "ticks": ""
             }
            },
            "type": "scatterternary"
           }
          ],
          "surface": [
           {
            "colorbar": {
             "outlinewidth": 0,
             "ticks": ""
            },
            "colorscale": [
             [
              0,
              "#0d0887"
             ],
             [
              0.1111111111111111,
              "#46039f"
             ],
             [
              0.2222222222222222,
              "#7201a8"
             ],
             [
              0.3333333333333333,
              "#9c179e"
             ],
             [
              0.4444444444444444,
              "#bd3786"
             ],
             [
              0.5555555555555556,
              "#d8576b"
             ],
             [
              0.6666666666666666,
              "#ed7953"
             ],
             [
              0.7777777777777778,
              "#fb9f3a"
             ],
             [
              0.8888888888888888,
              "#fdca26"
             ],
             [
              1,
              "#f0f921"
             ]
            ],
            "type": "surface"
           }
          ],
          "table": [
           {
            "cells": {
             "fill": {
              "color": "#EBF0F8"
             },
             "line": {
              "color": "white"
             }
            },
            "header": {
             "fill": {
              "color": "#C8D4E3"
             },
             "line": {
              "color": "white"
             }
            },
            "type": "table"
           }
          ]
         },
         "layout": {
          "annotationdefaults": {
           "arrowcolor": "#2a3f5f",
           "arrowhead": 0,
           "arrowwidth": 1
          },
          "autotypenumbers": "strict",
          "coloraxis": {
           "colorbar": {
            "outlinewidth": 0,
            "ticks": ""
           }
          },
          "colorscale": {
           "diverging": [
            [
             0,
             "#8e0152"
            ],
            [
             0.1,
             "#c51b7d"
            ],
            [
             0.2,
             "#de77ae"
            ],
            [
             0.3,
             "#f1b6da"
            ],
            [
             0.4,
             "#fde0ef"
            ],
            [
             0.5,
             "#f7f7f7"
            ],
            [
             0.6,
             "#e6f5d0"
            ],
            [
             0.7,
             "#b8e186"
            ],
            [
             0.8,
             "#7fbc41"
            ],
            [
             0.9,
             "#4d9221"
            ],
            [
             1,
             "#276419"
            ]
           ],
           "sequential": [
            [
             0,
             "#0d0887"
            ],
            [
             0.1111111111111111,
             "#46039f"
            ],
            [
             0.2222222222222222,
             "#7201a8"
            ],
            [
             0.3333333333333333,
             "#9c179e"
            ],
            [
             0.4444444444444444,
             "#bd3786"
            ],
            [
             0.5555555555555556,
             "#d8576b"
            ],
            [
             0.6666666666666666,
             "#ed7953"
            ],
            [
             0.7777777777777778,
             "#fb9f3a"
            ],
            [
             0.8888888888888888,
             "#fdca26"
            ],
            [
             1,
             "#f0f921"
            ]
           ],
           "sequentialminus": [
            [
             0,
             "#0d0887"
            ],
            [
             0.1111111111111111,
             "#46039f"
            ],
            [
             0.2222222222222222,
             "#7201a8"
            ],
            [
             0.3333333333333333,
             "#9c179e"
            ],
            [
             0.4444444444444444,
             "#bd3786"
            ],
            [
             0.5555555555555556,
             "#d8576b"
            ],
            [
             0.6666666666666666,
             "#ed7953"
            ],
            [
             0.7777777777777778,
             "#fb9f3a"
            ],
            [
             0.8888888888888888,
             "#fdca26"
            ],
            [
             1,
             "#f0f921"
            ]
           ]
          },
          "colorway": [
           "#636efa",
           "#EF553B",
           "#00cc96",
           "#ab63fa",
           "#FFA15A",
           "#19d3f3",
           "#FF6692",
           "#B6E880",
           "#FF97FF",
           "#FECB52"
          ],
          "font": {
           "color": "#2a3f5f"
          },
          "geo": {
           "bgcolor": "white",
           "lakecolor": "white",
           "landcolor": "#E5ECF6",
           "showlakes": true,
           "showland": true,
           "subunitcolor": "white"
          },
          "hoverlabel": {
           "align": "left"
          },
          "hovermode": "closest",
          "mapbox": {
           "style": "light"
          },
          "paper_bgcolor": "white",
          "plot_bgcolor": "#E5ECF6",
          "polar": {
           "angularaxis": {
            "gridcolor": "white",
            "linecolor": "white",
            "ticks": ""
           },
           "bgcolor": "#E5ECF6",
           "radialaxis": {
            "gridcolor": "white",
            "linecolor": "white",
            "ticks": ""
           }
          },
          "scene": {
           "xaxis": {
            "backgroundcolor": "#E5ECF6",
            "gridcolor": "white",
            "gridwidth": 2,
            "linecolor": "white",
            "showbackground": true,
            "ticks": "",
            "zerolinecolor": "white"
           },
           "yaxis": {
            "backgroundcolor": "#E5ECF6",
            "gridcolor": "white",
            "gridwidth": 2,
            "linecolor": "white",
            "showbackground": true,
            "ticks": "",
            "zerolinecolor": "white"
           },
           "zaxis": {
            "backgroundcolor": "#E5ECF6",
            "gridcolor": "white",
            "gridwidth": 2,
            "linecolor": "white",
            "showbackground": true,
            "ticks": "",
            "zerolinecolor": "white"
           }
          },
          "shapedefaults": {
           "line": {
            "color": "#2a3f5f"
           }
          },
          "ternary": {
           "aaxis": {
            "gridcolor": "white",
            "linecolor": "white",
            "ticks": ""
           },
           "baxis": {
            "gridcolor": "white",
            "linecolor": "white",
            "ticks": ""
           },
           "bgcolor": "#E5ECF6",
           "caxis": {
            "gridcolor": "white",
            "linecolor": "white",
            "ticks": ""
           }
          },
          "title": {
           "x": 0.05
          },
          "xaxis": {
           "automargin": true,
           "gridcolor": "white",
           "linecolor": "white",
           "ticks": "",
           "title": {
            "standoff": 15
           },
           "zerolinecolor": "white",
           "zerolinewidth": 2
          },
          "yaxis": {
           "automargin": true,
           "gridcolor": "white",
           "linecolor": "white",
           "ticks": "",
           "title": {
            "standoff": 15
           },
           "zerolinecolor": "white",
           "zerolinewidth": 2
          }
         }
        },
        "title": {
         "text": "Domain 1A: SPED Performance Level Standard(2019-Grade 3)"
        },
        "width": 800,
        "xaxis": {
         "title": {
          "text": "Performance Level Standards"
         }
        },
        "yaxis": {
         "title": {
          "text": " Average Score(%)"
         }
        }
       }
      }
     },
     "metadata": {},
     "output_type": "display_data"
    }
   ],
   "source": [
    "import plotly.graph_objects as go\n",
    "\n",
    "# Define the data\n",
    "categories = ['Approaching Grade Level', 'Meets Grade Level', 'Masters Grade Level']\n",
    "averages_2018 = [average_value_appsp18, average_value_mesp18, average_value_masp18]\n",
    "averages_2019 = [average_value_appsp, average_value_mesp, average_value_masp]\n",
    "\n",
    "# Create traces for 2018 and 2019 data\n",
    "trace_2018 = go.Scatter(x=categories, y=averages_2018, mode='markers', name='2018', marker=dict(color='blue', size=10))\n",
    "trace_2019 = go.Scatter(x=categories, y=averages_2019, mode='markers', name='2019', marker=dict(color='red', size=10))\n",
    "\n",
    "# Create layout\n",
    "layout = go.Layout(\n",
    "    title='Domain 1A: SPED Performance Level Standard(2019-Grade 3)',\n",
    "    xaxis=dict(title='Performance Level Standards'),\n",
    "    yaxis=dict(title=' Average Score(%)'),\n",
    "    hovermode='closest',\n",
    "    width=800,  # Set the width of the graph\n",
    "    height=600  # Set the height of the graph\n",
    ")\n",
    "\n",
    "# Create figure\n",
    "fig = go.Figure(data=[trace_2018, trace_2019], layout=layout)\n",
    "\n",
    "# Show plot\n",
    "fig.show()\n"
   ]
  },
  {
   "cell_type": "markdown",
   "metadata": {},
   "source": [
    "Former Sped"
   ]
  },
  {
   "cell_type": "markdown",
   "metadata": {},
   "source": [
    "CNS03ARE1S18R-Campus 2018 Domain 1A: Approaches Grade Level STD, Grade 3, Former Special Ed, STAAR Reading/ELA Rate\n",
    "CNS03ARE1318R-Campus 2018 Domain 1A: Masters Grade Level STD, Grade 3, Former Special Ed, STAAR Reading/ELA Rate\n",
    "CNS03ARE1218R-Campus 2018 Domain 1A: Meets Grade Level STD, Grade 3, Former Special Ed, STAAR Reading/ELA Rate\n",
    "\n",
    "CNS03ARE1S19R-Campus 2019 Domain 1A: Approaches Grade Level STD, Grade 3, Former Special Ed, STAAR Reading/ELA Rate\n",
    "CNS03ARE1319R-Campus 2019 Domain 1A: Masters Grade Level STD, Grade 3, Former Special Ed, STAAR Reading/ELA Rate\n",
    "CNS03ARE1219R-Campus 2019 Domain 1A: Meets Grade Level STD, Grade 3, Former Special Ed, STAAR Reading/ELA Rate\n",
    "____________________________________________________________________________________________________________"
   ]
  },
  {
   "cell_type": "code",
   "execution_count": null,
   "metadata": {},
   "outputs": [],
   "source": [
    "#2019: App Grade Level STD, Grade 3,Former SPED\n",
    "\n",
    "# Former SPED\n",
    "\n",
    "# Replace '.' and '-1' with NaN in the column\n",
    "sped_df['CNS03ARE1S19R'] = sped_df['CNS03ARE1S19R'].replace('-1', np.nan)\n",
    "sped_df['CNS03ARE1S19R'] = sped_df['CNS03ARE1S19R'].replace('.', np.nan)\n",
    "\n",
    "# Convert the column to integer\n",
    "sped_df['CNS03ARE1S19R'] = sped_df['CNS03ARE1S19R'].astype(float).astype('Int64')\n",
    "\n",
    "# Now you can calculate the average\n",
    "average_value_appfsp = sped_df['CNS03ARE1S19R'].mean()\n",
    "\n",
    "#2019: Meets Grade Level STD, Grade 3, Former SPED\n",
    "\n",
    "#Former SPED\n",
    "\n",
    "# Replace '.' and '-1' with NaN in the column\n",
    "sped_df['CNS03ARE1219R'] = sped_df['CNS03ARE1219R'].replace('-1', np.nan)\n",
    "sped_df['CNS03ARE1219R'] = sped_df['CNS03ARE1219R'].replace('.', np.nan)\n",
    "\n",
    "# Convert the column to integer\n",
    "sped_df['CNS03ARE1219R'] = sped_df['CNS03ARE1219R'].astype(float).astype('Int64')\n",
    "\n",
    "# Now you can calculate the average\n",
    "average_value_mefsp = sped_df['CNS03ARE1219R'].mean()\n",
    "\n",
    "#2019: Masters Grade Level STD, Grade 3,Former SPED\n",
    "\n",
    "#Former SPED\n",
    "\n",
    "# Replace '.' and '-1' with NaN in the column\n",
    "sped_df['CNS03ARE1319R'] = sped_df['CNS03ARE1319R'].replace('-1', np.nan)\n",
    "sped_df['CNS03ARE1319R'] = sped_df['CNS03ARE1319R'].replace('.', np.nan)\n",
    "# Convert the column to integer\n",
    "sped_df['CNS03ARE1319R'] = sped_df['CNS03ARE1319R'].astype(float).astype('Int64')\n",
    "\n",
    "# Now you can calculate the average\n",
    "average_value_mafsp = sped_df['CNS03ARE1319R'].mean()\n",
    "\n",
    "#___________________________________________________\n",
    "\n",
    "#2018: App Grade Level STD, Grade 3,Former SPED\n",
    "\n",
    "#Former SPED\n",
    "\n",
    "# Replace '.' and '-1' with NaN in the column\n",
    "sped_df['CNS03ARE1S18R'] = sped_df['CNS03ARE1S18R'].replace('-1', np.nan)\n",
    "sped_df['CNS03ARE1S18R'] = sped_df['CNS03ARE1S18R'].replace('.', np.nan)\n",
    "# Convert the column to integer\n",
    "sped_df['CNS03ARE1S18R'] = sped_df['CNS03ARE1S18R'].astype(float).astype('Int64')\n",
    "\n",
    "# Now you can calculate the average\n",
    "average_value_appfsp18 = sped_df['CNS03ARE1S18R'].mean()\n",
    "\n",
    "#2018: Meets Grade Level STD, Grade 3,Former SPED\n",
    "\n",
    "#Former SPED\n",
    "\n",
    "# Replace '.' and '-1' with NaN in the column\n",
    "sped_df['CNS03ARE1218R'] = sped_df['CNS03ARE1218R'].replace('-1', np.nan)\n",
    "sped_df['CNS03ARE1218R'] = sped_df['CNS03ARE1218R'].replace('.', np.nan)\n",
    "# Convert the column to integer\n",
    "sped_df['CNS03ARE1218R'] = sped_df['CNS03ARE1218R'].astype(float).astype('Int64')\n",
    "\n",
    "# Now you can calculate the average\n",
    "average_value_mefsp18 = sped_df['CNS03ARE1218R'].mean()\n",
    "\n",
    "#2018: Masters Grade Level STD, Grade 3,Former SPED\n",
    "\n",
    "#Former SPED\n",
    "\n",
    "# Replace '.' and '-1' with NaN in the column\n",
    "sped_df['CNS03ARE1318R'] = sped_df['CNS03ARE1318R'].replace('-1', np.nan)\n",
    "sped_df['CNS03ARE1318R'] = sped_df['CNS03ARE1318R'].replace('.', np.nan)\n",
    "# Convert the column to integer\n",
    "sped_df['CNS03ARE1318R'] = sped_df['CNS03ARE1318R'].astype(float).astype('Int64')\n",
    "\n",
    "# Now you can calculate the average\n",
    "average_value_mafsp18 = sped_df['CNS03ARE1318R'].mean()"
   ]
  },
  {
   "cell_type": "code",
   "execution_count": null,
   "metadata": {},
   "outputs": [
    {
     "data": {
      "application/vnd.plotly.v1+json": {
       "config": {
        "plotlyServerURL": "https://plot.ly"
       },
       "data": [
        {
         "marker": {
          "color": "blue",
          "size": 10
         },
         "mode": "markers",
         "name": "2018",
         "type": "scatter",
         "x": [
          "App Grade Level",
          "Meets Grade Level",
          "Masters Grade Level"
         ],
         "y": [
          73.7153024911032,
          35.84697508896797,
          17.22064056939502
         ]
        },
        {
         "marker": {
          "color": "red",
          "size": 10
         },
         "mode": "markers",
         "name": "2019",
         "type": "scatter",
         "x": [
          "App Grade Level",
          "Meets Grade Level",
          "Masters Grade Level"
         ],
         "y": [
          77.06353591160222,
          41.25690607734806,
          24.795580110497237
         ]
        }
       ],
       "layout": {
        "height": 600,
        "hovermode": "closest",
        "template": {
         "data": {
          "bar": [
           {
            "error_x": {
             "color": "#2a3f5f"
            },
            "error_y": {
             "color": "#2a3f5f"
            },
            "marker": {
             "line": {
              "color": "#E5ECF6",
              "width": 0.5
             },
             "pattern": {
              "fillmode": "overlay",
              "size": 10,
              "solidity": 0.2
             }
            },
            "type": "bar"
           }
          ],
          "barpolar": [
           {
            "marker": {
             "line": {
              "color": "#E5ECF6",
              "width": 0.5
             },
             "pattern": {
              "fillmode": "overlay",
              "size": 10,
              "solidity": 0.2
             }
            },
            "type": "barpolar"
           }
          ],
          "carpet": [
           {
            "aaxis": {
             "endlinecolor": "#2a3f5f",
             "gridcolor": "white",
             "linecolor": "white",
             "minorgridcolor": "white",
             "startlinecolor": "#2a3f5f"
            },
            "baxis": {
             "endlinecolor": "#2a3f5f",
             "gridcolor": "white",
             "linecolor": "white",
             "minorgridcolor": "white",
             "startlinecolor": "#2a3f5f"
            },
            "type": "carpet"
           }
          ],
          "choropleth": [
           {
            "colorbar": {
             "outlinewidth": 0,
             "ticks": ""
            },
            "type": "choropleth"
           }
          ],
          "contour": [
           {
            "colorbar": {
             "outlinewidth": 0,
             "ticks": ""
            },
            "colorscale": [
             [
              0,
              "#0d0887"
             ],
             [
              0.1111111111111111,
              "#46039f"
             ],
             [
              0.2222222222222222,
              "#7201a8"
             ],
             [
              0.3333333333333333,
              "#9c179e"
             ],
             [
              0.4444444444444444,
              "#bd3786"
             ],
             [
              0.5555555555555556,
              "#d8576b"
             ],
             [
              0.6666666666666666,
              "#ed7953"
             ],
             [
              0.7777777777777778,
              "#fb9f3a"
             ],
             [
              0.8888888888888888,
              "#fdca26"
             ],
             [
              1,
              "#f0f921"
             ]
            ],
            "type": "contour"
           }
          ],
          "contourcarpet": [
           {
            "colorbar": {
             "outlinewidth": 0,
             "ticks": ""
            },
            "type": "contourcarpet"
           }
          ],
          "heatmap": [
           {
            "colorbar": {
             "outlinewidth": 0,
             "ticks": ""
            },
            "colorscale": [
             [
              0,
              "#0d0887"
             ],
             [
              0.1111111111111111,
              "#46039f"
             ],
             [
              0.2222222222222222,
              "#7201a8"
             ],
             [
              0.3333333333333333,
              "#9c179e"
             ],
             [
              0.4444444444444444,
              "#bd3786"
             ],
             [
              0.5555555555555556,
              "#d8576b"
             ],
             [
              0.6666666666666666,
              "#ed7953"
             ],
             [
              0.7777777777777778,
              "#fb9f3a"
             ],
             [
              0.8888888888888888,
              "#fdca26"
             ],
             [
              1,
              "#f0f921"
             ]
            ],
            "type": "heatmap"
           }
          ],
          "heatmapgl": [
           {
            "colorbar": {
             "outlinewidth": 0,
             "ticks": ""
            },
            "colorscale": [
             [
              0,
              "#0d0887"
             ],
             [
              0.1111111111111111,
              "#46039f"
             ],
             [
              0.2222222222222222,
              "#7201a8"
             ],
             [
              0.3333333333333333,
              "#9c179e"
             ],
             [
              0.4444444444444444,
              "#bd3786"
             ],
             [
              0.5555555555555556,
              "#d8576b"
             ],
             [
              0.6666666666666666,
              "#ed7953"
             ],
             [
              0.7777777777777778,
              "#fb9f3a"
             ],
             [
              0.8888888888888888,
              "#fdca26"
             ],
             [
              1,
              "#f0f921"
             ]
            ],
            "type": "heatmapgl"
           }
          ],
          "histogram": [
           {
            "marker": {
             "pattern": {
              "fillmode": "overlay",
              "size": 10,
              "solidity": 0.2
             }
            },
            "type": "histogram"
           }
          ],
          "histogram2d": [
           {
            "colorbar": {
             "outlinewidth": 0,
             "ticks": ""
            },
            "colorscale": [
             [
              0,
              "#0d0887"
             ],
             [
              0.1111111111111111,
              "#46039f"
             ],
             [
              0.2222222222222222,
              "#7201a8"
             ],
             [
              0.3333333333333333,
              "#9c179e"
             ],
             [
              0.4444444444444444,
              "#bd3786"
             ],
             [
              0.5555555555555556,
              "#d8576b"
             ],
             [
              0.6666666666666666,
              "#ed7953"
             ],
             [
              0.7777777777777778,
              "#fb9f3a"
             ],
             [
              0.8888888888888888,
              "#fdca26"
             ],
             [
              1,
              "#f0f921"
             ]
            ],
            "type": "histogram2d"
           }
          ],
          "histogram2dcontour": [
           {
            "colorbar": {
             "outlinewidth": 0,
             "ticks": ""
            },
            "colorscale": [
             [
              0,
              "#0d0887"
             ],
             [
              0.1111111111111111,
              "#46039f"
             ],
             [
              0.2222222222222222,
              "#7201a8"
             ],
             [
              0.3333333333333333,
              "#9c179e"
             ],
             [
              0.4444444444444444,
              "#bd3786"
             ],
             [
              0.5555555555555556,
              "#d8576b"
             ],
             [
              0.6666666666666666,
              "#ed7953"
             ],
             [
              0.7777777777777778,
              "#fb9f3a"
             ],
             [
              0.8888888888888888,
              "#fdca26"
             ],
             [
              1,
              "#f0f921"
             ]
            ],
            "type": "histogram2dcontour"
           }
          ],
          "mesh3d": [
           {
            "colorbar": {
             "outlinewidth": 0,
             "ticks": ""
            },
            "type": "mesh3d"
           }
          ],
          "parcoords": [
           {
            "line": {
             "colorbar": {
              "outlinewidth": 0,
              "ticks": ""
             }
            },
            "type": "parcoords"
           }
          ],
          "pie": [
           {
            "automargin": true,
            "type": "pie"
           }
          ],
          "scatter": [
           {
            "fillpattern": {
             "fillmode": "overlay",
             "size": 10,
             "solidity": 0.2
            },
            "type": "scatter"
           }
          ],
          "scatter3d": [
           {
            "line": {
             "colorbar": {
              "outlinewidth": 0,
              "ticks": ""
             }
            },
            "marker": {
             "colorbar": {
              "outlinewidth": 0,
              "ticks": ""
             }
            },
            "type": "scatter3d"
           }
          ],
          "scattercarpet": [
           {
            "marker": {
             "colorbar": {
              "outlinewidth": 0,
              "ticks": ""
             }
            },
            "type": "scattercarpet"
           }
          ],
          "scattergeo": [
           {
            "marker": {
             "colorbar": {
              "outlinewidth": 0,
              "ticks": ""
             }
            },
            "type": "scattergeo"
           }
          ],
          "scattergl": [
           {
            "marker": {
             "colorbar": {
              "outlinewidth": 0,
              "ticks": ""
             }
            },
            "type": "scattergl"
           }
          ],
          "scattermapbox": [
           {
            "marker": {
             "colorbar": {
              "outlinewidth": 0,
              "ticks": ""
             }
            },
            "type": "scattermapbox"
           }
          ],
          "scatterpolar": [
           {
            "marker": {
             "colorbar": {
              "outlinewidth": 0,
              "ticks": ""
             }
            },
            "type": "scatterpolar"
           }
          ],
          "scatterpolargl": [
           {
            "marker": {
             "colorbar": {
              "outlinewidth": 0,
              "ticks": ""
             }
            },
            "type": "scatterpolargl"
           }
          ],
          "scatterternary": [
           {
            "marker": {
             "colorbar": {
              "outlinewidth": 0,
              "ticks": ""
             }
            },
            "type": "scatterternary"
           }
          ],
          "surface": [
           {
            "colorbar": {
             "outlinewidth": 0,
             "ticks": ""
            },
            "colorscale": [
             [
              0,
              "#0d0887"
             ],
             [
              0.1111111111111111,
              "#46039f"
             ],
             [
              0.2222222222222222,
              "#7201a8"
             ],
             [
              0.3333333333333333,
              "#9c179e"
             ],
             [
              0.4444444444444444,
              "#bd3786"
             ],
             [
              0.5555555555555556,
              "#d8576b"
             ],
             [
              0.6666666666666666,
              "#ed7953"
             ],
             [
              0.7777777777777778,
              "#fb9f3a"
             ],
             [
              0.8888888888888888,
              "#fdca26"
             ],
             [
              1,
              "#f0f921"
             ]
            ],
            "type": "surface"
           }
          ],
          "table": [
           {
            "cells": {
             "fill": {
              "color": "#EBF0F8"
             },
             "line": {
              "color": "white"
             }
            },
            "header": {
             "fill": {
              "color": "#C8D4E3"
             },
             "line": {
              "color": "white"
             }
            },
            "type": "table"
           }
          ]
         },
         "layout": {
          "annotationdefaults": {
           "arrowcolor": "#2a3f5f",
           "arrowhead": 0,
           "arrowwidth": 1
          },
          "autotypenumbers": "strict",
          "coloraxis": {
           "colorbar": {
            "outlinewidth": 0,
            "ticks": ""
           }
          },
          "colorscale": {
           "diverging": [
            [
             0,
             "#8e0152"
            ],
            [
             0.1,
             "#c51b7d"
            ],
            [
             0.2,
             "#de77ae"
            ],
            [
             0.3,
             "#f1b6da"
            ],
            [
             0.4,
             "#fde0ef"
            ],
            [
             0.5,
             "#f7f7f7"
            ],
            [
             0.6,
             "#e6f5d0"
            ],
            [
             0.7,
             "#b8e186"
            ],
            [
             0.8,
             "#7fbc41"
            ],
            [
             0.9,
             "#4d9221"
            ],
            [
             1,
             "#276419"
            ]
           ],
           "sequential": [
            [
             0,
             "#0d0887"
            ],
            [
             0.1111111111111111,
             "#46039f"
            ],
            [
             0.2222222222222222,
             "#7201a8"
            ],
            [
             0.3333333333333333,
             "#9c179e"
            ],
            [
             0.4444444444444444,
             "#bd3786"
            ],
            [
             0.5555555555555556,
             "#d8576b"
            ],
            [
             0.6666666666666666,
             "#ed7953"
            ],
            [
             0.7777777777777778,
             "#fb9f3a"
            ],
            [
             0.8888888888888888,
             "#fdca26"
            ],
            [
             1,
             "#f0f921"
            ]
           ],
           "sequentialminus": [
            [
             0,
             "#0d0887"
            ],
            [
             0.1111111111111111,
             "#46039f"
            ],
            [
             0.2222222222222222,
             "#7201a8"
            ],
            [
             0.3333333333333333,
             "#9c179e"
            ],
            [
             0.4444444444444444,
             "#bd3786"
            ],
            [
             0.5555555555555556,
             "#d8576b"
            ],
            [
             0.6666666666666666,
             "#ed7953"
            ],
            [
             0.7777777777777778,
             "#fb9f3a"
            ],
            [
             0.8888888888888888,
             "#fdca26"
            ],
            [
             1,
             "#f0f921"
            ]
           ]
          },
          "colorway": [
           "#636efa",
           "#EF553B",
           "#00cc96",
           "#ab63fa",
           "#FFA15A",
           "#19d3f3",
           "#FF6692",
           "#B6E880",
           "#FF97FF",
           "#FECB52"
          ],
          "font": {
           "color": "#2a3f5f"
          },
          "geo": {
           "bgcolor": "white",
           "lakecolor": "white",
           "landcolor": "#E5ECF6",
           "showlakes": true,
           "showland": true,
           "subunitcolor": "white"
          },
          "hoverlabel": {
           "align": "left"
          },
          "hovermode": "closest",
          "mapbox": {
           "style": "light"
          },
          "paper_bgcolor": "white",
          "plot_bgcolor": "#E5ECF6",
          "polar": {
           "angularaxis": {
            "gridcolor": "white",
            "linecolor": "white",
            "ticks": ""
           },
           "bgcolor": "#E5ECF6",
           "radialaxis": {
            "gridcolor": "white",
            "linecolor": "white",
            "ticks": ""
           }
          },
          "scene": {
           "xaxis": {
            "backgroundcolor": "#E5ECF6",
            "gridcolor": "white",
            "gridwidth": 2,
            "linecolor": "white",
            "showbackground": true,
            "ticks": "",
            "zerolinecolor": "white"
           },
           "yaxis": {
            "backgroundcolor": "#E5ECF6",
            "gridcolor": "white",
            "gridwidth": 2,
            "linecolor": "white",
            "showbackground": true,
            "ticks": "",
            "zerolinecolor": "white"
           },
           "zaxis": {
            "backgroundcolor": "#E5ECF6",
            "gridcolor": "white",
            "gridwidth": 2,
            "linecolor": "white",
            "showbackground": true,
            "ticks": "",
            "zerolinecolor": "white"
           }
          },
          "shapedefaults": {
           "line": {
            "color": "#2a3f5f"
           }
          },
          "ternary": {
           "aaxis": {
            "gridcolor": "white",
            "linecolor": "white",
            "ticks": ""
           },
           "baxis": {
            "gridcolor": "white",
            "linecolor": "white",
            "ticks": ""
           },
           "bgcolor": "#E5ECF6",
           "caxis": {
            "gridcolor": "white",
            "linecolor": "white",
            "ticks": ""
           }
          },
          "title": {
           "x": 0.05
          },
          "xaxis": {
           "automargin": true,
           "gridcolor": "white",
           "linecolor": "white",
           "ticks": "",
           "title": {
            "standoff": 15
           },
           "zerolinecolor": "white",
           "zerolinewidth": 2
          },
          "yaxis": {
           "automargin": true,
           "gridcolor": "white",
           "linecolor": "white",
           "ticks": "",
           "title": {
            "standoff": 15
           },
           "zerolinecolor": "white",
           "zerolinewidth": 2
          }
         }
        },
        "title": {
         "text": "Domain 1A: FORMER SPED Performance Level Standards (Grade 3)"
        },
        "width": 800,
        "xaxis": {
         "title": {
          "text": "Performance Level Standards"
         }
        },
        "yaxis": {
         "title": {
          "text": "Average Score (%)"
         }
        }
       }
      }
     },
     "metadata": {},
     "output_type": "display_data"
    }
   ],
   "source": [
    "\n",
    "import plotly.graph_objects as go\n",
    "\n",
    "# Define the data\n",
    "categories = ['App Grade Level', 'Meets Grade Level', 'Masters Grade Level']\n",
    "averages_2018 = [average_value_appfsp18, average_value_mefsp18, average_value_mafsp18]\n",
    "averages_2019 = [average_value_appfsp, average_value_mefsp, average_value_mafsp]\n",
    "\n",
    "# Create traces for 2018 and 2019 data\n",
    "trace_2018 = go.Scatter(x=categories, y=averages_2018, mode='markers', name='2018', marker=dict(color='blue', size=10))\n",
    "trace_2019 = go.Scatter(x=categories, y=averages_2019, mode='markers', name='2019', marker=dict(color='red', size=10))\n",
    "\n",
    "# Create layout\n",
    "layout = go.Layout(\n",
    "    title='Domain 1A: FORMER SPED Performance Level Standards (Grade 3)',\n",
    "    xaxis=dict(title='Performance Level Standards'),\n",
    "    yaxis=dict(title='Average Score (%)'),\n",
    "    hovermode='closest',\n",
    "    width=800,  # Set the width of the graph\n",
    "    height=600  # Set the height of the graph\n",
    ")\n",
    "\n",
    "# Create figure\n",
    "fig = go.Figure(data=[trace_2018, trace_2019], layout=layout)\n",
    "\n",
    "# Show plot\n",
    "fig.show()\n"
   ]
  },
  {
   "cell_type": "markdown",
   "metadata": {},
   "source": [
    "EL AND FORMER EL"
   ]
  },
  {
   "cell_type": "markdown",
   "metadata": {},
   "source": [
    "CURRENT AND MONITORED EL"
   ]
  },
  {
   "cell_type": "markdown",
   "metadata": {},
   "source": [
    "CD003ARE1318R-Campus 2018 Domain 1A: Masters Grade Level STD, Grade 3, Current-&-Monitored-Y1toY4-EL, STAAR Reading/ELA Rate\n",
    "CD003ARE1218R-Campus 2018 Domain 1A: Meets Grade Level STD, Grade 3, Current-&-Monitored-Y1toY4-EL, STAAR Reading/ELA Rate\n",
    "CD003ARE1S18R-Campus 2018 Domain 1A: Approaches Grade Level STD, Grade 3, Current-&-Monitored-Y1toY4-EL, STAAR Reading/ELA Rate\n",
    "\n",
    "CD003ARE1S19R-Campus 2019 Domain 1A: Approaches Grade Level STD, Grade 3, Current-&-Monitored-Y1toY4-EL, STAAR Reading/ELA Rate\n",
    "CD003ARE1219R-Campus 2019 Domain 1A: Meets Grade Level STD, Grade 3, Current-&-Monitored-Y1toY4-EL, STAAR Reading/ELA Rate\n",
    "CD003ARE1319R-Campus 2019 Domain 1A: Masters Grade Level STD, Grade 3, Current-&-Monitored-Y1toY4-EL, STAAR Reading/ELA Rate"
   ]
  },
  {
   "cell_type": "code",
   "execution_count": null,
   "metadata": {},
   "outputs": [],
   "source": [
    "\n",
    "\n",
    "#Selecting specific columns for all students DataFrame\n",
    "elcm_df = staar_rla1819_df[[\"School Year\",\"CAMPUS\",\"CD003ARE1S18R\",\"CD003ARE1218R\",\"CD003ARE1318R\",\"CD003ARE1S19R\",\"CD003ARE1219R\",\"CD003ARE1319R\"]]\n",
    "\n"
   ]
  },
  {
   "cell_type": "code",
   "execution_count": null,
   "metadata": {},
   "outputs": [],
   "source": [
    "#2019: App Grade Level STD, Grade 3,El Current and Monitored\n",
    "\n",
    "# ELLCM\n",
    "\n",
    "# Replace '.' and '-1' with NaN in the column\n",
    "elcm_df['CD003ARE1S19R'] = elcm_df['CD003ARE1S19R'].replace('-1', np.nan)\n",
    "elcm_df['CD003ARE1S19R'] = elcm_df['CD003ARE1S19R'].replace('.', np.nan)\n",
    "\n",
    "# Convert the column to integer\n",
    "elcm_df['CD003ARE1S19R'] =elcm_df['CD003ARE1S19R'].astype(float).astype('Int64')\n",
    "\n",
    "# Now you can calculate the average\n",
    "average_value_appelcm =elcm_df ['CD003ARE1S19R'].mean()\n",
    "\n",
    "#2019:Meet Grade Level STD, Grade 3,El Current and Monitored\n",
    "\n",
    "# ELLCM\n",
    "\n",
    "# Replace '.' and '-1' with NaN in the column\n",
    "elcm_df['CD003ARE1219R'] = elcm_df['CD003ARE1219R'].replace('-1', np.nan)\n",
    "elcm_df['CD003ARE1219R'] = elcm_df['CD003ARE1219R'].replace('.', np.nan)\n",
    "\n",
    "# Convert the column to integer\n",
    "elcm_df['CD003ARE1219R'] =elcm_df['CD003ARE1219R'].astype(float).astype('Int64')\n",
    "\n",
    "# Now you can calculate the average\n",
    "average_value_meelcm =elcm_df ['CD003ARE1219R'].mean()\n",
    "\n",
    "#2019: Master Grade Level STD, Grade 3,El Current and Monitored\n",
    "\n",
    "# ELLCM\n",
    "\n",
    "# Replace '.' and '-1' with NaN in the column\n",
    "elcm_df['CD003ARE1319R'] = elcm_df['CD003ARE1319R'].replace('-1', np.nan)\n",
    "elcm_df['CD003ARE1319R'] = elcm_df['CD003ARE1319R'].replace('.', np.nan)\n",
    "\n",
    "# Convert the column to integer\n",
    "elcm_df['CD003ARE1319R'] =elcm_df['CD003ARE1319R'].astype(float).astype('Int64')\n",
    "\n",
    "# Now you can calculate the average\n",
    "average_value_maelcm =elcm_df ['CD003ARE1319R'].mean()\n",
    "\n",
    "#____________________________________________\n",
    "\n",
    "\n",
    "#2018: App Grade Level STD, Grade 3,El Current and Monitored\n",
    "\n",
    "# ELLCM\n",
    "\n",
    "# Replace '.' and '-1' with NaN in the column\n",
    "elcm_df['CD003ARE1S18R'] = elcm_df['CD003ARE1S18R'].replace('-1', np.nan)\n",
    "elcm_df['CD003ARE1S18R'] = elcm_df['CD003ARE1S18R'].replace('.', np.nan)\n",
    "\n",
    "# Convert the column to integer\n",
    "elcm_df['CD003ARE1S18R'] =elcm_df['CD003ARE1S18R'].astype(float).astype('Int64')\n",
    "\n",
    "# Now you can calculate the average\n",
    "average_value_appelcm18 =elcm_df ['CD003ARE1S18R'].mean()\n",
    "\n",
    "#2018:Meet Grade Level STD, Grade 3,El Current and Monitored\n",
    "\n",
    "# ELLCM\n",
    "\n",
    "# Replace '.' and '-1' with NaN in the column\n",
    "elcm_df['CD003ARE1218R'] = elcm_df['CD003ARE1218R'].replace('-1', np.nan)\n",
    "elcm_df['CD003ARE1218R'] = elcm_df['CD003ARE1218R'].replace('.', np.nan)\n",
    "\n",
    "# Convert the column to integer\n",
    "elcm_df['CD003ARE1218R'] =elcm_df['CD003ARE1218R'].astype(float).astype('Int64')\n",
    "\n",
    "# Now you can calculate the average\n",
    "average_value_meelcm18 =elcm_df ['CD003ARE1218R'].mean()\n",
    "\n",
    "#2018: Master Grade Level STD, Grade 3,El Current and Monitored\n",
    "\n",
    "# ELLCM\n",
    "\n",
    "# Replace '.' and '-1' with NaN in the column\n",
    "elcm_df['CD003ARE1318R'] = elcm_df['CD003ARE1318R'].replace('-1', np.nan)\n",
    "elcm_df['CD003ARE1318R'] = elcm_df['CD003ARE1318R'].replace('.', np.nan)\n",
    "\n",
    "# Convert the column to integer\n",
    "elcm_df['CD003ARE1318R'] =elcm_df['CD003ARE1318R'].astype(float).astype('Int64')\n",
    "\n",
    "# Now you can calculate the average\n",
    "average_value_maelcm18 =elcm_df ['CD003ARE1318R'].mean()"
   ]
  },
  {
   "cell_type": "code",
   "execution_count": null,
   "metadata": {},
   "outputs": [
    {
     "data": {
      "application/vnd.plotly.v1+json": {
       "config": {
        "plotlyServerURL": "https://plot.ly"
       },
       "data": [
        {
         "marker": {
          "color": "blue",
          "size": 10
         },
         "mode": "markers",
         "name": "2018",
         "type": "scatter",
         "x": [
          "App Grade Level",
          "Meets Grade Level",
          "Masters Grade Level"
         ],
         "y": [
          73.30871670702179,
          35.72094430992736,
          17.904358353510897
         ]
        },
        {
         "marker": {
          "color": "red",
          "size": 10
         },
         "mode": "markers",
         "name": "2019",
         "type": "scatter",
         "x": [
          "App Grade Level",
          "Meets Grade Level",
          "Masters Grade Level"
         ],
         "y": [
          72.77016248153619,
          39.12703101920236,
          22.077695716395866
         ]
        }
       ],
       "layout": {
        "height": 600,
        "hovermode": "closest",
        "template": {
         "data": {
          "bar": [
           {
            "error_x": {
             "color": "#2a3f5f"
            },
            "error_y": {
             "color": "#2a3f5f"
            },
            "marker": {
             "line": {
              "color": "#E5ECF6",
              "width": 0.5
             },
             "pattern": {
              "fillmode": "overlay",
              "size": 10,
              "solidity": 0.2
             }
            },
            "type": "bar"
           }
          ],
          "barpolar": [
           {
            "marker": {
             "line": {
              "color": "#E5ECF6",
              "width": 0.5
             },
             "pattern": {
              "fillmode": "overlay",
              "size": 10,
              "solidity": 0.2
             }
            },
            "type": "barpolar"
           }
          ],
          "carpet": [
           {
            "aaxis": {
             "endlinecolor": "#2a3f5f",
             "gridcolor": "white",
             "linecolor": "white",
             "minorgridcolor": "white",
             "startlinecolor": "#2a3f5f"
            },
            "baxis": {
             "endlinecolor": "#2a3f5f",
             "gridcolor": "white",
             "linecolor": "white",
             "minorgridcolor": "white",
             "startlinecolor": "#2a3f5f"
            },
            "type": "carpet"
           }
          ],
          "choropleth": [
           {
            "colorbar": {
             "outlinewidth": 0,
             "ticks": ""
            },
            "type": "choropleth"
           }
          ],
          "contour": [
           {
            "colorbar": {
             "outlinewidth": 0,
             "ticks": ""
            },
            "colorscale": [
             [
              0,
              "#0d0887"
             ],
             [
              0.1111111111111111,
              "#46039f"
             ],
             [
              0.2222222222222222,
              "#7201a8"
             ],
             [
              0.3333333333333333,
              "#9c179e"
             ],
             [
              0.4444444444444444,
              "#bd3786"
             ],
             [
              0.5555555555555556,
              "#d8576b"
             ],
             [
              0.6666666666666666,
              "#ed7953"
             ],
             [
              0.7777777777777778,
              "#fb9f3a"
             ],
             [
              0.8888888888888888,
              "#fdca26"
             ],
             [
              1,
              "#f0f921"
             ]
            ],
            "type": "contour"
           }
          ],
          "contourcarpet": [
           {
            "colorbar": {
             "outlinewidth": 0,
             "ticks": ""
            },
            "type": "contourcarpet"
           }
          ],
          "heatmap": [
           {
            "colorbar": {
             "outlinewidth": 0,
             "ticks": ""
            },
            "colorscale": [
             [
              0,
              "#0d0887"
             ],
             [
              0.1111111111111111,
              "#46039f"
             ],
             [
              0.2222222222222222,
              "#7201a8"
             ],
             [
              0.3333333333333333,
              "#9c179e"
             ],
             [
              0.4444444444444444,
              "#bd3786"
             ],
             [
              0.5555555555555556,
              "#d8576b"
             ],
             [
              0.6666666666666666,
              "#ed7953"
             ],
             [
              0.7777777777777778,
              "#fb9f3a"
             ],
             [
              0.8888888888888888,
              "#fdca26"
             ],
             [
              1,
              "#f0f921"
             ]
            ],
            "type": "heatmap"
           }
          ],
          "heatmapgl": [
           {
            "colorbar": {
             "outlinewidth": 0,
             "ticks": ""
            },
            "colorscale": [
             [
              0,
              "#0d0887"
             ],
             [
              0.1111111111111111,
              "#46039f"
             ],
             [
              0.2222222222222222,
              "#7201a8"
             ],
             [
              0.3333333333333333,
              "#9c179e"
             ],
             [
              0.4444444444444444,
              "#bd3786"
             ],
             [
              0.5555555555555556,
              "#d8576b"
             ],
             [
              0.6666666666666666,
              "#ed7953"
             ],
             [
              0.7777777777777778,
              "#fb9f3a"
             ],
             [
              0.8888888888888888,
              "#fdca26"
             ],
             [
              1,
              "#f0f921"
             ]
            ],
            "type": "heatmapgl"
           }
          ],
          "histogram": [
           {
            "marker": {
             "pattern": {
              "fillmode": "overlay",
              "size": 10,
              "solidity": 0.2
             }
            },
            "type": "histogram"
           }
          ],
          "histogram2d": [
           {
            "colorbar": {
             "outlinewidth": 0,
             "ticks": ""
            },
            "colorscale": [
             [
              0,
              "#0d0887"
             ],
             [
              0.1111111111111111,
              "#46039f"
             ],
             [
              0.2222222222222222,
              "#7201a8"
             ],
             [
              0.3333333333333333,
              "#9c179e"
             ],
             [
              0.4444444444444444,
              "#bd3786"
             ],
             [
              0.5555555555555556,
              "#d8576b"
             ],
             [
              0.6666666666666666,
              "#ed7953"
             ],
             [
              0.7777777777777778,
              "#fb9f3a"
             ],
             [
              0.8888888888888888,
              "#fdca26"
             ],
             [
              1,
              "#f0f921"
             ]
            ],
            "type": "histogram2d"
           }
          ],
          "histogram2dcontour": [
           {
            "colorbar": {
             "outlinewidth": 0,
             "ticks": ""
            },
            "colorscale": [
             [
              0,
              "#0d0887"
             ],
             [
              0.1111111111111111,
              "#46039f"
             ],
             [
              0.2222222222222222,
              "#7201a8"
             ],
             [
              0.3333333333333333,
              "#9c179e"
             ],
             [
              0.4444444444444444,
              "#bd3786"
             ],
             [
              0.5555555555555556,
              "#d8576b"
             ],
             [
              0.6666666666666666,
              "#ed7953"
             ],
             [
              0.7777777777777778,
              "#fb9f3a"
             ],
             [
              0.8888888888888888,
              "#fdca26"
             ],
             [
              1,
              "#f0f921"
             ]
            ],
            "type": "histogram2dcontour"
           }
          ],
          "mesh3d": [
           {
            "colorbar": {
             "outlinewidth": 0,
             "ticks": ""
            },
            "type": "mesh3d"
           }
          ],
          "parcoords": [
           {
            "line": {
             "colorbar": {
              "outlinewidth": 0,
              "ticks": ""
             }
            },
            "type": "parcoords"
           }
          ],
          "pie": [
           {
            "automargin": true,
            "type": "pie"
           }
          ],
          "scatter": [
           {
            "fillpattern": {
             "fillmode": "overlay",
             "size": 10,
             "solidity": 0.2
            },
            "type": "scatter"
           }
          ],
          "scatter3d": [
           {
            "line": {
             "colorbar": {
              "outlinewidth": 0,
              "ticks": ""
             }
            },
            "marker": {
             "colorbar": {
              "outlinewidth": 0,
              "ticks": ""
             }
            },
            "type": "scatter3d"
           }
          ],
          "scattercarpet": [
           {
            "marker": {
             "colorbar": {
              "outlinewidth": 0,
              "ticks": ""
             }
            },
            "type": "scattercarpet"
           }
          ],
          "scattergeo": [
           {
            "marker": {
             "colorbar": {
              "outlinewidth": 0,
              "ticks": ""
             }
            },
            "type": "scattergeo"
           }
          ],
          "scattergl": [
           {
            "marker": {
             "colorbar": {
              "outlinewidth": 0,
              "ticks": ""
             }
            },
            "type": "scattergl"
           }
          ],
          "scattermapbox": [
           {
            "marker": {
             "colorbar": {
              "outlinewidth": 0,
              "ticks": ""
             }
            },
            "type": "scattermapbox"
           }
          ],
          "scatterpolar": [
           {
            "marker": {
             "colorbar": {
              "outlinewidth": 0,
              "ticks": ""
             }
            },
            "type": "scatterpolar"
           }
          ],
          "scatterpolargl": [
           {
            "marker": {
             "colorbar": {
              "outlinewidth": 0,
              "ticks": ""
             }
            },
            "type": "scatterpolargl"
           }
          ],
          "scatterternary": [
           {
            "marker": {
             "colorbar": {
              "outlinewidth": 0,
              "ticks": ""
             }
            },
            "type": "scatterternary"
           }
          ],
          "surface": [
           {
            "colorbar": {
             "outlinewidth": 0,
             "ticks": ""
            },
            "colorscale": [
             [
              0,
              "#0d0887"
             ],
             [
              0.1111111111111111,
              "#46039f"
             ],
             [
              0.2222222222222222,
              "#7201a8"
             ],
             [
              0.3333333333333333,
              "#9c179e"
             ],
             [
              0.4444444444444444,
              "#bd3786"
             ],
             [
              0.5555555555555556,
              "#d8576b"
             ],
             [
              0.6666666666666666,
              "#ed7953"
             ],
             [
              0.7777777777777778,
              "#fb9f3a"
             ],
             [
              0.8888888888888888,
              "#fdca26"
             ],
             [
              1,
              "#f0f921"
             ]
            ],
            "type": "surface"
           }
          ],
          "table": [
           {
            "cells": {
             "fill": {
              "color": "#EBF0F8"
             },
             "line": {
              "color": "white"
             }
            },
            "header": {
             "fill": {
              "color": "#C8D4E3"
             },
             "line": {
              "color": "white"
             }
            },
            "type": "table"
           }
          ]
         },
         "layout": {
          "annotationdefaults": {
           "arrowcolor": "#2a3f5f",
           "arrowhead": 0,
           "arrowwidth": 1
          },
          "autotypenumbers": "strict",
          "coloraxis": {
           "colorbar": {
            "outlinewidth": 0,
            "ticks": ""
           }
          },
          "colorscale": {
           "diverging": [
            [
             0,
             "#8e0152"
            ],
            [
             0.1,
             "#c51b7d"
            ],
            [
             0.2,
             "#de77ae"
            ],
            [
             0.3,
             "#f1b6da"
            ],
            [
             0.4,
             "#fde0ef"
            ],
            [
             0.5,
             "#f7f7f7"
            ],
            [
             0.6,
             "#e6f5d0"
            ],
            [
             0.7,
             "#b8e186"
            ],
            [
             0.8,
             "#7fbc41"
            ],
            [
             0.9,
             "#4d9221"
            ],
            [
             1,
             "#276419"
            ]
           ],
           "sequential": [
            [
             0,
             "#0d0887"
            ],
            [
             0.1111111111111111,
             "#46039f"
            ],
            [
             0.2222222222222222,
             "#7201a8"
            ],
            [
             0.3333333333333333,
             "#9c179e"
            ],
            [
             0.4444444444444444,
             "#bd3786"
            ],
            [
             0.5555555555555556,
             "#d8576b"
            ],
            [
             0.6666666666666666,
             "#ed7953"
            ],
            [
             0.7777777777777778,
             "#fb9f3a"
            ],
            [
             0.8888888888888888,
             "#fdca26"
            ],
            [
             1,
             "#f0f921"
            ]
           ],
           "sequentialminus": [
            [
             0,
             "#0d0887"
            ],
            [
             0.1111111111111111,
             "#46039f"
            ],
            [
             0.2222222222222222,
             "#7201a8"
            ],
            [
             0.3333333333333333,
             "#9c179e"
            ],
            [
             0.4444444444444444,
             "#bd3786"
            ],
            [
             0.5555555555555556,
             "#d8576b"
            ],
            [
             0.6666666666666666,
             "#ed7953"
            ],
            [
             0.7777777777777778,
             "#fb9f3a"
            ],
            [
             0.8888888888888888,
             "#fdca26"
            ],
            [
             1,
             "#f0f921"
            ]
           ]
          },
          "colorway": [
           "#636efa",
           "#EF553B",
           "#00cc96",
           "#ab63fa",
           "#FFA15A",
           "#19d3f3",
           "#FF6692",
           "#B6E880",
           "#FF97FF",
           "#FECB52"
          ],
          "font": {
           "color": "#2a3f5f"
          },
          "geo": {
           "bgcolor": "white",
           "lakecolor": "white",
           "landcolor": "#E5ECF6",
           "showlakes": true,
           "showland": true,
           "subunitcolor": "white"
          },
          "hoverlabel": {
           "align": "left"
          },
          "hovermode": "closest",
          "mapbox": {
           "style": "light"
          },
          "paper_bgcolor": "white",
          "plot_bgcolor": "#E5ECF6",
          "polar": {
           "angularaxis": {
            "gridcolor": "white",
            "linecolor": "white",
            "ticks": ""
           },
           "bgcolor": "#E5ECF6",
           "radialaxis": {
            "gridcolor": "white",
            "linecolor": "white",
            "ticks": ""
           }
          },
          "scene": {
           "xaxis": {
            "backgroundcolor": "#E5ECF6",
            "gridcolor": "white",
            "gridwidth": 2,
            "linecolor": "white",
            "showbackground": true,
            "ticks": "",
            "zerolinecolor": "white"
           },
           "yaxis": {
            "backgroundcolor": "#E5ECF6",
            "gridcolor": "white",
            "gridwidth": 2,
            "linecolor": "white",
            "showbackground": true,
            "ticks": "",
            "zerolinecolor": "white"
           },
           "zaxis": {
            "backgroundcolor": "#E5ECF6",
            "gridcolor": "white",
            "gridwidth": 2,
            "linecolor": "white",
            "showbackground": true,
            "ticks": "",
            "zerolinecolor": "white"
           }
          },
          "shapedefaults": {
           "line": {
            "color": "#2a3f5f"
           }
          },
          "ternary": {
           "aaxis": {
            "gridcolor": "white",
            "linecolor": "white",
            "ticks": ""
           },
           "baxis": {
            "gridcolor": "white",
            "linecolor": "white",
            "ticks": ""
           },
           "bgcolor": "#E5ECF6",
           "caxis": {
            "gridcolor": "white",
            "linecolor": "white",
            "ticks": ""
           }
          },
          "title": {
           "x": 0.05
          },
          "xaxis": {
           "automargin": true,
           "gridcolor": "white",
           "linecolor": "white",
           "ticks": "",
           "title": {
            "standoff": 15
           },
           "zerolinecolor": "white",
           "zerolinewidth": 2
          },
          "yaxis": {
           "automargin": true,
           "gridcolor": "white",
           "linecolor": "white",
           "ticks": "",
           "title": {
            "standoff": 15
           },
           "zerolinecolor": "white",
           "zerolinewidth": 2
          }
         }
        },
        "title": {
         "text": "Domain 1A: EL Current & Monitored Performance Level Standard (Grade 3)"
        },
        "width": 800,
        "xaxis": {
         "title": {
          "text": "Performance Level Standards"
         }
        },
        "yaxis": {
         "title": {
          "text": "Average Score (%)"
         }
        }
       }
      }
     },
     "metadata": {},
     "output_type": "display_data"
    }
   ],
   "source": [
    "\n",
    "import plotly.graph_objects as go\n",
    "\n",
    "# Define the data\n",
    "categories = ['App Grade Level', 'Meets Grade Level', 'Masters Grade Level']\n",
    "averages_2018 = [average_value_appelcm18, average_value_meelcm18, average_value_maelcm18]\n",
    "averages_2019 = [average_value_appelcm, average_value_meelcm, average_value_maelcm]\n",
    "\n",
    "# Create traces for 2018 and 2019 data\n",
    "trace_2018 = go.Scatter(x=categories, y=averages_2018, mode='markers', name='2018', marker=dict(color='blue', size=10))\n",
    "trace_2019 = go.Scatter(x=categories, y=averages_2019, mode='markers', name='2019', marker=dict(color='red', size=10))\n",
    "\n",
    "# Create layout\n",
    "layout = go.Layout(\n",
    "    title='Domain 1A: EL Current & Monitored Performance Level Standard (Grade 3)',\n",
    "    xaxis=dict(title='Performance Level Standards'),\n",
    "    yaxis=dict(title='Average Score (%)'),\n",
    "    hovermode='closest',\n",
    "    width=800,  # Set the width of the graph\n",
    "    height=600  # Set the height of the graph\n",
    ")\n",
    "\n",
    "# Create figure\n",
    "fig = go.Figure(data=[trace_2018, trace_2019], layout=layout)\n",
    "\n",
    "# Show plot\n",
    "fig.show()\n"
   ]
  },
  {
   "cell_type": "markdown",
   "metadata": {},
   "source": [
    "ELl"
   ]
  },
  {
   "cell_type": "markdown",
   "metadata": {},
   "source": [
    "CDL03ARE1318R-Campus 2018 Domain 1A: Masters Grade Level STD, Grade 3, EL, STAAR Reading/ELA Rate\n",
    "CDL03ARE1218R-Campus 2018 Domain 1A: Meets Grade Level STD, Grade 3, EL, STAAR Reading/ELA Rate\n",
    "CDL03ARE1S18R-Campus 2018 Domain 1A: Approaches Grade Level STD, Grade 3, EL, STAAR Reading/ELA Rate\n",
    "\n",
    "CDL03ARE1S19R-Campus 2019 Domain 1A: Approaches Grade Level STD, Grade 3, EL, STAAR Reading/ELA Rate\n",
    "CDL03ARE1219R-Campus 2019 Domain 1A: Meets Grade Level STD, Grade 3, EL, STAAR Reading/ELA Rate\n",
    "CDL03ARE1319R-Campus 2019 Domain 1A: Masters Grade Level STD, Grade 3, EL, STAAR Reading/ELA Rate"
   ]
  },
  {
   "cell_type": "code",
   "execution_count": null,
   "metadata": {},
   "outputs": [],
   "source": [
    "\n",
    "\n",
    "#Selecting specific columns for all students DataFrame\n",
    "el_df = staar_rla1819_df[[\"School Year\",\"CAMPUS\",\"CDL03ARE1S19R\",\"CDL03ARE1219R\",\"CDL03ARE1319R\",\"CDL03ARE1318R\",\"CDL03ARE1218R\",\"CDL03ARE1S18R\"]]\n",
    "\n"
   ]
  },
  {
   "cell_type": "code",
   "execution_count": null,
   "metadata": {},
   "outputs": [],
   "source": [
    "#2019: App Grade Level STD, Grade 3,El\n",
    "\n",
    "# ELL\n",
    "\n",
    "# Replace '.' and '-1' with NaN in the column\n",
    "el_df['CDL03ARE1S19R'] = el_df['CDL03ARE1S19R'].replace('-1', np.nan)\n",
    "el_df['CDL03ARE1S19R'] = el_df['CDL03ARE1S19R'].replace('.', np.nan)\n",
    "\n",
    "# Convert the column to integer\n",
    "el_df ['CDL03ARE1S19R'] =el_df ['CDL03ARE1S19R'].astype(float).astype('Int64')\n",
    "\n",
    "# Now you can calculate the average\n",
    "average_value_appel = el_df ['CDL03ARE1S19R'].mean()\n",
    "\n",
    "\n",
    "#2019: Meets Grade Level STD, Grade 3,El\n",
    "\n",
    "# ELL\n",
    "\n",
    "# Replace '.' and '-1' with NaN in the column\n",
    "el_df['CDL03ARE1219R'] = el_df['CDL03ARE1219R'].replace('-1', np.nan)\n",
    "el_df['CDL03ARE1219R'] = el_df['CDL03ARE1219R'].replace('.', np.nan)\n",
    "\n",
    "# Convert the column to integer\n",
    "el_df ['CDL03ARE1219R'] =el_df ['CDL03ARE1219R'].astype(float).astype('Int64')\n",
    "\n",
    "# Now you can calculate the average\n",
    "average_value_meel = el_df ['CDL03ARE1219R'].mean()\n",
    "\n",
    "#2019: Masters Grade Level STD, Grade 3,El\n",
    "\n",
    "# ELL\n",
    "\n",
    "# Replace '.' and '-1' with NaN in the column\n",
    "el_df['CDL03ARE1319R'] = el_df['CDL03ARE1319R'].replace('-1', np.nan)\n",
    "el_df['CDL03ARE1319R'] = el_df['CDL03ARE1319R'].replace('.', np.nan)\n",
    "\n",
    "# Convert the column to integer\n",
    "el_df ['CDL03ARE1319R'] =el_df ['CDL03ARE1319R'].astype(float).astype('Int64')\n",
    "\n",
    "# Now you can calculate the average\n",
    "average_value_mael = el_df ['CDL03ARE1319R'].mean()\n",
    "\n",
    "#___________________________________________\n",
    "\n",
    "#2018: App Grade Level STD, Grade 3,El\n",
    "\n",
    "# ELL\n",
    "\n",
    "# Replace '.' and '-1' with NaN in the column\n",
    "el_df['CDL03ARE1S18R'] = el_df['CDL03ARE1S18R'].replace('-1', np.nan)\n",
    "el_df['CDL03ARE1S18R'] = el_df['CDL03ARE1S18R'].replace('.', np.nan)\n",
    "\n",
    "# Convert the column to integer\n",
    "el_df ['CDL03ARE1S18R'] =el_df ['CDL03ARE1S18R'].astype(float).astype('Int64')\n",
    "\n",
    "# Now you can calculate the average\n",
    "average_value_appel18 = el_df ['CDL03ARE1S18R'].mean()\n",
    "\n",
    "\n",
    "#2018: Meets Grade Level STD, Grade 3,El\n",
    "\n",
    "# ELL\n",
    "\n",
    "# Replace '.' and '-1' with NaN in the column\n",
    "el_df['CDL03ARE1218R'] = el_df['CDL03ARE1218R'].replace('-1', np.nan)\n",
    "el_df['CDL03ARE1218R'] = el_df['CDL03ARE1218R'].replace('.', np.nan)\n",
    "\n",
    "# Convert the column to integer\n",
    "el_df ['CDL03ARE1218R'] =el_df ['CDL03ARE1218R'].astype(float).astype('Int64')\n",
    "\n",
    "# Now you can calculate the average\n",
    "average_value_meel18 = el_df ['CDL03ARE1218R'].mean()\n",
    "\n",
    "#2018: Masters Grade Level STD, Grade 3,El\n",
    "\n",
    "# ELL\n",
    "\n",
    "# Replace '.' and '-1' with NaN in the column\n",
    "el_df['CDL03ARE1318R'] = el_df['CDL03ARE1318R'].replace('-1', np.nan)\n",
    "el_df['CDL03ARE1318R'] = el_df['CDL03ARE1318R'].replace('.', np.nan)\n",
    "\n",
    "# Convert the column to integer\n",
    "el_df ['CDL03ARE1318R'] =el_df ['CDL03ARE1318R'].astype(float).astype('Int64')\n",
    "\n",
    "# Now you can calculate the average\n",
    "average_value_mael18 = el_df ['CDL03ARE1318R'].mean()"
   ]
  },
  {
   "cell_type": "code",
   "execution_count": null,
   "metadata": {},
   "outputs": [
    {
     "data": {
      "application/vnd.plotly.v1+json": {
       "config": {
        "plotlyServerURL": "https://plot.ly"
       },
       "data": [
        {
         "marker": {
          "color": "blue",
          "size": 10
         },
         "mode": "markers",
         "name": "2018",
         "type": "scatter",
         "x": [
          "App Grade Level",
          "Meets Grade Level",
          "Masters Grade Level"
         ],
         "y": [
          70.57921102066375,
          31.52692548528491,
          14.60551033187226
         ]
        },
        {
         "marker": {
          "color": "red",
          "size": 10
         },
         "mode": "markers",
         "name": "2019",
         "type": "scatter",
         "x": [
          "App Grade Level",
          "Meets Grade Level",
          "Masters Grade Level"
         ],
         "y": [
          70.92759355034987,
          35.869181624581685,
          19.095527836933375
         ]
        }
       ],
       "layout": {
        "height": 600,
        "hovermode": "closest",
        "template": {
         "data": {
          "bar": [
           {
            "error_x": {
             "color": "#2a3f5f"
            },
            "error_y": {
             "color": "#2a3f5f"
            },
            "marker": {
             "line": {
              "color": "#E5ECF6",
              "width": 0.5
             },
             "pattern": {
              "fillmode": "overlay",
              "size": 10,
              "solidity": 0.2
             }
            },
            "type": "bar"
           }
          ],
          "barpolar": [
           {
            "marker": {
             "line": {
              "color": "#E5ECF6",
              "width": 0.5
             },
             "pattern": {
              "fillmode": "overlay",
              "size": 10,
              "solidity": 0.2
             }
            },
            "type": "barpolar"
           }
          ],
          "carpet": [
           {
            "aaxis": {
             "endlinecolor": "#2a3f5f",
             "gridcolor": "white",
             "linecolor": "white",
             "minorgridcolor": "white",
             "startlinecolor": "#2a3f5f"
            },
            "baxis": {
             "endlinecolor": "#2a3f5f",
             "gridcolor": "white",
             "linecolor": "white",
             "minorgridcolor": "white",
             "startlinecolor": "#2a3f5f"
            },
            "type": "carpet"
           }
          ],
          "choropleth": [
           {
            "colorbar": {
             "outlinewidth": 0,
             "ticks": ""
            },
            "type": "choropleth"
           }
          ],
          "contour": [
           {
            "colorbar": {
             "outlinewidth": 0,
             "ticks": ""
            },
            "colorscale": [
             [
              0,
              "#0d0887"
             ],
             [
              0.1111111111111111,
              "#46039f"
             ],
             [
              0.2222222222222222,
              "#7201a8"
             ],
             [
              0.3333333333333333,
              "#9c179e"
             ],
             [
              0.4444444444444444,
              "#bd3786"
             ],
             [
              0.5555555555555556,
              "#d8576b"
             ],
             [
              0.6666666666666666,
              "#ed7953"
             ],
             [
              0.7777777777777778,
              "#fb9f3a"
             ],
             [
              0.8888888888888888,
              "#fdca26"
             ],
             [
              1,
              "#f0f921"
             ]
            ],
            "type": "contour"
           }
          ],
          "contourcarpet": [
           {
            "colorbar": {
             "outlinewidth": 0,
             "ticks": ""
            },
            "type": "contourcarpet"
           }
          ],
          "heatmap": [
           {
            "colorbar": {
             "outlinewidth": 0,
             "ticks": ""
            },
            "colorscale": [
             [
              0,
              "#0d0887"
             ],
             [
              0.1111111111111111,
              "#46039f"
             ],
             [
              0.2222222222222222,
              "#7201a8"
             ],
             [
              0.3333333333333333,
              "#9c179e"
             ],
             [
              0.4444444444444444,
              "#bd3786"
             ],
             [
              0.5555555555555556,
              "#d8576b"
             ],
             [
              0.6666666666666666,
              "#ed7953"
             ],
             [
              0.7777777777777778,
              "#fb9f3a"
             ],
             [
              0.8888888888888888,
              "#fdca26"
             ],
             [
              1,
              "#f0f921"
             ]
            ],
            "type": "heatmap"
           }
          ],
          "heatmapgl": [
           {
            "colorbar": {
             "outlinewidth": 0,
             "ticks": ""
            },
            "colorscale": [
             [
              0,
              "#0d0887"
             ],
             [
              0.1111111111111111,
              "#46039f"
             ],
             [
              0.2222222222222222,
              "#7201a8"
             ],
             [
              0.3333333333333333,
              "#9c179e"
             ],
             [
              0.4444444444444444,
              "#bd3786"
             ],
             [
              0.5555555555555556,
              "#d8576b"
             ],
             [
              0.6666666666666666,
              "#ed7953"
             ],
             [
              0.7777777777777778,
              "#fb9f3a"
             ],
             [
              0.8888888888888888,
              "#fdca26"
             ],
             [
              1,
              "#f0f921"
             ]
            ],
            "type": "heatmapgl"
           }
          ],
          "histogram": [
           {
            "marker": {
             "pattern": {
              "fillmode": "overlay",
              "size": 10,
              "solidity": 0.2
             }
            },
            "type": "histogram"
           }
          ],
          "histogram2d": [
           {
            "colorbar": {
             "outlinewidth": 0,
             "ticks": ""
            },
            "colorscale": [
             [
              0,
              "#0d0887"
             ],
             [
              0.1111111111111111,
              "#46039f"
             ],
             [
              0.2222222222222222,
              "#7201a8"
             ],
             [
              0.3333333333333333,
              "#9c179e"
             ],
             [
              0.4444444444444444,
              "#bd3786"
             ],
             [
              0.5555555555555556,
              "#d8576b"
             ],
             [
              0.6666666666666666,
              "#ed7953"
             ],
             [
              0.7777777777777778,
              "#fb9f3a"
             ],
             [
              0.8888888888888888,
              "#fdca26"
             ],
             [
              1,
              "#f0f921"
             ]
            ],
            "type": "histogram2d"
           }
          ],
          "histogram2dcontour": [
           {
            "colorbar": {
             "outlinewidth": 0,
             "ticks": ""
            },
            "colorscale": [
             [
              0,
              "#0d0887"
             ],
             [
              0.1111111111111111,
              "#46039f"
             ],
             [
              0.2222222222222222,
              "#7201a8"
             ],
             [
              0.3333333333333333,
              "#9c179e"
             ],
             [
              0.4444444444444444,
              "#bd3786"
             ],
             [
              0.5555555555555556,
              "#d8576b"
             ],
             [
              0.6666666666666666,
              "#ed7953"
             ],
             [
              0.7777777777777778,
              "#fb9f3a"
             ],
             [
              0.8888888888888888,
              "#fdca26"
             ],
             [
              1,
              "#f0f921"
             ]
            ],
            "type": "histogram2dcontour"
           }
          ],
          "mesh3d": [
           {
            "colorbar": {
             "outlinewidth": 0,
             "ticks": ""
            },
            "type": "mesh3d"
           }
          ],
          "parcoords": [
           {
            "line": {
             "colorbar": {
              "outlinewidth": 0,
              "ticks": ""
             }
            },
            "type": "parcoords"
           }
          ],
          "pie": [
           {
            "automargin": true,
            "type": "pie"
           }
          ],
          "scatter": [
           {
            "fillpattern": {
             "fillmode": "overlay",
             "size": 10,
             "solidity": 0.2
            },
            "type": "scatter"
           }
          ],
          "scatter3d": [
           {
            "line": {
             "colorbar": {
              "outlinewidth": 0,
              "ticks": ""
             }
            },
            "marker": {
             "colorbar": {
              "outlinewidth": 0,
              "ticks": ""
             }
            },
            "type": "scatter3d"
           }
          ],
          "scattercarpet": [
           {
            "marker": {
             "colorbar": {
              "outlinewidth": 0,
              "ticks": ""
             }
            },
            "type": "scattercarpet"
           }
          ],
          "scattergeo": [
           {
            "marker": {
             "colorbar": {
              "outlinewidth": 0,
              "ticks": ""
             }
            },
            "type": "scattergeo"
           }
          ],
          "scattergl": [
           {
            "marker": {
             "colorbar": {
              "outlinewidth": 0,
              "ticks": ""
             }
            },
            "type": "scattergl"
           }
          ],
          "scattermapbox": [
           {
            "marker": {
             "colorbar": {
              "outlinewidth": 0,
              "ticks": ""
             }
            },
            "type": "scattermapbox"
           }
          ],
          "scatterpolar": [
           {
            "marker": {
             "colorbar": {
              "outlinewidth": 0,
              "ticks": ""
             }
            },
            "type": "scatterpolar"
           }
          ],
          "scatterpolargl": [
           {
            "marker": {
             "colorbar": {
              "outlinewidth": 0,
              "ticks": ""
             }
            },
            "type": "scatterpolargl"
           }
          ],
          "scatterternary": [
           {
            "marker": {
             "colorbar": {
              "outlinewidth": 0,
              "ticks": ""
             }
            },
            "type": "scatterternary"
           }
          ],
          "surface": [
           {
            "colorbar": {
             "outlinewidth": 0,
             "ticks": ""
            },
            "colorscale": [
             [
              0,
              "#0d0887"
             ],
             [
              0.1111111111111111,
              "#46039f"
             ],
             [
              0.2222222222222222,
              "#7201a8"
             ],
             [
              0.3333333333333333,
              "#9c179e"
             ],
             [
              0.4444444444444444,
              "#bd3786"
             ],
             [
              0.5555555555555556,
              "#d8576b"
             ],
             [
              0.6666666666666666,
              "#ed7953"
             ],
             [
              0.7777777777777778,
              "#fb9f3a"
             ],
             [
              0.8888888888888888,
              "#fdca26"
             ],
             [
              1,
              "#f0f921"
             ]
            ],
            "type": "surface"
           }
          ],
          "table": [
           {
            "cells": {
             "fill": {
              "color": "#EBF0F8"
             },
             "line": {
              "color": "white"
             }
            },
            "header": {
             "fill": {
              "color": "#C8D4E3"
             },
             "line": {
              "color": "white"
             }
            },
            "type": "table"
           }
          ]
         },
         "layout": {
          "annotationdefaults": {
           "arrowcolor": "#2a3f5f",
           "arrowhead": 0,
           "arrowwidth": 1
          },
          "autotypenumbers": "strict",
          "coloraxis": {
           "colorbar": {
            "outlinewidth": 0,
            "ticks": ""
           }
          },
          "colorscale": {
           "diverging": [
            [
             0,
             "#8e0152"
            ],
            [
             0.1,
             "#c51b7d"
            ],
            [
             0.2,
             "#de77ae"
            ],
            [
             0.3,
             "#f1b6da"
            ],
            [
             0.4,
             "#fde0ef"
            ],
            [
             0.5,
             "#f7f7f7"
            ],
            [
             0.6,
             "#e6f5d0"
            ],
            [
             0.7,
             "#b8e186"
            ],
            [
             0.8,
             "#7fbc41"
            ],
            [
             0.9,
             "#4d9221"
            ],
            [
             1,
             "#276419"
            ]
           ],
           "sequential": [
            [
             0,
             "#0d0887"
            ],
            [
             0.1111111111111111,
             "#46039f"
            ],
            [
             0.2222222222222222,
             "#7201a8"
            ],
            [
             0.3333333333333333,
             "#9c179e"
            ],
            [
             0.4444444444444444,
             "#bd3786"
            ],
            [
             0.5555555555555556,
             "#d8576b"
            ],
            [
             0.6666666666666666,
             "#ed7953"
            ],
            [
             0.7777777777777778,
             "#fb9f3a"
            ],
            [
             0.8888888888888888,
             "#fdca26"
            ],
            [
             1,
             "#f0f921"
            ]
           ],
           "sequentialminus": [
            [
             0,
             "#0d0887"
            ],
            [
             0.1111111111111111,
             "#46039f"
            ],
            [
             0.2222222222222222,
             "#7201a8"
            ],
            [
             0.3333333333333333,
             "#9c179e"
            ],
            [
             0.4444444444444444,
             "#bd3786"
            ],
            [
             0.5555555555555556,
             "#d8576b"
            ],
            [
             0.6666666666666666,
             "#ed7953"
            ],
            [
             0.7777777777777778,
             "#fb9f3a"
            ],
            [
             0.8888888888888888,
             "#fdca26"
            ],
            [
             1,
             "#f0f921"
            ]
           ]
          },
          "colorway": [
           "#636efa",
           "#EF553B",
           "#00cc96",
           "#ab63fa",
           "#FFA15A",
           "#19d3f3",
           "#FF6692",
           "#B6E880",
           "#FF97FF",
           "#FECB52"
          ],
          "font": {
           "color": "#2a3f5f"
          },
          "geo": {
           "bgcolor": "white",
           "lakecolor": "white",
           "landcolor": "#E5ECF6",
           "showlakes": true,
           "showland": true,
           "subunitcolor": "white"
          },
          "hoverlabel": {
           "align": "left"
          },
          "hovermode": "closest",
          "mapbox": {
           "style": "light"
          },
          "paper_bgcolor": "white",
          "plot_bgcolor": "#E5ECF6",
          "polar": {
           "angularaxis": {
            "gridcolor": "white",
            "linecolor": "white",
            "ticks": ""
           },
           "bgcolor": "#E5ECF6",
           "radialaxis": {
            "gridcolor": "white",
            "linecolor": "white",
            "ticks": ""
           }
          },
          "scene": {
           "xaxis": {
            "backgroundcolor": "#E5ECF6",
            "gridcolor": "white",
            "gridwidth": 2,
            "linecolor": "white",
            "showbackground": true,
            "ticks": "",
            "zerolinecolor": "white"
           },
           "yaxis": {
            "backgroundcolor": "#E5ECF6",
            "gridcolor": "white",
            "gridwidth": 2,
            "linecolor": "white",
            "showbackground": true,
            "ticks": "",
            "zerolinecolor": "white"
           },
           "zaxis": {
            "backgroundcolor": "#E5ECF6",
            "gridcolor": "white",
            "gridwidth": 2,
            "linecolor": "white",
            "showbackground": true,
            "ticks": "",
            "zerolinecolor": "white"
           }
          },
          "shapedefaults": {
           "line": {
            "color": "#2a3f5f"
           }
          },
          "ternary": {
           "aaxis": {
            "gridcolor": "white",
            "linecolor": "white",
            "ticks": ""
           },
           "baxis": {
            "gridcolor": "white",
            "linecolor": "white",
            "ticks": ""
           },
           "bgcolor": "#E5ECF6",
           "caxis": {
            "gridcolor": "white",
            "linecolor": "white",
            "ticks": ""
           }
          },
          "title": {
           "x": 0.05
          },
          "xaxis": {
           "automargin": true,
           "gridcolor": "white",
           "linecolor": "white",
           "ticks": "",
           "title": {
            "standoff": 15
           },
           "zerolinecolor": "white",
           "zerolinewidth": 2
          },
          "yaxis": {
           "automargin": true,
           "gridcolor": "white",
           "linecolor": "white",
           "ticks": "",
           "title": {
            "standoff": 15
           },
           "zerolinecolor": "white",
           "zerolinewidth": 2
          }
         }
        },
        "title": {
         "text": "Domain 1A: EL Performance Level Standard (Grade 3)"
        },
        "width": 800,
        "xaxis": {
         "title": {
          "text": "Performance Level Standards"
         }
        },
        "yaxis": {
         "title": {
          "text": "Average Score (%)"
         }
        }
       }
      }
     },
     "metadata": {},
     "output_type": "display_data"
    }
   ],
   "source": [
    "\n",
    "import plotly.graph_objects as go\n",
    "\n",
    "# Define the data\n",
    "categories = ['App Grade Level', 'Meets Grade Level', 'Masters Grade Level']\n",
    "averages_2018 = [average_value_appel18, average_value_meel18, average_value_mael18]\n",
    "averages_2019 = [average_value_appel, average_value_meel, average_value_mael]\n",
    "\n",
    "# Create traces for 2018 and 2019 data\n",
    "trace_2018 = go.Scatter(x=categories, y=averages_2018, mode='markers', name='2018', marker=dict(color='blue', size=10))\n",
    "trace_2019 = go.Scatter(x=categories, y=averages_2019, mode='markers', name='2019', marker=dict(color='red', size=10))\n",
    "\n",
    "# Create layout\n",
    "layout = go.Layout(\n",
    "    title='Domain 1A: EL Performance Level Standard (Grade 3)',\n",
    "    xaxis=dict(title='Performance Level Standards'),\n",
    "    yaxis=dict(title='Average Score (%)'),\n",
    "    hovermode='closest',\n",
    "    width=800,  # Set the width of the graph\n",
    "    height=600  # Set the height of the graph\n",
    ")\n",
    "\n",
    "# Create figure\n",
    "fig = go.Figure(data=[trace_2018, trace_2019], layout=layout)\n",
    "\n",
    "# Show plot\n",
    "fig.show()\n"
   ]
  },
  {
   "cell_type": "code",
   "execution_count": null,
   "metadata": {},
   "outputs": [],
   "source": [
    "Econ Disadv"
   ]
  },
  {
   "cell_type": "markdown",
   "metadata": {},
   "source": [
    "CDE03ARE1S18R-Campus 2018 Domain 1A: Approaches Grade Level STD, Grade 3, Econ Disadv, STAAR Reading/ELA Rate\n",
    "CDE03ARE1218R-Campus 2018 Domain 1A: Meets Grade Level STD, Grade 3, Econ Disadv, STAAR Reading/ELA Rate\n",
    "CDE03ARE1318R-Campus 2018 Domain 1A: Masters Grade Level STD, Grade 3, Econ Disadv, STAAR Reading/ELA Rate\n",
    "\n",
    "CDE03ARE1S19R-Campus 2019 Domain 1A: Approaches Grade Level STD, Grade 3, Econ Disadv, STAAR Reading/ELA Rate\n",
    "CDE03ARE1219R-Campus 2019 Domain 1A: Meets Grade Level STD, Grade 3, Econ Disadv, STAAR Reading/ELA Rate\n",
    "CDE03ARE1319R-Campus 2019 Domain 1A: Masters Grade Level STD, Grade 3, Econ Disadv, STAAR Reading/ELA Rate"
   ]
  },
  {
   "cell_type": "code",
   "execution_count": null,
   "metadata": {},
   "outputs": [],
   "source": [
    "#Selecting specific columns for all students DataFrame\n",
    "ed_df = staar_rla1819_df[[\"School Year\",\"CAMPUS\",\"CDE03ARE1S18R\",\"CDE03ARE1218R\",\"CDE03ARE1318R\",\"CDE03ARE1S19R\",\"CDE03ARE1219R\",\"CDE03ARE1319R\"]]"
   ]
  },
  {
   "cell_type": "code",
   "execution_count": null,
   "metadata": {},
   "outputs": [],
   "source": [
    "#2019: App Grade Level STD, Grade 3-Econ Disadv\n",
    "\n",
    "# ED\n",
    "\n",
    "# Replace '.' and '-1' with NaN in the column\n",
    "ed_df['CDE03ARE1S19R'] = ed_df['CDE03ARE1S19R'].replace('-1', np.nan)\n",
    "ed_df['CDE03ARE1S19R'] = ed_df['CDE03ARE1S19R'].replace('.', np.nan)\n",
    "\n",
    "# Convert the column to integer\n",
    "ed_df ['CDE03ARE1S19R'] =ed_df ['CDE03ARE1S19R'].astype(float).astype('Int64')\n",
    "\n",
    "# Now you can calculate the average\n",
    "average_value_apped = ed_df ['CDE03ARE1S19R'].mean()\n",
    "\n",
    "#2019: Met Grade Level STD, Grade 3-Econ Disadv\n",
    "\n",
    "# ED\n",
    "\n",
    "# Replace '.' and '-1' with NaN in the column\n",
    "ed_df['CDE03ARE1219R'] = ed_df['CDE03ARE1219R'].replace('-1', np.nan)\n",
    "ed_df['CDE03ARE1219R'] = ed_df['CDE03ARE1219R'].replace('.', np.nan)\n",
    "\n",
    "# Convert the column to integer\n",
    "ed_df ['CDE03ARE1219R'] =ed_df ['CDE03ARE1219R'].astype(float).astype('Int64')\n",
    "\n",
    "# Now you can calculate the average\n",
    "average_value_meed = ed_df ['CDE03ARE1219R'].mean()\n",
    "\n",
    "#2019: Master Grade Level STD, Grade 3-Econ Disadv\n",
    "\n",
    "# ED\n",
    "\n",
    "# Replace '.' and '-1' with NaN in the column\n",
    "ed_df['CDE03ARE1319R'] = ed_df['CDE03ARE1319R'].replace('-1', np.nan)\n",
    "ed_df['CDE03ARE1319R'] = ed_df['CDE03ARE1319R'].replace('.', np.nan)\n",
    "\n",
    "# Convert the column to integer\n",
    "ed_df ['CDE03ARE1319R'] =ed_df ['CDE03ARE1319R'].astype(float).astype('Int64')\n",
    "\n",
    "# Now you can calculate the average\n",
    "average_value_maed = ed_df ['CDE03ARE1319R'].mean()\n",
    "\n",
    "#_______________________________________________________\n",
    "\n",
    "#2018: App Grade Level STD, Grade 3-Econ Disadv\n",
    "\n",
    "# ED\n",
    "\n",
    "# Replace '.' and '-1' with NaN in the column\n",
    "ed_df['CDE03ARE1S18R'] = ed_df['CDE03ARE1S18R'].replace('-1', np.nan)\n",
    "ed_df['CDE03ARE1S18R'] = ed_df['CDE03ARE1S18R'].replace('.', np.nan)\n",
    "\n",
    "# Convert the column to integer\n",
    "ed_df ['CDE03ARE1S18R'] =ed_df ['CDE03ARE1S18R'].astype(float).astype('Int64')\n",
    "\n",
    "# Now you can calculate the average\n",
    "average_value_apped18 = ed_df ['CDE03ARE1S18R'].mean()\n",
    "\n",
    "#2018: Met Grade Level STD, Grade 3-Econ Disadv\n",
    "\n",
    "# ED\n",
    "\n",
    "# Replace '.' and '-1' with NaN in the column\n",
    "ed_df['CDE03ARE1218R'] = ed_df['CDE03ARE1218R'].replace('-1', np.nan)\n",
    "ed_df['CDE03ARE1218R'] = ed_df['CDE03ARE1218R'].replace('.', np.nan)\n",
    "\n",
    "# Convert the column to integer\n",
    "ed_df ['CDE03ARE1218R'] =ed_df ['CDE03ARE1218R'].astype(float).astype('Int64')\n",
    "\n",
    "# Now you can calculate the average\n",
    "average_value_meed18 = ed_df ['CDE03ARE1218R'].mean()\n",
    "\n",
    "#2018: Master Grade Level STD, Grade 3-Econ Disadv\n",
    "\n",
    "# ED\n",
    "\n",
    "# Replace '.' and '-1' with NaN in the column\n",
    "ed_df['CDE03ARE1318R'] = ed_df['CDE03ARE1318R'].replace('-1', np.nan)\n",
    "ed_df['CDE03ARE1318R'] = ed_df['CDE03ARE1318R'].replace('.', np.nan)\n",
    "\n",
    "# Convert the column to integer\n",
    "ed_df ['CDE03ARE1318R'] =ed_df ['CDE03ARE1318R'].astype(float).astype('Int64')\n",
    "\n",
    "# Now you can calculate the average\n",
    "average_value_maed18 = ed_df ['CDE03ARE1318R'].mean()\n",
    "\n"
   ]
  },
  {
   "cell_type": "code",
   "execution_count": null,
   "metadata": {},
   "outputs": [
    {
     "data": {
      "application/vnd.plotly.v1+json": {
       "config": {
        "plotlyServerURL": "https://plot.ly"
       },
       "data": [
        {
         "marker": {
          "color": "blue",
          "size": 10
         },
         "mode": "markers",
         "name": "2018",
         "type": "scatter",
         "x": [
          "App Grade Level",
          "Meets Grade Level",
          "Masters Grade Level"
         ],
         "y": [
          72.69711761971176,
          34.851929335192935,
          17.27336122733612
         ]
        },
        {
         "marker": {
          "color": "red",
          "size": 10
         },
         "mode": "markers",
         "name": "2019",
         "type": "scatter",
         "x": [
          "App Grade Level",
          "Meets Grade Level",
          "Masters Grade Level"
         ],
         "y": [
          70.91243194192377,
          36.26950998185118,
          19.76701451905626
         ]
        }
       ],
       "layout": {
        "height": 600,
        "hovermode": "closest",
        "template": {
         "data": {
          "bar": [
           {
            "error_x": {
             "color": "#2a3f5f"
            },
            "error_y": {
             "color": "#2a3f5f"
            },
            "marker": {
             "line": {
              "color": "#E5ECF6",
              "width": 0.5
             },
             "pattern": {
              "fillmode": "overlay",
              "size": 10,
              "solidity": 0.2
             }
            },
            "type": "bar"
           }
          ],
          "barpolar": [
           {
            "marker": {
             "line": {
              "color": "#E5ECF6",
              "width": 0.5
             },
             "pattern": {
              "fillmode": "overlay",
              "size": 10,
              "solidity": 0.2
             }
            },
            "type": "barpolar"
           }
          ],
          "carpet": [
           {
            "aaxis": {
             "endlinecolor": "#2a3f5f",
             "gridcolor": "white",
             "linecolor": "white",
             "minorgridcolor": "white",
             "startlinecolor": "#2a3f5f"
            },
            "baxis": {
             "endlinecolor": "#2a3f5f",
             "gridcolor": "white",
             "linecolor": "white",
             "minorgridcolor": "white",
             "startlinecolor": "#2a3f5f"
            },
            "type": "carpet"
           }
          ],
          "choropleth": [
           {
            "colorbar": {
             "outlinewidth": 0,
             "ticks": ""
            },
            "type": "choropleth"
           }
          ],
          "contour": [
           {
            "colorbar": {
             "outlinewidth": 0,
             "ticks": ""
            },
            "colorscale": [
             [
              0,
              "#0d0887"
             ],
             [
              0.1111111111111111,
              "#46039f"
             ],
             [
              0.2222222222222222,
              "#7201a8"
             ],
             [
              0.3333333333333333,
              "#9c179e"
             ],
             [
              0.4444444444444444,
              "#bd3786"
             ],
             [
              0.5555555555555556,
              "#d8576b"
             ],
             [
              0.6666666666666666,
              "#ed7953"
             ],
             [
              0.7777777777777778,
              "#fb9f3a"
             ],
             [
              0.8888888888888888,
              "#fdca26"
             ],
             [
              1,
              "#f0f921"
             ]
            ],
            "type": "contour"
           }
          ],
          "contourcarpet": [
           {
            "colorbar": {
             "outlinewidth": 0,
             "ticks": ""
            },
            "type": "contourcarpet"
           }
          ],
          "heatmap": [
           {
            "colorbar": {
             "outlinewidth": 0,
             "ticks": ""
            },
            "colorscale": [
             [
              0,
              "#0d0887"
             ],
             [
              0.1111111111111111,
              "#46039f"
             ],
             [
              0.2222222222222222,
              "#7201a8"
             ],
             [
              0.3333333333333333,
              "#9c179e"
             ],
             [
              0.4444444444444444,
              "#bd3786"
             ],
             [
              0.5555555555555556,
              "#d8576b"
             ],
             [
              0.6666666666666666,
              "#ed7953"
             ],
             [
              0.7777777777777778,
              "#fb9f3a"
             ],
             [
              0.8888888888888888,
              "#fdca26"
             ],
             [
              1,
              "#f0f921"
             ]
            ],
            "type": "heatmap"
           }
          ],
          "heatmapgl": [
           {
            "colorbar": {
             "outlinewidth": 0,
             "ticks": ""
            },
            "colorscale": [
             [
              0,
              "#0d0887"
             ],
             [
              0.1111111111111111,
              "#46039f"
             ],
             [
              0.2222222222222222,
              "#7201a8"
             ],
             [
              0.3333333333333333,
              "#9c179e"
             ],
             [
              0.4444444444444444,
              "#bd3786"
             ],
             [
              0.5555555555555556,
              "#d8576b"
             ],
             [
              0.6666666666666666,
              "#ed7953"
             ],
             [
              0.7777777777777778,
              "#fb9f3a"
             ],
             [
              0.8888888888888888,
              "#fdca26"
             ],
             [
              1,
              "#f0f921"
             ]
            ],
            "type": "heatmapgl"
           }
          ],
          "histogram": [
           {
            "marker": {
             "pattern": {
              "fillmode": "overlay",
              "size": 10,
              "solidity": 0.2
             }
            },
            "type": "histogram"
           }
          ],
          "histogram2d": [
           {
            "colorbar": {
             "outlinewidth": 0,
             "ticks": ""
            },
            "colorscale": [
             [
              0,
              "#0d0887"
             ],
             [
              0.1111111111111111,
              "#46039f"
             ],
             [
              0.2222222222222222,
              "#7201a8"
             ],
             [
              0.3333333333333333,
              "#9c179e"
             ],
             [
              0.4444444444444444,
              "#bd3786"
             ],
             [
              0.5555555555555556,
              "#d8576b"
             ],
             [
              0.6666666666666666,
              "#ed7953"
             ],
             [
              0.7777777777777778,
              "#fb9f3a"
             ],
             [
              0.8888888888888888,
              "#fdca26"
             ],
             [
              1,
              "#f0f921"
             ]
            ],
            "type": "histogram2d"
           }
          ],
          "histogram2dcontour": [
           {
            "colorbar": {
             "outlinewidth": 0,
             "ticks": ""
            },
            "colorscale": [
             [
              0,
              "#0d0887"
             ],
             [
              0.1111111111111111,
              "#46039f"
             ],
             [
              0.2222222222222222,
              "#7201a8"
             ],
             [
              0.3333333333333333,
              "#9c179e"
             ],
             [
              0.4444444444444444,
              "#bd3786"
             ],
             [
              0.5555555555555556,
              "#d8576b"
             ],
             [
              0.6666666666666666,
              "#ed7953"
             ],
             [
              0.7777777777777778,
              "#fb9f3a"
             ],
             [
              0.8888888888888888,
              "#fdca26"
             ],
             [
              1,
              "#f0f921"
             ]
            ],
            "type": "histogram2dcontour"
           }
          ],
          "mesh3d": [
           {
            "colorbar": {
             "outlinewidth": 0,
             "ticks": ""
            },
            "type": "mesh3d"
           }
          ],
          "parcoords": [
           {
            "line": {
             "colorbar": {
              "outlinewidth": 0,
              "ticks": ""
             }
            },
            "type": "parcoords"
           }
          ],
          "pie": [
           {
            "automargin": true,
            "type": "pie"
           }
          ],
          "scatter": [
           {
            "fillpattern": {
             "fillmode": "overlay",
             "size": 10,
             "solidity": 0.2
            },
            "type": "scatter"
           }
          ],
          "scatter3d": [
           {
            "line": {
             "colorbar": {
              "outlinewidth": 0,
              "ticks": ""
             }
            },
            "marker": {
             "colorbar": {
              "outlinewidth": 0,
              "ticks": ""
             }
            },
            "type": "scatter3d"
           }
          ],
          "scattercarpet": [
           {
            "marker": {
             "colorbar": {
              "outlinewidth": 0,
              "ticks": ""
             }
            },
            "type": "scattercarpet"
           }
          ],
          "scattergeo": [
           {
            "marker": {
             "colorbar": {
              "outlinewidth": 0,
              "ticks": ""
             }
            },
            "type": "scattergeo"
           }
          ],
          "scattergl": [
           {
            "marker": {
             "colorbar": {
              "outlinewidth": 0,
              "ticks": ""
             }
            },
            "type": "scattergl"
           }
          ],
          "scattermapbox": [
           {
            "marker": {
             "colorbar": {
              "outlinewidth": 0,
              "ticks": ""
             }
            },
            "type": "scattermapbox"
           }
          ],
          "scatterpolar": [
           {
            "marker": {
             "colorbar": {
              "outlinewidth": 0,
              "ticks": ""
             }
            },
            "type": "scatterpolar"
           }
          ],
          "scatterpolargl": [
           {
            "marker": {
             "colorbar": {
              "outlinewidth": 0,
              "ticks": ""
             }
            },
            "type": "scatterpolargl"
           }
          ],
          "scatterternary": [
           {
            "marker": {
             "colorbar": {
              "outlinewidth": 0,
              "ticks": ""
             }
            },
            "type": "scatterternary"
           }
          ],
          "surface": [
           {
            "colorbar": {
             "outlinewidth": 0,
             "ticks": ""
            },
            "colorscale": [
             [
              0,
              "#0d0887"
             ],
             [
              0.1111111111111111,
              "#46039f"
             ],
             [
              0.2222222222222222,
              "#7201a8"
             ],
             [
              0.3333333333333333,
              "#9c179e"
             ],
             [
              0.4444444444444444,
              "#bd3786"
             ],
             [
              0.5555555555555556,
              "#d8576b"
             ],
             [
              0.6666666666666666,
              "#ed7953"
             ],
             [
              0.7777777777777778,
              "#fb9f3a"
             ],
             [
              0.8888888888888888,
              "#fdca26"
             ],
             [
              1,
              "#f0f921"
             ]
            ],
            "type": "surface"
           }
          ],
          "table": [
           {
            "cells": {
             "fill": {
              "color": "#EBF0F8"
             },
             "line": {
              "color": "white"
             }
            },
            "header": {
             "fill": {
              "color": "#C8D4E3"
             },
             "line": {
              "color": "white"
             }
            },
            "type": "table"
           }
          ]
         },
         "layout": {
          "annotationdefaults": {
           "arrowcolor": "#2a3f5f",
           "arrowhead": 0,
           "arrowwidth": 1
          },
          "autotypenumbers": "strict",
          "coloraxis": {
           "colorbar": {
            "outlinewidth": 0,
            "ticks": ""
           }
          },
          "colorscale": {
           "diverging": [
            [
             0,
             "#8e0152"
            ],
            [
             0.1,
             "#c51b7d"
            ],
            [
             0.2,
             "#de77ae"
            ],
            [
             0.3,
             "#f1b6da"
            ],
            [
             0.4,
             "#fde0ef"
            ],
            [
             0.5,
             "#f7f7f7"
            ],
            [
             0.6,
             "#e6f5d0"
            ],
            [
             0.7,
             "#b8e186"
            ],
            [
             0.8,
             "#7fbc41"
            ],
            [
             0.9,
             "#4d9221"
            ],
            [
             1,
             "#276419"
            ]
           ],
           "sequential": [
            [
             0,
             "#0d0887"
            ],
            [
             0.1111111111111111,
             "#46039f"
            ],
            [
             0.2222222222222222,
             "#7201a8"
            ],
            [
             0.3333333333333333,
             "#9c179e"
            ],
            [
             0.4444444444444444,
             "#bd3786"
            ],
            [
             0.5555555555555556,
             "#d8576b"
            ],
            [
             0.6666666666666666,
             "#ed7953"
            ],
            [
             0.7777777777777778,
             "#fb9f3a"
            ],
            [
             0.8888888888888888,
             "#fdca26"
            ],
            [
             1,
             "#f0f921"
            ]
           ],
           "sequentialminus": [
            [
             0,
             "#0d0887"
            ],
            [
             0.1111111111111111,
             "#46039f"
            ],
            [
             0.2222222222222222,
             "#7201a8"
            ],
            [
             0.3333333333333333,
             "#9c179e"
            ],
            [
             0.4444444444444444,
             "#bd3786"
            ],
            [
             0.5555555555555556,
             "#d8576b"
            ],
            [
             0.6666666666666666,
             "#ed7953"
            ],
            [
             0.7777777777777778,
             "#fb9f3a"
            ],
            [
             0.8888888888888888,
             "#fdca26"
            ],
            [
             1,
             "#f0f921"
            ]
           ]
          },
          "colorway": [
           "#636efa",
           "#EF553B",
           "#00cc96",
           "#ab63fa",
           "#FFA15A",
           "#19d3f3",
           "#FF6692",
           "#B6E880",
           "#FF97FF",
           "#FECB52"
          ],
          "font": {
           "color": "#2a3f5f"
          },
          "geo": {
           "bgcolor": "white",
           "lakecolor": "white",
           "landcolor": "#E5ECF6",
           "showlakes": true,
           "showland": true,
           "subunitcolor": "white"
          },
          "hoverlabel": {
           "align": "left"
          },
          "hovermode": "closest",
          "mapbox": {
           "style": "light"
          },
          "paper_bgcolor": "white",
          "plot_bgcolor": "#E5ECF6",
          "polar": {
           "angularaxis": {
            "gridcolor": "white",
            "linecolor": "white",
            "ticks": ""
           },
           "bgcolor": "#E5ECF6",
           "radialaxis": {
            "gridcolor": "white",
            "linecolor": "white",
            "ticks": ""
           }
          },
          "scene": {
           "xaxis": {
            "backgroundcolor": "#E5ECF6",
            "gridcolor": "white",
            "gridwidth": 2,
            "linecolor": "white",
            "showbackground": true,
            "ticks": "",
            "zerolinecolor": "white"
           },
           "yaxis": {
            "backgroundcolor": "#E5ECF6",
            "gridcolor": "white",
            "gridwidth": 2,
            "linecolor": "white",
            "showbackground": true,
            "ticks": "",
            "zerolinecolor": "white"
           },
           "zaxis": {
            "backgroundcolor": "#E5ECF6",
            "gridcolor": "white",
            "gridwidth": 2,
            "linecolor": "white",
            "showbackground": true,
            "ticks": "",
            "zerolinecolor": "white"
           }
          },
          "shapedefaults": {
           "line": {
            "color": "#2a3f5f"
           }
          },
          "ternary": {
           "aaxis": {
            "gridcolor": "white",
            "linecolor": "white",
            "ticks": ""
           },
           "baxis": {
            "gridcolor": "white",
            "linecolor": "white",
            "ticks": ""
           },
           "bgcolor": "#E5ECF6",
           "caxis": {
            "gridcolor": "white",
            "linecolor": "white",
            "ticks": ""
           }
          },
          "title": {
           "x": 0.05
          },
          "xaxis": {
           "automargin": true,
           "gridcolor": "white",
           "linecolor": "white",
           "ticks": "",
           "title": {
            "standoff": 15
           },
           "zerolinecolor": "white",
           "zerolinewidth": 2
          },
          "yaxis": {
           "automargin": true,
           "gridcolor": "white",
           "linecolor": "white",
           "ticks": "",
           "title": {
            "standoff": 15
           },
           "zerolinecolor": "white",
           "zerolinewidth": 2
          }
         }
        },
        "title": {
         "text": "Domain 1A: Grade 3-Econ Disadv Performance Level Standard"
        },
        "width": 800,
        "xaxis": {
         "title": {
          "text": "Performance Standards"
         }
        },
        "yaxis": {
         "title": {
          "text": "Average Score (%)"
         }
        }
       }
      }
     },
     "metadata": {},
     "output_type": "display_data"
    }
   ],
   "source": [
    "\n",
    "import plotly.graph_objects as go\n",
    "\n",
    "# Define the data\n",
    "categories = ['App Grade Level', 'Meets Grade Level', 'Masters Grade Level']\n",
    "averages_2018 = [average_value_apped18, average_value_meed18, average_value_maed18]\n",
    "averages_2019 = [average_value_apped, average_value_meed, average_value_maed]\n",
    "\n",
    "# Create traces for 2018 and 2019 data\n",
    "trace_2018 = go.Scatter(x=categories, y=averages_2018, mode='markers', name='2018', marker=dict(color='blue', size=10))\n",
    "trace_2019 = go.Scatter(x=categories, y=averages_2019, mode='markers', name='2019', marker=dict(color='red', size=10))\n",
    "\n",
    "# Create layout\n",
    "layout = go.Layout(\n",
    "    title='Domain 1A: Grade 3-Econ Disadv Performance Level Standard',\n",
    "    xaxis=dict(title='Performance Standards'),\n",
    "    yaxis=dict(title='Average Score (%)'),\n",
    "    hovermode='closest',\n",
    "    width=800,  # Set the width of the graph\n",
    "    height=600  # Set the height of the graph\n",
    ")\n",
    "\n",
    "# Create figure\n",
    "fig = go.Figure(data=[trace_2018, trace_2019], layout=layout)\n",
    "\n",
    "# Show plot\n",
    "fig.show()\n"
   ]
  },
  {
   "cell_type": "code",
   "execution_count": null,
   "metadata": {},
   "outputs": [],
   "source": [
    "At Risk"
   ]
  },
  {
   "cell_type": "markdown",
   "metadata": {},
   "source": [
    "CDR03ARE1S18R-Campus 2018 Domain 1A: Approaches Grade Level STD, Grade 3, At Risk, STAAR Reading/ELA Rate\n",
    "CDR03ARE1218R-Campus 2018 Domain 1A: Meets Grade Level STD, Grade 3, At Risk, STAAR Reading/ELA Rate\n",
    "CDR03ARE1318R-Campus 2018 Domain 1A: Masters Grade Level STD, Grade 3, At Risk, STAAR Reading/ELA Rate\n",
    "\n",
    "\n",
    "CDR03ARE1S19R-Campus 2019 Domain 1A: Approaches Grade Level STD, Grade 3, At Risk, STAAR Reading/ELA Rate\n",
    "CDR03ARE1219R-Campus 2019 Domain 1A: Meets Grade Level STD, Grade 3, At Risk, STAAR Reading/ELA Rate\n",
    "CDR03ARE1319R-Campus 2019 Domain 1A: Masters Grade Level STD, Grade 3, At Risk, STAAR Reading/ELA Rate"
   ]
  },
  {
   "cell_type": "code",
   "execution_count": null,
   "metadata": {},
   "outputs": [],
   "source": [
    "#Selecting specific columns for all students DataFrame\n",
    "ar_df = staar_rla1819_df[[\"School Year\",\"CAMPUS\",\"CDR03ARE1S18R\",\"CDR03ARE1218R\",\"CDR03ARE1318R\",\"CDR03ARE1S19R\",\"CDR03ARE1219R\",\"CDR03ARE1319R\"]]"
   ]
  },
  {
   "cell_type": "code",
   "execution_count": null,
   "metadata": {},
   "outputs": [],
   "source": [
    "#2019: App Grade Level STD, Grade 3-At Risk\n",
    "\n",
    "# At Risk\n",
    "\n",
    "# Replace '.' and '-1' with NaN in the column\n",
    "ar_df ['CDR03ARE1S19R'] = ar_df ['CDR03ARE1S19R'].replace('-1', np.nan)\n",
    "ar_df ['CDR03ARE1S19R'] = ar_df ['CDR03ARE1S19R'].replace('.', np.nan)\n",
    "\n",
    "# Convert the column to integer\n",
    "ar_df ['CDR03ARE1S19R'] =ar_df ['CDR03ARE1S19R'].astype(float).astype('Int64')\n",
    "\n",
    "# Now you can calculate the average\n",
    "average_value_appar = ar_df  ['CDR03ARE1S19R'].mean()\n",
    "\n",
    "#2019: Meet Grade Level STD, Grade 3-At Risk\n",
    "\n",
    "# At Risk\n",
    "\n",
    "# Replace '.' and '-1' with NaN in the column\n",
    "ar_df ['CDR03ARE1219R'] = ar_df ['CDR03ARE1219R'].replace('-1', np.nan)\n",
    "ar_df ['CDR03ARE1219R'] = ar_df ['CDR03ARE1219R'].replace('.', np.nan)\n",
    "\n",
    "# Convert the column to integer\n",
    "ar_df ['CDR03ARE1219R'] =ar_df ['CDR03ARE1219R'].astype(float).astype('Int64')\n",
    "\n",
    "# Now you can calculate the average\n",
    "average_value_mear = ar_df  ['CDR03ARE1219R'].mean()\n",
    "\n",
    "#2019: Masters Grade Level STD, Grade 3-At Risk\n",
    "\n",
    "# At Risk\n",
    "\n",
    "# Replace '.' and '-1' with NaN in the column\n",
    "ar_df ['CDR03ARE1319R'] = ar_df ['CDR03ARE1319R'].replace('-1', np.nan)\n",
    "ar_df ['CDR03ARE1319R'] = ar_df ['CDR03ARE1319R'].replace('.', np.nan)\n",
    "\n",
    "# Convert the column to integer\n",
    "ar_df ['CDR03ARE1319R'] =ar_df ['CDR03ARE1319R'].astype(float).astype('Int64')\n",
    "\n",
    "# Now you can calculate the average\n",
    "average_value_maar = ar_df  ['CDR03ARE1319R'].mean()\n",
    "\n",
    "#_________________________________________\n",
    "\n",
    "#2018: App Grade Level STD, Grade 3-At Risk\n",
    "\n",
    "# At Risk\n",
    "\n",
    "# Replace '.' and '-1' with NaN in the column\n",
    "ar_df ['CDR03ARE1S18R'] = ar_df ['CDR03ARE1S18R'].replace('-1', np.nan)\n",
    "ar_df ['CDR03ARE1S18R'] = ar_df ['CDR03ARE1S18R'].replace('.', np.nan)\n",
    "\n",
    "# Convert the column to integer\n",
    "ar_df ['CDR03ARE1S18R'] =ar_df ['CDR03ARE1S18R'].astype(float).astype('Int64')\n",
    "\n",
    "# Now you can calculate the average\n",
    "average_value_appar18 = ar_df  ['CDR03ARE1S18R'].mean()\n",
    "\n",
    "#2018: Meet Grade Level STD, Grade 3-At Risk\n",
    "\n",
    "# At Risk\n",
    "\n",
    "# Replace '.' and '-1' with NaN in the column\n",
    "ar_df ['CDR03ARE1218R'] = ar_df ['CDR03ARE1218R'].replace('-1', np.nan)\n",
    "ar_df ['CDR03ARE1218R'] = ar_df ['CDR03ARE1218R'].replace('.', np.nan)\n",
    "\n",
    "# Convert the column to integer\n",
    "ar_df ['CDR03ARE1218R'] =ar_df ['CDR03ARE1218R'].astype(float).astype('Int64')\n",
    "\n",
    "# Now you can calculate the average\n",
    "average_value_mear18 = ar_df  ['CDR03ARE1218R'].mean()\n",
    "\n",
    "#2018: Masters Grade Level STD, Grade 3-At Risk\n",
    "\n",
    "# At Risk\n",
    "\n",
    "# Replace '.' and '-1' with NaN in the column\n",
    "ar_df ['CDR03ARE1318R'] = ar_df ['CDR03ARE1318R'].replace('-1', np.nan)\n",
    "ar_df ['CDR03ARE1318R'] = ar_df ['CDR03ARE1318R'].replace('.', np.nan)\n",
    "\n",
    "# Convert the column to integer\n",
    "ar_df ['CDR03ARE1318R'] =ar_df ['CDR03ARE1318R'].astype(float).astype('Int64')\n",
    "\n",
    "# Now you can calculate the average\n",
    "average_value_maar18 = ar_df  ['CDR03ARE1318R'].mean()"
   ]
  },
  {
   "cell_type": "code",
   "execution_count": null,
   "metadata": {},
   "outputs": [
    {
     "data": {
      "application/vnd.plotly.v1+json": {
       "config": {
        "plotlyServerURL": "https://plot.ly"
       },
       "data": [
        {
         "marker": {
          "color": "blue",
          "size": 10
         },
         "mode": "markers",
         "name": "2018",
         "type": "scatter",
         "x": [
          "App Grade Level",
          "Meets Grade Level",
          "Masters Grade Level"
         ],
         "y": [
          65.94112038140644,
          27.257687723480334,
          12.366865315852205
         ]
        },
        {
         "marker": {
          "color": "red",
          "size": 10
         },
         "mode": "markers",
         "name": "2019",
         "type": "scatter",
         "x": [
          "App Grade Level",
          "Meets Grade Level",
          "Masters Grade Level"
         ],
         "y": [
          64.15625730994152,
          28.759766081871344,
          14.424795321637427
         ]
        }
       ],
       "layout": {
        "height": 600,
        "hovermode": "closest",
        "template": {
         "data": {
          "bar": [
           {
            "error_x": {
             "color": "#2a3f5f"
            },
            "error_y": {
             "color": "#2a3f5f"
            },
            "marker": {
             "line": {
              "color": "#E5ECF6",
              "width": 0.5
             },
             "pattern": {
              "fillmode": "overlay",
              "size": 10,
              "solidity": 0.2
             }
            },
            "type": "bar"
           }
          ],
          "barpolar": [
           {
            "marker": {
             "line": {
              "color": "#E5ECF6",
              "width": 0.5
             },
             "pattern": {
              "fillmode": "overlay",
              "size": 10,
              "solidity": 0.2
             }
            },
            "type": "barpolar"
           }
          ],
          "carpet": [
           {
            "aaxis": {
             "endlinecolor": "#2a3f5f",
             "gridcolor": "white",
             "linecolor": "white",
             "minorgridcolor": "white",
             "startlinecolor": "#2a3f5f"
            },
            "baxis": {
             "endlinecolor": "#2a3f5f",
             "gridcolor": "white",
             "linecolor": "white",
             "minorgridcolor": "white",
             "startlinecolor": "#2a3f5f"
            },
            "type": "carpet"
           }
          ],
          "choropleth": [
           {
            "colorbar": {
             "outlinewidth": 0,
             "ticks": ""
            },
            "type": "choropleth"
           }
          ],
          "contour": [
           {
            "colorbar": {
             "outlinewidth": 0,
             "ticks": ""
            },
            "colorscale": [
             [
              0,
              "#0d0887"
             ],
             [
              0.1111111111111111,
              "#46039f"
             ],
             [
              0.2222222222222222,
              "#7201a8"
             ],
             [
              0.3333333333333333,
              "#9c179e"
             ],
             [
              0.4444444444444444,
              "#bd3786"
             ],
             [
              0.5555555555555556,
              "#d8576b"
             ],
             [
              0.6666666666666666,
              "#ed7953"
             ],
             [
              0.7777777777777778,
              "#fb9f3a"
             ],
             [
              0.8888888888888888,
              "#fdca26"
             ],
             [
              1,
              "#f0f921"
             ]
            ],
            "type": "contour"
           }
          ],
          "contourcarpet": [
           {
            "colorbar": {
             "outlinewidth": 0,
             "ticks": ""
            },
            "type": "contourcarpet"
           }
          ],
          "heatmap": [
           {
            "colorbar": {
             "outlinewidth": 0,
             "ticks": ""
            },
            "colorscale": [
             [
              0,
              "#0d0887"
             ],
             [
              0.1111111111111111,
              "#46039f"
             ],
             [
              0.2222222222222222,
              "#7201a8"
             ],
             [
              0.3333333333333333,
              "#9c179e"
             ],
             [
              0.4444444444444444,
              "#bd3786"
             ],
             [
              0.5555555555555556,
              "#d8576b"
             ],
             [
              0.6666666666666666,
              "#ed7953"
             ],
             [
              0.7777777777777778,
              "#fb9f3a"
             ],
             [
              0.8888888888888888,
              "#fdca26"
             ],
             [
              1,
              "#f0f921"
             ]
            ],
            "type": "heatmap"
           }
          ],
          "heatmapgl": [
           {
            "colorbar": {
             "outlinewidth": 0,
             "ticks": ""
            },
            "colorscale": [
             [
              0,
              "#0d0887"
             ],
             [
              0.1111111111111111,
              "#46039f"
             ],
             [
              0.2222222222222222,
              "#7201a8"
             ],
             [
              0.3333333333333333,
              "#9c179e"
             ],
             [
              0.4444444444444444,
              "#bd3786"
             ],
             [
              0.5555555555555556,
              "#d8576b"
             ],
             [
              0.6666666666666666,
              "#ed7953"
             ],
             [
              0.7777777777777778,
              "#fb9f3a"
             ],
             [
              0.8888888888888888,
              "#fdca26"
             ],
             [
              1,
              "#f0f921"
             ]
            ],
            "type": "heatmapgl"
           }
          ],
          "histogram": [
           {
            "marker": {
             "pattern": {
              "fillmode": "overlay",
              "size": 10,
              "solidity": 0.2
             }
            },
            "type": "histogram"
           }
          ],
          "histogram2d": [
           {
            "colorbar": {
             "outlinewidth": 0,
             "ticks": ""
            },
            "colorscale": [
             [
              0,
              "#0d0887"
             ],
             [
              0.1111111111111111,
              "#46039f"
             ],
             [
              0.2222222222222222,
              "#7201a8"
             ],
             [
              0.3333333333333333,
              "#9c179e"
             ],
             [
              0.4444444444444444,
              "#bd3786"
             ],
             [
              0.5555555555555556,
              "#d8576b"
             ],
             [
              0.6666666666666666,
              "#ed7953"
             ],
             [
              0.7777777777777778,
              "#fb9f3a"
             ],
             [
              0.8888888888888888,
              "#fdca26"
             ],
             [
              1,
              "#f0f921"
             ]
            ],
            "type": "histogram2d"
           }
          ],
          "histogram2dcontour": [
           {
            "colorbar": {
             "outlinewidth": 0,
             "ticks": ""
            },
            "colorscale": [
             [
              0,
              "#0d0887"
             ],
             [
              0.1111111111111111,
              "#46039f"
             ],
             [
              0.2222222222222222,
              "#7201a8"
             ],
             [
              0.3333333333333333,
              "#9c179e"
             ],
             [
              0.4444444444444444,
              "#bd3786"
             ],
             [
              0.5555555555555556,
              "#d8576b"
             ],
             [
              0.6666666666666666,
              "#ed7953"
             ],
             [
              0.7777777777777778,
              "#fb9f3a"
             ],
             [
              0.8888888888888888,
              "#fdca26"
             ],
             [
              1,
              "#f0f921"
             ]
            ],
            "type": "histogram2dcontour"
           }
          ],
          "mesh3d": [
           {
            "colorbar": {
             "outlinewidth": 0,
             "ticks": ""
            },
            "type": "mesh3d"
           }
          ],
          "parcoords": [
           {
            "line": {
             "colorbar": {
              "outlinewidth": 0,
              "ticks": ""
             }
            },
            "type": "parcoords"
           }
          ],
          "pie": [
           {
            "automargin": true,
            "type": "pie"
           }
          ],
          "scatter": [
           {
            "fillpattern": {
             "fillmode": "overlay",
             "size": 10,
             "solidity": 0.2
            },
            "type": "scatter"
           }
          ],
          "scatter3d": [
           {
            "line": {
             "colorbar": {
              "outlinewidth": 0,
              "ticks": ""
             }
            },
            "marker": {
             "colorbar": {
              "outlinewidth": 0,
              "ticks": ""
             }
            },
            "type": "scatter3d"
           }
          ],
          "scattercarpet": [
           {
            "marker": {
             "colorbar": {
              "outlinewidth": 0,
              "ticks": ""
             }
            },
            "type": "scattercarpet"
           }
          ],
          "scattergeo": [
           {
            "marker": {
             "colorbar": {
              "outlinewidth": 0,
              "ticks": ""
             }
            },
            "type": "scattergeo"
           }
          ],
          "scattergl": [
           {
            "marker": {
             "colorbar": {
              "outlinewidth": 0,
              "ticks": ""
             }
            },
            "type": "scattergl"
           }
          ],
          "scattermapbox": [
           {
            "marker": {
             "colorbar": {
              "outlinewidth": 0,
              "ticks": ""
             }
            },
            "type": "scattermapbox"
           }
          ],
          "scatterpolar": [
           {
            "marker": {
             "colorbar": {
              "outlinewidth": 0,
              "ticks": ""
             }
            },
            "type": "scatterpolar"
           }
          ],
          "scatterpolargl": [
           {
            "marker": {
             "colorbar": {
              "outlinewidth": 0,
              "ticks": ""
             }
            },
            "type": "scatterpolargl"
           }
          ],
          "scatterternary": [
           {
            "marker": {
             "colorbar": {
              "outlinewidth": 0,
              "ticks": ""
             }
            },
            "type": "scatterternary"
           }
          ],
          "surface": [
           {
            "colorbar": {
             "outlinewidth": 0,
             "ticks": ""
            },
            "colorscale": [
             [
              0,
              "#0d0887"
             ],
             [
              0.1111111111111111,
              "#46039f"
             ],
             [
              0.2222222222222222,
              "#7201a8"
             ],
             [
              0.3333333333333333,
              "#9c179e"
             ],
             [
              0.4444444444444444,
              "#bd3786"
             ],
             [
              0.5555555555555556,
              "#d8576b"
             ],
             [
              0.6666666666666666,
              "#ed7953"
             ],
             [
              0.7777777777777778,
              "#fb9f3a"
             ],
             [
              0.8888888888888888,
              "#fdca26"
             ],
             [
              1,
              "#f0f921"
             ]
            ],
            "type": "surface"
           }
          ],
          "table": [
           {
            "cells": {
             "fill": {
              "color": "#EBF0F8"
             },
             "line": {
              "color": "white"
             }
            },
            "header": {
             "fill": {
              "color": "#C8D4E3"
             },
             "line": {
              "color": "white"
             }
            },
            "type": "table"
           }
          ]
         },
         "layout": {
          "annotationdefaults": {
           "arrowcolor": "#2a3f5f",
           "arrowhead": 0,
           "arrowwidth": 1
          },
          "autotypenumbers": "strict",
          "coloraxis": {
           "colorbar": {
            "outlinewidth": 0,
            "ticks": ""
           }
          },
          "colorscale": {
           "diverging": [
            [
             0,
             "#8e0152"
            ],
            [
             0.1,
             "#c51b7d"
            ],
            [
             0.2,
             "#de77ae"
            ],
            [
             0.3,
             "#f1b6da"
            ],
            [
             0.4,
             "#fde0ef"
            ],
            [
             0.5,
             "#f7f7f7"
            ],
            [
             0.6,
             "#e6f5d0"
            ],
            [
             0.7,
             "#b8e186"
            ],
            [
             0.8,
             "#7fbc41"
            ],
            [
             0.9,
             "#4d9221"
            ],
            [
             1,
             "#276419"
            ]
           ],
           "sequential": [
            [
             0,
             "#0d0887"
            ],
            [
             0.1111111111111111,
             "#46039f"
            ],
            [
             0.2222222222222222,
             "#7201a8"
            ],
            [
             0.3333333333333333,
             "#9c179e"
            ],
            [
             0.4444444444444444,
             "#bd3786"
            ],
            [
             0.5555555555555556,
             "#d8576b"
            ],
            [
             0.6666666666666666,
             "#ed7953"
            ],
            [
             0.7777777777777778,
             "#fb9f3a"
            ],
            [
             0.8888888888888888,
             "#fdca26"
            ],
            [
             1,
             "#f0f921"
            ]
           ],
           "sequentialminus": [
            [
             0,
             "#0d0887"
            ],
            [
             0.1111111111111111,
             "#46039f"
            ],
            [
             0.2222222222222222,
             "#7201a8"
            ],
            [
             0.3333333333333333,
             "#9c179e"
            ],
            [
             0.4444444444444444,
             "#bd3786"
            ],
            [
             0.5555555555555556,
             "#d8576b"
            ],
            [
             0.6666666666666666,
             "#ed7953"
            ],
            [
             0.7777777777777778,
             "#fb9f3a"
            ],
            [
             0.8888888888888888,
             "#fdca26"
            ],
            [
             1,
             "#f0f921"
            ]
           ]
          },
          "colorway": [
           "#636efa",
           "#EF553B",
           "#00cc96",
           "#ab63fa",
           "#FFA15A",
           "#19d3f3",
           "#FF6692",
           "#B6E880",
           "#FF97FF",
           "#FECB52"
          ],
          "font": {
           "color": "#2a3f5f"
          },
          "geo": {
           "bgcolor": "white",
           "lakecolor": "white",
           "landcolor": "#E5ECF6",
           "showlakes": true,
           "showland": true,
           "subunitcolor": "white"
          },
          "hoverlabel": {
           "align": "left"
          },
          "hovermode": "closest",
          "mapbox": {
           "style": "light"
          },
          "paper_bgcolor": "white",
          "plot_bgcolor": "#E5ECF6",
          "polar": {
           "angularaxis": {
            "gridcolor": "white",
            "linecolor": "white",
            "ticks": ""
           },
           "bgcolor": "#E5ECF6",
           "radialaxis": {
            "gridcolor": "white",
            "linecolor": "white",
            "ticks": ""
           }
          },
          "scene": {
           "xaxis": {
            "backgroundcolor": "#E5ECF6",
            "gridcolor": "white",
            "gridwidth": 2,
            "linecolor": "white",
            "showbackground": true,
            "ticks": "",
            "zerolinecolor": "white"
           },
           "yaxis": {
            "backgroundcolor": "#E5ECF6",
            "gridcolor": "white",
            "gridwidth": 2,
            "linecolor": "white",
            "showbackground": true,
            "ticks": "",
            "zerolinecolor": "white"
           },
           "zaxis": {
            "backgroundcolor": "#E5ECF6",
            "gridcolor": "white",
            "gridwidth": 2,
            "linecolor": "white",
            "showbackground": true,
            "ticks": "",
            "zerolinecolor": "white"
           }
          },
          "shapedefaults": {
           "line": {
            "color": "#2a3f5f"
           }
          },
          "ternary": {
           "aaxis": {
            "gridcolor": "white",
            "linecolor": "white",
            "ticks": ""
           },
           "baxis": {
            "gridcolor": "white",
            "linecolor": "white",
            "ticks": ""
           },
           "bgcolor": "#E5ECF6",
           "caxis": {
            "gridcolor": "white",
            "linecolor": "white",
            "ticks": ""
           }
          },
          "title": {
           "x": 0.05
          },
          "xaxis": {
           "automargin": true,
           "gridcolor": "white",
           "linecolor": "white",
           "ticks": "",
           "title": {
            "standoff": 15
           },
           "zerolinecolor": "white",
           "zerolinewidth": 2
          },
          "yaxis": {
           "automargin": true,
           "gridcolor": "white",
           "linecolor": "white",
           "ticks": "",
           "title": {
            "standoff": 15
           },
           "zerolinecolor": "white",
           "zerolinewidth": 2
          }
         }
        },
        "title": {
         "text": "Domain 1A: Grade 3-At Risk Performance Level Standards"
        },
        "width": 800,
        "xaxis": {
         "title": {
          "text": "Performance Level Standards"
         }
        },
        "yaxis": {
         "title": {
          "text": "Average Score (%)"
         }
        }
       }
      }
     },
     "metadata": {},
     "output_type": "display_data"
    }
   ],
   "source": [
    "\n",
    "import plotly.graph_objects as go\n",
    "\n",
    "# Define the data\n",
    "categories = ['App Grade Level', 'Meets Grade Level', 'Masters Grade Level']\n",
    "averages_2018 = [average_value_appar18, average_value_mear18, average_value_maar18]\n",
    "averages_2019 = [average_value_appar, average_value_mear, average_value_maar]\n",
    "\n",
    "# Create traces for 2018 and 2019 data\n",
    "trace_2018 = go.Scatter(x=categories, y=averages_2018, mode='markers', name='2018', marker=dict(color='blue', size=10))\n",
    "trace_2019 = go.Scatter(x=categories, y=averages_2019, mode='markers', name='2019', marker=dict(color='red', size=10))\n",
    "\n",
    "# Create layout\n",
    "layout = go.Layout(\n",
    "    title='Domain 1A: Grade 3-At Risk Performance Level Standards',\n",
    "    xaxis=dict(title='Performance Level Standards'),\n",
    "    yaxis=dict(title='Average Score (%)'),\n",
    "    hovermode='closest',\n",
    "    width=800,  # Set the width of the graph\n",
    "    height=600  # Set the height of the graph\n",
    ")\n",
    "\n",
    "# Create figure\n",
    "fig = go.Figure(data=[trace_2018, trace_2019], layout=layout)\n",
    "\n",
    "# Show plot\n",
    "fig.show()\n"
   ]
  },
  {
   "cell_type": "code",
   "execution_count": null,
   "metadata": {},
   "outputs": [],
   "source": [
    "Mobile"
   ]
  },
  {
   "cell_type": "markdown",
   "metadata": {},
   "source": [
    "CNM03ARE1S18R-Campus 2018 Domain 1A: Approaches Grade Level STD, Grade 3, Mobile, STAAR Reading/ELA Rate\n",
    "CNM03ARE1218R-Campus 2018 Domain 1A: Meets Grade Level STD, Grade 3, Mobile, STAAR Reading/ELA Rate\n",
    "CNM03ARE1318R-Campus 2018 Domain 1A: Masters Grade Level STD, Grade 3, Mobile, STAAR Reading/ELA Rate\n",
    "\n",
    "CNM03ARE1S19R-Campus 2019 Domain 1A: Approaches Grade Level STD, Grade 3, Mobile, STAAR Reading/ELA Rate\n",
    "CNM03ARE1219R-Campus 2019 Domain 1A: Meets Grade Level STD, Grade 3, Mobile, STAAR Reading/ELA Rate\n",
    "CNM03ARE1319R-Campus 2019 Domain 1A: Masters Grade Level STD, Grade 3, Mobile, STAAR Reading/ELA Rate"
   ]
  },
  {
   "cell_type": "code",
   "execution_count": null,
   "metadata": {},
   "outputs": [],
   "source": [
    "#Selecting specific columns for all students DataFrame\n",
    "mob_df = staar_rla1819_df[[\"School Year\",\"CAMPUS\",\"CNM03ARE1S18R\",\"CNM03ARE1218R\",\"CNM03ARE1318R\",\"CNM03ARE1S19R\",\"CNM03ARE1219R\",\"CNM03ARE1319R\"]]"
   ]
  },
  {
   "cell_type": "code",
   "execution_count": null,
   "metadata": {},
   "outputs": [],
   "source": [
    "#2019: App Grade Level STD, Grade 3-Mobile\n",
    "\n",
    "# MOBILE\n",
    "\n",
    "# Replace '.' and '-1' with NaN in the column\n",
    "mob_df['CNM03ARE1S19R'] = mob_df['CNM03ARE1S19R'].replace('-1', np.nan)\n",
    "mob_df['CNM03ARE1S19R'] = mob_df['CNM03ARE1S19R'].replace('.', np.nan)\n",
    "\n",
    "# Convert the column to integer\n",
    "mob_df['CNM03ARE1S19R'] =mob_df ['CNM03ARE1S19R'].astype(float).astype('Int64')\n",
    "\n",
    "# Now you can calculate the average\n",
    "average_value_appmob = mob_df ['CNM03ARE1S19R'].mean()\n",
    "\n",
    "#2019: Meets Grade Level STD, Grade 3-Mobile\n",
    "\n",
    "# MOBILE\n",
    "\n",
    "# Replace '.' and '-1' with NaN in the column\n",
    "mob_df['CNM03ARE1219R'] = mob_df['CNM03ARE1219R'].replace('-1', np.nan)\n",
    "mob_df['CNM03ARE1219R'] = mob_df['CNM03ARE1219R'].replace('.', np.nan)\n",
    "\n",
    "# Convert the column to integer\n",
    "mob_df['CNM03ARE1219R'] =mob_df ['CNM03ARE1219R'].astype(float).astype('Int64')\n",
    "\n",
    "# Now you can calculate the average\n",
    "average_value_memob = mob_df ['CNM03ARE1219R'].mean()\n",
    "\n",
    "#2019: Masters Grade Level STD, Grade 3-Mobile\n",
    "\n",
    "# MOBILE\n",
    "\n",
    "# Replace '.' and '-1' with NaN in the column\n",
    "mob_df['CNM03ARE1319R'] = mob_df['CNM03ARE1319R'].replace('-1', np.nan)\n",
    "mob_df['CNM03ARE1319R'] = mob_df['CNM03ARE1319R'].replace('.', np.nan)\n",
    "\n",
    "# Convert the column to integer\n",
    "mob_df['CNM03ARE1319R'] =mob_df ['CNM03ARE1319R'].astype(float).astype('Int64')\n",
    "\n",
    "# Now you can calculate the average\n",
    "average_value_mamob = mob_df ['CNM03ARE1319R'].mean()\n",
    "\n",
    "#_______________________________________\n",
    "\n",
    "#2018: App Grade Level STD, Grade 3-Mobile\n",
    "\n",
    "# MOBILE\n",
    "\n",
    "# Replace '.' and '-1' with NaN in the column\n",
    "mob_df['CNM03ARE1S18R'] = mob_df['CNM03ARE1S18R'].replace('-1', np.nan)\n",
    "mob_df['CNM03ARE1S18R'] = mob_df['CNM03ARE1S18R'].replace('.', np.nan)\n",
    "\n",
    "# Convert the column to integer\n",
    "mob_df['CNM03ARE1S18R'] =mob_df ['CNM03ARE1S18R'].astype(float).astype('Int64')\n",
    "\n",
    "# Now you can calculate the average\n",
    "average_value_appmob18 = mob_df ['CNM03ARE1S18R'].mean()\n",
    "\n",
    "#2018: Meets Grade Level STD, Grade 3-Mobile\n",
    "\n",
    "# MOBILE\n",
    "\n",
    "# Replace '.' and '-1' with NaN in the column\n",
    "mob_df['CNM03ARE1218R'] = mob_df['CNM03ARE1218R'].replace('-1', np.nan)\n",
    "mob_df['CNM03ARE1218R'] = mob_df['CNM03ARE1218R'].replace('.', np.nan)\n",
    "\n",
    "# Convert the column to integer\n",
    "mob_df['CNM03ARE1218R'] =mob_df ['CNM03ARE1218R'].astype(float).astype('Int64')\n",
    "\n",
    "# Now you can calculate the average\n",
    "average_value_memob18 = mob_df ['CNM03ARE1218R'].mean()\n",
    "\n",
    "#2018: Masters Grade Level STD, Grade 3-Mobile\n",
    "\n",
    "# MOBILE\n",
    "\n",
    "# Replace '.' and '-1' with NaN in the column\n",
    "mob_df['CNM03ARE1318R'] = mob_df['CNM03ARE1318R'].replace('-1', np.nan)\n",
    "mob_df['CNM03ARE1318R'] = mob_df['CNM03ARE1318R'].replace('.', np.nan)\n",
    "\n",
    "# Convert the column to integer\n",
    "mob_df['CNM03ARE1318R'] =mob_df ['CNM03ARE1318R'].astype(float).astype('Int64')\n",
    "\n",
    "# Now you can calculate the average\n",
    "average_value_mamob18 = mob_df ['CNM03ARE1318R'].mean()"
   ]
  },
  {
   "cell_type": "code",
   "execution_count": null,
   "metadata": {},
   "outputs": [
    {
     "data": {
      "application/vnd.plotly.v1+json": {
       "config": {
        "plotlyServerURL": "https://plot.ly"
       },
       "data": [
        {
         "marker": {
          "color": "blue",
          "size": 10
         },
         "mode": "markers",
         "name": "2018",
         "type": "scatter",
         "x": [
          "App Grade Level",
          "Meets Grade Level",
          "Masters Grade Level"
         ],
         "y": [
          75.12201073694484,
          40.39116642264519,
          22.13201561737433
         ]
        },
        {
         "marker": {
          "color": "red",
          "size": 10
         },
         "mode": "markers",
         "name": "2019",
         "type": "scatter",
         "x": [
          "App Grade Level",
          "Meets Grade Level",
          "Masters Grade Level"
         ],
         "y": [
          73.7166225643493,
          41.3014192927592,
          24.637238393071925
         ]
        }
       ],
       "layout": {
        "height": 600,
        "hovermode": "closest",
        "template": {
         "data": {
          "bar": [
           {
            "error_x": {
             "color": "#2a3f5f"
            },
            "error_y": {
             "color": "#2a3f5f"
            },
            "marker": {
             "line": {
              "color": "#E5ECF6",
              "width": 0.5
             },
             "pattern": {
              "fillmode": "overlay",
              "size": 10,
              "solidity": 0.2
             }
            },
            "type": "bar"
           }
          ],
          "barpolar": [
           {
            "marker": {
             "line": {
              "color": "#E5ECF6",
              "width": 0.5
             },
             "pattern": {
              "fillmode": "overlay",
              "size": 10,
              "solidity": 0.2
             }
            },
            "type": "barpolar"
           }
          ],
          "carpet": [
           {
            "aaxis": {
             "endlinecolor": "#2a3f5f",
             "gridcolor": "white",
             "linecolor": "white",
             "minorgridcolor": "white",
             "startlinecolor": "#2a3f5f"
            },
            "baxis": {
             "endlinecolor": "#2a3f5f",
             "gridcolor": "white",
             "linecolor": "white",
             "minorgridcolor": "white",
             "startlinecolor": "#2a3f5f"
            },
            "type": "carpet"
           }
          ],
          "choropleth": [
           {
            "colorbar": {
             "outlinewidth": 0,
             "ticks": ""
            },
            "type": "choropleth"
           }
          ],
          "contour": [
           {
            "colorbar": {
             "outlinewidth": 0,
             "ticks": ""
            },
            "colorscale": [
             [
              0,
              "#0d0887"
             ],
             [
              0.1111111111111111,
              "#46039f"
             ],
             [
              0.2222222222222222,
              "#7201a8"
             ],
             [
              0.3333333333333333,
              "#9c179e"
             ],
             [
              0.4444444444444444,
              "#bd3786"
             ],
             [
              0.5555555555555556,
              "#d8576b"
             ],
             [
              0.6666666666666666,
              "#ed7953"
             ],
             [
              0.7777777777777778,
              "#fb9f3a"
             ],
             [
              0.8888888888888888,
              "#fdca26"
             ],
             [
              1,
              "#f0f921"
             ]
            ],
            "type": "contour"
           }
          ],
          "contourcarpet": [
           {
            "colorbar": {
             "outlinewidth": 0,
             "ticks": ""
            },
            "type": "contourcarpet"
           }
          ],
          "heatmap": [
           {
            "colorbar": {
             "outlinewidth": 0,
             "ticks": ""
            },
            "colorscale": [
             [
              0,
              "#0d0887"
             ],
             [
              0.1111111111111111,
              "#46039f"
             ],
             [
              0.2222222222222222,
              "#7201a8"
             ],
             [
              0.3333333333333333,
              "#9c179e"
             ],
             [
              0.4444444444444444,
              "#bd3786"
             ],
             [
              0.5555555555555556,
              "#d8576b"
             ],
             [
              0.6666666666666666,
              "#ed7953"
             ],
             [
              0.7777777777777778,
              "#fb9f3a"
             ],
             [
              0.8888888888888888,
              "#fdca26"
             ],
             [
              1,
              "#f0f921"
             ]
            ],
            "type": "heatmap"
           }
          ],
          "heatmapgl": [
           {
            "colorbar": {
             "outlinewidth": 0,
             "ticks": ""
            },
            "colorscale": [
             [
              0,
              "#0d0887"
             ],
             [
              0.1111111111111111,
              "#46039f"
             ],
             [
              0.2222222222222222,
              "#7201a8"
             ],
             [
              0.3333333333333333,
              "#9c179e"
             ],
             [
              0.4444444444444444,
              "#bd3786"
             ],
             [
              0.5555555555555556,
              "#d8576b"
             ],
             [
              0.6666666666666666,
              "#ed7953"
             ],
             [
              0.7777777777777778,
              "#fb9f3a"
             ],
             [
              0.8888888888888888,
              "#fdca26"
             ],
             [
              1,
              "#f0f921"
             ]
            ],
            "type": "heatmapgl"
           }
          ],
          "histogram": [
           {
            "marker": {
             "pattern": {
              "fillmode": "overlay",
              "size": 10,
              "solidity": 0.2
             }
            },
            "type": "histogram"
           }
          ],
          "histogram2d": [
           {
            "colorbar": {
             "outlinewidth": 0,
             "ticks": ""
            },
            "colorscale": [
             [
              0,
              "#0d0887"
             ],
             [
              0.1111111111111111,
              "#46039f"
             ],
             [
              0.2222222222222222,
              "#7201a8"
             ],
             [
              0.3333333333333333,
              "#9c179e"
             ],
             [
              0.4444444444444444,
              "#bd3786"
             ],
             [
              0.5555555555555556,
              "#d8576b"
             ],
             [
              0.6666666666666666,
              "#ed7953"
             ],
             [
              0.7777777777777778,
              "#fb9f3a"
             ],
             [
              0.8888888888888888,
              "#fdca26"
             ],
             [
              1,
              "#f0f921"
             ]
            ],
            "type": "histogram2d"
           }
          ],
          "histogram2dcontour": [
           {
            "colorbar": {
             "outlinewidth": 0,
             "ticks": ""
            },
            "colorscale": [
             [
              0,
              "#0d0887"
             ],
             [
              0.1111111111111111,
              "#46039f"
             ],
             [
              0.2222222222222222,
              "#7201a8"
             ],
             [
              0.3333333333333333,
              "#9c179e"
             ],
             [
              0.4444444444444444,
              "#bd3786"
             ],
             [
              0.5555555555555556,
              "#d8576b"
             ],
             [
              0.6666666666666666,
              "#ed7953"
             ],
             [
              0.7777777777777778,
              "#fb9f3a"
             ],
             [
              0.8888888888888888,
              "#fdca26"
             ],
             [
              1,
              "#f0f921"
             ]
            ],
            "type": "histogram2dcontour"
           }
          ],
          "mesh3d": [
           {
            "colorbar": {
             "outlinewidth": 0,
             "ticks": ""
            },
            "type": "mesh3d"
           }
          ],
          "parcoords": [
           {
            "line": {
             "colorbar": {
              "outlinewidth": 0,
              "ticks": ""
             }
            },
            "type": "parcoords"
           }
          ],
          "pie": [
           {
            "automargin": true,
            "type": "pie"
           }
          ],
          "scatter": [
           {
            "fillpattern": {
             "fillmode": "overlay",
             "size": 10,
             "solidity": 0.2
            },
            "type": "scatter"
           }
          ],
          "scatter3d": [
           {
            "line": {
             "colorbar": {
              "outlinewidth": 0,
              "ticks": ""
             }
            },
            "marker": {
             "colorbar": {
              "outlinewidth": 0,
              "ticks": ""
             }
            },
            "type": "scatter3d"
           }
          ],
          "scattercarpet": [
           {
            "marker": {
             "colorbar": {
              "outlinewidth": 0,
              "ticks": ""
             }
            },
            "type": "scattercarpet"
           }
          ],
          "scattergeo": [
           {
            "marker": {
             "colorbar": {
              "outlinewidth": 0,
              "ticks": ""
             }
            },
            "type": "scattergeo"
           }
          ],
          "scattergl": [
           {
            "marker": {
             "colorbar": {
              "outlinewidth": 0,
              "ticks": ""
             }
            },
            "type": "scattergl"
           }
          ],
          "scattermapbox": [
           {
            "marker": {
             "colorbar": {
              "outlinewidth": 0,
              "ticks": ""
             }
            },
            "type": "scattermapbox"
           }
          ],
          "scatterpolar": [
           {
            "marker": {
             "colorbar": {
              "outlinewidth": 0,
              "ticks": ""
             }
            },
            "type": "scatterpolar"
           }
          ],
          "scatterpolargl": [
           {
            "marker": {
             "colorbar": {
              "outlinewidth": 0,
              "ticks": ""
             }
            },
            "type": "scatterpolargl"
           }
          ],
          "scatterternary": [
           {
            "marker": {
             "colorbar": {
              "outlinewidth": 0,
              "ticks": ""
             }
            },
            "type": "scatterternary"
           }
          ],
          "surface": [
           {
            "colorbar": {
             "outlinewidth": 0,
             "ticks": ""
            },
            "colorscale": [
             [
              0,
              "#0d0887"
             ],
             [
              0.1111111111111111,
              "#46039f"
             ],
             [
              0.2222222222222222,
              "#7201a8"
             ],
             [
              0.3333333333333333,
              "#9c179e"
             ],
             [
              0.4444444444444444,
              "#bd3786"
             ],
             [
              0.5555555555555556,
              "#d8576b"
             ],
             [
              0.6666666666666666,
              "#ed7953"
             ],
             [
              0.7777777777777778,
              "#fb9f3a"
             ],
             [
              0.8888888888888888,
              "#fdca26"
             ],
             [
              1,
              "#f0f921"
             ]
            ],
            "type": "surface"
           }
          ],
          "table": [
           {
            "cells": {
             "fill": {
              "color": "#EBF0F8"
             },
             "line": {
              "color": "white"
             }
            },
            "header": {
             "fill": {
              "color": "#C8D4E3"
             },
             "line": {
              "color": "white"
             }
            },
            "type": "table"
           }
          ]
         },
         "layout": {
          "annotationdefaults": {
           "arrowcolor": "#2a3f5f",
           "arrowhead": 0,
           "arrowwidth": 1
          },
          "autotypenumbers": "strict",
          "coloraxis": {
           "colorbar": {
            "outlinewidth": 0,
            "ticks": ""
           }
          },
          "colorscale": {
           "diverging": [
            [
             0,
             "#8e0152"
            ],
            [
             0.1,
             "#c51b7d"
            ],
            [
             0.2,
             "#de77ae"
            ],
            [
             0.3,
             "#f1b6da"
            ],
            [
             0.4,
             "#fde0ef"
            ],
            [
             0.5,
             "#f7f7f7"
            ],
            [
             0.6,
             "#e6f5d0"
            ],
            [
             0.7,
             "#b8e186"
            ],
            [
             0.8,
             "#7fbc41"
            ],
            [
             0.9,
             "#4d9221"
            ],
            [
             1,
             "#276419"
            ]
           ],
           "sequential": [
            [
             0,
             "#0d0887"
            ],
            [
             0.1111111111111111,
             "#46039f"
            ],
            [
             0.2222222222222222,
             "#7201a8"
            ],
            [
             0.3333333333333333,
             "#9c179e"
            ],
            [
             0.4444444444444444,
             "#bd3786"
            ],
            [
             0.5555555555555556,
             "#d8576b"
            ],
            [
             0.6666666666666666,
             "#ed7953"
            ],
            [
             0.7777777777777778,
             "#fb9f3a"
            ],
            [
             0.8888888888888888,
             "#fdca26"
            ],
            [
             1,
             "#f0f921"
            ]
           ],
           "sequentialminus": [
            [
             0,
             "#0d0887"
            ],
            [
             0.1111111111111111,
             "#46039f"
            ],
            [
             0.2222222222222222,
             "#7201a8"
            ],
            [
             0.3333333333333333,
             "#9c179e"
            ],
            [
             0.4444444444444444,
             "#bd3786"
            ],
            [
             0.5555555555555556,
             "#d8576b"
            ],
            [
             0.6666666666666666,
             "#ed7953"
            ],
            [
             0.7777777777777778,
             "#fb9f3a"
            ],
            [
             0.8888888888888888,
             "#fdca26"
            ],
            [
             1,
             "#f0f921"
            ]
           ]
          },
          "colorway": [
           "#636efa",
           "#EF553B",
           "#00cc96",
           "#ab63fa",
           "#FFA15A",
           "#19d3f3",
           "#FF6692",
           "#B6E880",
           "#FF97FF",
           "#FECB52"
          ],
          "font": {
           "color": "#2a3f5f"
          },
          "geo": {
           "bgcolor": "white",
           "lakecolor": "white",
           "landcolor": "#E5ECF6",
           "showlakes": true,
           "showland": true,
           "subunitcolor": "white"
          },
          "hoverlabel": {
           "align": "left"
          },
          "hovermode": "closest",
          "mapbox": {
           "style": "light"
          },
          "paper_bgcolor": "white",
          "plot_bgcolor": "#E5ECF6",
          "polar": {
           "angularaxis": {
            "gridcolor": "white",
            "linecolor": "white",
            "ticks": ""
           },
           "bgcolor": "#E5ECF6",
           "radialaxis": {
            "gridcolor": "white",
            "linecolor": "white",
            "ticks": ""
           }
          },
          "scene": {
           "xaxis": {
            "backgroundcolor": "#E5ECF6",
            "gridcolor": "white",
            "gridwidth": 2,
            "linecolor": "white",
            "showbackground": true,
            "ticks": "",
            "zerolinecolor": "white"
           },
           "yaxis": {
            "backgroundcolor": "#E5ECF6",
            "gridcolor": "white",
            "gridwidth": 2,
            "linecolor": "white",
            "showbackground": true,
            "ticks": "",
            "zerolinecolor": "white"
           },
           "zaxis": {
            "backgroundcolor": "#E5ECF6",
            "gridcolor": "white",
            "gridwidth": 2,
            "linecolor": "white",
            "showbackground": true,
            "ticks": "",
            "zerolinecolor": "white"
           }
          },
          "shapedefaults": {
           "line": {
            "color": "#2a3f5f"
           }
          },
          "ternary": {
           "aaxis": {
            "gridcolor": "white",
            "linecolor": "white",
            "ticks": ""
           },
           "baxis": {
            "gridcolor": "white",
            "linecolor": "white",
            "ticks": ""
           },
           "bgcolor": "#E5ECF6",
           "caxis": {
            "gridcolor": "white",
            "linecolor": "white",
            "ticks": ""
           }
          },
          "title": {
           "x": 0.05
          },
          "xaxis": {
           "automargin": true,
           "gridcolor": "white",
           "linecolor": "white",
           "ticks": "",
           "title": {
            "standoff": 15
           },
           "zerolinecolor": "white",
           "zerolinewidth": 2
          },
          "yaxis": {
           "automargin": true,
           "gridcolor": "white",
           "linecolor": "white",
           "ticks": "",
           "title": {
            "standoff": 15
           },
           "zerolinecolor": "white",
           "zerolinewidth": 2
          }
         }
        },
        "title": {
         "text": "Domain 1A: Grade 3-Mobile Performance Level Standards"
        },
        "width": 800,
        "xaxis": {
         "title": {
          "text": "Performance Level Standards"
         }
        },
        "yaxis": {
         "title": {
          "text": "Average Score (%)"
         }
        }
       }
      }
     },
     "metadata": {},
     "output_type": "display_data"
    }
   ],
   "source": [
    "\n",
    "import plotly.graph_objects as go\n",
    "\n",
    "# Define the data\n",
    "categories = ['App Grade Level', 'Meets Grade Level', 'Masters Grade Level']\n",
    "averages_2018 = [average_value_appmob18, average_value_memob18, average_value_mamob18]\n",
    "averages_2019 = [average_value_appmob, average_value_memob, average_value_mamob]\n",
    "\n",
    "# Create traces for 2018 and 2019 data\n",
    "trace_2018 = go.Scatter(x=categories, y=averages_2018, mode='markers', name='2018', marker=dict(color='blue', size=10))\n",
    "trace_2019 = go.Scatter(x=categories, y=averages_2019, mode='markers', name='2019', marker=dict(color='red', size=10))\n",
    "\n",
    "# Create layout\n",
    "layout = go.Layout(\n",
    "    title='Domain 1A: Grade 3-Mobile Performance Level Standards',\n",
    "    xaxis=dict(title='Performance Level Standards'),\n",
    "    yaxis=dict(title='Average Score (%)'),\n",
    "    hovermode='closest',\n",
    "    width=800,  # Set the width of the graph\n",
    "    height=600  # Set the height of the graph\n",
    ")\n",
    "\n",
    "# Create figure\n",
    "fig = go.Figure(data=[trace_2018, trace_2019], layout=layout)\n",
    "\n",
    "# Show plot\n",
    "fig.show()\n"
   ]
  },
  {
   "cell_type": "code",
   "execution_count": null,
   "metadata": {},
   "outputs": [],
   "source": [
    "Continuous Enrolleee"
   ]
  },
  {
   "cell_type": "markdown",
   "metadata": {},
   "source": [
    "CNC03ARE1S18R-Campus 2018 Domain 1A: Approaches Grade Level STD, Grade 3, Continuous Enrollee, STAAR Reading/ELA Rate\n",
    "CNC03ARE1218R-Campus 2018 Domain 1A: Meets Grade Level STD, Grade 3, Continuous Enrollee, STAAR Reading/ELA Rate\n",
    "CNC03ARE1318R-Campus 2018 Domain 1A: Masters Grade Level STD, Grade 3, Continuous Enrollee, STAAR Reading/ELA Rate\n",
    "\n",
    "CNC03ARE1S19R-Campus 2019 Domain 1A: Approaches Grade Level STD, Grade 3, Continuous Enrollee, STAAR Reading/ELA Rate\n",
    "CNC03ARE1219R-Campus 2019 Domain 1A: Meets Grade Level STD, Grade 3, Continuous Enrollee, STAAR Reading/ELA Rate\n",
    "CNC03ARE1319R-Campus 2019 Domain 1A: Masters Grade Level STD, Grade 3, Continuous Enrollee, STAAR Reading/ELA Rate"
   ]
  },
  {
   "cell_type": "code",
   "execution_count": null,
   "metadata": {},
   "outputs": [],
   "source": [
    "#Selecting specific columns for all students DataFrame\n",
    "coe_df = staar_rla1819_df[[\"School Year\",\"CAMPUS\",\"CNC03ARE1S18R\",\"CNC03ARE1218R\",\"CNC03ARE1318R\",\"CNC03ARE1S19R\",\"CNC03ARE1219R\",\"CNC03ARE1319R\"]]"
   ]
  },
  {
   "cell_type": "code",
   "execution_count": null,
   "metadata": {},
   "outputs": [],
   "source": [
    "#2019: App Grade Level STD, Grade 3-Continuous Enrollee\n",
    "\n",
    "# Continuous Enrollee\n",
    "\n",
    "# Replace '.' and '-1' with NaN in the column\n",
    "coe_df['CNC03ARE1S19R'] = coe_df['CNC03ARE1S19R'].replace('-1', np.nan)\n",
    "coe_df['CNC03ARE1S19R'] = coe_df['CNC03ARE1S19R'].replace('.', np.nan)\n",
    "\n",
    "# Convert the column to integer\n",
    "coe_df['CNC03ARE1S19R'] =coe_df['CNC03ARE1S19R'].astype(float).astype('Int64')\n",
    "\n",
    "# Now you can calculate the average\n",
    "average_value_appcoe = coe_df ['CNC03ARE1S19R'].mean()\n",
    "\n",
    "#2019: Meets Grade Level STD, Grade 3-Continuous Enrollee\n",
    "\n",
    "# Continuous Enrollee\n",
    "\n",
    "# Replace '.' and '-1' with NaN in the column\n",
    "coe_df['CNC03ARE1219R'] = coe_df['CNC03ARE1219R'].replace('-1', np.nan)\n",
    "coe_df['CNC03ARE1219R'] = coe_df['CNC03ARE1219R'].replace('.', np.nan)\n",
    "\n",
    "# Convert the column to integer\n",
    "coe_df['CNC03ARE1219R'] =coe_df['CNC03ARE1219R'].astype(float).astype('Int64')\n",
    "\n",
    "# Now you can calculate the average\n",
    "average_value_mecoe = coe_df ['CNC03ARE1219R'].mean()\n",
    "\n",
    "#2019: Masters Grade Level STD, Grade 3-Continuous Enrollee\n",
    "\n",
    "# Continuous Enrollee\n",
    "\n",
    "# Replace '.' and '-1' with NaN in the column\n",
    "coe_df['CNC03ARE1319R'] = coe_df['CNC03ARE1319R'].replace('-1', np.nan)\n",
    "coe_df['CNC03ARE1319R'] = coe_df['CNC03ARE1319R'].replace('.', np.nan)\n",
    "\n",
    "# Convert the column to integer\n",
    "coe_df['CNC03ARE1319R'] =coe_df['CNC03ARE1319R'].astype(float).astype('Int64')\n",
    "\n",
    "# Now you can calculate the average\n",
    "average_value_macoe = coe_df ['CNC03ARE1319R'].mean()\n",
    "\n",
    "#_______________________________________________\n",
    "\n",
    "#2018: App Grade Level STD, Grade 3-Continuous Enrollee\n",
    "\n",
    "# Continuous Enrollee\n",
    "\n",
    "# Replace '.' and '-1' with NaN in the column\n",
    "coe_df['CNC03ARE1S18R'] = coe_df['CNC03ARE1S18R'].replace('-1', np.nan)\n",
    "coe_df['CNC03ARE1S18R'] = coe_df['CNC03ARE1S18R'].replace('.', np.nan)\n",
    "\n",
    "# Convert the column to integer\n",
    "coe_df['CNC03ARE1S18R'] =coe_df['CNC03ARE1S18R'].astype(float).astype('Int64')\n",
    "\n",
    "# Now you can calculate the average\n",
    "average_value_appcoe18 = coe_df ['CNC03ARE1S18R'].mean()\n",
    "\n",
    "#2018: Meets Grade Level STD, Grade 3-Continuous Enrollee\n",
    "\n",
    "# Continuous Enrollee\n",
    "\n",
    "# Replace '.' and '-1' with NaN in the column\n",
    "coe_df['CNC03ARE1218R'] = coe_df['CNC03ARE1218R'].replace('-1', np.nan)\n",
    "coe_df['CNC03ARE1218R'] = coe_df['CNC03ARE1218R'].replace('.', np.nan)\n",
    "\n",
    "# Convert the column to integer\n",
    "coe_df['CNC03ARE1218R'] =coe_df['CNC03ARE1218R'].astype(float).astype('Int64')\n",
    "\n",
    "# Now you can calculate the average\n",
    "average_value_mecoe18 = coe_df ['CNC03ARE1218R'].mean()\n",
    "\n",
    "#2018: Masters Grade Level STD, Grade 3-Continuous Enrollee\n",
    "\n",
    "# Continuous Enrollee\n",
    "\n",
    "# Replace '.' and '-1' with NaN in the column\n",
    "coe_df['CNC03ARE1318R'] = coe_df['CNC03ARE1318R'].replace('-1', np.nan)\n",
    "coe_df['CNC03ARE1318R'] = coe_df['CNC03ARE1318R'].replace('.', np.nan)\n",
    "\n",
    "# Convert the column to integer\n",
    "coe_df['CNC03ARE1318R'] =coe_df['CNC03ARE1318R'].astype(float).astype('Int64')\n",
    "\n",
    "# Now you can calculate the average\n",
    "average_value_macoe18 = coe_df ['CNC03ARE1318R'].mean()"
   ]
  },
  {
   "cell_type": "code",
   "execution_count": null,
   "metadata": {},
   "outputs": [
    {
     "data": {
      "application/vnd.plotly.v1+json": {
       "config": {
        "plotlyServerURL": "https://plot.ly"
       },
       "data": [
        {
         "marker": {
          "color": "blue",
          "size": 10
         },
         "mode": "markers",
         "name": "2018",
         "type": "scatter",
         "x": [
          "App Grade Level",
          "Meets Grade Level",
          "Masters Grade Level"
         ],
         "y": [
          77.85175017158545,
          43.165408373369935,
          24.32646991535118
         ]
        },
        {
         "marker": {
          "color": "red",
          "size": 10
         },
         "mode": "markers",
         "name": "2019",
         "type": "scatter",
         "x": [
          "App Grade Level",
          "Meets Grade Level",
          "Masters Grade Level"
         ],
         "y": [
          76.41756513926325,
          44.53728661275831,
          26.960916442048518
         ]
        }
       ],
       "layout": {
        "height": 600,
        "hovermode": "closest",
        "template": {
         "data": {
          "bar": [
           {
            "error_x": {
             "color": "#2a3f5f"
            },
            "error_y": {
             "color": "#2a3f5f"
            },
            "marker": {
             "line": {
              "color": "#E5ECF6",
              "width": 0.5
             },
             "pattern": {
              "fillmode": "overlay",
              "size": 10,
              "solidity": 0.2
             }
            },
            "type": "bar"
           }
          ],
          "barpolar": [
           {
            "marker": {
             "line": {
              "color": "#E5ECF6",
              "width": 0.5
             },
             "pattern": {
              "fillmode": "overlay",
              "size": 10,
              "solidity": 0.2
             }
            },
            "type": "barpolar"
           }
          ],
          "carpet": [
           {
            "aaxis": {
             "endlinecolor": "#2a3f5f",
             "gridcolor": "white",
             "linecolor": "white",
             "minorgridcolor": "white",
             "startlinecolor": "#2a3f5f"
            },
            "baxis": {
             "endlinecolor": "#2a3f5f",
             "gridcolor": "white",
             "linecolor": "white",
             "minorgridcolor": "white",
             "startlinecolor": "#2a3f5f"
            },
            "type": "carpet"
           }
          ],
          "choropleth": [
           {
            "colorbar": {
             "outlinewidth": 0,
             "ticks": ""
            },
            "type": "choropleth"
           }
          ],
          "contour": [
           {
            "colorbar": {
             "outlinewidth": 0,
             "ticks": ""
            },
            "colorscale": [
             [
              0,
              "#0d0887"
             ],
             [
              0.1111111111111111,
              "#46039f"
             ],
             [
              0.2222222222222222,
              "#7201a8"
             ],
             [
              0.3333333333333333,
              "#9c179e"
             ],
             [
              0.4444444444444444,
              "#bd3786"
             ],
             [
              0.5555555555555556,
              "#d8576b"
             ],
             [
              0.6666666666666666,
              "#ed7953"
             ],
             [
              0.7777777777777778,
              "#fb9f3a"
             ],
             [
              0.8888888888888888,
              "#fdca26"
             ],
             [
              1,
              "#f0f921"
             ]
            ],
            "type": "contour"
           }
          ],
          "contourcarpet": [
           {
            "colorbar": {
             "outlinewidth": 0,
             "ticks": ""
            },
            "type": "contourcarpet"
           }
          ],
          "heatmap": [
           {
            "colorbar": {
             "outlinewidth": 0,
             "ticks": ""
            },
            "colorscale": [
             [
              0,
              "#0d0887"
             ],
             [
              0.1111111111111111,
              "#46039f"
             ],
             [
              0.2222222222222222,
              "#7201a8"
             ],
             [
              0.3333333333333333,
              "#9c179e"
             ],
             [
              0.4444444444444444,
              "#bd3786"
             ],
             [
              0.5555555555555556,
              "#d8576b"
             ],
             [
              0.6666666666666666,
              "#ed7953"
             ],
             [
              0.7777777777777778,
              "#fb9f3a"
             ],
             [
              0.8888888888888888,
              "#fdca26"
             ],
             [
              1,
              "#f0f921"
             ]
            ],
            "type": "heatmap"
           }
          ],
          "heatmapgl": [
           {
            "colorbar": {
             "outlinewidth": 0,
             "ticks": ""
            },
            "colorscale": [
             [
              0,
              "#0d0887"
             ],
             [
              0.1111111111111111,
              "#46039f"
             ],
             [
              0.2222222222222222,
              "#7201a8"
             ],
             [
              0.3333333333333333,
              "#9c179e"
             ],
             [
              0.4444444444444444,
              "#bd3786"
             ],
             [
              0.5555555555555556,
              "#d8576b"
             ],
             [
              0.6666666666666666,
              "#ed7953"
             ],
             [
              0.7777777777777778,
              "#fb9f3a"
             ],
             [
              0.8888888888888888,
              "#fdca26"
             ],
             [
              1,
              "#f0f921"
             ]
            ],
            "type": "heatmapgl"
           }
          ],
          "histogram": [
           {
            "marker": {
             "pattern": {
              "fillmode": "overlay",
              "size": 10,
              "solidity": 0.2
             }
            },
            "type": "histogram"
           }
          ],
          "histogram2d": [
           {
            "colorbar": {
             "outlinewidth": 0,
             "ticks": ""
            },
            "colorscale": [
             [
              0,
              "#0d0887"
             ],
             [
              0.1111111111111111,
              "#46039f"
             ],
             [
              0.2222222222222222,
              "#7201a8"
             ],
             [
              0.3333333333333333,
              "#9c179e"
             ],
             [
              0.4444444444444444,
              "#bd3786"
             ],
             [
              0.5555555555555556,
              "#d8576b"
             ],
             [
              0.6666666666666666,
              "#ed7953"
             ],
             [
              0.7777777777777778,
              "#fb9f3a"
             ],
             [
              0.8888888888888888,
              "#fdca26"
             ],
             [
              1,
              "#f0f921"
             ]
            ],
            "type": "histogram2d"
           }
          ],
          "histogram2dcontour": [
           {
            "colorbar": {
             "outlinewidth": 0,
             "ticks": ""
            },
            "colorscale": [
             [
              0,
              "#0d0887"
             ],
             [
              0.1111111111111111,
              "#46039f"
             ],
             [
              0.2222222222222222,
              "#7201a8"
             ],
             [
              0.3333333333333333,
              "#9c179e"
             ],
             [
              0.4444444444444444,
              "#bd3786"
             ],
             [
              0.5555555555555556,
              "#d8576b"
             ],
             [
              0.6666666666666666,
              "#ed7953"
             ],
             [
              0.7777777777777778,
              "#fb9f3a"
             ],
             [
              0.8888888888888888,
              "#fdca26"
             ],
             [
              1,
              "#f0f921"
             ]
            ],
            "type": "histogram2dcontour"
           }
          ],
          "mesh3d": [
           {
            "colorbar": {
             "outlinewidth": 0,
             "ticks": ""
            },
            "type": "mesh3d"
           }
          ],
          "parcoords": [
           {
            "line": {
             "colorbar": {
              "outlinewidth": 0,
              "ticks": ""
             }
            },
            "type": "parcoords"
           }
          ],
          "pie": [
           {
            "automargin": true,
            "type": "pie"
           }
          ],
          "scatter": [
           {
            "fillpattern": {
             "fillmode": "overlay",
             "size": 10,
             "solidity": 0.2
            },
            "type": "scatter"
           }
          ],
          "scatter3d": [
           {
            "line": {
             "colorbar": {
              "outlinewidth": 0,
              "ticks": ""
             }
            },
            "marker": {
             "colorbar": {
              "outlinewidth": 0,
              "ticks": ""
             }
            },
            "type": "scatter3d"
           }
          ],
          "scattercarpet": [
           {
            "marker": {
             "colorbar": {
              "outlinewidth": 0,
              "ticks": ""
             }
            },
            "type": "scattercarpet"
           }
          ],
          "scattergeo": [
           {
            "marker": {
             "colorbar": {
              "outlinewidth": 0,
              "ticks": ""
             }
            },
            "type": "scattergeo"
           }
          ],
          "scattergl": [
           {
            "marker": {
             "colorbar": {
              "outlinewidth": 0,
              "ticks": ""
             }
            },
            "type": "scattergl"
           }
          ],
          "scattermapbox": [
           {
            "marker": {
             "colorbar": {
              "outlinewidth": 0,
              "ticks": ""
             }
            },
            "type": "scattermapbox"
           }
          ],
          "scatterpolar": [
           {
            "marker": {
             "colorbar": {
              "outlinewidth": 0,
              "ticks": ""
             }
            },
            "type": "scatterpolar"
           }
          ],
          "scatterpolargl": [
           {
            "marker": {
             "colorbar": {
              "outlinewidth": 0,
              "ticks": ""
             }
            },
            "type": "scatterpolargl"
           }
          ],
          "scatterternary": [
           {
            "marker": {
             "colorbar": {
              "outlinewidth": 0,
              "ticks": ""
             }
            },
            "type": "scatterternary"
           }
          ],
          "surface": [
           {
            "colorbar": {
             "outlinewidth": 0,
             "ticks": ""
            },
            "colorscale": [
             [
              0,
              "#0d0887"
             ],
             [
              0.1111111111111111,
              "#46039f"
             ],
             [
              0.2222222222222222,
              "#7201a8"
             ],
             [
              0.3333333333333333,
              "#9c179e"
             ],
             [
              0.4444444444444444,
              "#bd3786"
             ],
             [
              0.5555555555555556,
              "#d8576b"
             ],
             [
              0.6666666666666666,
              "#ed7953"
             ],
             [
              0.7777777777777778,
              "#fb9f3a"
             ],
             [
              0.8888888888888888,
              "#fdca26"
             ],
             [
              1,
              "#f0f921"
             ]
            ],
            "type": "surface"
           }
          ],
          "table": [
           {
            "cells": {
             "fill": {
              "color": "#EBF0F8"
             },
             "line": {
              "color": "white"
             }
            },
            "header": {
             "fill": {
              "color": "#C8D4E3"
             },
             "line": {
              "color": "white"
             }
            },
            "type": "table"
           }
          ]
         },
         "layout": {
          "annotationdefaults": {
           "arrowcolor": "#2a3f5f",
           "arrowhead": 0,
           "arrowwidth": 1
          },
          "autotypenumbers": "strict",
          "coloraxis": {
           "colorbar": {
            "outlinewidth": 0,
            "ticks": ""
           }
          },
          "colorscale": {
           "diverging": [
            [
             0,
             "#8e0152"
            ],
            [
             0.1,
             "#c51b7d"
            ],
            [
             0.2,
             "#de77ae"
            ],
            [
             0.3,
             "#f1b6da"
            ],
            [
             0.4,
             "#fde0ef"
            ],
            [
             0.5,
             "#f7f7f7"
            ],
            [
             0.6,
             "#e6f5d0"
            ],
            [
             0.7,
             "#b8e186"
            ],
            [
             0.8,
             "#7fbc41"
            ],
            [
             0.9,
             "#4d9221"
            ],
            [
             1,
             "#276419"
            ]
           ],
           "sequential": [
            [
             0,
             "#0d0887"
            ],
            [
             0.1111111111111111,
             "#46039f"
            ],
            [
             0.2222222222222222,
             "#7201a8"
            ],
            [
             0.3333333333333333,
             "#9c179e"
            ],
            [
             0.4444444444444444,
             "#bd3786"
            ],
            [
             0.5555555555555556,
             "#d8576b"
            ],
            [
             0.6666666666666666,
             "#ed7953"
            ],
            [
             0.7777777777777778,
             "#fb9f3a"
            ],
            [
             0.8888888888888888,
             "#fdca26"
            ],
            [
             1,
             "#f0f921"
            ]
           ],
           "sequentialminus": [
            [
             0,
             "#0d0887"
            ],
            [
             0.1111111111111111,
             "#46039f"
            ],
            [
             0.2222222222222222,
             "#7201a8"
            ],
            [
             0.3333333333333333,
             "#9c179e"
            ],
            [
             0.4444444444444444,
             "#bd3786"
            ],
            [
             0.5555555555555556,
             "#d8576b"
            ],
            [
             0.6666666666666666,
             "#ed7953"
            ],
            [
             0.7777777777777778,
             "#fb9f3a"
            ],
            [
             0.8888888888888888,
             "#fdca26"
            ],
            [
             1,
             "#f0f921"
            ]
           ]
          },
          "colorway": [
           "#636efa",
           "#EF553B",
           "#00cc96",
           "#ab63fa",
           "#FFA15A",
           "#19d3f3",
           "#FF6692",
           "#B6E880",
           "#FF97FF",
           "#FECB52"
          ],
          "font": {
           "color": "#2a3f5f"
          },
          "geo": {
           "bgcolor": "white",
           "lakecolor": "white",
           "landcolor": "#E5ECF6",
           "showlakes": true,
           "showland": true,
           "subunitcolor": "white"
          },
          "hoverlabel": {
           "align": "left"
          },
          "hovermode": "closest",
          "mapbox": {
           "style": "light"
          },
          "paper_bgcolor": "white",
          "plot_bgcolor": "#E5ECF6",
          "polar": {
           "angularaxis": {
            "gridcolor": "white",
            "linecolor": "white",
            "ticks": ""
           },
           "bgcolor": "#E5ECF6",
           "radialaxis": {
            "gridcolor": "white",
            "linecolor": "white",
            "ticks": ""
           }
          },
          "scene": {
           "xaxis": {
            "backgroundcolor": "#E5ECF6",
            "gridcolor": "white",
            "gridwidth": 2,
            "linecolor": "white",
            "showbackground": true,
            "ticks": "",
            "zerolinecolor": "white"
           },
           "yaxis": {
            "backgroundcolor": "#E5ECF6",
            "gridcolor": "white",
            "gridwidth": 2,
            "linecolor": "white",
            "showbackground": true,
            "ticks": "",
            "zerolinecolor": "white"
           },
           "zaxis": {
            "backgroundcolor": "#E5ECF6",
            "gridcolor": "white",
            "gridwidth": 2,
            "linecolor": "white",
            "showbackground": true,
            "ticks": "",
            "zerolinecolor": "white"
           }
          },
          "shapedefaults": {
           "line": {
            "color": "#2a3f5f"
           }
          },
          "ternary": {
           "aaxis": {
            "gridcolor": "white",
            "linecolor": "white",
            "ticks": ""
           },
           "baxis": {
            "gridcolor": "white",
            "linecolor": "white",
            "ticks": ""
           },
           "bgcolor": "#E5ECF6",
           "caxis": {
            "gridcolor": "white",
            "linecolor": "white",
            "ticks": ""
           }
          },
          "title": {
           "x": 0.05
          },
          "xaxis": {
           "automargin": true,
           "gridcolor": "white",
           "linecolor": "white",
           "ticks": "",
           "title": {
            "standoff": 15
           },
           "zerolinecolor": "white",
           "zerolinewidth": 2
          },
          "yaxis": {
           "automargin": true,
           "gridcolor": "white",
           "linecolor": "white",
           "ticks": "",
           "title": {
            "standoff": 15
           },
           "zerolinecolor": "white",
           "zerolinewidth": 2
          }
         }
        },
        "title": {
         "text": "Domain 1A: Grade 3-Continuous Enrollee Performance Level Standards"
        },
        "width": 800,
        "xaxis": {
         "title": {
          "text": "Performance Level Standards"
         }
        },
        "yaxis": {
         "title": {
          "text": "Average Score (%)"
         }
        }
       }
      }
     },
     "metadata": {},
     "output_type": "display_data"
    }
   ],
   "source": [
    "\n",
    "import plotly.graph_objects as go\n",
    "\n",
    "# Define the data\n",
    "categories = ['App Grade Level', 'Meets Grade Level', 'Masters Grade Level']\n",
    "averages_2018 = [average_value_appcoe18, average_value_mecoe18, average_value_macoe18]\n",
    "averages_2019 = [average_value_appcoe, average_value_mecoe, average_value_macoe]\n",
    "\n",
    "# Create traces for 2018 and 2019 data\n",
    "trace_2018 = go.Scatter(x=categories, y=averages_2018, mode='markers', name='2018', marker=dict(color='blue', size=10))\n",
    "trace_2019 = go.Scatter(x=categories, y=averages_2019, mode='markers', name='2019', marker=dict(color='red', size=10))\n",
    "\n",
    "# Create layout\n",
    "layout = go.Layout(\n",
    "    title='Domain 1A: Grade 3-Continuous Enrollee Performance Level Standards',\n",
    "    xaxis=dict(title='Performance Level Standards'),\n",
    "    yaxis=dict(title='Average Score (%)'),\n",
    "    hovermode='closest',\n",
    "    width=800,  # Set the width of the graph\n",
    "    height=600  # Set the height of the graph\n",
    ")\n",
    "\n",
    "# Create figure\n",
    "fig = go.Figure(data=[trace_2018, trace_2019], layout=layout)\n",
    "\n",
    "# Show plot\n",
    "fig.show()\n"
   ]
  }
 ],
 "metadata": {
  "kernelspec": {
   "display_name": "base",
   "language": "python",
   "name": "python3"
  },
  "language_info": {
   "codemirror_mode": {
    "name": "ipython",
    "version": 3
   },
   "file_extension": ".py",
   "mimetype": "text/x-python",
   "name": "python",
   "nbconvert_exporter": "python",
   "pygments_lexer": "ipython3",
   "version": "3.11.5"
  }
 },
 "nbformat": 4,
 "nbformat_minor": 2
}
